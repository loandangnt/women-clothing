{
 "cells": [
  {
   "cell_type": "code",
   "execution_count": 2,
   "metadata": {
    "_cell_guid": "b1076dfc-b9ad-4769-8c92-a6c4dae69d19",
    "_uuid": "8f2839f25d086af736a60e9eeb907d3b93b6e0e5"
   },
   "outputs": [],
   "source": [
    "import numpy as np # linear algebra\n",
    "import pandas as pd # data processing, CSV file I/O (e.g. pd.read_csv)\n",
    "import warnings\n",
    "warnings.filterwarnings('ignore')\n",
    "path = '/Users/dangloan/Documents/learning_analytics/project/3_data/clothing_review'"
   ]
  },
  {
   "cell_type": "code",
   "execution_count": 3,
   "metadata": {},
   "outputs": [],
   "source": [
    "pd.set_option('display.max_columns', 500)\n",
    "pd.set_option('display.max_rows', 500)\n",
    "pd.set_option('display.max_colwidth', -1)"
   ]
  },
  {
   "cell_type": "markdown",
   "metadata": {},
   "source": [
    "## Read data"
   ]
  },
  {
   "cell_type": "code",
   "execution_count": 4,
   "metadata": {
    "_cell_guid": "79c7e3d0-c299-4dcb-8224-4455121ee9b0",
    "_uuid": "d629ff2d2480ee46fbb7e2d37f6b5fab8052498a"
   },
   "outputs": [],
   "source": [
    "df = pd.read_csv(path + '/Womens Clothing E-Commerce Reviews.csv')"
   ]
  },
  {
   "cell_type": "code",
   "execution_count": 5,
   "metadata": {},
   "outputs": [],
   "source": [
    "df.drop('Unnamed: 0', axis=1, inplace=True)"
   ]
  },
  {
   "cell_type": "code",
   "execution_count": 6,
   "metadata": {},
   "outputs": [],
   "source": [
    "df.columns =['Clothing_ID','Age','Title','Review_Text','Rating',\n",
    "             'Recommended_IND','Positive_Feedback_Count',\n",
    "             'Division_Name','Department_Name','Class_Name']"
   ]
  },
  {
   "cell_type": "code",
   "execution_count": 7,
   "metadata": {},
   "outputs": [
    {
     "data": {
      "text/plain": [
       "23486"
      ]
     },
     "execution_count": 7,
     "metadata": {},
     "output_type": "execute_result"
    }
   ],
   "source": [
    "len(df)"
   ]
  },
  {
   "cell_type": "code",
   "execution_count": 8,
   "metadata": {},
   "outputs": [],
   "source": [
    "#Clean data - Remove duplicates\n",
    "df[df.duplicated(keep=False)].sort_values(by='Clothing_ID')\n",
    "df.drop_duplicates(keep='first',inplace=True)"
   ]
  },
  {
   "cell_type": "markdown",
   "metadata": {},
   "source": [
    "## Corpus Preparation"
   ]
  },
  {
   "cell_type": "markdown",
   "metadata": {},
   "source": [
    "For products with low ratings (rating <=3)"
   ]
  },
  {
   "cell_type": "code",
   "execution_count": 9,
   "metadata": {},
   "outputs": [],
   "source": [
    "df_neg = df[df['Rating'] <=3]"
   ]
  },
  {
   "cell_type": "code",
   "execution_count": 10,
   "metadata": {},
   "outputs": [],
   "source": [
    "df_neg['Review_Text'] = df_neg['Review_Text'].astype(str)\n",
    "# df2 = df_neg.groupby('Clothing_ID')['Review_Text'].apply(lambda x: x.sum()).reset_index()"
   ]
  },
  {
   "cell_type": "code",
   "execution_count": 11,
   "metadata": {},
   "outputs": [],
   "source": [
    "df2 = df_neg[['Clothing_ID', 'Class_Name', 'Age', 'Review_Text']]"
   ]
  },
  {
   "cell_type": "code",
   "execution_count": 12,
   "metadata": {},
   "outputs": [],
   "source": [
    "df2['Review_Text'] = df2['Review_Text'].astype(str)"
   ]
  },
  {
   "cell_type": "code",
   "execution_count": 13,
   "metadata": {},
   "outputs": [
    {
     "name": "stderr",
     "output_type": "stream",
     "text": [
      "[nltk_data] Downloading package stopwords to\n",
      "[nltk_data]     /Users/dangloan/nltk_data...\n",
      "[nltk_data]   Package stopwords is already up-to-date!\n",
      "[nltk_data] Downloading package wordnet to\n",
      "[nltk_data]     /Users/dangloan/nltk_data...\n",
      "[nltk_data]   Package wordnet is already up-to-date!\n"
     ]
    },
    {
     "data": {
      "text/plain": [
       "True"
      ]
     },
     "execution_count": 13,
     "metadata": {},
     "output_type": "execute_result"
    }
   ],
   "source": [
    "import re\n",
    "import nltk\n",
    "nltk.download('stopwords')\n",
    "from nltk.corpus import stopwords\n",
    "from nltk.tokenize import RegexpTokenizer\n",
    "nltk.download('wordnet')"
   ]
  },
  {
   "cell_type": "code",
   "execution_count": 14,
   "metadata": {},
   "outputs": [],
   "source": [
    "##Creating a list of stop words and adding custom stopwords\n",
    "stop_words = set(stopwords.words(\"english\"))\n",
    "#Creating a list of custom stopwords\n",
    "my_words = ['nan','way','back','x','bit','JJS','DT','CD','VBZ','MD', 'RB','rp','wrb','wdt',\n",
    "            'disappointed','usually','still','bottom','however','item',\n",
    "            'reason','much','great','definitely','lb','DT','work',\n",
    "            'x','feel','pair','super','fall','piece','cd',\n",
    "            'seem','md','coat','beautiful','thought','felt',\n",
    "            'sad','ordered','someone','perfect',\n",
    "            'make','wear','love','get','go','order','try','want',\n",
    "            'run','think','see','review','buy','good',\n",
    "            'take','come','give','keep','put','need','say','online',\n",
    "            'bad','nice','cool','dt','rbr','person','purchase',\n",
    "            'jacket','pants','shirt','dress','sweater','top','skirt','jean','blouse','denim',\n",
    "           'look','like','really','would',\n",
    "           'cute','flatter','unflattering']\n",
    "stop_words = stop_words.union(my_words)"
   ]
  },
  {
   "cell_type": "code",
   "execution_count": 15,
   "metadata": {},
   "outputs": [],
   "source": [
    "# Clean Review_Text\n",
    "\n",
    "def clean(text):\n",
    "    #Remove punctuations\n",
    "    t = re.sub('[^a-zA-Z]',' ',text)\n",
    "    #Convert to lowercase\n",
    "    t = t.lower()\n",
    "    #Remove tags\n",
    "    t=re.sub(\"&lt;/?.*?&gt;\",\" &lt;&gt; \",t)\n",
    "    #Remove special characters and digits\n",
    "    t=re.sub(\"(\\\\d|\\\\W)+\",\" \",t)\n",
    "    #Convert to list from string\n",
    "    t = t.split()\n",
    "    #Remove stopwords\n",
    "    t = [word for word in t if not word in stop_words]\n",
    "    \n",
    "    \n",
    "    t = \" \".join(t)\n",
    "    return t\n",
    "\n",
    "df2['Review_Text_cleaned'] = df2['Review_Text'].apply(lambda x: clean(x))\n",
    "df2['Review_Text_cleaned'].dropna(inplace=True)"
   ]
  },
  {
   "cell_type": "code",
   "execution_count": 16,
   "metadata": {},
   "outputs": [
    {
     "name": "stderr",
     "output_type": "stream",
     "text": [
      "[nltk_data] Downloading package punkt to /Users/dangloan/nltk_data...\n",
      "[nltk_data]   Package punkt is already up-to-date!\n"
     ]
    }
   ],
   "source": [
    "#Tokenize\n",
    "from nltk.tokenize import sent_tokenize\n",
    "df2['Review_Text_sentences'] = df2['Review_Text_cleaned'].apply(sent_tokenize)\n",
    "\n",
    "from nltk.tokenize import word_tokenize\n",
    "import nltk\n",
    "nltk.download('punkt')\n",
    "w_tokenizer = nltk.tokenize.WhitespaceTokenizer()\n",
    "\n",
    "def token_text(text):\n",
    "    return [w_tokenizer.tokenize(w) for w in text]\n",
    "df2['Review_Text_tokenized'] = df2['Review_Text_sentences'].apply(token_text)"
   ]
  },
  {
   "cell_type": "code",
   "execution_count": 17,
   "metadata": {},
   "outputs": [],
   "source": [
    "#POS tagging\n",
    "from nltk import pos_tag\n",
    "\n",
    "# def pos_tag(text):\n",
    "#     return [pos_tag(w) for w in text]\n",
    "# df2['Review_Text_postag'] = df2['Review_Text_sentences'].apply(pos_tag) ## This function results in an \n",
    "#                                                                            ## error \"Maximum recursion\"\n",
    "\n",
    "df2['Review_Text_postag'] = df2['Review_Text_tokenized'].apply(lambda sentence:\n",
    "                        [pos_tag(token) for token in sentence])"
   ]
  },
  {
   "cell_type": "code",
   "execution_count": 18,
   "metadata": {},
   "outputs": [],
   "source": [
    "# Convert Penn treebank tag to wordnet tag\n",
    "from nltk.corpus import wordnet\n",
    "def penn_to_wn_tags(pos_tag):\n",
    "    if pos_tag.startswith('N'):\n",
    "        return wordnet.NOUN\n",
    "    elif pos_tag.startswith('V'):\n",
    "        return wordnet.VERB\n",
    "    elif pos_tag.startswith('J'):\n",
    "        return wordnet.ADJ\n",
    "#     elif pos_tag.startswith('R'):\n",
    "#         return wordnet.ADV\n",
    "    else:\n",
    "        return None\n",
    "\n",
    "# lemmatize text based on POS tags\n",
    "from nltk.stem import WordNetLemmatizer\n",
    "wnl = WordNetLemmatizer()\n",
    "\n",
    "def lemmatize_text(text):\n",
    "#     pos_tagged_text = pos_tag_text(text)\n",
    "    lemmatized_tokens = [[wnl.lemmatize(el[0], penn_to_wn_tags(el[1]))\n",
    "                         if penn_to_wn_tags(el[1]) else el[1]\n",
    "                         for el in pos_tagged_text]\n",
    "                         for pos_tagged_text in text]\n",
    "    \n",
    "    return lemmatized_tokens"
   ]
  },
  {
   "cell_type": "code",
   "execution_count": 19,
   "metadata": {},
   "outputs": [],
   "source": [
    "df2['Review_Text_lemmatized'] = df2['Review_Text_postag'].apply(lemmatize_text)"
   ]
  },
  {
   "cell_type": "code",
   "execution_count": 20,
   "metadata": {},
   "outputs": [],
   "source": [
    "from itertools import chain \n",
    "df2['tokens'] = df2['Review_Text_lemmatized'].map(lambda sentences: list(chain.from_iterable(sentences)))\n",
    "df2['tokens'] = df2['tokens'].map(lambda tokens: [token.lower() for token in tokens if token.isalpha() \n",
    "                                                    and token.lower() not in stop_words and len(token)>1])"
   ]
  },
  {
   "cell_type": "code",
   "execution_count": 24,
   "metadata": {},
   "outputs": [],
   "source": [
    "path1 = '/Users/dangloan/Documents/learning_analytics/project/2_code/project_3/women-clothing/pickle'\n",
    "df2.to_pickle(path1 + \"/clean_df.pkl\")"
   ]
  },
  {
   "cell_type": "code",
   "execution_count": null,
   "metadata": {},
   "outputs": [],
   "source": []
  }
 ],
 "metadata": {
  "kernelspec": {
   "display_name": "Python 3",
   "language": "python",
   "name": "python3"
  },
  "language_info": {
   "codemirror_mode": {
    "name": "ipython",
    "version": 3
   },
   "file_extension": ".py",
   "mimetype": "text/x-python",
   "name": "python",
   "nbconvert_exporter": "python",
   "pygments_lexer": "ipython3",
   "version": "3.7.2"
  }
 },
 "nbformat": 4,
 "nbformat_minor": 4
}
