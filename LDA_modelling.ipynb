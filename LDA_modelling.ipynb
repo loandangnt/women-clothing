{
 "cells": [
  {
   "cell_type": "code",
   "execution_count": 1,
   "metadata": {
    "_cell_guid": "b1076dfc-b9ad-4769-8c92-a6c4dae69d19",
    "_uuid": "8f2839f25d086af736a60e9eeb907d3b93b6e0e5"
   },
   "outputs": [],
   "source": [
    "import numpy as np # linear algebra\n",
    "import pandas as pd # data processing, CSV file I/O (e.g. pd.read_csv)\n",
    "import warnings\n",
    "warnings.filterwarnings('ignore')\n",
    "path = '/Users/dangloan/Documents/learning_analytics/project/'"
   ]
  },
  {
   "cell_type": "code",
   "execution_count": 2,
   "metadata": {},
   "outputs": [],
   "source": [
    "pd.set_option('display.max_columns', 500)\n",
    "pd.set_option('display.max_rows', 500)\n",
    "pd.set_option('display.max_colwidth', -1)"
   ]
  },
  {
   "cell_type": "code",
   "execution_count": 3,
   "metadata": {
    "_cell_guid": "79c7e3d0-c299-4dcb-8224-4455121ee9b0",
    "_uuid": "d629ff2d2480ee46fbb7e2d37f6b5fab8052498a"
   },
   "outputs": [],
   "source": [
    "df = pd.read_csv(path + '3_data/clothing_review/Womens Clothing E-Commerce Reviews.csv')"
   ]
  },
  {
   "cell_type": "code",
   "execution_count": 4,
   "metadata": {},
   "outputs": [],
   "source": [
    "df.drop('Unnamed: 0', axis=1, inplace=True)"
   ]
  },
  {
   "cell_type": "code",
   "execution_count": 5,
   "metadata": {},
   "outputs": [],
   "source": [
    "df.columns =['Clothing_ID','Age','Title','Review_Text','Rating',\n",
    "             'Recommended_IND','Positive_Feedback_Count',\n",
    "             'Division_Name','Department_Name','Class_Name']"
   ]
  },
  {
   "cell_type": "code",
   "execution_count": 6,
   "metadata": {},
   "outputs": [],
   "source": [
    "#Clean data - Remove duplicates\n",
    "df[df.duplicated(keep=False)].sort_values(by='Clothing_ID')\n",
    "df.drop_duplicates(keep='first',inplace=True)"
   ]
  },
  {
   "cell_type": "markdown",
   "metadata": {},
   "source": [
    "## Topic modeling by Clothing_ID"
   ]
  },
  {
   "cell_type": "markdown",
   "metadata": {},
   "source": [
    "I'm trying to see what people talk about in each product, i.e. if they like or dislike(rating average), then what they like/dislike about that product. I use topic modeling using LDA model. An expected result of the model would be that, for clothing id 1001, positive reviews talk most about quality, while negative reviews talk most about price, etc."
   ]
  },
  {
   "cell_type": "markdown",
   "metadata": {},
   "source": [
    "My goal is to identify the number of topics and determine the theme of each topic. In addition, I tested whether my model can predict the topic theme given any new review text."
   ]
  },
  {
   "cell_type": "markdown",
   "metadata": {},
   "source": [
    "For products with low ratings (rating <=2)"
   ]
  },
  {
   "cell_type": "code",
   "execution_count": 7,
   "metadata": {},
   "outputs": [],
   "source": [
    "df_neg = df[df['Rating'] <=2]"
   ]
  },
  {
   "cell_type": "code",
   "execution_count": 8,
   "metadata": {},
   "outputs": [],
   "source": [
    "df_neg['Review_Text'] = df_neg['Review_Text'].astype(str)"
   ]
  },
  {
   "cell_type": "code",
   "execution_count": 9,
   "metadata": {},
   "outputs": [],
   "source": [
    "# df2 = df_neg.groupby('Clothing_ID')['Review_Text'].apply(lambda x: x.sum()).reset_index()"
   ]
  },
  {
   "cell_type": "code",
   "execution_count": 10,
   "metadata": {},
   "outputs": [],
   "source": [
    "df2 = df_neg[['Clothing_ID', 'Class_Name', 'Age', 'Review_Text']]"
   ]
  },
  {
   "cell_type": "code",
   "execution_count": 11,
   "metadata": {},
   "outputs": [
    {
     "name": "stderr",
     "output_type": "stream",
     "text": [
      "[nltk_data] Downloading package stopwords to\n",
      "[nltk_data]     /Users/dangloan/nltk_data...\n",
      "[nltk_data]   Package stopwords is already up-to-date!\n",
      "[nltk_data] Downloading package wordnet to\n",
      "[nltk_data]     /Users/dangloan/nltk_data...\n",
      "[nltk_data]   Package wordnet is already up-to-date!\n"
     ]
    },
    {
     "data": {
      "text/plain": [
       "True"
      ]
     },
     "execution_count": 11,
     "metadata": {},
     "output_type": "execute_result"
    }
   ],
   "source": [
    "import re\n",
    "import nltk\n",
    "nltk.download('stopwords')\n",
    "from nltk.corpus import stopwords\n",
    "from nltk.tokenize import RegexpTokenizer\n",
    "nltk.download('wordnet')"
   ]
  },
  {
   "cell_type": "code",
   "execution_count": 66,
   "metadata": {},
   "outputs": [],
   "source": [
    "##Creating a list of stop words and adding custom stopwords\n",
    "stop_words = set(stopwords.words(\"english\"))\n",
    "##Creating a list of custom stopwords\n",
    "my_words = ['nan','way','back','x','bit','JJS','DT','CD','VBZ','MD', 'RB','rp','wrb','wdt',\n",
    "            'disappointed','usually','still','bottom','however','item',\n",
    "            'reason','much','great','definitely','lb','DT','work',\n",
    "            'x','feel','pair','super','fall','piece','cd',\n",
    "            'seem','md','coat','beautiful','thought','felt',\n",
    "            'sad','ordered','someone','perfect',\n",
    "            'make','wear','love','get','go','order','try','want',\n",
    "            'run','think','see','review','buy','good',\n",
    "            'take','come','give','keep','put','need','say','online',\n",
    "            'bad','nice','cool','dt','rbr','person','purchase',\n",
    "#             'jacket','pants','shirt','dress','sweater','top','skirt','jean','blouse','denim',\n",
    "           'look','like','really','would']\n",
    "stop_words = stop_words.union(my_words)"
   ]
  },
  {
   "cell_type": "code",
   "execution_count": 28,
   "metadata": {},
   "outputs": [],
   "source": [
    "# Clean Review_Text\n",
    "\n",
    "def clean(text):\n",
    "    #Remove punctuations\n",
    "    t = re.sub('[^a-zA-Z]',' ',text)\n",
    "    #Convert to lowercase\n",
    "    t = t.lower()\n",
    "    #Remove tags\n",
    "    t=re.sub(\"&lt;/?.*?&gt;\",\" &lt;&gt; \",t)\n",
    "    #Remove special characters and digits\n",
    "    t=re.sub(\"(\\\\d|\\\\W)+\",\" \",t)\n",
    "#     #Convert to list from string\n",
    "#     t = t.split()\n",
    "#     #Remove stopwords\n",
    "#     t = [word for word in t if not word in stop_words]\n",
    "    \n",
    "    \n",
    "#     t = \" \".join(t)\n",
    "    return t\n",
    "\n",
    "df2['Review_Text_cleaned'] = df2['Review_Text'].apply(lambda x: clean(x))\n",
    "\n",
    "# df2['Review_Text_cleaned1'] =df2['Review_Text_cleaned'].apply(\n",
    "#     lambda l: [item for sublist in l for item in sublist])\n",
    "df2['Review_Text_cleaned'].dropna(inplace=True)"
   ]
  },
  {
   "cell_type": "code",
   "execution_count": 29,
   "metadata": {},
   "outputs": [
    {
     "name": "stderr",
     "output_type": "stream",
     "text": [
      "[nltk_data] Downloading package punkt to /Users/dangloan/nltk_data...\n",
      "[nltk_data]   Package punkt is already up-to-date!\n"
     ]
    }
   ],
   "source": [
    "#Tokenize\n",
    "from nltk.tokenize import sent_tokenize\n",
    "df2['Review_Text_sentences'] = df2['Review_Text_cleaned'].apply(sent_tokenize)\n",
    "\n",
    "from nltk.tokenize import word_tokenize\n",
    "import nltk\n",
    "nltk.download('punkt')\n",
    "w_tokenizer = nltk.tokenize.WhitespaceTokenizer()\n",
    "\n",
    "def token_text(text):\n",
    "    return [w_tokenizer.tokenize(w) for w in text]\n",
    "df2['Review_Text_tokenized'] = df2['Review_Text_sentences'].apply(token_text)"
   ]
  },
  {
   "cell_type": "code",
   "execution_count": 30,
   "metadata": {},
   "outputs": [],
   "source": [
    "#POS tagging\n",
    "from nltk import pos_tag\n",
    "\n",
    "# def pos_tag(text):\n",
    "#     return [pos_tag(w) for w in text]\n",
    "# df2['Review_Text_postag'] = df2['Review_Text_sentences'].apply(pos_tag) ## This function results in an \n",
    "#                                                                            ## error \"Maximum recursion\"\n",
    "\n",
    "df2['Review_Text_postag'] = df2['Review_Text_tokenized'].apply(lambda sentence:\n",
    "                        [pos_tag(token) for token in sentence])"
   ]
  },
  {
   "cell_type": "code",
   "execution_count": 31,
   "metadata": {},
   "outputs": [],
   "source": [
    "# convert Penn treebank tag to wordnet tag\n",
    "from nltk.corpus import wordnet\n",
    "def penn_to_wn_tags(pos_tag):\n",
    "    if pos_tag.startswith('N'):\n",
    "        return wordnet.NOUN\n",
    "    elif pos_tag.startswith('V'):\n",
    "        return wordnet.VERB\n",
    "    elif pos_tag.startswith('J'):\n",
    "        return wordnet.ADJ\n",
    "#     elif pos_tag.startswith('R'):\n",
    "#         return wordnet.ADV\n",
    "    else:\n",
    "        return None\n",
    "\n",
    "# lemmatize text based on POS tags\n",
    "from nltk.stem import WordNetLemmatizer\n",
    "wnl = WordNetLemmatizer()\n",
    "\n",
    "def lemmatize_text(text):\n",
    "#     pos_tagged_text = pos_tag_text(text)\n",
    "    lemmatized_tokens = [[wnl.lemmatize(el[0], penn_to_wn_tags(el[1]))\n",
    "                         if penn_to_wn_tags(el[1]) else el[1]\n",
    "                         for el in pos_tagged_text]\n",
    "                         for pos_tagged_text in text]\n",
    "    \n",
    "    return lemmatized_tokens"
   ]
  },
  {
   "cell_type": "code",
   "execution_count": 32,
   "metadata": {},
   "outputs": [],
   "source": [
    "df2['Review_Text_lemmatized'] = df2['Review_Text_postag'].apply(lemmatize_text)"
   ]
  },
  {
   "cell_type": "code",
   "execution_count": 67,
   "metadata": {},
   "outputs": [],
   "source": [
    "from itertools import chain \n",
    "df2['tokens'] = df2['Review_Text_lemmatized'].map(lambda sentences: list(chain.from_iterable(sentences)))\n",
    "df2['tokens'] = df2['tokens'].map(lambda tokens: [token.lower() for token in tokens if token.isalpha() \n",
    "                                                    and token.lower() not in stop_words and len(token)>1])"
   ]
  },
  {
   "cell_type": "code",
   "execution_count": 68,
   "metadata": {},
   "outputs": [],
   "source": [
    "##Get some information of the clothing item from df dataset\n",
    "cat = df_neg[df_neg['Class_Name'] == 'Jeans']\n",
    "df_cat = df2[df2['Clothing_ID'].isin(cat['Clothing_ID'])]"
   ]
  },
  {
   "cell_type": "markdown",
   "metadata": {},
   "source": [
    "### Building LDA model"
   ]
  },
  {
   "cell_type": "markdown",
   "metadata": {},
   "source": [
    " #### Find the optimal number of topics"
   ]
  },
  {
   "cell_type": "code",
   "execution_count": null,
   "metadata": {},
   "outputs": [],
   "source": [
    "# ! pip install gensim"
   ]
  },
  {
   "cell_type": "code",
   "execution_count": 22,
   "metadata": {},
   "outputs": [
    {
     "data": {
      "application/vnd.jupyter.widget-view+json": {
       "model_id": "a91f46bad8604368b9f4367417302e12",
       "version_major": 2,
       "version_minor": 0
      },
      "text/plain": [
       "HBox(children=(FloatProgress(value=0.0, max=49.0), HTML(value='')))"
      ]
     },
     "metadata": {},
     "output_type": "display_data"
    },
    {
     "name": "stdout",
     "output_type": "stream",
     "text": [
      "\n",
      "Numberof topics = 1 has coherence value of 0.2545\n",
      "Numberof topics = 2 has coherence value of 0.2598\n",
      "Numberof topics = 3 has coherence value of 0.2767\n",
      "Numberof topics = 4 has coherence value of 0.2898\n",
      "Numberof topics = 9 has coherence value of 0.2924\n",
      "Numberof topics = 12 has coherence value of 0.2926\n",
      "Numberof topics = 14 has coherence value of 0.2935\n",
      "Numberof topics = 19 has coherence value of 0.2936\n",
      "Numberof topics = 20 has coherence value of 0.2964\n",
      "Numberof topics = 22 has coherence value of 0.2972\n"
     ]
    }
   ],
   "source": [
    "import itertools\n",
    "from gensim import corpora, models\n",
    "\n",
    "import time\n",
    "from tqdm import tqdm_notebook as tqdm\n",
    "\n",
    "list_of_list_of_tokens = df2['tokens'].tolist()\n",
    "dictionary_LDA = corpora.Dictionary(list_of_list_of_tokens)\n",
    "dictionary_LDA.filter_extremes(no_below=3)\n",
    "corpus = [dictionary_LDA.doc2bow(list_of_tokens) for list_of_tokens in list_of_list_of_tokens]\n",
    "\n",
    "start = 1\n",
    "end = 50\n",
    "step = 1\n",
    "topic_range = range(start, end, step)\n",
    "\n",
    "coherence_values = []\n",
    "model_list = []\n",
    "for num_topics in tqdm(topic_range):\n",
    "    model = models.LdaMulticore(corpus=corpus,num_topics=num_topics,id2word=dictionary_LDA)\n",
    "    model_list.append(model)\n",
    "    coherencemodel = models.coherencemodel.CoherenceModel(model=model,\n",
    "                                                                texts=list_of_list_of_tokens,\n",
    "                                                                dictionary=dictionary_LDA,\n",
    "                                                                coherence='c_v')\n",
    "    coherence_values.append(coherencemodel.get_coherence())\n",
    "\n",
    "max_coherence_val = 0\n",
    "optimal_model = None\n",
    "\n",
    "# Print the coherence scores\n",
    "for i, (m,cv) in enumerate(zip(topic_range, coherence_values)):\n",
    "    if max_coherence_val < round(cv,4):\n",
    "        optimal_model = model_list[i]\n",
    "        optimal_num_topics = m\n",
    "        max_coherence_val = round(cv,4)\n",
    "        \n",
    "        print(\"Numberof topics =\", m , \"has coherence value of\" ,round(cv,4))\n",
    "\n",
    "\n"
   ]
  },
  {
   "cell_type": "code",
   "execution_count": 23,
   "metadata": {},
   "outputs": [
    {
     "data": {
      "image/png": "[encoded data removed]",
      "text/plain": [
       "<Figure size 432x288 with 1 Axes>"
      ]
     },
     "metadata": {
      "needs_background": "light"
     },
     "output_type": "display_data"
    }
   ],
   "source": [
    "#Plot coherence results\n",
    "import matplotlib.pyplot as plt\n",
    "plt.plot(coherence_values)\n",
    "plt.xlabel(\"Num_of_topics\")\n",
    "plt.ylabel(\"Coherence_score\")\n",
    "plt.legend('coherence_values', loc='best')\n",
    "plt.show() "
   ]
  },
  {
   "cell_type": "code",
   "execution_count": 24,
   "metadata": {},
   "outputs": [
    {
     "data": {
      "text/plain": [
       "22"
      ]
     },
     "execution_count": 24,
     "metadata": {},
     "output_type": "execute_result"
    }
   ],
   "source": [
    "optimal_num_topics"
   ]
  },
  {
   "cell_type": "markdown",
   "metadata": {},
   "source": []
  },
  {
   "cell_type": "code",
   "execution_count": 69,
   "metadata": {},
   "outputs": [
    {
     "name": "stdout",
     "output_type": "stream",
     "text": [
      "CPU times: user 8.36 s, sys: 103 ms, total: 8.46 s\n",
      "Wall time: 9.48 s\n"
     ]
    }
   ],
   "source": [
    "import itertools\n",
    "from gensim import corpora, models\n",
    "\n",
    "# list_of_list_of_tokens = [[\"a\",\"b\",\"c\"], [\"d\",\"e\",\"f\"]]\n",
    "# [\"a\",\"b\",\"c\"] are the tokens of document 1, [\"d\",\"e\",\"f\"] are the tokens of document 2...\n",
    "\n",
    "# df_pos['tokens'] = df_pos['Review_Text_lemmatized'].apply(\n",
    "#     lambda x : list(itertools.chain.from_iterable(x)))\n",
    "selected_num_topics = 9\n",
    "list_of_list_of_tokens = df2['tokens'].tolist()\n",
    "dictionary_LDA = corpora.Dictionary(list_of_list_of_tokens)\n",
    "dictionary_LDA.filter_extremes(no_below=3)\n",
    "corpus = [dictionary_LDA.doc2bow(list_of_tokens) for list_of_tokens in list_of_list_of_tokens]\n",
    "\n",
    "num_topics = selected_num_topics\n",
    "%time lda_model = models.LdaModel(corpus, num_topics=num_topics, \\\n",
    "                                  id2word=dictionary_LDA, \\\n",
    "                                  passes=4, alpha=[0.01]*num_topics, \\\n",
    "                                  eta=[0.01]*len(dictionary_LDA.keys()))"
   ]
  },
  {
   "cell_type": "code",
   "execution_count": 96,
   "metadata": {
    "scrolled": true
   },
   "outputs": [
    {
     "name": "stdout",
     "output_type": "stream",
     "text": [
      "0: 0.041*\"top\" + 0.041*\"fabric\" + 0.033*\"shirt\" + 0.020*\"return\" + 0.017*\"wash\" + 0.016*\"white\" + 0.015*\"short\" + 0.013*\"color\" + 0.012*\"thin\" + 0.012*\"fit\" + 0.012*\"cute\" + 0.010*\"soft\" + 0.010*\"part\" + 0.009*\"sweater\" + 0.008*\"design\" + 0.008*\"line\" + 0.008*\"sheer\" + 0.008*\"wp\" + 0.008*\"front\" + 0.008*\"small\"\n",
      "\n",
      "1: 0.053*\"dress\" + 0.020*\"wash\" + 0.019*\"color\" + 0.017*\"retailer\" + 0.017*\"black\" + 0.016*\"find\" + 0.012*\"fabric\" + 0.011*\"store\" + 0.011*\"fit\" + 0.011*\"wp\" + 0.011*\"material\" + 0.010*\"line\" + 0.010*\"design\" + 0.010*\"time\" + 0.010*\"short\" + 0.010*\"white\" + 0.009*\"top\" + 0.009*\"quality\" + 0.009*\"price\" + 0.009*\"sweater\"\n",
      "\n",
      "2: 0.056*\"dress\" + 0.039*\"fabric\" + 0.020*\"material\" + 0.020*\"photo\" + 0.019*\"color\" + 0.019*\"waist\" + 0.019*\"picture\" + 0.017*\"shape\" + 0.015*\"top\" + 0.015*\"return\" + 0.014*\"fit\" + 0.014*\"cute\" + 0.014*\"unflattering\" + 0.013*\"sack\" + 0.012*\"heavy\" + 0.011*\"send\" + 0.011*\"high\" + 0.010*\"little\" + 0.008*\"print\" + 0.008*\"drape\"\n",
      "\n",
      "3: 0.032*\"size\" + 0.024*\"fabric\" + 0.023*\"fit\" + 0.019*\"top\" + 0.017*\"dress\" + 0.017*\"shirt\" + 0.016*\"small\" + 0.014*\"arm\" + 0.013*\"side\" + 0.013*\"tight\" + 0.012*\"style\" + 0.011*\"sleeve\" + 0.010*\"length\" + 0.010*\"design\" + 0.010*\"return\" + 0.009*\"large\" + 0.009*\"hole\" + 0.008*\"color\" + 0.008*\"low\" + 0.008*\"sweater\"\n",
      "\n",
      "4: 0.032*\"quality\" + 0.026*\"return\" + 0.022*\"size\" + 0.017*\"hole\" + 0.015*\"jean\" + 0.015*\"top\" + 0.014*\"wp\" + 0.014*\"store\" + 0.014*\"price\" + 0.013*\"fabric\" + 0.013*\"large\" + 0.013*\"retailer\" + 0.010*\"design\" + 0.010*\"receive\" + 0.010*\"fit\" + 0.009*\"color\" + 0.008*\"short\" + 0.008*\"flattering\" + 0.008*\"expect\" + 0.008*\"jacket\"\n",
      "\n",
      "5: 0.062*\"dress\" + 0.023*\"zipper\" + 0.018*\"size\" + 0.015*\"retailer\" + 0.014*\"fabric\" + 0.012*\"cute\" + 0.012*\"saw\" + 0.011*\"fit\" + 0.011*\"arm\" + 0.010*\"store\" + 0.010*\"cheap\" + 0.010*\"quality\" + 0.009*\"ex\" + 0.009*\"soft\" + 0.009*\"button\" + 0.008*\"pocket\" + 0.008*\"collar\" + 0.008*\"picture\" + 0.008*\"first\" + 0.008*\"return\"\n",
      "\n",
      "6: 0.048*\"small\" + 0.035*\"size\" + 0.025*\"top\" + 0.022*\"pant\" + 0.021*\"material\" + 0.021*\"fit\" + 0.017*\"petite\" + 0.016*\"color\" + 0.015*\"return\" + 0.013*\"large\" + 0.012*\"reviewer\" + 0.012*\"jean\" + 0.011*\"big\" + 0.011*\"quality\" + 0.010*\"bust\" + 0.010*\"high\" + 0.009*\"thigh\" + 0.009*\"medium\" + 0.008*\"dress\" + 0.008*\"cut\"\n",
      "\n",
      "7: 0.055*\"dress\" + 0.046*\"size\" + 0.022*\"fit\" + 0.021*\"top\" + 0.020*\"skirt\" + 0.020*\"small\" + 0.013*\"shirt\" + 0.012*\"large\" + 0.012*\"model\" + 0.011*\"huge\" + 0.011*\"fabric\" + 0.011*\"material\" + 0.011*\"flatter\" + 0.010*\"color\" + 0.009*\"short\" + 0.008*\"return\" + 0.008*\"big\" + 0.008*\"hit\" + 0.007*\"retailer\" + 0.007*\"cut\"\n",
      "\n",
      "8: 0.035*\"fit\" + 0.022*\"top\" + 0.021*\"color\" + 0.021*\"model\" + 0.018*\"big\" + 0.017*\"small\" + 0.016*\"material\" + 0.016*\"large\" + 0.015*\"sweater\" + 0.014*\"arm\" + 0.014*\"shoulder\" + 0.013*\"cut\" + 0.012*\"fabric\" + 0.012*\"quality\" + 0.011*\"huge\" + 0.010*\"boxy\" + 0.010*\"medium\" + 0.010*\"blouse\" + 0.010*\"chest\" + 0.010*\"picture\"\n",
      "\n"
     ]
    }
   ],
   "source": [
    "for i,topic in lda_model.show_topics(formatted=True, num_topics=num_topics, num_words=20):\n",
    "    print(str(i)+\": \"+ topic)\n",
    "    print()"
   ]
  },
  {
   "cell_type": "code",
   "execution_count": 55,
   "metadata": {},
   "outputs": [
    {
     "name": "stdout",
     "output_type": "stream",
     "text": [
      "Selected number of topics: 9\n",
      "Perplexity:  -6.901271534204043\n",
      "Coherence Score:  0.31565528034347934\n"
     ]
    }
   ],
   "source": [
    "print('Selected number of topics:', selected_num_topics)\n",
    "\n",
    "# Compute perplexity\n",
    "print('Perplexity: ', lda_model.log_perplexity(corpus)) # a measure of how good model is.\n",
    "                                                             # lower is better\n",
    "# Compute coherence score\n",
    "coherence_model_lda = models.coherencemodel.CoherenceModel(model=lda_model,\n",
    "                                                                texts=list_of_list_of_tokens,\n",
    "                                                                dictionary=dictionary_LDA,\n",
    "                                                                coherence='c_v')\n",
    "coherence_lda = coherence_model_lda.get_coherence()\n",
    "print('Coherence Score: ', coherence_lda)"
   ]
  },
  {
   "cell_type": "code",
   "execution_count": 56,
   "metadata": {},
   "outputs": [
    {
     "name": "stdout",
     "output_type": "stream",
     "text": [
      "Optimal number of topics: 22\n",
      "Perplexity:  -8.6372894176986\n",
      "Coherence Score:  0.4928239392910312\n"
     ]
    }
   ],
   "source": [
    "print('Optimal number of topics:', optimal_num_topics)\n",
    "\n",
    "# Compute perplexity\n",
    "print('Perplexity: ', optimal_model.log_perplexity(corpus)) # a measure of how good model is.\n",
    "                                                             # lower is better\n",
    "# Compute coherence score\n",
    "coherence_model_lda = models.coherencemodel.CoherenceModel(model=optimal_model,\n",
    "                                                                texts=list_of_list_of_tokens,\n",
    "                                                                dictionary=dictionary_LDA,\n",
    "                                                                coherence='c_v')\n",
    "coherence_lda = coherence_model_lda.get_coherence()\n",
    "print('Coherence Score: ', coherence_lda)"
   ]
  },
  {
   "cell_type": "markdown",
   "metadata": {},
   "source": [
    "From the coherence plot, there are two point of notice: 9 and 22 topics. The objective is to choose the smallest number of topics (lower perplexity score) with highest coherence score. From the coherence score and the perplexity score comparison of the two options, I choose the number of topics at 9."
   ]
  },
  {
   "cell_type": "code",
   "execution_count": null,
   "metadata": {},
   "outputs": [],
   "source": []
  },
  {
   "cell_type": "code",
   "execution_count": 99,
   "metadata": {},
   "outputs": [
    {
     "data": {
      "text/html": [
       "\n",
       "<link rel=\"stylesheet\" type=\"text/css\" href=\"https://cdn.rawgit.com/bmabey/pyLDAvis/files/ldavis.v1.0.0.css\">\n",
       "\n",
       "\n",
       "<div id=\"ldavis_el176949708982001231639260\"></div>\n",
       "<script type=\"text/javascript\">\n",
       "\n",
       "var ldavis_el176949708982001231639260_data = {\"mdsDat\": {\"x\": [0.07299205932811664, 0.030902781884269336, -0.04570088904681299, 0.032158419839567666, 0.13860146984576588, 0.11292141503389094, -0.12829694717782517, -0.16304166582939444, -0.05053664387757767], \"y\": [0.002936920072874755, 0.04459608110088057, 0.03868792773373888, 0.08100554431514081, 0.08091104871695536, -0.10877282742162787, -0.03001184391943392, 0.09544298509219855, -0.20479583569072685], \"topics\": [1, 2, 3, 4, 5, 6, 7, 8, 9], \"cluster\": [1, 1, 1, 1, 1, 1, 1, 1, 1], \"Freq\": [16.42371940612793, 14.441143035888672, 13.095609664916992, 11.77843189239502, 10.542875289916992, 9.644983291625977, 9.537784576416016, 7.741464614868164, 6.793995380401611]}, \"tinfo\": {\"Category\": [\"Default\", \"Default\", \"Default\", \"Default\", \"Default\", \"Default\", \"Default\", \"Default\", \"Default\", \"Default\", \"Default\", \"Default\", \"Default\", \"Default\", \"Default\", \"Default\", \"Default\", \"Default\", \"Default\", \"Default\", \"Default\", \"Default\", \"Default\", \"Default\", \"Default\", \"Default\", \"Default\", \"Default\", \"Default\", \"Default\", \"Topic1\", \"Topic1\", \"Topic1\", \"Topic1\", \"Topic1\", \"Topic1\", \"Topic1\", \"Topic1\", \"Topic1\", \"Topic1\", \"Topic1\", \"Topic1\", \"Topic1\", \"Topic1\", \"Topic1\", \"Topic1\", \"Topic1\", \"Topic1\", \"Topic1\", \"Topic1\", \"Topic1\", \"Topic1\", \"Topic1\", \"Topic1\", \"Topic1\", \"Topic1\", \"Topic1\", \"Topic1\", \"Topic1\", \"Topic1\", \"Topic1\", \"Topic1\", \"Topic1\", \"Topic1\", \"Topic1\", \"Topic1\", \"Topic1\", \"Topic1\", \"Topic1\", \"Topic1\", \"Topic1\", \"Topic1\", \"Topic1\", \"Topic1\", \"Topic1\", \"Topic1\", \"Topic1\", \"Topic1\", \"Topic1\", \"Topic1\", \"Topic1\", \"Topic1\", \"Topic1\", \"Topic1\", \"Topic1\", \"Topic1\", \"Topic1\", \"Topic1\", \"Topic1\", \"Topic1\", \"Topic1\", \"Topic1\", \"Topic1\", \"Topic1\", \"Topic1\", \"Topic1\", \"Topic1\", \"Topic1\", \"Topic1\", \"Topic1\", \"Topic1\", \"Topic1\", \"Topic1\", \"Topic1\", \"Topic1\", \"Topic1\", \"Topic1\", \"Topic1\", \"Topic1\", \"Topic1\", \"Topic1\", \"Topic1\", \"Topic1\", \"Topic1\", \"Topic1\", \"Topic1\", \"Topic1\", \"Topic1\", \"Topic1\", \"Topic1\", \"Topic1\", \"Topic1\", \"Topic2\", \"Topic2\", \"Topic2\", \"Topic2\", \"Topic2\", \"Topic2\", \"Topic2\", \"Topic2\", \"Topic2\", \"Topic2\", \"Topic2\", \"Topic2\", \"Topic2\", \"Topic2\", \"Topic2\", \"Topic2\", \"Topic2\", \"Topic2\", \"Topic2\", \"Topic2\", \"Topic2\", \"Topic2\", \"Topic2\", \"Topic2\", \"Topic2\", \"Topic2\", \"Topic2\", \"Topic2\", \"Topic2\", \"Topic2\", \"Topic2\", \"Topic2\", \"Topic2\", \"Topic2\", \"Topic2\", \"Topic2\", \"Topic2\", \"Topic2\", \"Topic2\", \"Topic2\", \"Topic2\", \"Topic2\", \"Topic2\", \"Topic2\", \"Topic2\", \"Topic2\", \"Topic2\", \"Topic2\", \"Topic2\", \"Topic2\", \"Topic2\", \"Topic2\", \"Topic2\", \"Topic2\", \"Topic2\", \"Topic2\", \"Topic2\", \"Topic2\", \"Topic2\", \"Topic2\", \"Topic2\", \"Topic2\", \"Topic2\", \"Topic2\", \"Topic2\", \"Topic2\", \"Topic2\", \"Topic2\", \"Topic2\", \"Topic2\", \"Topic2\", \"Topic2\", \"Topic2\", \"Topic2\", \"Topic2\", \"Topic2\", \"Topic2\", \"Topic2\", \"Topic2\", \"Topic2\", \"Topic2\", \"Topic2\", \"Topic3\", \"Topic3\", \"Topic3\", \"Topic3\", \"Topic3\", \"Topic3\", \"Topic3\", \"Topic3\", \"Topic3\", \"Topic3\", \"Topic3\", \"Topic3\", \"Topic3\", \"Topic3\", \"Topic3\", \"Topic3\", \"Topic3\", \"Topic3\", \"Topic3\", \"Topic3\", \"Topic3\", \"Topic3\", \"Topic3\", \"Topic3\", \"Topic3\", \"Topic3\", \"Topic3\", \"Topic3\", \"Topic3\", \"Topic3\", \"Topic3\", \"Topic3\", \"Topic3\", \"Topic3\", \"Topic3\", \"Topic3\", \"Topic3\", \"Topic3\", \"Topic3\", \"Topic3\", \"Topic3\", \"Topic3\", \"Topic3\", \"Topic3\", \"Topic3\", \"Topic3\", \"Topic3\", \"Topic3\", \"Topic3\", \"Topic3\", \"Topic3\", \"Topic3\", \"Topic3\", \"Topic3\", \"Topic3\", \"Topic3\", \"Topic3\", \"Topic3\", \"Topic3\", \"Topic3\", \"Topic3\", \"Topic3\", \"Topic3\", \"Topic3\", \"Topic3\", \"Topic3\", \"Topic3\", \"Topic3\", \"Topic3\", \"Topic3\", \"Topic3\", \"Topic3\", \"Topic3\", \"Topic3\", \"Topic3\", \"Topic3\", \"Topic3\", \"Topic3\", \"Topic3\", \"Topic3\", \"Topic3\", \"Topic4\", \"Topic4\", \"Topic4\", \"Topic4\", \"Topic4\", \"Topic4\", \"Topic4\", \"Topic4\", \"Topic4\", \"Topic4\", \"Topic4\", \"Topic4\", \"Topic4\", \"Topic4\", \"Topic4\", \"Topic4\", \"Topic4\", \"Topic4\", \"Topic4\", \"Topic4\", \"Topic4\", \"Topic4\", \"Topic4\", \"Topic4\", \"Topic4\", \"Topic4\", \"Topic4\", \"Topic4\", \"Topic4\", \"Topic4\", \"Topic4\", \"Topic4\", \"Topic4\", \"Topic4\", \"Topic4\", \"Topic4\", \"Topic4\", \"Topic4\", \"Topic4\", \"Topic4\", \"Topic4\", \"Topic4\", \"Topic4\", \"Topic4\", \"Topic4\", \"Topic4\", \"Topic4\", \"Topic4\", \"Topic4\", \"Topic4\", \"Topic4\", \"Topic4\", \"Topic4\", \"Topic4\", \"Topic4\", \"Topic4\", \"Topic4\", \"Topic4\", \"Topic4\", \"Topic4\", \"Topic4\", \"Topic4\", \"Topic4\", \"Topic4\", \"Topic4\", \"Topic4\", \"Topic4\", \"Topic4\", \"Topic4\", \"Topic4\", \"Topic4\", \"Topic4\", \"Topic4\", \"Topic4\", \"Topic4\", \"Topic4\", \"Topic4\", \"Topic4\", \"Topic5\", \"Topic5\", \"Topic5\", \"Topic5\", \"Topic5\", \"Topic5\", \"Topic5\", \"Topic5\", \"Topic5\", \"Topic5\", \"Topic5\", \"Topic5\", \"Topic5\", \"Topic5\", \"Topic5\", \"Topic5\", \"Topic5\", \"Topic5\", \"Topic5\", \"Topic5\", \"Topic5\", \"Topic5\", \"Topic5\", \"Topic5\", \"Topic5\", \"Topic5\", \"Topic5\", \"Topic5\", \"Topic5\", \"Topic5\", \"Topic5\", \"Topic5\", \"Topic5\", \"Topic5\", \"Topic5\", \"Topic5\", \"Topic5\", \"Topic5\", \"Topic5\", \"Topic5\", \"Topic5\", \"Topic5\", \"Topic5\", \"Topic5\", \"Topic5\", \"Topic5\", \"Topic5\", \"Topic5\", \"Topic5\", \"Topic5\", \"Topic5\", \"Topic5\", \"Topic5\", \"Topic5\", \"Topic5\", \"Topic5\", \"Topic5\", \"Topic5\", \"Topic5\", \"Topic5\", \"Topic5\", \"Topic5\", \"Topic5\", \"Topic5\", \"Topic5\", \"Topic5\", \"Topic5\", \"Topic5\", \"Topic5\", \"Topic5\", \"Topic5\", \"Topic5\", \"Topic5\", \"Topic5\", \"Topic5\", \"Topic5\", \"Topic5\", \"Topic6\", \"Topic6\", \"Topic6\", \"Topic6\", \"Topic6\", \"Topic6\", \"Topic6\", \"Topic6\", \"Topic6\", \"Topic6\", \"Topic6\", \"Topic6\", \"Topic6\", \"Topic6\", \"Topic6\", \"Topic6\", \"Topic6\", \"Topic6\", \"Topic6\", \"Topic6\", \"Topic6\", \"Topic6\", \"Topic6\", \"Topic6\", \"Topic6\", \"Topic6\", \"Topic6\", \"Topic6\", \"Topic6\", \"Topic6\", \"Topic6\", \"Topic6\", \"Topic6\", \"Topic6\", \"Topic6\", \"Topic6\", \"Topic6\", \"Topic6\", \"Topic6\", \"Topic6\", \"Topic6\", \"Topic6\", \"Topic6\", \"Topic6\", \"Topic6\", \"Topic6\", \"Topic6\", \"Topic6\", \"Topic6\", \"Topic6\", \"Topic6\", \"Topic6\", \"Topic6\", \"Topic6\", \"Topic6\", \"Topic6\", \"Topic6\", \"Topic6\", \"Topic6\", \"Topic6\", \"Topic6\", \"Topic6\", \"Topic6\", \"Topic6\", \"Topic6\", \"Topic6\", \"Topic6\", \"Topic6\", \"Topic6\", \"Topic6\", \"Topic6\", \"Topic6\", \"Topic6\", \"Topic6\", \"Topic6\", \"Topic7\", \"Topic7\", \"Topic7\", \"Topic7\", \"Topic7\", \"Topic7\", \"Topic7\", \"Topic7\", \"Topic7\", \"Topic7\", \"Topic7\", \"Topic7\", \"Topic7\", \"Topic7\", \"Topic7\", \"Topic7\", \"Topic7\", \"Topic7\", \"Topic7\", \"Topic7\", \"Topic7\", \"Topic7\", \"Topic7\", \"Topic7\", \"Topic7\", \"Topic7\", \"Topic7\", \"Topic7\", \"Topic7\", \"Topic7\", \"Topic7\", \"Topic7\", \"Topic7\", \"Topic7\", \"Topic7\", \"Topic7\", \"Topic7\", \"Topic7\", \"Topic7\", \"Topic7\", \"Topic7\", \"Topic7\", \"Topic7\", \"Topic7\", \"Topic7\", \"Topic7\", \"Topic7\", \"Topic7\", \"Topic7\", \"Topic7\", \"Topic7\", \"Topic7\", \"Topic7\", \"Topic7\", \"Topic7\", \"Topic7\", \"Topic7\", \"Topic7\", \"Topic7\", \"Topic7\", \"Topic7\", \"Topic7\", \"Topic7\", \"Topic7\", \"Topic7\", \"Topic7\", \"Topic7\", \"Topic7\", \"Topic7\", \"Topic7\", \"Topic7\", \"Topic7\", \"Topic7\", \"Topic7\", \"Topic7\", \"Topic7\", \"Topic7\", \"Topic7\", \"Topic7\", \"Topic7\", \"Topic7\", \"Topic7\", \"Topic8\", \"Topic8\", \"Topic8\", \"Topic8\", \"Topic8\", \"Topic8\", \"Topic8\", \"Topic8\", \"Topic8\", \"Topic8\", \"Topic8\", \"Topic8\", \"Topic8\", \"Topic8\", \"Topic8\", \"Topic8\", \"Topic8\", \"Topic8\", \"Topic8\", \"Topic8\", \"Topic8\", \"Topic8\", \"Topic8\", \"Topic8\", \"Topic8\", \"Topic8\", \"Topic8\", \"Topic8\", \"Topic8\", \"Topic8\", \"Topic8\", \"Topic8\", \"Topic8\", \"Topic8\", \"Topic8\", \"Topic8\", \"Topic8\", \"Topic8\", \"Topic8\", \"Topic8\", \"Topic8\", \"Topic8\", \"Topic8\", \"Topic8\", \"Topic8\", \"Topic8\", \"Topic8\", \"Topic8\", \"Topic8\", \"Topic8\", \"Topic8\", \"Topic8\", \"Topic8\", \"Topic8\", \"Topic8\", \"Topic8\", \"Topic8\", \"Topic8\", \"Topic8\", \"Topic8\", \"Topic8\", \"Topic8\", \"Topic8\", \"Topic8\", \"Topic8\", \"Topic8\", \"Topic8\", \"Topic8\", \"Topic8\", \"Topic8\", \"Topic8\", \"Topic8\", \"Topic8\", \"Topic8\", \"Topic9\", \"Topic9\", \"Topic9\", \"Topic9\", \"Topic9\", \"Topic9\", \"Topic9\", \"Topic9\", \"Topic9\", \"Topic9\", \"Topic9\", \"Topic9\", \"Topic9\", \"Topic9\", \"Topic9\", \"Topic9\", \"Topic9\", \"Topic9\", \"Topic9\", \"Topic9\", \"Topic9\", \"Topic9\", \"Topic9\", \"Topic9\", \"Topic9\", \"Topic9\", \"Topic9\", \"Topic9\", \"Topic9\", \"Topic9\", \"Topic9\", \"Topic9\", \"Topic9\", \"Topic9\", \"Topic9\", \"Topic9\", \"Topic9\", \"Topic9\", \"Topic9\", \"Topic9\", \"Topic9\", \"Topic9\", \"Topic9\", \"Topic9\", \"Topic9\", \"Topic9\", \"Topic9\", \"Topic9\", \"Topic9\", \"Topic9\", \"Topic9\", \"Topic9\", \"Topic9\", \"Topic9\", \"Topic9\", \"Topic9\", \"Topic9\", \"Topic9\", \"Topic9\", \"Topic9\", \"Topic9\", \"Topic9\", \"Topic9\", \"Topic9\", \"Topic9\", \"Topic9\", \"Topic9\", \"Topic9\", \"Topic9\", \"Topic9\", \"Topic9\", \"Topic9\", \"Topic9\", \"Topic9\", \"Topic9\", \"Topic9\", \"Topic9\", \"Topic9\", \"Topic9\", \"Topic9\"], \"Freq\": [1147.0, 879.0, 198.0, 622.0, 449.0, 92.0, 113.0, 179.0, 377.0, 804.0, 155.0, 224.0, 187.0, 281.0, 189.0, 428.0, 111.0, 183.0, 199.0, 70.0, 185.0, 241.0, 177.0, 313.0, 841.0, 172.0, 256.0, 272.0, 284.0, 144.0, 17.182228088378906, 14.146257400512695, 17.98581314086914, 10.702178001403809, 8.175643920898438, 8.163454055786133, 9.007018089294434, 9.812970161437988, 11.460411071777344, 5.984455108642578, 5.564913272857666, 5.139585018157959, 6.398411273956299, 5.13932991027832, 5.560603618621826, 7.227732181549072, 5.977953910827637, 5.138981342315674, 5.141596794128418, 5.141666889190674, 4.722630977630615, 5.973960876464844, 4.722304344177246, 4.724710464477539, 16.448049545288086, 4.722729682922363, 5.55738639831543, 5.1389031410217285, 5.552892208099365, 4.719544887542725, 6.381837844848633, 23.699277877807617, 7.201208591461182, 5.964865207672119, 8.428853988647461, 6.365688323974609, 21.47939109802246, 8.798822402954102, 7.534588813781738, 6.319979667663574, 5.925612926483154, 29.85153579711914, 10.434357643127441, 24.81748390197754, 12.248886108398438, 9.124162673950195, 9.10879898071289, 51.99248123168945, 23.580219268798828, 19.925687789916992, 136.03477478027344, 13.734915733337402, 16.344356536865234, 12.410017013549805, 306.903076171875, 368.17462158203125, 10.393033981323242, 45.13824462890625, 13.5551118850708, 71.45366668701172, 25.505308151245117, 41.380741119384766, 77.16380310058594, 20.083236694335938, 132.1465606689453, 149.6292724609375, 77.76400756835938, 142.74815368652344, 83.36894226074219, 26.370365142822266, 36.02996063232422, 31.976133346557617, 29.28075408935547, 85.71299743652344, 45.868736267089844, 74.75888061523438, 43.8626823425293, 59.013065338134766, 52.85636520385742, 69.05615234375, 43.43867492675781, 75.62120056152344, 38.01149368286133, 47.189205169677734, 48.79364013671875, 55.26715850830078, 36.01600646972656, 44.04644012451172, 41.25191879272461, 43.04130172729492, 43.41194152832031, 43.09296798706055, 35.754119873046875, 12.152244567871094, 8.383872032165527, 10.42990493774414, 7.969062805175781, 7.967445373535156, 7.9674201011657715, 7.964920997619629, 7.96916389465332, 8.374199867248535, 8.373032569885254, 10.401823997497559, 8.75457763671875, 6.250255107879639, 6.243838310241699, 4.608383655548096, 4.608156204223633, 4.608819484710693, 5.0139007568359375, 6.232565879821777, 5.0098557472229, 4.604947566986084, 5.009169578552246, 4.604371547698975, 5.008636951446533, 5.00719690322876, 4.600917816162109, 5.412277698516846, 5.809091091156006, 6.190247058868408, 6.590785980224609, 6.18044376373291, 7.722914218902588, 8.091620445251465, 10.770687103271484, 5.37987756729126, 17.332792282104492, 6.135991096496582, 6.821020603179932, 14.320910453796387, 21.12517547607422, 40.91843032836914, 14.638433456420898, 47.58048629760742, 23.559661865234375, 10.61579418182373, 79.16152954101562, 38.15888214111328, 71.57060241699219, 11.393492698669434, 85.12422180175781, 12.83985424041748, 75.21925354003906, 61.07182312011719, 192.17823791503906, 36.191768646240234, 54.74740982055664, 65.86856079101562, 25.252830505371094, 32.74449157714844, 39.69661331176758, 101.5547103881836, 138.1668243408203, 139.73118591308594, 41.58019256591797, 33.80070114135742, 60.20659255981445, 115.43931579589844, 43.07342529296875, 92.77549743652344, 32.98881530761719, 29.011777877807617, 102.74413299560547, 44.1012077331543, 55.82892990112305, 47.55077362060547, 57.062156677246094, 45.853092193603516, 43.9699821472168, 50.298805236816406, 41.022857666015625, 41.864479064941406, 13.52577018737793, 9.333041191101074, 9.789933204650879, 8.862903594970703, 9.783720016479492, 9.325295448303223, 9.779898643493652, 14.337076187133789, 18.916484832763672, 8.33304214477539, 11.566329002380371, 12.4613676071167, 13.80100154876709, 5.568596363067627, 5.576486587524414, 6.489973545074463, 5.5822601318359375, 5.581202030181885, 6.0329437255859375, 6.033398151397705, 5.1274542808532715, 5.113117218017578, 5.124688148498535, 5.578393459320068, 5.1222686767578125, 5.576683044433594, 5.570411682128906, 5.125298500061035, 6.02955436706543, 5.574578762054443, 6.926286697387695, 6.924906253814697, 7.365182876586914, 6.022162914276123, 7.794495105743408, 11.696541786193848, 12.906624794006348, 9.001016616821289, 25.450326919555664, 13.30489444732666, 8.46262264251709, 12.945805549621582, 13.346871376037598, 30.099597930908203, 15.012643814086914, 32.90729904174805, 25.26375389099121, 175.17921447753906, 88.23458099365234, 91.56736755371094, 51.58881759643555, 20.50611114501953, 219.05711364746094, 219.5584716796875, 34.3743896484375, 43.046417236328125, 19.070781707763672, 18.007328033447266, 66.27793884277344, 51.80625534057617, 80.85775756835938, 107.4913330078125, 64.80660247802734, 36.78616714477539, 42.211936950683594, 43.43697738647461, 39.58707046508789, 23.733009338378906, 69.9061050415039, 24.918733596801758, 46.03456497192383, 45.344356536865234, 36.47003173828125, 65.78395080566406, 42.612648010253906, 40.792205810546875, 29.471328735351562, 32.237247467041016, 41.73642349243164, 33.68632125854492, 32.1441764831543, 14.046356201171875, 8.680062294006348, 7.883541107177734, 8.683114051818848, 8.271096229553223, 15.15919303894043, 4.963411331176758, 4.561161518096924, 4.546860218048096, 4.5389084815979, 6.571253299713135, 6.166076183319092, 4.959105968475342, 4.556619644165039, 4.554925441741943, 4.555848598480225, 4.550985336303711, 4.544291973114014, 4.553386211395264, 4.550253868103027, 4.555155277252197, 4.554762840270996, 4.541086673736572, 5.3526997566223145, 4.551639556884766, 5.3533759117126465, 4.946509838104248, 4.946134567260742, 7.794999122619629, 6.905065536499023, 9.840136528015137, 8.65031909942627, 6.378574848175049, 12.666296005249023, 12.638138771057129, 42.50735855102539, 108.43107604980469, 8.492984771728516, 19.199474334716797, 16.207416534423828, 8.589252471923828, 230.79251098632812, 84.14097595214844, 56.29727554321289, 59.750282287597656, 10.682511329650879, 24.59380340576172, 13.383512496948242, 47.616764068603516, 20.112131118774414, 169.95997619628906, 103.36671447753906, 19.409395217895508, 30.56182861328125, 47.054317474365234, 29.085941314697266, 24.07974624633789, 122.81166076660156, 21.34528160095215, 16.653596878051758, 99.87661743164062, 36.22673034667969, 63.06800842285156, 54.514739990234375, 79.06941986083984, 72.74127960205078, 42.288917541503906, 29.894634246826172, 53.53020477294922, 36.38980484008789, 27.07069969177246, 37.6301155090332, 37.4030647277832, 29.488252639770508, 30.704113006591797, 40.75865173339844, 35.109214782714844, 28.570438385009766, 11.640509605407715, 8.427508354187012, 7.635694980621338, 7.618141174316406, 9.20673656463623, 7.628361225128174, 7.631083011627197, 8.416064262390137, 8.809552192687988, 8.793218612670898, 17.47959327697754, 11.120538711547852, 5.198127746582031, 4.803158760070801, 4.414555549621582, 4.805919647216797, 5.195644378662109, 4.801712989807129, 4.801713466644287, 4.403299808502197, 4.407463550567627, 4.411866188049316, 4.411382675170898, 4.410578727722168, 4.402439594268799, 5.960682392120361, 9.892388343811035, 4.785214424133301, 4.772275447845459, 4.76799201965332, 6.675430774688721, 18.1789608001709, 8.317418098449707, 23.65713119506836, 5.790735721588135, 4.763682842254639, 12.157354354858398, 7.6086745262146, 35.28584671020508, 7.286276817321777, 27.974952697753906, 22.76595115661621, 10.208112716674805, 31.084501266479492, 26.611921310424805, 90.60619354248047, 58.92153549194336, 43.57027816772461, 79.43130493164062, 149.4669952392578, 19.059892654418945, 45.300045013427734, 64.50787353515625, 59.493186950683594, 24.32886505126953, 22.914112091064453, 56.93223571777344, 91.33113098144531, 67.21038818359375, 43.51654052734375, 39.990142822265625, 68.12904357910156, 43.76057434082031, 95.64503479003906, 75.57756042480469, 46.22081756591797, 35.85069274902344, 50.10564041137695, 41.41157150268555, 36.394954681396484, 52.83921432495117, 28.754756927490234, 38.5623779296875, 33.464195251464844, 36.675331115722656, 34.403560638427734, 28.870635986328125, 12.18122386932373, 13.029361724853516, 9.122368812561035, 8.26644515991211, 9.103901863098145, 6.904123306274414, 8.172595024108887, 6.054193496704102, 9.485589981079102, 5.627775192260742, 9.902595520019531, 5.200306415557861, 6.042930603027344, 4.77659273147583, 4.775791645050049, 6.8831868171691895, 4.7765583992004395, 5.193680763244629, 4.7724714279174805, 5.196961879730225, 4.775619029998779, 4.775851249694824, 4.766393184661865, 6.033514022827148, 7.279465198516846, 5.603187084197998, 7.687264442443848, 5.979318141937256, 8.931794166564941, 5.540145397186279, 17.266530990600586, 9.26363754272461, 9.117276191711426, 18.10771369934082, 8.48305892944336, 51.9166259765625, 7.019306659698486, 12.43994140625, 15.321972846984863, 7.441074848175049, 29.909015655517578, 17.048450469970703, 42.291561126708984, 77.47962188720703, 69.03076171875, 74.81291198730469, 47.93318176269531, 55.047508239746094, 222.79278564453125, 156.00563049316406, 74.60169219970703, 80.96131896972656, 42.2786865234375, 38.92666244506836, 55.323875427246094, 25.88876724243164, 76.58130645751953, 16.098756790161133, 31.158674240112305, 21.24193572998047, 23.82107925415039, 58.21817398071289, 16.13298225402832, 59.190242767333984, 56.23688507080078, 22.230628967285156, 26.299962997436523, 28.296958923339844, 26.004146575927734, 29.03423500061035, 28.352163314819336, 29.389440536499023, 25.234193801879883, 27.315692901611328, 24.90160369873047, 12.070528984069824, 12.050308227539062, 7.803842067718506, 8.183181762695312, 10.472004890441895, 7.418516159057617, 7.41760778427124, 7.417250633239746, 7.415741443634033, 7.4156951904296875, 7.409993648529053, 7.797756671905518, 9.312049865722656, 17.732589721679688, 5.4331207275390625, 11.20658016204834, 4.291131496429443, 4.290776252746582, 4.2909932136535645, 4.66778564453125, 5.4173431396484375, 4.284717082977295, 5.037283420562744, 4.286952495574951, 4.285985946655273, 4.285803318023682, 4.286035537719727, 4.663665771484375, 4.662283420562744, 4.283596992492676, 13.03147029876709, 16.011474609375, 5.040922164916992, 4.660676956176758, 35.163673400878906, 9.062774658203125, 6.495377063751221, 5.384746074676514, 5.381653308868408, 5.372657299041748, 10.153952598571777, 9.802316665649414, 27.14348030090332, 11.141205787658691, 17.668149948120117, 64.91526794433594, 32.224422454833984, 8.369894981384277, 20.626140594482422, 79.82373809814453, 23.459095001220703, 62.36515808105469, 207.20184326171875, 18.12438201904297, 13.579259872436523, 14.603856086730957, 15.969707489013672, 66.86615753173828, 12.786955833435059, 44.46148681640625, 40.05440139770508, 73.91619873046875, 39.25050354003906, 15.530218124389648, 18.392404556274414, 37.985130310058594, 41.47235870361328, 36.54837417602539, 30.99161148071289, 39.59835433959961, 35.14351272583008, 30.008291244506836, 39.05204772949219, 35.355201721191406, 41.1749382019043, 24.151819229125977, 46.113677978515625, 36.63393020629883, 33.56075668334961, 41.930301666259766, 36.99203109741211, 32.82689666748047, 13.73148250579834, 10.05309009552002, 8.704801559448242, 9.598000526428223, 10.484230041503906, 9.543298721313477, 6.37347936630249, 5.481894493103027, 5.481003284454346, 5.025357723236084, 5.921881198883057, 6.366623878479004, 5.477116584777832, 8.631919860839844, 5.031363010406494, 5.031829833984375, 5.031620502471924, 5.032199382781982, 5.031262397766113, 5.031474590301514, 5.030635833740234, 5.0306901931762695, 5.470134735107422, 5.913875579833984, 14.336515426635742, 7.206491470336914, 9.889276504516602, 10.317842483520508, 5.421959400177002, 4.483668327331543, 11.118278503417969, 10.973807334899902, 18.32954216003418, 10.841415405273438, 7.26395845413208, 6.5001702308654785, 21.59461212158203, 22.323383331298828, 12.379953384399414, 48.82643127441406, 101.12361145019531, 54.47658920288086, 25.091745376586914, 18.98103141784668, 17.117385864257812, 20.66490364074707, 24.839054107666016, 83.8804702758789, 44.3604850769043, 25.511554718017578, 44.31461715698242, 24.585540771484375, 45.622718811035156, 32.56599807739258, 69.37683868408203, 22.829587936401367, 16.873464584350586, 41.8547248840332, 39.785369873046875, 24.319124221801758, 33.088619232177734, 20.667461395263672, 46.3585205078125, 19.617151260375977, 25.139238357543945, 42.18926239013672, 26.979406356811523, 31.665964126586914, 29.708898544311523, 23.781904220581055, 24.677352905273438, 23.227163314819336, 23.702219009399414, 21.676162719726562, 11.967218399047852, 8.95702075958252, 8.12159252166748, 8.120488166809082, 8.118812561035156, 8.531668663024902, 8.510248184204102, 8.907147407531738, 9.321802139282227, 5.946605205535889, 5.528053283691406, 5.941416263580322, 4.696883678436279, 5.113070011138916, 5.938796520233154, 4.692335605621338, 4.693953514099121, 6.764570713043213, 5.10587215423584, 5.102021217346191, 4.692232608795166, 5.106237411499023, 4.690804958343506, 4.691287040710449, 5.931735038757324, 7.144132614135742, 5.896396636962891, 7.109089374542236, 5.472423076629639, 5.451320648193359, 6.645890712738037, 15.411731719970703, 5.445281028747559, 6.544058799743652, 5.442730903625488, 10.622330665588379, 6.9007720947265625, 64.6471176147461, 22.8225040435791, 9.30684757232666, 19.12091827392578, 11.479107856750488, 6.600427150726318, 17.462284088134766, 23.329782485961914, 14.570029258728027, 12.679823875427246, 10.479024887084961, 173.01055908203125, 32.97461700439453, 9.958512306213379, 16.56467628479004, 12.431496620178223, 18.411319732666016, 12.617302894592285, 40.84575653076172, 34.52266311645508, 23.732086181640625, 28.020933151245117, 27.097118377685547, 49.69438552856445, 29.43798828125, 24.253917694091797, 18.60475730895996, 37.814476013183594, 21.495697021484375, 17.370197296142578, 25.646860122680664, 26.577241897583008, 17.966238021850586, 18.185853958129883, 30.0172061920166, 19.493492126464844, 20.857738494873047, 21.766342163085938, 21.380844116210938, 19.265186309814453, 20.41280746459961, 18.832014083862305, 18.672056198120117], \"Term\": [\"dress\", \"size\", \"wash\", \"small\", \"shirt\", \"zipper\", \"jean\", \"pant\", \"quality\", \"fabric\", \"hole\", \"arm\", \"white\", \"model\", \"photo\", \"material\", \"black\", \"store\", \"waist\", \"sack\", \"petite\", \"skirt\", \"shape\", \"retailer\", \"top\", \"find\", \"cute\", \"big\", \"picture\", \"high\", \"execution\", \"shipping\", \"shot\", \"yesterday\", \"baseball\", \"list\", \"taupe\", \"solid\", \"outside\", \"smock\", \"bunchy\", \"fault\", \"free\", \"embarrass\", \"manage\", \"broad\", \"poofy\", \"halter\", \"spare\", \"graduation\", \"land\", \"ready\", \"tire\", \"layering\", \"remind\", \"hips\", \"struggle\", \"fence\", \"crease\", \"kill\", \"mirror\", \"mid\", \"laugh\", \"wrinkly\", \"rib\", \"hair\", \"darker\", \"moss\", \"bizarre\", \"plus\", \"midsection\", \"hourglass\", \"fuller\", \"curve\", \"discount\", \"office\", \"total\", \"hit\", \"designer\", \"pregnant\", \"skirt\", \"photograph\", \"unfortunate\", \"control\", \"size\", \"dress\", \"justify\", \"true\", \"okay\", \"flatter\", \"type\", \"figure\", \"huge\", \"fitted\", \"small\", \"fit\", \"model\", \"top\", \"large\", \"knee\", \"use\", \"appear\", \"slip\", \"shirt\", \"body\", \"material\", \"receive\", \"short\", \"big\", \"color\", \"shape\", \"fabric\", \"hip\", \"cut\", \"retailer\", \"return\", \"wide\", \"wp\", \"price\", \"cute\", \"ex\", \"picture\", \"tee\", \"test\", \"pilled\", \"lift\", \"bathroom\", \"pullover\", \"stunning\", \"golden\", \"gape\", \"gaping\", \"ginormous\", \"bulk\", \"undo\", \"loop\", \"thru\", \"muddy\", \"underarm\", \"distance\", \"event\", \"peach\", \"age\", \"frustrating\", \"underarms\", \"circulation\", \"midriff\", \"prepare\", \"unnecessary\", \"looser\", \"damage\", \"appearance\", \"complete\", \"title\", \"feminine\", \"young\", \"snap\", \"widen\", \"crop\", \"motif\", \"wow\", \"xsp\", \"cause\", \"bra\", \"enough\", \"low\", \"armhole\", \"gentle\", \"side\", \"pretty\", \"style\", \"enormous\", \"arm\", \"cozy\", \"tight\", \"length\", \"size\", \"loose\", \"hole\", \"sleeve\", \"inch\", \"flattering\", \"area\", \"shirt\", \"fit\", \"fabric\", \"button\", \"end\", \"design\", \"top\", \"pdt\", \"small\", \"pull\", \"cup\", \"dress\", \"time\", \"large\", \"sweater\", \"return\", \"ex\", \"model\", \"color\", \"cut\", \"short\", \"finish\", \"attached\", \"cashmere\", \"street\", \"door\", \"transfer\", \"careful\", \"fray\", \"unwearable\", \"puffy\", \"air\", \"awesome\", \"machine\", \"talk\", \"heat\", \"attract\", \"gown\", \"push\", \"versatile\", \"mix\", \"undershirt\", \"bend\", \"identical\", \"rust\", \"darling\", \"wing\", \"ref\", \"benefit\", \"pro\", \"crack\", \"lie\", \"fabulous\", \"dot\", \"consistent\", \"sleep\", \"listen\", \"next\", \"aesthetic\", \"cami\", \"expensive\", \"chested\", \"texture\", \"instruction\", \"tank\", \"difficult\", \"shrink\", \"cotton\", \"shirt\", \"white\", \"wash\", \"part\", \"busty\", \"fabric\", \"top\", \"lace\", \"sheer\", \"delicate\", \"consider\", \"thin\", \"soft\", \"short\", \"return\", \"cute\", \"blouse\", \"front\", \"line\", \"expect\", \"itchy\", \"color\", \"grey\", \"sweater\", \"design\", \"blue\", \"fit\", \"wp\", \"ex\", \"button\", \"time\", \"small\", \"retailer\", \"size\", \"sorry\", \"public\", \"forgive\", \"swimsuit\", \"paris\", \"crotch\", \"winner\", \"curl\", \"flairs\", \"provide\", \"term\", \"ish\", \"halloween\", \"didnt\", \"ran\", \"coverup\", \"sizes\", \"convince\", \"certain\", \"bustline\", \"exaggerate\", \"isnt\", \"mauve\", \"number\", \"rug\", \"rear\", \"fashion\", \"packaging\", \"irl\", \"xxs\", \"boy\", \"hd\", \"fat\", \"cling\", \"ag\", \"thigh\", \"pant\", \"chic\", \"gray\", \"mean\", \"worry\", \"small\", \"petite\", \"jean\", \"reviewer\", \"kimono\", \"real\", \"mistake\", \"bust\", \"life\", \"size\", \"material\", \"baggy\", \"poor\", \"high\", \"wrong\", \"decide\", \"top\", \"place\", \"spot\", \"fit\", \"right\", \"large\", \"big\", \"color\", \"return\", \"medium\", \"thing\", \"quality\", \"find\", \"extra\", \"cut\", \"ex\", \"cheap\", \"thin\", \"dress\", \"fabric\", \"shoulder\", \"hug\", \"tummy\", \"dingy\", \"pilcros\", \"lean\", \"dismay\", \"portray\", \"abdomen\", \"pill\", \"wed\", \"reality\", \"opening\", \"fair\", \"stink\", \"bib\", \"lump\", \"likely\", \"football\", \"player\", \"weekend\", \"receipt\", \"impressed\", \"complexion\", \"purchasing\", \"floaty\", \"pad\", \"shorter\", \"ala\", \"dear\", \"interest\", \"etc\", \"athletic\", \"stomach\", \"sweatshirt\", \"discover\", \"joke\", \"measurement\", \"bother\", \"green\", \"skim\", \"torso\", \"tiny\", \"upper\", \"tent\", \"bulky\", \"model\", \"shoulder\", \"blouse\", \"big\", \"fit\", \"weight\", \"boxy\", \"sweater\", \"arm\", \"neck\", \"pound\", \"cut\", \"color\", \"large\", \"chest\", \"blue\", \"material\", \"medium\", \"top\", \"small\", \"huge\", \"body\", \"quality\", \"picture\", \"tight\", \"fabric\", \"area\", \"shirt\", \"skirt\", \"size\", \"return\", \"photo\", \"grandma\", \"ribbed\", \"heel\", \"inexpensive\", \"lacy\", \"sleeves\", \"massive\", \"press\", \"exact\", \"deliver\", \"taste\", \"effort\", \"linen\", \"enhance\", \"attire\", \"clown\", \"claim\", \"web\", \"lo\", \"slimming\", \"count\", \"quirky\", \"coloring\", \"pale\", \"raise\", \"poofs\", \"roll\", \"horse\", \"circus\", \"fiber\", \"drapey\", \"funny\", \"metallic\", \"potato\", \"vintage\", \"sack\", \"unfortunately\", \"dirty\", \"entire\", \"drab\", \"drape\", \"half\", \"send\", \"photo\", \"shape\", \"waist\", \"heavy\", \"unflattering\", \"dress\", \"fabric\", \"picture\", \"material\", \"high\", \"little\", \"cute\", \"gorgeous\", \"color\", \"horrible\", \"print\", \"strange\", \"arrive\", \"return\", \"wrinkle\", \"top\", \"fit\", \"appear\", \"hip\", \"white\", \"receive\", \"ex\", \"wp\", \"quality\", \"blue\", \"model\", \"large\", \"coral\", \"strong\", \"appeal\", \"buying\", \"armpit\", \"worse\", \"advertise\", \"sophisticated\", \"pros\", \"embroidered\", \"story\", \"mixed\", \"cinch\", \"ivory\", \"christmas\", \"sister\", \"share\", \"fluke\", \"glow\", \"grab\", \"prefer\", \"tried\", \"comfort\", \"fading\", \"pity\", \"degree\", \"translucent\", \"service\", \"angle\", \"bulge\", \"write\", \"shop\", \"mint\", \"wine\", \"tag\", \"cheaply\", \"nightgown\", \"wearable\", \"launder\", \"sweet\", \"fold\", \"gold\", \"jumpsuit\", \"fw\", \"call\", \"black\", \"smell\", \"bead\", \"eye\", \"wash\", \"hand\", \"find\", \"dress\", \"clothes\", \"worn\", \"clean\", \"hard\", \"retailer\", \"chance\", \"store\", \"line\", \"color\", \"time\", \"let\", \"rip\", \"white\", \"wp\", \"price\", \"first\", \"design\", \"thin\", \"blue\", \"short\", \"sweater\", \"material\", \"sheer\", \"fabric\", \"quality\", \"picture\", \"fit\", \"top\", \"return\", \"pile\", \"placket\", \"trendy\", \"embroider\", \"charge\", \"iron\", \"hopeful\", \"fool\", \"space\", \"achieve\", \"net\", \"multiple\", \"page\", \"disagree\", \"killer\", \"character\", \"flip\", \"inconsistent\", \"lazy\", \"late\", \"fee\", \"mis\", \"pass\", \"party\", \"label\", \"holiday\", \"poncho\", \"serious\", \"random\", \"itch\", \"direction\", \"drawstring\", \"inner\", \"kid\", \"weave\", \"yarn\", \"due\", \"miss\", \"pilcro\", \"jean\", \"quality\", \"hole\", \"jacket\", \"skinny\", \"home\", \"money\", \"red\", \"return\", \"store\", \"flattering\", \"price\", \"wish\", \"wp\", \"receive\", \"size\", \"poor\", \"able\", \"large\", \"retailer\", \"something\", \"design\", \"cup\", \"top\", \"fine\", \"expect\", \"fabric\", \"short\", \"fit\", \"color\", \"medium\", \"picture\", \"side\", \"small\", \"sweater\", \"cape\", \"forearm\", \"drown\", \"sash\", \"absolute\", \"skip\", \"hanging\", \"placement\", \"hidden\", \"thank\", \"gigantic\", \"floreat\", \"trash\", \"crush\", \"transparent\", \"crochet\", \"lumpy\", \"word\", \"unzip\", \"mumu\", \"interior\", \"peasant\", \"goodness\", \"poke\", \"seamstress\", \"velvet\", \"boyfriend\", \"sheen\", \"sweat\", \"asymmetrical\", \"negative\", \"plan\", \"tan\", \"classic\", \"dance\", \"maxi\", \"swingy\", \"zipper\", \"collar\", \"desire\", \"elastic\", \"sewn\", \"shade\", \"waisted\", \"pocket\", \"zip\", \"styling\", \"poly\", \"dress\", \"saw\", \"wrist\", \"flow\", \"throw\", \"neckline\", \"tuck\", \"retailer\", \"cute\", \"button\", \"store\", \"cheap\", \"size\", \"arm\", \"soft\", \"layer\", \"fabric\", \"first\", \"arrive\", \"ex\", \"quality\", \"usual\", \"know\", \"fit\", \"high\", \"tight\", \"picture\", \"return\", \"sleeve\", \"color\", \"huge\", \"big\"], \"Total\": [1147.0, 879.0, 198.0, 622.0, 449.0, 92.0, 113.0, 179.0, 377.0, 804.0, 155.0, 224.0, 187.0, 281.0, 189.0, 428.0, 111.0, 183.0, 199.0, 70.0, 185.0, 241.0, 177.0, 313.0, 841.0, 172.0, 256.0, 272.0, 284.0, 144.0, 17.270751953125, 14.251157760620117, 18.125566482543945, 10.803635597229004, 8.25559139251709, 8.243401527404785, 9.103799819946289, 9.94927978515625, 11.644740104675293, 6.083426475524902, 5.657686233520508, 5.227799415588379, 6.508368492126465, 5.228010654449463, 5.656779766082764, 7.35378885269165, 6.083531856536865, 5.230444431304932, 5.23369836807251, 5.234848499298096, 4.8082451820373535, 6.082599639892578, 4.808226585388184, 4.810868740081787, 16.7488956451416, 4.809133529663086, 5.659608840942383, 5.233973026275635, 5.655710697174072, 4.808594226837158, 6.507266998291016, 24.492612838745117, 7.35614013671875, 6.082084655761719, 8.626364707946777, 6.507676124572754, 22.81186866760254, 9.123254776000977, 7.778625965118408, 6.506303310394287, 6.078374862670898, 35.02765655517578, 11.236217498779297, 30.341236114501953, 13.855377197265625, 9.933907508850098, 9.92078971862793, 76.00527954101562, 30.09187126159668, 24.859569549560547, 241.61756896972656, 16.363115310668945, 20.32056427001953, 14.574540138244629, 879.4567260742188, 1147.621337890625, 11.74898624420166, 84.17948150634766, 16.965137481689453, 179.33560180664062, 42.83655548095703, 87.85379791259766, 236.40464782714844, 31.8493595123291, 622.9677734375, 762.7739868164062, 281.92083740234375, 841.20751953125, 354.8304748535156, 51.36798095703125, 88.22735595703125, 72.16622924804688, 62.19419860839844, 449.8557434082031, 148.19332885742188, 428.1958312988281, 153.42868041992188, 312.4730529785156, 272.0945739746094, 560.2808227539062, 177.11492919921875, 804.4808959960938, 128.33087158203125, 243.44033813476562, 313.14837646484375, 523.2718505859375, 119.55342102050781, 262.49859619140625, 203.6846160888672, 256.1834716796875, 277.1556396484375, 284.64019775390625, 35.97911071777344, 12.238630294799805, 8.464075088500977, 10.533933639526367, 8.04926586151123, 8.047648429870605, 8.047622680664062, 8.045124053955078, 8.049971580505371, 8.460487365722656, 8.460683822631836, 10.53097915649414, 8.877588272094727, 6.345533847808838, 6.344877243041992, 4.688586711883545, 4.688359260559082, 4.690189838409424, 5.1045074462890625, 6.345731258392334, 5.103067874908447, 4.690662860870361, 5.102530002593994, 4.6902971267700195, 5.104705810546875, 5.104018688201904, 4.690434455871582, 5.518801212310791, 5.927454948425293, 6.345939636230469, 6.762801170349121, 6.346480846405029, 8.000797271728516, 8.417393684387207, 11.388351440429688, 5.515623569488525, 18.929271697998047, 6.343172550201416, 7.178247451782227, 16.476036071777344, 26.954326629638672, 62.129085540771484, 18.904481887817383, 85.53748321533203, 35.41995620727539, 12.785896301269531, 174.5081787109375, 67.52116394042969, 160.2288360595703, 14.110030174255371, 224.7227783203125, 16.94576644897461, 204.4392852783203, 158.44686889648438, 879.4567260742188, 78.06652069091797, 155.76815795898438, 209.26373291015625, 47.668365478515625, 72.9376220703125, 100.05335998535156, 449.8557434082031, 762.7739868164062, 804.4808959960938, 116.76081848144531, 86.45684814453125, 255.12850952148438, 841.20751953125, 142.58236694335938, 622.9677734375, 87.74247741699219, 69.6264877319336, 1147.621337890625, 180.28521728515625, 354.8304748535156, 255.13104248046875, 523.2718505859375, 277.1556396484375, 281.92083740234375, 560.2808227539062, 243.44033813476562, 312.4730529785156, 13.610671997070312, 9.412942886352539, 9.875968933105469, 8.9420166015625, 9.871110916137695, 9.410137176513672, 9.873100280761719, 14.47571849822998, 19.132123947143555, 8.435340881347656, 11.709543228149414, 12.63037395477295, 14.008634567260742, 5.653029441833496, 5.661361217498779, 6.589347839355469, 5.669904708862305, 5.670942783355713, 6.131484508514404, 6.131983757019043, 5.212061882019043, 5.197733402252197, 5.209887504577637, 5.67116641998291, 5.207523822784424, 5.669778823852539, 5.663696765899658, 5.211851119995117, 6.131505012512207, 5.669235706329346, 7.050103664398193, 7.050477027893066, 7.508617877960205, 6.130960464477539, 7.96842098236084, 12.134160041809082, 13.498601913452148, 9.401693344116211, 28.50357437133789, 14.332525253295898, 8.888446807861328, 14.7391939163208, 15.434693336486816, 39.517024993896484, 17.821269989013672, 47.03155517578125, 35.777305603027344, 449.8557434082031, 187.95155334472656, 198.87759399414062, 97.15926361083984, 29.67346954345703, 804.4808959960938, 841.20751953125, 66.78816986083984, 95.10699462890625, 28.176647186279297, 25.823165893554688, 216.93157958984375, 147.0949249267578, 312.4730529785156, 523.2718505859375, 256.1834716796875, 110.49826049804688, 146.66204833984375, 158.14503479003906, 148.16310119628906, 49.53236770629883, 560.2808227539062, 56.7454719543457, 255.13104248046875, 255.12850952148438, 152.10337829589844, 762.7739868164062, 262.49859619140625, 277.1556396484375, 116.76081848144531, 180.28521728515625, 622.9677734375, 313.14837646484375, 879.4567260742188, 14.157308578491211, 8.768123626708984, 7.965723037719727, 8.786275863647461, 8.376461029052734, 15.389802932739258, 5.050302982330322, 4.641468048095703, 4.627166748046875, 4.61921501159668, 6.688732624053955, 6.277769565582275, 5.051700115203857, 4.642066955566406, 4.640615940093994, 4.642078399658203, 4.637206077575684, 4.630894184112549, 4.640223026275635, 4.637157917022705, 4.642391681671143, 4.642261505126953, 4.630153179168701, 5.458804130554199, 4.64241361618042, 5.461716651916504, 5.047229290008545, 5.047346591949463, 7.959717273712158, 7.102994918823242, 10.441946983337402, 9.211674690246582, 6.682256698608398, 14.226815223693848, 14.334755897521973, 59.60940933227539, 179.55897521972656, 9.609542846679688, 25.600130081176758, 21.798004150390625, 10.06135082244873, 622.9677734375, 185.45645141601562, 113.37166595458984, 125.67292785644531, 13.682117462158203, 41.60186767578125, 18.784229278564453, 126.07648468017578, 36.68927764892578, 879.4567260742188, 428.1958312988281, 35.48601150512695, 72.79730987548828, 144.958984375, 67.89248657226562, 52.92446517944336, 841.20751953125, 44.95460891723633, 29.438465118408203, 762.7739868164062, 122.40618133544922, 354.8304748535156, 272.0945739746094, 560.2808227539062, 523.2718505859375, 184.4875946044922, 96.89962005615234, 377.1803283691406, 172.29180908203125, 89.79029846191406, 243.44033813476562, 277.1556396484375, 169.3705596923828, 216.93157958984375, 1147.621337890625, 804.4808959960938, 162.64395141601562, 11.727450370788574, 8.508121490478516, 7.71630859375, 7.699117660522461, 9.304953575134277, 7.709817886352539, 7.715160369873047, 8.508927345275879, 8.907346725463867, 8.907783508300781, 17.73091697692871, 11.292537689208984, 5.29146671295166, 4.890695095062256, 4.495169162750244, 4.8948516845703125, 5.291868686676025, 4.89503812789917, 4.89503812789917, 4.489650249481201, 4.493926525115967, 4.498754501342773, 4.499471664428711, 4.498791217803955, 4.493402481079102, 6.087149143218994, 10.11280345916748, 4.898815631866455, 4.89235782623291, 4.8979949951171875, 6.886235237121582, 20.16831398010254, 8.892815589904785, 27.666624069213867, 6.0941057205200195, 4.901071071624756, 14.249149322509766, 8.491778373718262, 54.43413162231445, 8.140131950378418, 42.44508361816406, 33.12415313720703, 12.50026798248291, 52.50493240356445, 44.254493713378906, 281.92083740234375, 162.64395141601562, 110.49826049804688, 272.0945739746094, 762.7739868164062, 35.697593688964844, 141.8639373779297, 255.13104248046875, 224.7227783203125, 53.33519744873047, 50.54508590698242, 243.44033813476562, 560.2808227539062, 354.8304748535156, 164.1049346923828, 152.10337829589844, 428.1958312988281, 184.4875946044922, 841.20751953125, 622.9677734375, 236.40464782714844, 148.19332885742188, 377.1803283691406, 284.64019775390625, 204.4392852783203, 804.4808959960938, 100.05335998535156, 449.8557434082031, 241.61756896972656, 879.4567260742188, 523.2718505859375, 189.67930603027344, 12.26106071472168, 13.122523307800293, 9.203771591186523, 8.346282005310059, 9.201506614685059, 7.007236957550049, 8.295415878295898, 6.1465325355529785, 9.632667541503906, 5.716540336608887, 10.062100410461426, 5.286316871643066, 6.145383358001709, 4.861746311187744, 4.8613128662109375, 7.006486892700195, 4.862216472625732, 5.287355422973633, 4.858551979064941, 5.290891647338867, 4.861982345581055, 4.862484455108643, 4.852967262268066, 6.1491289138793945, 7.431732654571533, 5.723278522491455, 7.862399578094482, 6.14378547668457, 9.198432922363281, 5.716733932495117, 17.930816650390625, 9.572985649108887, 9.64954662322998, 20.867216110229492, 9.184548377990723, 70.14718627929688, 7.457984924316406, 14.268644332885742, 18.98480224609375, 8.270977020263672, 49.36301803588867, 24.655420303344727, 83.17987060546875, 189.67930603027344, 177.11492919921875, 199.0358428955078, 107.51337432861328, 149.6269989013672, 1147.621337890625, 804.4808959960938, 284.64019775390625, 428.1958312988281, 144.958984375, 131.4161376953125, 256.1834716796875, 66.94586181640625, 560.2808227539062, 28.73836898803711, 106.44469451904297, 53.786766052246094, 72.74295043945312, 523.2718505859375, 31.425495147705078, 841.20751953125, 762.7739868164062, 72.16622924804688, 128.33087158203125, 187.95155334472656, 153.42868041992188, 277.1556396484375, 262.49859619140625, 377.1803283691406, 152.10337829589844, 281.92083740234375, 354.8304748535156, 12.169533729553223, 12.16579532623291, 7.884725093841553, 8.269906997680664, 10.583209991455078, 7.499399185180664, 7.498490810394287, 7.498133659362793, 7.49662446975708, 7.496578216552734, 7.4908766746521, 7.885380268096924, 9.428037643432617, 18.002227783203125, 5.529496192932129, 11.406967163085938, 4.37201452255249, 4.371659278869629, 4.37192964553833, 4.7572922706604, 5.522940635681152, 4.3689165115356445, 5.137236595153809, 4.3725972175598145, 4.372213840484619, 4.37240743637085, 4.372691631317139, 4.758054733276367, 4.756933689117432, 4.370690822601318, 13.342732429504395, 16.51881217956543, 5.143698215484619, 4.758304595947266, 37.26232147216797, 9.443231582641602, 6.7007975578308105, 5.530697822570801, 5.537411689758301, 5.534692287445068, 11.020415306091309, 10.707769393920898, 36.632110595703125, 13.045641899108887, 22.631032943725586, 111.41869354248047, 50.99885177612305, 9.56696605682373, 32.300350189208984, 198.87759399414062, 40.27445983886719, 172.29180908203125, 1147.621337890625, 29.560083389282227, 19.35394859313965, 22.14950180053711, 27.20732307434082, 313.14837646484375, 18.970239639282227, 183.9914093017578, 158.14503479003906, 560.2808227539062, 180.28521728515625, 27.824113845825195, 39.693172454833984, 187.95155334472656, 262.49859619140625, 203.6846160888672, 139.79835510253906, 255.12850952148438, 216.93157958984375, 152.10337829589844, 312.4730529785156, 255.13104248046875, 428.1958312988281, 95.10699462890625, 804.4808959960938, 377.1803283691406, 284.64019775390625, 762.7739868164062, 841.20751953125, 523.2718505859375, 13.81757926940918, 10.141138076782227, 8.784093856811523, 9.68784236907959, 10.596796035766602, 9.687179565429688, 6.471968173980713, 5.56787633895874, 5.568541526794434, 5.1064300537109375, 6.017752170562744, 6.471163272857666, 5.567572116851807, 8.776162147521973, 5.1159987449646, 5.116804599761963, 5.116784572601318, 5.117480278015137, 5.117042541503906, 5.117687702178955, 5.117203235626221, 5.117373943328857, 5.564401626586914, 6.01938533782959, 14.646167755126953, 7.373224258422852, 10.135444641113281, 10.587865829467773, 5.564937591552734, 4.605682373046875, 11.48090648651123, 11.506742477416992, 20.96612548828125, 11.908943176269531, 7.797564506530762, 6.910618305206299, 30.646211624145508, 36.29166030883789, 16.950756072998047, 113.37166595458984, 377.1803283691406, 155.76815795898438, 54.940391540527344, 37.62555694580078, 32.35624313354492, 44.92462158203125, 61.69341278076172, 523.2718505859375, 183.9914093017578, 72.9376220703125, 203.6846160888672, 72.56623077392578, 262.49859619140625, 153.42868041992188, 879.4567260742188, 72.79730987548828, 37.014102935791016, 354.8304748535156, 313.14837646484375, 100.60535430908203, 255.12850952148438, 69.6264877319336, 841.20751953125, 67.56647491455078, 148.16310119628906, 804.4808959960938, 312.4730529785156, 762.7739868164062, 560.2808227539062, 184.4875946044922, 284.64019775390625, 174.5081787109375, 622.9677734375, 255.13104248046875, 12.047233581542969, 9.043938636779785, 8.201607704162598, 8.2005033493042, 8.2009916305542, 8.618687629699707, 8.623419761657715, 9.046736717224121, 9.468973159790039, 6.042619228363037, 5.620234489440918, 6.041917324066162, 4.776899337768555, 5.20026159286499, 6.041857719421387, 4.774594306945801, 4.778350353240967, 6.886226177215576, 5.197859764099121, 5.194676399230957, 4.77807092666626, 5.200351238250732, 4.777802467346191, 4.778571128845215, 6.042762756347656, 7.309061050415039, 6.039811134338379, 7.309484958648682, 5.627261161804199, 5.6171345710754395, 6.8905029296875, 16.782386779785156, 5.626855850219727, 6.889713287353516, 5.625392436981201, 11.88994026184082, 7.3277587890625, 92.64705657958984, 28.99468994140625, 10.712992668151855, 25.653575897216797, 14.971490859985352, 7.290490627288818, 27.720195770263672, 43.09719467163086, 22.51132583618164, 18.969085693359375, 14.479330062866211, 1147.621337890625, 88.29081726074219, 14.07763671875, 34.0748291015625, 21.69534683227539, 48.51812744140625, 24.85581398010254, 313.14837646484375, 256.1834716796875, 116.76081848144531, 183.9914093017578, 169.3705596923828, 879.4567260742188, 224.7227783203125, 147.0949249267578, 71.19429779052734, 804.4808959960938, 139.79835510253906, 72.74295043945312, 277.1556396484375, 377.1803283691406, 89.72684478759766, 95.07044219970703, 762.7739868164062, 144.958984375, 204.4392852783203, 284.64019775390625, 523.2718505859375, 209.26373291015625, 560.2808227539062, 236.40464782714844, 272.0945739746094], \"loglift\": [30.0, 29.0, 28.0, 27.0, 26.0, 25.0, 24.0, 23.0, 22.0, 21.0, 20.0, 19.0, 18.0, 17.0, 16.0, 15.0, 14.0, 13.0, 12.0, 11.0, 10.0, 9.0, 8.0, 7.0, 6.0, 5.0, 4.0, 3.0, 2.0, 1.0, 1.801300048828125, 1.7991000413894653, 1.798699975013733, 1.7970000505447388, 1.7967000007629395, 1.7967000007629395, 1.795799970626831, 1.7926000356674194, 1.7905000448226929, 1.7899999618530273, 1.7898999452590942, 1.7893999814987183, 1.7893999814987183, 1.7892999649047852, 1.7892999649047852, 1.789199948310852, 1.7889000177383423, 1.7888000011444092, 1.788699984550476, 1.7884999513626099, 1.7884999513626099, 1.7884000539779663, 1.7884000539779663, 1.7884000539779663, 1.7883000373840332, 1.7883000373840332, 1.7882000207901, 1.788100004196167, 1.788100004196167, 1.7877999544143677, 1.7869999408721924, 1.7734999656677246, 1.7851999998092651, 1.7869999408721924, 1.7833000421524048, 1.7843999862670898, 1.7462999820709229, 1.7702000141143799, 1.7746000289916992, 1.777400016784668, 1.781000018119812, 1.6464999914169312, 1.7323999404907227, 1.6054999828338623, 1.6832000017166138, 1.7214000225067139, 1.7210999727249146, 1.4266999959945679, 1.562600016593933, 1.5851999521255493, 1.2319999933242798, 1.6313999891281128, 1.5887000560760498, 1.6456999778747559, 0.7537000179290771, 0.6696000099182129, 1.6837999820709229, 1.1832000017166138, 1.5820000171661377, 0.8862000107765198, 1.2878999710083008, 1.0535999536514282, 0.6868000030517578, 1.3452999591827393, 0.25589999556541443, 0.17759999632835388, 0.5184999704360962, 0.03269999846816063, 0.3580999970436096, 1.1397000551223755, 0.9108999967575073, 0.9925000071525574, 1.0530999898910522, 0.148499995470047, 0.6337000131607056, 0.06109999865293503, 0.5543000102043152, 0.1396999955177307, 0.1678999960422516, -0.2870999872684479, 0.4009999930858612, -0.5580000281333923, 0.5896999835968018, 0.1657000035047531, -0.05260000005364418, -0.4415000081062317, 0.6065999865531921, 0.021400000900030136, 0.20960000157356262, 0.022700000554323196, -0.04740000143647194, -0.08139999955892563, 1.9287999868392944, 1.9279999732971191, 1.9256000518798828, 1.9251999855041504, 1.9250999689102173, 1.9250999689102173, 1.9250999689102173, 1.9250999689102173, 1.9249999523162842, 1.9248000383377075, 1.9247000217437744, 1.922700047492981, 1.9211000204086304, 1.9199999570846558, 1.9190000295639038, 1.917799949645996, 1.917799949645996, 1.9176000356674194, 1.917199969291687, 1.917099952697754, 1.916700005531311, 1.916599988937378, 1.916599988937378, 1.916599988937378, 1.916100025177002, 1.9158999919891357, 1.9157999753952026, 1.9155999422073364, 1.9148999452590942, 1.9101999998092651, 1.9092999696731567, 1.9085999727249146, 1.8997000455856323, 1.8955999612808228, 1.8792999982833862, 1.9101999998092651, 1.847000002861023, 1.901900053024292, 1.8839999437332153, 1.7948999404907227, 1.6914000511169434, 1.5175000429153442, 1.6792999505996704, 1.3486000299453735, 1.5273000001907349, 1.7490999698638916, 1.1446000337600708, 1.364400029182434, 1.1291999816894531, 1.7211999893188477, 0.9642999768257141, 1.6576000452041626, 0.9351999759674072, 0.9817000031471252, 0.4142000079154968, 1.1663999557495117, 0.8895000219345093, 0.77920001745224, 1.2998000383377075, 1.1341999769210815, 1.010699987411499, 0.44679999351501465, 0.22660000622272491, 0.18459999561309814, 0.9025999903678894, 0.9958999752998352, 0.491100013256073, -0.050999999046325684, 0.738099992275238, 0.030799999833106995, 0.9569000005722046, 1.0595999956130981, -0.4781000018119812, 0.5270000100135803, 0.08569999784231186, 0.2551000118255615, -0.2809000015258789, 0.13600000739097595, 0.07699999958276749, -0.47540000081062317, 0.1543000042438507, -0.07500000298023224, 2.026599884033203, 2.024399995803833, 2.0241000652313232, 2.0239999294281006, 2.0239999294281006, 2.0237998962402344, 2.023400068283081, 2.0232999324798584, 2.0216000080108643, 2.020699977874756, 2.0206000804901123, 2.019399881362915, 2.0179998874664307, 2.0178000926971436, 2.0178000926971436, 2.017699956893921, 2.0172998905181885, 2.016900062561035, 2.016700029373169, 2.016700029373169, 2.0164999961853027, 2.0164999961853027, 2.016400098800659, 2.016400098800659, 2.016400098800659, 2.0162999629974365, 2.0162999629974365, 2.0160999298095703, 2.0160999298095703, 2.0160999298095703, 2.015199899673462, 2.014899969100952, 2.0136001110076904, 2.015000104904175, 2.0107998847961426, 1.9961999654769897, 1.9880000352859497, 1.989300012588501, 1.919600009918213, 1.9585000276565552, 1.9838000535964966, 1.9032000303268433, 1.8875999450683594, 1.760699987411499, 1.8614000082015991, 1.6757999658584595, 1.684999942779541, 1.0898000001907349, 1.2767000198364258, 1.2573000192642212, 1.3997999429702759, 1.6634000539779663, 0.7319999933242798, 0.6897000074386597, 1.3687000274658203, 1.2402000427246094, 1.6426000595092773, 1.6723999977111816, 0.8471999764442444, 0.989300012588501, 0.6811000108718872, 0.45019999146461487, 0.6583999991416931, 0.9330000281333923, 0.7875000238418579, 0.7407000064849854, 0.713100016117096, 1.2970999479293823, -0.04839999973773956, 1.2099000215530396, 0.320499986410141, 0.305400013923645, 0.6047999858856201, -0.41769999265670776, 0.21480000019073486, 0.11680000275373459, 0.6561999917030334, 0.31150001287460327, -0.670199990272522, -0.19670000672340393, -1.2762000560760498, 2.13100004196167, 2.1287999153137207, 2.128499984741211, 2.1270999908447266, 2.126199960708618, 2.123800039291382, 2.121500015258789, 2.1214001178741455, 2.1214001178741455, 2.1214001178741455, 2.1212000846862793, 2.1208999156951904, 2.1203999519348145, 2.120300054550171, 2.120300054550171, 2.1201000213623047, 2.1201000213623047, 2.119999885559082, 2.119999885559082, 2.119999885559082, 2.1198999881744385, 2.1198999881744385, 2.119499921798706, 2.11929988861084, 2.1191999912261963, 2.1189000606536865, 2.1187000274658203, 2.1185998916625977, 2.118000030517578, 2.110599994659424, 2.0794999599456787, 2.0759999752044678, 2.092400074005127, 2.022700071334839, 2.0129001140594482, 1.8007999658584595, 1.6345000267028809, 2.015399932861328, 1.851199984550476, 1.8425999879837036, 1.9807000160217285, 1.145900011062622, 1.3486000299453735, 1.4388999938964844, 1.395400047302246, 1.8913999795913696, 1.6131999492645264, 1.7999000549316406, 1.1651999950408936, 1.5377000570297241, 0.4952000081539154, 0.7175999879837036, 1.5355000495910645, 1.2710000276565552, 1.013800024986267, 1.291200041770935, 1.3514000177383423, 0.21469999849796295, 1.3940999507904053, 1.569200038909912, 0.10589999705553055, 0.9214000105857849, 0.4115000069141388, 0.5311999917030334, 0.18080000579357147, 0.1657000035047531, 0.6657999753952026, 0.9628999829292297, 0.18639999628067017, 0.5839999914169312, 0.9398999810218811, 0.2718000113964081, 0.13609999418258667, 0.39079999923706055, 0.18369999527931213, -1.1988999843597412, -0.9927999973297119, 0.39969998598098755, 2.242300033569336, 2.2402000427246094, 2.2392001152038574, 2.2390999794006348, 2.2390999794006348, 2.2390999794006348, 2.238800048828125, 2.2386999130249023, 2.2386999130249023, 2.236799955368042, 2.2353999614715576, 2.2344000339508057, 2.2318999767303467, 2.2316999435424805, 2.231600046157837, 2.2314000129699707, 2.2314000129699707, 2.2304999828338623, 2.2304999828338623, 2.230299949645996, 2.230299949645996, 2.2302000522613525, 2.2298998832702637, 2.2298998832702637, 2.229300022125244, 2.2286999225616455, 2.2276999950408936, 2.226300001144409, 2.224900007247925, 2.2228000164031982, 2.218600034713745, 2.145900011062622, 2.182800054550171, 2.0931999683380127, 2.198699951171875, 2.221299886703491, 2.0910000801086426, 2.139899969100952, 1.8162000179290771, 2.1389000415802, 1.832800030708313, 1.8746999502182007, 2.0471999645233154, 1.7254999876022339, 1.7410999536514282, 1.1145999431610107, 1.2344000339508057, 1.319100022315979, 1.0184999704360962, 0.6197999715805054, 1.6222000122070312, 1.108199954032898, 0.8747000098228455, 0.9207000136375427, 1.4648000001907349, 1.4586000442504883, 0.7967000007629395, 0.4357999861240387, 0.5859000086784363, 0.9223999977111816, 0.9138000011444092, 0.4115000069141388, 0.8108999729156494, 0.0754999965429306, 0.1404000073671341, 0.6176000237464905, 0.8306000232696533, 0.23109999299049377, 0.3221000134944916, 0.5238999724388123, -0.4731999933719635, 1.0027999877929688, -0.2069000005722046, 0.2727999985218048, -0.9275000095367432, -0.4722000062465668, 0.36719998717308044, 2.332200050354004, 2.3315999507904053, 2.3297998905181885, 2.3290998935699463, 2.3280999660491943, 2.323899984359741, 2.3238000869750977, 2.3236000537872314, 2.3232998847961426, 2.3231000900268555, 2.3227999210357666, 2.3222999572753906, 2.321899890899658, 2.3210999965667725, 2.321000099182129, 2.321000099182129, 2.321000099182129, 2.3208999633789062, 2.3208999633789062, 2.3208000659942627, 2.3208000659942627, 2.3208000659942627, 2.32069993019104, 2.3197999000549316, 2.318000078201294, 2.317500114440918, 2.316200017929077, 2.3115999698638916, 2.309299945831299, 2.3073999881744385, 2.3010001182556152, 2.3059000968933105, 2.2820000648498535, 2.196899890899658, 2.2592999935150146, 2.0378000736236572, 2.27810001373291, 2.2016000747680664, 2.1243999004364014, 2.2330000400543213, 1.8377000093460083, 1.9697999954223633, 1.6622999906539917, 1.4434000253677368, 1.3964999914169312, 1.360200047492981, 1.530900001525879, 1.3387999534606934, 0.6995000243186951, 0.6984000205993652, 0.9997000098228455, 0.6730999946594238, 1.106600046157837, 1.121999979019165, 0.8059999942779541, 1.388700008392334, 0.34860000014305115, 1.7591999769210815, 1.110200047492981, 1.4097000360488892, 1.2223999500274658, 0.1428000032901764, 1.6720000505447388, -0.31529998779296875, -0.2687000036239624, 1.1612000465393066, 0.7537000179290771, 0.44530001282691956, 0.5637999773025513, 0.08259999752044678, 0.11320000141859055, -0.2134000062942505, 0.5424000024795532, 0.004600000102072954, -0.3179999887943268, 2.3417000770568848, 2.340399980545044, 2.339600086212158, 2.339400053024292, 2.3392999172210693, 2.339099884033203, 2.339099884033203, 2.339099884033203, 2.339099884033203, 2.339099884033203, 2.339099884033203, 2.33870005607605, 2.3375000953674316, 2.3348000049591064, 2.3322999477386475, 2.332200050354004, 2.331199884414673, 2.331199884414673, 2.331199884414673, 2.330899953842163, 2.3306000232696533, 2.330399990081787, 2.3303000926971436, 2.3301000595092773, 2.3299999237060547, 2.329900026321411, 2.329900026321411, 2.329900026321411, 2.3297998905181885, 2.3297998905181885, 2.3262999057769775, 2.318700075149536, 2.329699993133545, 2.329200029373169, 2.2918999195098877, 2.308799982070923, 2.3187999725341797, 2.323199987411499, 2.3213999271392822, 2.320199966430664, 2.2679998874664307, 2.2616000175476074, 2.050100088119507, 2.1921000480651855, 2.102400064468384, 1.8097000122070312, 1.8907999992370605, 2.216200113296509, 1.9013999700546265, 1.437000036239624, 1.809399962425232, 1.3336999416351318, 0.6381999850273132, 1.860700011253357, 1.9955999851226807, 1.93340003490448, 1.8171000480651855, 0.805899977684021, 1.9555000066757202, 0.9296000003814697, 0.9765999913215637, 0.32440000772476196, 0.8252999782562256, 1.766800045967102, 1.5807000398635864, 0.7508999705314636, 0.5047000050544739, 0.6320000290870667, 0.8434000015258789, 0.4869000017642975, 0.5297999978065491, 0.7268000245094299, 0.2703000009059906, 0.3736000061035156, 0.008200000040233135, 0.9793000221252441, -0.5091999769210815, 0.018200000748038292, 0.21199999749660492, -0.5509999990463257, -0.7742000222206116, -0.4189000129699707, 2.552299976348877, 2.5499000549316406, 2.549499988555908, 2.549299955368042, 2.5478999614715576, 2.543600082397461, 2.5432000160217285, 2.5429999828338623, 2.5427000522613525, 2.54259991645813, 2.5425000190734863, 2.54229998588562, 2.5422000885009766, 2.5420000553131104, 2.5418999195098877, 2.541800022125244, 2.541800022125244, 2.541800022125244, 2.5416998863220215, 2.541599988937378, 2.5415000915527344, 2.5415000915527344, 2.5415000915527344, 2.5408999919891357, 2.5371999740600586, 2.5357000827789307, 2.5339999198913574, 2.5327000617980957, 2.532599925994873, 2.5316998958587646, 2.5264999866485596, 2.511199951171875, 2.4242000579833984, 2.4646999835968018, 2.4876999855041504, 2.497299909591675, 2.2084999084472656, 2.0725998878479004, 2.24429988861084, 1.7161999940872192, 1.2422000169754028, 1.5080000162124634, 1.774899959564209, 1.8743000030517578, 1.9219000339508057, 1.781999945640564, 1.648800015449524, 0.7279000282287598, 1.1360000371932983, 1.5081000328063965, 1.0333000421524048, 1.476199984550476, 0.8087000250816345, 1.0085999965667725, 0.018799999728798866, 1.3990000486373901, 1.7730000019073486, 0.421099990606308, 0.49540001153945923, 1.1385999917984009, 0.515999972820282, 1.343999981880188, -0.3398999869823456, 1.3219000101089478, 0.7846999764442444, -0.3894999921321869, 0.10909999907016754, -0.6230999827384949, -0.3783999979496002, 0.5098999738693237, 0.11320000141859055, 0.5418999791145325, -0.7103000283241272, 0.09300000220537186, 2.682499885559082, 2.679500102996826, 2.67930006980896, 2.67930006980896, 2.6791000366210938, 2.678999900817871, 2.6758999824523926, 2.6735999584198, 2.6735000610351562, 2.673099994659424, 2.672600030899048, 2.6723999977111816, 2.6721999645233154, 2.6721999645233154, 2.6719000339508057, 2.671799898147583, 2.671299934387207, 2.671299934387207, 2.671299934387207, 2.671099901199341, 2.6710000038146973, 2.6709001064300537, 2.670799970626831, 2.6707000732421875, 2.670599937438965, 2.666300058364868, 2.66510009765625, 2.66129994392395, 2.6612000465393066, 2.6591999530792236, 2.6530001163482666, 2.6038999557495117, 2.6563000679016113, 2.637700080871582, 2.656100034713745, 2.5764000415802, 2.6291000843048096, 2.3292999267578125, 2.4498000144958496, 2.5483999252319336, 2.39520001411438, 2.4235000610351562, 2.5896999835968018, 2.2269999980926514, 2.0754001140594482, 2.2541000843048096, 2.28629994392395, 2.365799903869629, 0.796999990940094, 1.704200029373169, 2.3429999351501465, 1.9678000211715698, 2.1322999000549316, 1.7201999425888062, 2.0111000537872314, 0.6523000001907349, 0.6848999857902527, 1.0958000421524048, 0.807200014591217, 0.8565000295639038, -0.1843000054359436, 0.656499981880188, 0.8866000175476074, 1.347100019454956, -0.3684000074863434, 0.8167999982833862, 1.2569999694824219, 0.3089999854564667, 0.0364999994635582, 1.080899953842163, 1.0351999998092651, -0.5461000204086304, 0.6827999949455261, 0.4065999984741211, 0.11829999834299088, -0.5084999799728394, 0.30379998683929443, -0.6230999827384949, 0.1590999960899353, 0.009999999776482582], \"logprob\": [30.0, 29.0, 28.0, 27.0, 26.0, 25.0, 24.0, 23.0, 22.0, 21.0, 20.0, 19.0, 18.0, 17.0, 16.0, 15.0, 14.0, 13.0, 12.0, 11.0, 10.0, 9.0, 8.0, 7.0, 6.0, 5.0, 4.0, 3.0, 2.0, 1.0, -5.972099781036377, -6.166500091552734, -5.926300048828125, -6.445499897003174, -6.714799880981445, -6.716300010681152, -6.6178998947143555, -6.532199859619141, -6.376999855041504, -7.026800155639648, -7.099400043487549, -7.178999900817871, -6.95989990234375, -7.178999900817871, -7.100200176239014, -6.8379998207092285, -7.027900218963623, -7.179100036621094, -7.178599834442139, -7.178599834442139, -7.263599872589111, -7.028500080108643, -7.263599872589111, -7.2631001472473145, -6.015699863433838, -7.263500213623047, -7.100800037384033, -7.179100036621094, -7.101600170135498, -7.264200210571289, -6.962500095367432, -5.6504998207092285, -6.841700077056885, -7.03000020980835, -6.684299945831299, -6.965000152587891, -5.748799800872803, -6.641300201416016, -6.79640007019043, -6.9721999168396, -7.036600112915039, -5.4197001457214355, -6.470799922943115, -5.604400157928467, -6.310500144958496, -6.605000019073486, -6.6066999435424805, -4.864799976348877, -5.6554999351501465, -5.82390022277832, -3.9030001163482666, -6.196000099182129, -6.021999835968018, -6.297399997711182, -3.089400053024292, -2.907399892807007, -6.474800109863281, -5.006199836730957, -6.209199905395508, -4.546899795532227, -5.577000141143799, -5.093100070953369, -4.46999979019165, -5.815999984741211, -3.931999921798706, -3.807800054550171, -4.462299823760986, -3.85479998588562, -4.3927001953125, -5.543700218200684, -5.231599807739258, -5.350900173187256, -5.439000129699707, -4.3649001121521, -4.990099906921387, -4.501699924468994, -5.034900188446045, -4.7382001876831055, -4.848400115966797, -4.580999851226807, -5.044600009918213, -4.490200042724609, -5.177999973297119, -4.9618000984191895, -4.928299903869629, -4.803800106048584, -5.23199987411499, -5.030700206756592, -5.096199989318848, -5.053800106048584, -5.045199871063232, -5.052599906921387, -5.110599994659424, -6.189799785614014, -6.560999870300293, -6.342599868774414, -6.611700057983398, -6.6118998527526855, -6.6118998527526855, -6.612199783325195, -6.611700057983398, -6.562099933624268, -6.562300205230713, -6.345300197601318, -6.5177001953125, -6.854700088500977, -6.8557000160217285, -7.15939998626709, -7.1595001220703125, -7.159299850463867, -7.075099945068359, -6.857500076293945, -7.075900077819824, -7.160200119018555, -7.076000213623047, -7.160299777984619, -7.076099872589111, -7.076399803161621, -7.160999774932861, -6.998600006103516, -6.9278998374938965, -6.864299774169922, -6.801599979400635, -6.865900039672852, -6.643099784851074, -6.596499919891357, -6.310500144958496, -7.0046000480651855, -5.834700107574463, -6.8730998039245605, -6.767300128936768, -6.025599956512451, -5.6367998123168945, -4.9756999015808105, -6.003600120544434, -4.824900150299072, -5.5278000831604, -6.324900150299072, -4.315800189971924, -5.045499801635742, -4.416600227355957, -6.254199981689453, -4.243199825286865, -6.134699821472168, -4.3668999671936035, -4.575200080871582, -3.4289000034332275, -5.098499774932861, -4.684599876403809, -4.499599933624268, -5.4583001136779785, -5.198599815368652, -5.00600004196167, -4.066699981689453, -3.7588000297546387, -3.7476000785827637, -4.959700107574463, -5.166800022125244, -4.5894999504089355, -3.938499927520752, -4.9243998527526855, -4.157100200653076, -5.191100120544434, -5.3196001052856445, -4.054999828338623, -4.9008002281188965, -4.664999961853027, -4.825500011444092, -4.643099784851074, -4.861800193786621, -4.903800010681152, -4.7692999839782715, -4.973199844360352, -4.9527997970581055, -5.984899997711182, -6.355899810791016, -6.30810022354126, -6.407599925994873, -6.308800220489502, -6.356800079345703, -6.309199810028076, -5.926599979400635, -5.649400234222412, -6.469299793243408, -6.14139986038208, -6.066800117492676, -5.964700222015381, -6.872300148010254, -6.8709001541137695, -6.719200134277344, -6.869900226593018, -6.870100021362305, -6.792200088500977, -6.792200088500977, -6.954899787902832, -6.957699775695801, -6.955399990081787, -6.87060022354126, -6.955900192260742, -6.8709001541137695, -6.872000217437744, -6.9552998542785645, -6.792799949645996, -6.871300220489502, -6.654200077056885, -6.654399871826172, -6.592700004577637, -6.794000148773193, -6.536099910736084, -6.130199909210205, -6.031700134277344, -6.392099857330322, -5.352799892425537, -6.001399993896484, -6.453800201416016, -6.02869987487793, -5.998199939727783, -5.184999942779541, -5.8805999755859375, -5.095799922943115, -5.360099792480469, -3.4237000942230225, -4.109499931335449, -4.072400093078613, -4.646200180053711, -5.56879997253418, -3.2000999450683594, -3.1979000568389893, -5.052199840545654, -4.827199935913086, -5.641300201416016, -5.698699951171875, -4.395599842071533, -4.642000198364258, -4.196800231933594, -3.912100076675415, -4.418099880218506, -4.984399795532227, -4.846799850463867, -4.81820011138916, -4.910999774932861, -5.422599792480469, -4.342299938201904, -5.373899936676025, -4.7600998878479, -4.775199890136719, -4.993000030517578, -4.40310001373291, -4.837299823760986, -4.88100004196167, -5.206099987030029, -5.116399765014648, -4.858099937438965, -5.072400093078613, -5.11929988861084, -5.841100215911865, -6.322400093078613, -6.418700218200684, -6.3221001625061035, -6.370699882507324, -5.764900207519531, -6.881400108337402, -6.96589994430542, -6.968999862670898, -6.970799922943115, -6.600800037384033, -6.664400100708008, -6.882199764251709, -6.966899871826172, -6.967299938201904, -6.967100143432617, -6.968100070953369, -6.969600200653076, -6.967599868774414, -6.968299865722656, -6.967199802398682, -6.967299938201904, -6.970300197601318, -6.8059000968933105, -6.9679999351501465, -6.805699825286865, -6.884799957275391, -6.884900093078613, -6.429999828338623, -6.551199913024902, -6.197000026702881, -6.325900077819824, -6.630499839782715, -5.944499969482422, -5.946800231933594, -4.733799934387207, -3.7973999977111816, -6.344200134277344, -5.528600215911865, -5.697999954223633, -6.333000183105469, -3.0420000553131104, -4.051000118255615, -4.4527997970581055, -4.3933000564575195, -6.1149001121521, -5.281000137329102, -5.889500141143799, -4.620299816131592, -5.4822001457214355, -3.347899913787842, -3.8452000617980957, -5.5177001953125, -5.063700199127197, -4.632199764251709, -5.1132001876831055, -5.30210018157959, -3.672800064086914, -5.422599792480469, -5.67080020904541, -3.879499912261963, -4.893700122833252, -4.339300155639648, -4.485000133514404, -4.113100051879883, -4.196599960327148, -4.738900184631348, -5.0858001708984375, -4.503200054168701, -4.889200210571289, -5.184999942779541, -4.8557000160217285, -4.861700057983398, -5.0995001792907715, -5.059100151062012, -4.7758002281188965, -4.925000190734863, -5.131100177764893, -5.9182000160217285, -6.241199970245361, -6.339799880981445, -6.342100143432617, -6.152699947357178, -6.340799808502197, -6.340400218963623, -6.242499828338623, -6.196800231933594, -6.198699951171875, -5.511600017547607, -5.963900089263916, -6.724400043487549, -6.803400039672852, -6.887700080871582, -6.802800178527832, -6.724800109863281, -6.803699970245361, -6.803699970245361, -6.8902997970581055, -6.889400005340576, -6.888400077819824, -6.888500213623047, -6.888599872589111, -6.890500068664551, -6.587500095367432, -6.080900192260742, -6.80709981918335, -6.809800148010254, -6.810699939727783, -6.4741997718811035, -5.472400188446045, -6.254300117492676, -5.209000110626221, -6.616399765014648, -6.811600208282471, -5.87470006942749, -6.343400001525879, -4.809199810028076, -6.38670015335083, -5.041299819946289, -5.247399806976318, -6.049499988555908, -4.9359002113342285, -5.091300010681152, -3.8661000728607178, -4.29640007019043, -4.598299980163574, -3.99780011177063, -3.365600109100342, -5.425099849700928, -4.559299945831299, -4.205900192260742, -4.286799907684326, -5.181000232696533, -5.240900039672852, -4.3308000564575195, -3.8582000732421875, -4.16480016708374, -4.5995001792907715, -4.684000015258789, -4.151299953460693, -4.593900203704834, -3.812000036239624, -4.047500133514404, -4.5391998291015625, -4.793300151824951, -4.458499908447266, -4.649099826812744, -4.778200149536133, -4.405399799346924, -5.013899803161621, -4.720399856567383, -4.862199783325195, -4.770599842071533, -4.834499835968018, -5.009799957275391, -5.783699989318848, -5.716400146484375, -6.07289981842041, -6.17140007019043, -6.074900150299072, -6.351500034332275, -6.1828999519348145, -6.482900142669678, -6.033899784088135, -6.5559000968933105, -5.990799903869629, -6.634900093078613, -6.484799861907959, -6.719900131225586, -6.720099925994873, -6.354599952697754, -6.719900131225586, -6.636199951171875, -6.720799922943115, -6.6356000900268555, -6.720099925994873, -6.720099925994873, -6.722099781036377, -6.486299991607666, -6.298600196838379, -6.560299873352051, -6.244100093841553, -6.495299816131592, -6.093999862670898, -6.571599960327148, -5.434899806976318, -6.057499885559082, -6.073500156402588, -5.38730001449585, -6.145599842071533, -4.334000110626221, -6.335000038146973, -5.762700080871582, -5.5543999671936035, -6.276599884033203, -4.885499954223633, -5.4475998878479, -4.539100170135498, -3.9335999488830566, -4.049099922180176, -3.9686999320983887, -4.41379976272583, -4.275400161743164, -2.8773999214172363, -3.233799934387207, -3.9714999198913574, -3.889699935913086, -4.539400100708008, -4.622000217437744, -4.270400047302246, -5.029799938201904, -3.9453001022338867, -5.504899978637695, -4.844600200653076, -5.227700233459473, -5.113100051879883, -4.219399929046631, -5.502799987792969, -4.202899932861328, -4.2540998458862305, -5.182199954986572, -5.014100074768066, -4.940899848937988, -5.025400161743164, -4.915200233459473, -4.938899993896484, -4.9029998779296875, -5.0553998947143555, -4.976200103759766, -5.068699836730957, -5.781700134277344, -5.783400058746338, -6.217800140380859, -6.170400142669678, -5.923799991607666, -6.268499851226807, -6.268599987030029, -6.268700122833252, -6.268899917602539, -6.268899917602539, -6.269599914550781, -6.218599796295166, -6.041200160980225, -5.39709997177124, -6.579999923706055, -5.855999946594238, -6.815899848937988, -6.815999984741211, -6.815899848937988, -6.731800079345703, -6.582900047302246, -6.817399978637695, -6.655600070953369, -6.81689977645874, -6.8171000480651855, -6.817200183868408, -6.8171000480651855, -6.732699871063232, -6.732999801635742, -6.817699909210205, -5.705100059509277, -5.499199867248535, -6.654900074005127, -6.73330020904541, -4.712500095367432, -6.068299770355225, -6.401400089263916, -6.588900089263916, -6.5894999504089355, -6.591100215911865, -5.954599857330322, -5.989799976348877, -4.97130012512207, -5.861800193786621, -5.400700092315674, -4.099400043487549, -4.799699783325195, -6.147799968719482, -5.2459001541137695, -3.8926000595092773, -5.117199897766113, -4.139500141143799, -2.938800096511841, -5.375199794769287, -5.663899898529053, -5.59119987487793, -5.501800060272217, -4.069799900054932, -5.723999977111816, -4.477799892425537, -4.582200050354004, -3.9695000648498535, -4.602499961853027, -5.529699802398682, -5.360499858856201, -4.635300159454346, -4.547399997711182, -4.673799991607666, -4.838699817657471, -4.593699932098389, -4.7129998207092285, -4.870999813079834, -4.607600212097168, -4.706999778747559, -4.554599761962891, -5.088099956512451, -4.441400051116943, -4.671500205993652, -4.759099960327148, -4.536499977111816, -4.661799907684326, -4.781199932098389, -5.4440999031066895, -5.755899906158447, -5.899899959564209, -5.802199840545654, -5.713900089263916, -5.808000087738037, -6.211599826812744, -6.362299919128418, -6.362500190734863, -6.4492998123168945, -6.285099983215332, -6.212699890136719, -6.3632001876831055, -5.908299922943115, -6.4481000900268555, -6.447999954223633, -6.4481000900268555, -6.44789981842041, -6.4481000900268555, -6.4481000900268555, -6.448200225830078, -6.448200225830078, -6.364500045776367, -6.286499977111816, -5.401000022888184, -6.088799953460693, -5.772299766540527, -5.729899883270264, -6.373300075531006, -6.563399791717529, -5.655200004577637, -5.668300151824951, -5.155300140380859, -5.6803998947143555, -6.080900192260742, -6.191999912261963, -4.991399765014648, -4.958199977874756, -5.547699928283691, -4.17549991607666, -3.447499990463257, -4.065999984741211, -4.841300010681152, -5.1203999519348145, -5.223700046539307, -5.035399913787842, -4.851399898529053, -3.634399890899658, -4.271399974822998, -4.824699878692627, -4.272500038146973, -4.861599922180176, -4.2434000968933105, -4.58050012588501, -3.824199914932251, -4.935699939727783, -5.238100051879883, -4.329599857330322, -4.380300045013428, -4.872499942779541, -4.564599990844727, -5.035200119018555, -4.227399826049805, -5.087399959564209, -4.839399814605713, -4.321599960327148, -4.768700122833252, -4.60860013961792, -4.672299861907959, -4.894899845123291, -4.857900142669678, -4.918499946594238, -4.898200035095215, -4.987599849700928, -5.451099872589111, -5.740799903869629, -5.838699817657471, -5.838900089263916, -5.839099884033203, -5.7895002365112305, -5.791999816894531, -5.746399879455566, -5.700900077819824, -6.150400161743164, -6.223400115966797, -6.151299953460693, -6.386300086975098, -6.301400184631348, -6.151700019836426, -6.38730001449585, -6.38700008392334, -6.021500110626221, -6.3028998374938965, -6.303599834442139, -6.38730001449585, -6.302800178527832, -6.387599945068359, -6.387499809265137, -6.152900218963623, -5.9670000076293945, -6.158899784088135, -5.97189998626709, -6.233500003814697, -6.237400054931641, -6.0391998291015625, -5.1981000900268555, -6.238500118255615, -6.054699897766113, -6.238999843597412, -5.570300102233887, -6.0015997886657715, -3.7643001079559326, -4.805500030517578, -5.702499866485596, -4.982500076293945, -5.492700099945068, -6.04610013961792, -5.073200225830078, -4.7835001945495605, -5.254300117492676, -5.393199920654297, -5.583899974822998, -2.779900074005127, -4.4375, -5.634799957275391, -5.125999927520752, -5.413000106811523, -5.020299911499023, -5.398200035095215, -4.223400115966797, -4.391600131988525, -4.76639986038208, -4.600299835205078, -4.633800029754639, -4.027400016784668, -4.551000118255615, -4.744699954986572, -5.009799957275391, -4.300600051879883, -4.8653998374938965, -5.078499794006348, -4.688799858093262, -4.653200149536133, -5.0447001457214355, -5.032599925994873, -4.531499862670898, -4.963200092315674, -4.895500183105469, -4.85290002822876, -4.870699882507324, -4.974899768829346, -4.917099952697754, -4.997700214385986, -5.006199836730957]}, \"token.table\": {\"Topic\": [5, 2, 3, 4, 8, 9, 9, 8, 7, 3, 3, 4, 2, 3, 5, 7, 7, 1, 4, 6, 7, 2, 1, 2, 3, 4, 5, 8, 9, 1, 2, 3, 4, 5, 6, 8, 9, 1, 2, 8, 7, 1, 2, 3, 4, 5, 6, 7, 9, 9, 2, 5, 3, 6, 3, 3, 1, 2, 3, 4, 8, 9, 1, 2, 7, 8, 3, 3, 5, 1, 2, 3, 4, 5, 6, 7, 8, 9, 1, 1, 2, 3, 4, 5, 6, 7, 8, 9, 2, 3, 4, 5, 7, 8, 1, 2, 3, 4, 5, 6, 7, 1, 2, 3, 4, 5, 6, 7, 5, 1, 2, 3, 4, 5, 6, 7, 1, 4, 9, 1, 2, 3, 4, 6, 7, 1, 7, 2, 2, 4, 5, 6, 8, 1, 1, 2, 3, 4, 5, 6, 8, 9, 4, 1, 3, 4, 1, 2, 3, 5, 7, 8, 9, 7, 2, 7, 2, 3, 9, 3, 3, 2, 5, 6, 4, 3, 7, 8, 8, 1, 2, 3, 4, 5, 6, 7, 8, 9, 7, 1, 2, 3, 4, 5, 6, 7, 9, 3, 1, 4, 7, 7, 2, 6, 6, 9, 3, 4, 7, 4, 6, 2, 3, 5, 7, 9, 6, 2, 8, 9, 1, 2, 3, 4, 5, 6, 7, 8, 9, 6, 7, 2, 5, 2, 3, 6, 9, 3, 1, 5, 4, 7, 1, 3, 6, 9, 6, 4, 2, 7, 3, 1, 9, 2, 3, 8, 4, 9, 2, 3, 4, 8, 4, 1, 4, 1, 2, 3, 4, 5, 6, 7, 8, 9, 1, 2, 3, 4, 5, 6, 7, 8, 9, 2, 9, 1, 2, 3, 5, 1, 2, 3, 4, 6, 7, 9, 7, 3, 4, 7, 6, 1, 2, 3, 4, 5, 6, 7, 8, 9, 1, 5, 2, 9, 4, 2, 3, 7, 5, 8, 5, 6, 8, 1, 3, 5, 5, 2, 3, 3, 2, 6, 1, 2, 4, 6, 7, 3, 6, 8, 1, 2, 3, 4, 5, 6, 7, 8, 9, 9, 1, 2, 4, 8, 6, 2, 6, 9, 1, 8, 7, 1, 2, 3, 4, 7, 8, 9, 6, 2, 7, 2, 3, 4, 1, 4, 6, 7, 5, 2, 1, 2, 3, 4, 5, 6, 7, 8, 9, 6, 4, 1, 1, 2, 3, 4, 5, 6, 7, 8, 9, 3, 5, 1, 2, 3, 4, 5, 6, 7, 8, 3, 4, 7, 1, 2, 3, 4, 5, 6, 7, 8, 9, 3, 7, 5, 4, 4, 1, 8, 2, 1, 6, 1, 2, 3, 4, 5, 6, 7, 8, 1, 2, 3, 4, 5, 6, 7, 8, 9, 1, 2, 4, 5, 6, 8, 3, 1, 2, 3, 4, 5, 7, 8, 9, 1, 2, 3, 4, 5, 6, 7, 8, 9, 1, 3, 4, 1, 2, 3, 4, 5, 6, 7, 8, 9, 1, 2, 4, 5, 6, 7, 8, 9, 8, 5, 9, 1, 2, 5, 7, 9, 7, 4, 7, 8, 5, 9, 4, 3, 1, 1, 2, 3, 4, 5, 6, 7, 8, 9, 2, 1, 6, 4, 7, 2, 2, 2, 3, 9, 2, 7, 3, 7, 2, 9, 1, 2, 3, 4, 5, 6, 7, 9, 3, 7, 1, 6, 4, 6, 2, 4, 5, 7, 8, 2, 3, 4, 5, 9, 1, 3, 6, 4, 1, 3, 7, 8, 9, 1, 2, 4, 7, 4, 3, 1, 2, 4, 5, 6, 7, 9, 6, 9, 1, 2, 3, 4, 5, 6, 7, 8, 9, 1, 2, 3, 5, 6, 7, 9, 1, 1, 2, 4, 9, 1, 2, 3, 4, 5, 7, 8, 9, 8, 1, 7, 8, 9, 8, 1, 2, 3, 6, 9, 6, 1, 3, 7, 5, 1, 2, 3, 4, 5, 6, 7, 8, 9, 3, 5, 1, 2, 3, 4, 8, 9, 8, 6, 6, 8, 3, 7, 5, 9, 4, 8, 4, 4, 8, 2, 3, 4, 6, 7, 9, 7, 2, 3, 4, 5, 7, 8, 9, 3, 4, 7, 8, 5, 2, 5, 7, 1, 3, 8, 9, 1, 8, 4, 7, 8, 1, 2, 4, 8, 1, 2, 3, 4, 5, 7, 9, 8, 1, 3, 5, 7, 8, 6, 1, 1, 2, 3, 4, 5, 6, 7, 8, 9, 8, 1, 7, 1, 2, 3, 5, 6, 7, 8, 9, 1, 8, 5, 1, 2, 3, 4, 5, 6, 7, 8, 9, 1, 2, 7, 8, 3, 4, 5, 6, 9, 2, 5, 1, 2, 3, 4, 5, 6, 7, 8, 9, 6, 1, 3, 1, 2, 3, 4, 5, 6, 7, 8, 9, 6, 2, 1, 2, 3, 4, 6, 7, 8, 9, 2, 1, 2, 4, 5, 6, 7, 9, 5, 9, 3, 1, 6, 1, 2, 3, 4, 5, 6, 7, 8, 9, 4, 7, 9, 1, 2, 3, 4, 5, 6, 1, 2, 3, 4, 5, 7, 8, 9, 6, 1, 2, 1, 7, 1, 8, 3, 5, 8, 2, 4, 9, 3, 7, 1, 2, 3, 4, 5, 6, 7, 8, 1, 3, 4, 7, 8, 1, 2, 2, 8, 9, 1, 2, 4, 5, 7, 8, 9, 1, 2, 3, 4, 5, 7, 9, 9, 8, 3, 7, 4, 1, 2, 1, 3, 6, 5, 1, 4, 5, 8, 6, 1, 2, 4, 5, 6, 7, 8, 9, 4, 1, 2, 3, 4, 6, 7, 8, 9, 8, 8, 1, 2, 3, 4, 5, 6, 7, 8, 9, 2, 9, 1, 2, 4, 5, 6, 8, 9, 1, 2, 3, 4, 5, 6, 7, 8, 9, 1, 2, 3, 1, 2, 3, 4, 5, 6, 7, 8, 9, 3, 8, 5, 8, 5, 2, 7, 1, 2, 3, 4, 5, 7, 9, 8, 3, 9, 5, 1, 1, 5, 6, 7, 9, 9, 3, 9, 8, 6, 1, 2, 3, 4, 7, 8, 9, 5, 1, 6, 1, 2, 3, 4, 5, 6, 8, 7, 1, 2, 5, 6, 2, 6, 2, 3, 4, 5, 6, 8, 9, 1, 2, 3, 4, 5, 6, 7, 8, 9, 1, 2, 3, 4, 6, 7, 3, 7, 4, 4, 3, 1, 2, 3, 4, 5, 6, 7, 8, 9, 2, 5, 3, 1, 2, 3, 4, 5, 6, 7, 8, 9, 6, 6, 4, 8, 1, 2, 4, 6, 7, 9, 5, 4, 5, 1, 2, 3, 4, 5, 6, 7, 8, 9, 1, 3, 4, 7, 8, 9, 3, 1, 1, 2, 3, 4, 5, 6, 7, 8, 9, 1, 2, 3, 4, 5, 6, 7, 8, 9, 1, 2, 3, 4, 5, 6, 7, 8, 9, 1, 6, 1, 2, 3, 4, 5, 6, 7, 8, 9, 2, 7, 6, 4, 3, 1, 6, 7, 9, 9, 1, 3, 4, 5, 6, 7, 8, 9, 9, 1, 2, 3, 4, 6, 9, 8, 7, 1, 7, 8, 9, 4, 9, 1, 2, 3, 4, 5, 6, 7, 8, 9, 7, 9, 1, 3, 4, 5, 6, 7, 9, 1, 1, 2, 3, 4, 5, 6, 7, 9, 7, 1, 2, 3, 4, 5, 6, 7, 8, 9, 5, 1, 1, 2, 3, 4, 5, 6, 7, 8, 9, 3, 7, 8, 1, 2, 3, 4, 5, 6, 7, 8, 9, 7, 1, 2, 3, 4, 5, 6, 7, 8, 9, 4, 2, 5, 1, 2, 3, 5, 8, 9, 1, 2, 3, 4, 5, 6, 7, 8, 9, 3, 1, 2, 3, 4, 5, 6, 7, 8, 9, 6, 6, 1, 2, 3, 5, 6, 9, 1, 2, 3, 4, 5, 6, 7, 8, 9, 3, 4, 5, 7, 1, 2, 1, 2, 3, 4, 5, 6, 7, 9, 1, 1, 2, 3, 4, 5, 6, 7, 8, 9, 7, 4, 8, 1, 1, 2, 4, 7, 5, 5, 1, 2, 3, 4, 5, 6, 7, 8, 9, 7, 1, 2, 3, 5, 6, 9, 3, 7, 1, 2, 1, 2, 3, 4, 5, 6, 7, 8, 9, 3, 5, 9, 9, 1, 2, 3, 4, 5, 6, 7, 8, 9, 5, 6, 8, 7, 4, 9, 3, 7, 3, 9, 1, 2, 3, 7, 6, 1, 2, 1, 3, 5, 7, 4, 2, 2, 3, 4, 9, 1, 2, 4, 5, 6, 9, 1, 2, 3, 4, 5, 6, 7, 8, 9, 1, 2, 3, 4, 5, 7, 8, 5, 9, 2, 1, 2, 3, 4, 5, 6, 7, 9, 1, 2, 3, 4, 5, 7, 8, 9, 2, 3, 5, 8, 1, 2, 1, 2, 3, 4, 5, 6, 7, 8, 9, 1, 4, 5, 7, 1, 4, 3, 7, 9, 9, 8, 7, 1, 2, 3, 4, 5, 7, 9, 2, 6, 9, 5, 1, 3, 4, 5, 2, 2, 3, 2, 1, 2, 3, 4, 5, 6, 7, 9, 1, 7, 6, 2, 3, 9, 4, 5, 1, 2, 3, 4, 7, 8, 9, 1, 2, 4, 5, 6, 8, 9, 9, 3, 6, 9, 1, 2, 4, 5, 6, 7, 8, 9, 6, 7, 9, 2, 3, 4, 7, 8, 7, 8, 6, 5, 5, 1, 2, 3, 4, 5, 7, 1, 2, 3, 4, 5, 6, 7, 9, 1, 2, 3, 4, 5, 6, 7, 2, 7, 3, 4, 1, 2, 3, 6, 7, 8, 9, 1, 5, 7, 1, 4, 7, 2, 1, 2, 3, 4, 5, 6, 7, 8, 9, 1, 6, 8, 1, 2, 9, 7, 1, 3, 4, 5, 7, 8, 9, 1, 2, 4, 8, 1, 2, 4, 8, 9, 1, 2, 6, 7, 8, 9], \"Freq\": [0.940189003944397, 0.16210037469863892, 0.21613383293151855, 0.05403345823287964, 0.45928439497947693, 0.1350836455821991, 0.9754917621612549, 0.9791576266288757, 0.9335212111473083, 0.9572743773460388, 0.1395210325717926, 0.9068867564201355, 0.9798027873039246, 1.0248051881790161, 1.0206549167633057, 1.0510972738265991, 1.014620065689087, 0.4434207081794739, 0.055427588522434235, 0.3048517405986786, 0.1662827581167221, 0.9454864859580994, 0.059968002140522, 0.39978668093681335, 0.009994667023420334, 0.2098880112171173, 0.28984534740448, 0.009994667023420334, 0.019989334046840668, 0.05339912697672844, 0.3782438039779663, 0.0622989796102047, 0.017799708992242813, 0.26254570484161377, 0.04894920065999031, 0.040049344301223755, 0.12904788553714752, 0.14116336405277252, 0.6775841116905212, 0.1976287066936493, 0.9448928833007812, 0.06873518228530884, 0.0824822187423706, 0.12372332811355591, 0.06873518228530884, 0.0412411093711853, 0.3299288749694824, 0.0412411093711853, 0.23369961977005005, 0.8901335597038269, 0.04958272725343704, 0.8924890756607056, 0.95613032579422, 1.0285286903381348, 0.9105605483055115, 0.9500906467437744, 0.1409005969762802, 0.028180118650197983, 0.08454035222530365, 0.5354222655296326, 0.028180118650197983, 0.19726082682609558, 0.9690402150154114, 0.9938794374465942, 0.8362107872962952, 0.1045263484120369, 0.9619577527046204, 0.9593520164489746, 0.8898441791534424, 0.1947852075099945, 0.07350385189056396, 0.05880308523774147, 0.2021355926990509, 0.29034021496772766, 0.08085423707962036, 0.003675192827358842, 0.025726350024342537, 0.06982865929603577, 1.0284593105316162, 0.03590061888098717, 0.008975154720246792, 0.1615527868270874, 0.017950309440493584, 0.017950309440493584, 0.08975154906511307, 0.5833850502967834, 0.0269254632294178, 0.06282608211040497, 0.1447986662387848, 0.3348469138145447, 0.0723993331193924, 0.3981963098049164, 0.0452495813369751, 0.00904991663992405, 0.026297904551029205, 0.03944685682654381, 0.23668113350868225, 0.06574475765228271, 0.26297903060913086, 0.1643618941307068, 0.19723427295684814, 0.31040534377098083, 0.0877232477068901, 0.07422736287117004, 0.16195060312747955, 0.24292591214179993, 0.04723559319972992, 0.07422736287117004, 0.942087709903717, 0.1762252002954483, 0.1973722130060196, 0.0493430532515049, 0.0493430532515049, 0.3172053396701813, 0.16917619109153748, 0.03524503856897354, 0.09576757997274399, 0.9576758146286011, 0.9934085607528687, 0.016095520928502083, 0.659916341304779, 0.12876416742801666, 0.0482865646481514, 0.032191041857004166, 0.12876416742801666, 0.9518902897834778, 0.9151871204376221, 0.9495792984962463, 0.22596575319766998, 0.022596575319767, 0.6101075410842896, 0.11298287659883499, 0.022596575319767, 1.0605041980743408, 0.1269070953130722, 0.1903606355190277, 0.07138524204492569, 0.3807212710380554, 0.055521853268146515, 0.08724862337112427, 0.015863386914134026, 0.07138524204492569, 1.0782465934753418, 0.033700138330459595, 0.7077028751373291, 0.26960110664367676, 0.07708065211772919, 0.3597097098827362, 0.24837099015712738, 0.00856451690196991, 0.05138710141181946, 0.04282258450984955, 0.20554840564727783, 0.9673627614974976, 0.22093556821346283, 0.7953680157661438, 0.07016663998365402, 0.8770830035209656, 0.9960793256759644, 1.0128530263900757, 1.0125588178634644, 0.7790957093238831, 0.037099793553352356, 0.14839917421340942, 1.0775344371795654, 0.3162848949432373, 0.685283899307251, 0.9771723747253418, 0.9436814785003662, 0.023616855964064598, 0.135796919465065, 0.06494635343551636, 0.17122219502925873, 0.047233711928129196, 0.1417011320590973, 0.135796919465065, 0.11218006163835526, 0.15941376984119415, 0.9530635476112366, 0.21937182545661926, 0.1523415446281433, 0.12187323719263077, 0.08531127125024796, 0.2681211233139038, 0.07312394678592682, 0.07921760529279709, 0.006093661766499281, 0.9000447392463684, 0.10406322032213211, 0.8325057625770569, 0.9042415022850037, 0.9545994997024536, 1.066030502319336, 0.978427529335022, 1.0283375978469849, 1.016007423400879, 0.27088645100593567, 0.045147743076086044, 0.677216112613678, 0.913767397403717, 0.07028979808092117, 0.16914701461791992, 0.033829402178525925, 0.16914701461791992, 0.6089292764663696, 0.033829402178525925, 0.9990741610527039, 0.1724453717470169, 0.03448907285928726, 0.79324871301651, 0.12315253168344498, 0.08924096077680588, 0.12493734806776047, 0.14100071787834167, 0.16241855919361115, 0.1374310851097107, 0.13207662105560303, 0.053544577211141586, 0.03569638356566429, 1.0302975177764893, 0.9732859134674072, 1.03507399559021, 0.8889932632446289, 0.03872491791844368, 0.697048544883728, 0.07744983583688736, 0.15489967167377472, 0.9786394834518433, 0.8233535885810852, 0.13722559809684753, 1.0797051191329956, 0.9860690236091614, 0.08385203778743744, 0.6987670063972473, 0.027950679883360863, 0.13975340127944946, 1.0283870697021484, 1.0771037340164185, 0.767153263092041, 0.23604716360569, 1.058343768119812, 1.060874581336975, 1.04720938205719, 0.8980799913406372, 0.05282823368906975, 0.05282823368906975, 0.9746713638305664, 0.9614900946617126, 0.41650816798210144, 0.028724700212478638, 0.25852230191230774, 0.3016093671321869, 1.0772453546524048, 0.8239611387252808, 0.1647922247648239, 0.1930657923221588, 0.16841909289360046, 0.09037122130393982, 0.1560957431793213, 0.23414361476898193, 0.06161674112081528, 0.06983230262994766, 0.012323347851634026, 0.012323347851634026, 0.16784845292568207, 0.09368285536766052, 0.2537243962287903, 0.015613810159265995, 0.05464833602309227, 0.21468988060951233, 0.035131070762872696, 0.03122762031853199, 0.13662083446979523, 1.01223886013031, 0.8888269066810608, 0.9205734133720398, 0.04383682832121849, 0.9601492285728455, 1.022002100944519, 0.17005367577075958, 0.07557941228151321, 0.11336912214756012, 0.4534764885902405, 0.018894853070378304, 0.03778970614075661, 0.11336912214756012, 0.914827823638916, 0.6743173003196716, 0.07098076492547989, 0.2484326809644699, 1.0495858192443848, 0.10974860936403275, 0.23517559468746185, 0.1763816922903061, 0.09798983484506607, 0.06271349638700485, 0.023517560213804245, 0.15678372979164124, 0.1293465793132782, 0.007839187048375607, 0.7975575923919678, 0.19938939809799194, 0.09334459900856018, 0.8401013612747192, 1.0771063566207886, 0.05611272528767586, 0.8416908383369446, 0.05611272528767586, 1.036765217781067, 0.9581124782562256, 0.1401674896478653, 0.8410049080848694, 1.0255051851272583, 0.8660897612571716, 0.07217414677143097, 0.9845579266548157, 1.0376379489898682, 1.0660549402236938, 1.0130572319030762, 0.932262122631073, 0.12090469896793365, 0.8463329076766968, 0.18232272565364838, 0.02025808021426201, 0.02025808021426201, 0.607742428779602, 0.14180655777454376, 0.0557699091732502, 0.9480884671211243, 0.9559612274169922, 0.3206632733345032, 0.08975085616111755, 0.011327777989208698, 0.035726070404052734, 0.013070513494312763, 0.19431497156620026, 0.18037308752536774, 0.004356837831437588, 0.15074658393859863, 0.9754185080528259, 0.06526092439889908, 0.03263046219944954, 0.19578276574611664, 0.7178701162338257, 0.9458380937576294, 0.03898091986775398, 0.19490459561347961, 0.740637481212616, 0.9563867449760437, 1.0322215557098389, 0.933759331703186, 0.02313292771577835, 0.39325976371765137, 0.2775951325893402, 0.1387975662946701, 0.08096524327993393, 0.06939878314733505, 0.011566463857889175, 1.0284370183944702, 0.7795872688293457, 0.14174313843250275, 0.7934626340866089, 0.052897509187459946, 0.15869252383708954, 0.10534742474555969, 0.052673712372779846, 0.7901057004928589, 0.052673712372779846, 1.016520619392395, 0.9795264601707458, 0.1551474779844284, 0.16597172617912292, 0.1479313224554062, 0.13349899649620056, 0.09741818904876709, 0.1046343520283699, 0.0505131334066391, 0.0505131334066391, 0.09381010383367538, 0.9343206286430359, 1.0770310163497925, 0.9843230843544006, 0.14848501980304718, 0.15523433685302734, 0.2699727416038513, 0.013498637825250626, 0.013498637825250626, 0.07424250990152359, 0.1282370537519455, 0.16873297095298767, 0.04049591347575188, 0.9070279002189636, 0.06977137178182602, 0.07795942574739456, 0.2004670947790146, 0.1336447298526764, 0.3007006347179413, 0.05568530410528183, 0.022274121642112732, 0.1002335473895073, 0.11137060821056366, 0.21671591699123383, 0.1238376647233963, 0.6501477360725403, 0.09447085857391357, 0.1740252673625946, 0.2722252309322357, 0.04350631684064865, 0.06588099151849747, 0.19391386210918427, 0.057179730385541916, 0.0522075779736042, 0.04723542928695679, 0.9928406476974487, 0.9147881269454956, 0.944917619228363, 0.9906425476074219, 0.8979002833366394, 0.9564253687858582, 0.9770962595939636, 0.9999003410339355, 0.9552972316741943, 1.0495502948760986, 0.4666844308376312, 0.07967782765626907, 0.011382547207176685, 0.03414764255285263, 0.07967782765626907, 0.20488585531711578, 0.05691273510456085, 0.06829528510570526, 0.13929855823516846, 0.07545338571071625, 0.034824639558792114, 0.20894783735275269, 0.04643285274505615, 0.11608213186264038, 0.3598546087741852, 0.011608213186264038, 0.005804106593132019, 0.08880143612623215, 0.13320215046405792, 0.08880143612623215, 0.3108050227165222, 0.07400119304656982, 0.2960047721862793, 1.0286046266555786, 0.06437844038009644, 0.18598215281963348, 0.14306320250034332, 0.06437844038009644, 0.06437844038009644, 0.2217479646205902, 0.1072973981499672, 0.15021635591983795, 0.1966506540775299, 0.1809186041355133, 0.0865262821316719, 0.13110043108463287, 0.1953396499156952, 0.07341624051332474, 0.0550621822476387, 0.041952136904001236, 0.0393301285803318, 0.6279560923576355, 0.3453758656978607, 1.080574870109558, 0.3959057629108429, 0.10037047415971756, 0.1449795812368393, 0.005576137453317642, 0.1059466153383255, 0.08921819925308228, 0.11709889024496078, 0.005576137453317642, 0.03345682471990585, 0.013710345141589642, 0.45244139432907104, 0.054841380566358566, 0.013710345141589642, 0.06855172663927078, 0.013710345141589642, 0.35646897554397583, 0.027420690283179283, 0.9771761894226074, 0.8901939988136292, 0.9930622577667236, 0.23477740585803986, 0.11738870292901993, 0.029347175732254982, 0.0880415290594101, 0.49890199303627014, 0.914984405040741, 0.09074068069458008, 0.9074068069458008, 0.8980084657669067, 1.0214425325393677, 0.9951416254043579, 1.0043030977249146, 0.967136800289154, 0.9218900203704834, 0.09545755386352539, 0.02727358601987362, 0.28637266159057617, 0.09545755386352539, 0.1295495331287384, 0.13636793196201324, 0.11591274291276932, 0.01363679300993681, 0.10227594524621964, 1.065947413444519, 0.8899791836738586, 0.9401455521583557, 0.15330789983272552, 0.8431934714317322, 0.9937923550605774, 0.945572018623352, 0.8603229522705078, 0.15642234683036804, 1.0675711631774902, 0.9455500245094299, 0.9149277806282043, 0.09339012950658798, 0.933901309967041, 0.994391143321991, 1.0465061664581299, 0.11949954181909561, 0.059749770909547806, 0.10456210374832153, 0.13443699479103088, 0.14937442541122437, 0.3883735239505768, 0.014937442727386951, 0.029874885454773903, 1.0582188367843628, 1.0510179996490479, 0.9551374912261963, 0.9787081480026245, 0.7421837449073792, 0.2343738079071045, 0.018370825797319412, 0.1469666063785553, 0.6429789066314697, 0.1469666063785553, 0.036741651594638824, 0.08811275660991669, 0.44056379795074463, 0.15860296785831451, 0.14098040759563446, 0.15860296785831451, 0.9219881296157837, 0.2433542013168335, 0.68950355052948, 0.9897658228874207, 0.9559417366981506, 0.1241481602191925, 0.5710815191268921, 0.29795557260513306, 1.0436694622039795, 0.07350961863994598, 0.07350961863994598, 0.25728365778923035, 0.5880769491195679, 0.9770210385322571, 1.059815764427185, 0.2046257108449936, 0.009301168844103813, 0.13951753079891205, 0.0744093507528305, 0.44645607471466064, 0.08371051400899887, 0.03720467537641525, 0.9778599739074707, 0.9504726529121399, 0.055188026279211044, 0.0068985032849013805, 0.03449251502752304, 0.3242296576499939, 0.027594013139605522, 0.28973713517189026, 0.08968053758144379, 0.04139101877808571, 0.1310715526342392, 0.2961095869541168, 0.2805248498916626, 0.1402624249458313, 0.054546501487493515, 0.20260128378868103, 0.007792357355356216, 0.015584714710712433, 1.0396883487701416, 0.684162974357605, 0.07894188165664673, 0.2236686795949936, 0.013156981207430363, 0.03209898620843887, 0.3530888557434082, 0.07061777263879776, 0.03851878270506859, 0.0898771658539772, 0.03851878270506859, 0.3466690480709076, 0.03209898620843887, 0.9493811130523682, 0.30905935168266296, 0.15452967584133148, 0.5254009366035461, 0.030905935913324356, 0.9270750284194946, 0.06959336996078491, 0.034796684980392456, 0.13918673992156982, 0.5567469596862793, 0.17398342490196228, 0.9765965938568115, 0.8564661145210266, 0.11419548094272614, 0.028548870235681534, 1.023240327835083, 0.3257127106189728, 0.10575088113546371, 0.016920141875743866, 0.07191059738397598, 0.19458162784576416, 0.09306077659130096, 0.021150175482034683, 0.08883073925971985, 0.08037067204713821, 0.9597136378288269, 0.8891350030899048, 0.18880446255207062, 0.5244568586349487, 0.08391309529542923, 0.020978273823857307, 0.1468479186296463, 0.020978273823857307, 0.9770433306694031, 0.9585106372833252, 0.09539196640253067, 0.8585277199745178, 0.8422583937644958, 0.12957821786403656, 1.0208258628845215, 1.0464473962783813, 1.0050607919692993, 1.0322922468185425, 0.9557534456253052, 1.0770612955093384, 0.8684923648834229, 0.04037763923406601, 0.4845316410064697, 0.10094409435987473, 0.020188819617033005, 0.28264346718788147, 0.060566455125808716, 0.9998762607574463, 0.16381390392780304, 0.07280617952346802, 0.03640308976173401, 0.12741081416606903, 0.018201544880867004, 0.4550386071205139, 0.10920926928520203, 0.026461638510227203, 0.49395057559013367, 0.044102732092142105, 0.43220674991607666, 1.020185112953186, 0.027298454195261, 0.218387633562088, 0.7370582818984985, 0.8511372804641724, 0.08511372655630112, 0.9236755967140198, 0.08397050946950912, 1.0398049354553223, 0.9773262739181519, 0.803969144821167, 0.14617620408535004, 0.07308810204267502, 0.5061518549919128, 0.1946738064289093, 0.2530759274959564, 0.03893475979566574, 0.27348142862319946, 0.15777774155139923, 0.010518516413867474, 0.19985181093215942, 0.15777774155139923, 0.010518516413867474, 0.18933328986167908, 0.9558814167976379, 0.2096179574728012, 0.5090721845626831, 0.1048089787364006, 0.07486356049776077, 0.08983626961708069, 0.9781007170677185, 1.039880394935608, 0.23391452431678772, 0.15782184898853302, 0.014091236516833305, 0.1775495707988739, 0.18882256746292114, 0.07045617699623108, 0.02536422573029995, 0.11836638301610947, 0.014091236516833305, 0.9770037531852722, 0.9515860080718994, 0.9029489159584045, 0.01404606830328703, 0.08427641540765762, 0.18259888887405396, 0.08427641540765762, 0.02809213660657406, 0.15450675785541534, 0.18259888887405396, 0.266875296831131, 1.0393133163452148, 0.9771268963813782, 0.9672267436981201, 0.06311263889074326, 0.38498708605766296, 0.08835769444704056, 0.06942389905452728, 0.13884779810905457, 0.1262252777814865, 0.0757351666688919, 0.050490111112594604, 0.0063112638890743256, 0.21564029157161713, 0.07188009470701218, 0.5750407576560974, 0.10782014578580856, 0.9928932189941406, 0.5451183915138245, 0.027255918830633163, 0.27255919575691223, 0.13627959787845612, 0.9493129849433899, 0.9448457956314087, 0.17705266177654266, 0.044263165444135666, 0.27190232276916504, 0.044263165444135666, 0.018969928845763206, 0.044263165444135666, 0.2529323697090149, 0.044263165444135666, 0.10117295384407043, 0.9763426780700684, 0.9704731702804565, 0.9889436364173889, 0.13696947693824768, 0.07609415799379349, 0.16740714013576508, 0.07609415799379349, 0.06087532266974449, 0.2967672049999237, 0.015218830667436123, 0.06848473846912384, 0.10653182119131088, 1.0291131734848022, 0.9455469250679016, 0.12809588015079498, 0.46114519238471985, 0.08966711908578873, 0.07685752958059311, 0.12809588015079498, 0.05123835429549217, 0.038428764790296555, 0.025619177147746086, 0.9059938788414001, 0.08183547109365463, 0.5611575245857239, 0.023381562903523445, 0.15198016166687012, 0.14028938114643097, 0.023381562903523445, 0.023381562903523445, 1.0214813947677612, 1.0463862419128418, 0.9993836283683777, 1.0606741905212402, 0.9643880724906921, 0.17515350878238678, 0.02802455984055996, 0.05371374264359474, 0.2405441403388977, 0.15880584716796875, 0.18916578590869904, 0.0957505851984024, 0.03736608102917671, 0.02101842127740383, 1.0798778533935547, 0.08410470932722092, 0.9251518249511719, 0.1376272737979889, 0.045875757932662964, 0.09175151586532593, 0.7340121269226074, 0.8421555161476135, 0.14035925269126892, 0.17345339059829712, 0.16803297400474548, 0.04336334764957428, 0.22765758633613586, 0.23849841952323914, 0.01084083691239357, 0.13009004294872284, 0.005420418456196785, 0.9326863288879395, 0.9798873066902161, 0.9794883728027344, 0.9871059656143188, 0.9720632433891296, 0.9220460653305054, 0.9770636558532715, 0.22043631970882416, 0.16532723605632782, 0.6061998605728149, 0.21294459700584412, 0.6920698881149292, 0.05323614925146103, 0.9784761667251587, 1.0145357847213745, 0.27667340636253357, 0.15607218444347382, 0.039018046110868454, 0.07448899745941162, 0.3227856457233429, 0.09577156603336334, 0.007094189990311861, 0.028376759961247444, 0.04451901838183403, 0.2003355771303177, 0.17807607352733612, 0.11129754036664963, 0.46744969487190247, 0.9864900708198547, 0.9458988904953003, 1.0664194822311401, 0.9271903038024902, 0.962523877620697, 0.01874934509396553, 0.01874934509396553, 0.03749869018793106, 0.44998428225517273, 0.01874934509396553, 0.16874410212039948, 0.28124016523361206, 0.12366511672735214, 0.12366511672735214, 0.04122170805931091, 0.08244341611862183, 0.1442759782075882, 0.08244341611862183, 0.37099534273147583, 1.0158909559249878, 0.9970500469207764, 0.9630627036094666, 0.8954157829284668, 0.9159515500068665, 0.9059879183769226, 0.10066532343626022, 0.8252217173576355, 0.11788881570100784, 0.05894440785050392, 0.9740946292877197, 0.9446325302124023, 0.9906194806098938, 0.9856830835342407, 0.8980575203895569, 0.9757479429244995, 0.05569200962781906, 0.20606043934822083, 0.6014736890792847, 0.03341520577669144, 0.01670760288834572, 0.03341520577669144, 0.04455360770225525, 0.005569200962781906, 0.9550572633743286, 0.06175427511334419, 0.21613997220993042, 0.535203754901886, 0.07204665243625641, 0.08233903348445892, 0.010292379185557365, 0.010292379185557365, 0.02058475837111473, 0.9967795014381409, 0.8985692262649536, 0.12624281644821167, 0.3015800714492798, 0.07714839279651642, 0.11221583932638168, 0.04909443110227585, 0.08416187763214111, 0.12624281644821167, 0.04909443110227585, 0.06312140822410583, 0.9455174803733826, 0.9614735245704651, 0.19950775802135468, 0.1455867439508438, 0.4529365301132202, 0.09166572242975235, 0.04313681274652481, 0.005392101593315601, 0.053921014070510864, 0.1107131838798523, 0.12125729769468307, 0.1107131838798523, 0.0527205653488636, 0.15288963913917542, 0.40594834089279175, 0.005272056441754103, 0.03690439462661743, 0.005272056441754103, 0.8555827736854553, 0.12222611159086227, 0.06111305579543114, 0.15106791257858276, 0.04215848818421364, 0.024592449888586998, 0.09485659748315811, 0.1440414935350418, 0.2634905278682709, 0.11944904923439026, 0.08783017843961716, 0.07729055732488632, 0.2359776794910431, 0.7079330086708069, 1.0390801429748535, 1.0132020711898804, 1.0104018449783325, 0.9451711773872375, 0.9148683547973633, 0.11122330278158188, 0.022244660183787346, 0.20020194351673126, 0.46713787317276, 0.022244660183787346, 0.15571261942386627, 0.9948338866233826, 0.9860826134681702, 0.05958627909421921, 0.8937941789627075, 1.0214425325393677, 0.9221826195716858, 0.13922019302845, 0.25523704290390015, 0.02320336550474167, 0.02320336550474167, 0.5336773991584778, 1.0463378429412842, 0.27625587582588196, 0.6906396746635437, 0.9866365194320679, 1.048350214958191, 0.9862691760063171, 0.013736771419644356, 0.05494708567857742, 0.425839900970459, 0.15110448002815247, 0.31594574451446533, 0.04121031239628792, 1.0369194746017456, 0.09584411978721619, 0.8625971078872681, 0.23741179704666138, 0.15827453136444092, 0.019784316420555115, 0.059352949261665344, 0.45503929257392883, 0.059352949261665344, 0.019784316420555115, 0.9053148031234741, 0.8045191764831543, 0.040225956588983536, 0.040225956588983536, 0.1206778734922409, 0.9796202182769775, 0.9761601090431213, 0.5627865195274353, 0.14810171723365784, 0.014810170978307724, 0.08886102586984634, 0.029620341956615448, 0.10367120057344437, 0.04443051293492317, 0.20129159092903137, 0.08346236497163773, 0.11291967332363129, 0.07855281233787537, 0.00490955077111721, 0.049095507711172104, 0.18165338039398193, 0.21602024137973785, 0.06873371452093124, 0.15031279623508453, 0.18789100646972656, 0.2160746455192566, 0.06576184928417206, 0.29123103618621826, 0.07515639811754227, 0.9785525798797607, 0.9337536096572876, 1.0824350118637085, 1.0264453887939453, 0.9483908414840698, 0.022793976590037346, 0.3761006295681, 0.11396988481283188, 0.15955783426761627, 0.034190963953733444, 0.15955783426761627, 0.011396988295018673, 0.034190963953733444, 0.09117590636014938, 0.9940792322158813, 0.8891277313232422, 1.0580251216888428, 0.09544505923986435, 0.06628129631280899, 0.050373781472444534, 0.14316760003566742, 0.13256259262561798, 0.07688630372285843, 0.09809631109237671, 0.2677764296531677, 0.07158380001783371, 1.0282809734344482, 0.9419068694114685, 1.0774431228637695, 0.8984826803207397, 0.9864203333854675, 0.024037381634116173, 0.6009345650672913, 0.24037382006645203, 0.024037381634116173, 0.12018691003322601, 0.9587772488594055, 0.9154630899429321, 0.8900902271270752, 0.28677818179130554, 0.013035372830927372, 0.12383604049682617, 0.05865917727351189, 0.04562380537390709, 0.16945984959602356, 0.04562380537390709, 0.21508364379405975, 0.04562380537390709, 0.06483674049377441, 0.30797454714775085, 0.06483674049377441, 0.04862755909562111, 0.4052296578884125, 0.09725511819124222, 1.059378743171692, 0.9552868604660034, 0.15647535026073456, 0.11496147513389587, 0.10857472568750381, 0.0862211063504219, 0.04151386767625809, 0.02235362119972706, 0.2139560878276825, 0.12773497402668, 0.13092835247516632, 0.10510788857936859, 0.10892999172210693, 0.20448261499404907, 0.13950683176517487, 0.0649757832288742, 0.1108410507440567, 0.06306473165750504, 0.16052840650081635, 0.040132101625204086, 0.055700141936540604, 0.03978581726551056, 0.04774297773838043, 0.4774298071861267, 0.19097191095352173, 0.055700141936540604, 0.023871488869190216, 0.007957163266837597, 0.11140028387308121, 0.9273895025253296, 0.9906631112098694, 0.1470513939857483, 0.17972949147224426, 0.06535618007183075, 0.2941027879714966, 0.10620378702878952, 0.016339045017957687, 0.05718665570020676, 0.08169522136449814, 0.04084761068224907, 0.5290582180023193, 0.45347848534584045, 1.0175011157989502, 1.0770260095596313, 1.0579833984375, 0.12830165028572083, 0.7412984371185303, 0.05702295899391174, 0.07127869874238968, 0.9755498766899109, 0.19254550337791443, 0.0792834460735321, 0.0792834460735321, 0.011326205916702747, 0.06795723736286163, 0.03397861868143082, 0.14724068343639374, 0.3737648129463196, 0.9929233193397522, 0.024044279009103775, 0.12022139132022858, 0.06011069566011429, 0.16830995678901672, 0.5049298405647278, 0.12022139132022858, 0.944477379322052, 1.0508496761322021, 0.06679361313581467, 0.06679361313581467, 0.13358722627162933, 0.7347297668457031, 0.13716498017311096, 0.9601548314094543, 0.24278020858764648, 0.05646051466464996, 0.05646051466464996, 0.011292102746665478, 0.1411512792110443, 0.3895775377750397, 0.05646051466464996, 0.011292102746665478, 0.02823025733232498, 0.9149100184440613, 0.9576598405838013, 0.0630868449807167, 0.45212236046791077, 0.05257236957550049, 0.08411578834056854, 0.07360131293535233, 0.2523473799228668, 0.021028947085142136, 0.9823763370513916, 0.19117239117622375, 0.22673934698104858, 0.3890135884284973, 0.013337609358131886, 0.08669445663690567, 0.04668163135647774, 0.04668163135647774, 0.002222934737801552, 0.968592643737793, 0.18881627917289734, 0.13441158831119537, 0.2592223584651947, 0.057604968547821045, 0.038403309881687164, 0.06400551646947861, 0.12481076270341873, 0.08640745282173157, 0.048004139214754105, 0.9888454675674438, 0.9930723905563354, 0.12296798825263977, 0.20289719104766846, 0.018445199355483055, 0.1783035844564438, 0.36275556683540344, 0.04303879663348198, 0.024593599140644073, 0.04303879663348198, 0.006148399785161018, 0.7016565799713135, 0.19136089086532593, 0.1063116043806076, 0.03438234329223633, 0.4527008533477783, 0.07449507713317871, 0.08595585823059082, 0.02292156219482422, 0.08595585823059082, 0.05157351493835449, 0.13179898262023926, 0.05730390548706055, 0.9643229246139526, 0.3490791320800781, 0.21831659972667694, 0.036386098712682724, 0.19330115616321564, 0.04207142814993858, 0.012507721781730652, 0.012507721781730652, 0.07845752686262131, 0.0568532794713974, 1.0782355070114136, 0.12284813076257706, 0.8599368929862976, 0.026577679440379143, 0.13288839161396027, 0.026577679440379143, 0.3189321458339691, 0.5049759149551392, 1.04424250125885, 0.5628729462623596, 0.062081579118967056, 0.07035911828279495, 0.004138771910220385, 0.1365794688463211, 0.04138771817088127, 0.004138771910220385, 0.08277543634176254, 0.02897140383720398, 1.0039629936218262, 0.12902379035949707, 0.315391480922699, 0.12424512952566147, 0.08123720437288284, 0.12424512952566147, 0.047786589711904526, 0.08123720437288284, 0.004778658971190453, 0.09079451858997345, 0.9989672303199768, 0.945020318031311, 0.4662814438343048, 0.11255069077014923, 0.24118004739284515, 0.12862935662269592, 0.03215733915567398, 0.01607866957783699, 0.21188896894454956, 0.14928540587425232, 0.06741921603679657, 0.3708057105541229, 0.1219966784119606, 0.020867852494120598, 0.004815658554434776, 0.03852526843547821, 0.01605219393968582, 0.2941242754459381, 0.03921657055616379, 0.03921657055616379, 0.6274651288986206, 0.9862862825393677, 0.9658992290496826, 0.09517663717269897, 0.1495632827281952, 0.3535132110118866, 0.11557162553071976, 0.09517663717269897, 0.006798331160098314, 0.02039499394595623, 0.16315995156764984, 1.0050978660583496, 0.06957880407571793, 0.029819486662745476, 0.10933811962604523, 0.1590372622013092, 0.10933811962604523, 0.0397593155503273, 0.18885675072669983, 0.2385558933019638, 0.04969914257526398, 0.9335656762123108, 0.9888885021209717, 0.897901177406311, 0.9553473591804504, 0.03396916389465332, 0.3396916091442108, 0.5774757862091064, 0.06793832778930664, 1.0223495960235596, 0.8996025919914246, 0.0652204379439354, 0.08696058392524719, 0.0380452536046505, 0.11413576453924179, 0.021740145981311798, 0.0380452536046505, 0.23914159834384918, 0.23914159834384918, 0.152181014418602, 0.9344700574874878, 0.11155160516500473, 0.11155160516500473, 0.01859193481504917, 0.316062867641449, 0.39043059945106506, 0.03718386963009834, 1.0064843893051147, 0.9863719940185547, 1.0601439476013184, 0.9940823912620544, 0.08113396167755127, 0.4493573307991028, 0.09361610561609268, 0.17475007474422455, 0.01248214766383171, 0.062410738319158554, 0.02496429532766342, 0.04368751868605614, 0.07489288598299026, 0.05271735414862633, 0.31630411744117737, 0.6853256225585938, 0.8885316848754883, 0.031356435269117355, 0.18813860416412354, 0.18029950559139252, 0.06271287053823471, 0.25477102398872375, 0.007839108817279339, 0.13718441128730774, 0.08623019605875015, 0.05095420777797699, 0.8674712181091309, 0.07228926569223404, 0.03614463284611702, 0.9033926129341125, 1.0243247747421265, 0.9552716016769409, 0.05367352068424225, 0.9392866492271423, 1.061377763748169, 0.888595700263977, 0.15183329582214355, 0.05061109736561775, 0.7591664791107178, 0.025305548682808876, 0.993828296661377, 0.9885981678962708, 1.0005805492401123, 0.24759578704833984, 0.01904582977294922, 0.5904207229614258, 0.11427497863769531, 1.0465360879898071, 0.9805018901824951, 0.06784631311893463, 0.8820021152496338, 0.06784631311893463, 0.9929469227790833, 0.1677587479352951, 0.05032762512564659, 0.7213626503944397, 0.03355174884200096, 0.01677587442100048, 0.03355174884200096, 0.10602421313524246, 0.06453647464513779, 0.30424338579177856, 0.1429021954536438, 0.09219496697187424, 0.0276584904640913, 0.16134119033813477, 0.07375597208738327, 0.0276584904640913, 0.2476789951324463, 0.18575924634933472, 0.010319957509636879, 0.30959874391555786, 0.010319957509636879, 0.20639915764331818, 0.030959874391555786, 0.41483548283576965, 0.5531139969825745, 0.9456447958946228, 0.10761141031980515, 0.3668570816516876, 0.10761141031980515, 0.058697134256362915, 0.17609140276908875, 0.0684799924492836, 0.009782855398952961, 0.1027199849486351, 0.12757563591003418, 0.24405772984027863, 0.1774965226650238, 0.12757563591003418, 0.016640299931168556, 0.21632389724254608, 0.08320149779319763, 0.011093532666563988, 0.1207578033208847, 0.18113671243190765, 0.6943573951721191, 0.030189450830221176, 1.0398844480514526, 0.9454058408737183, 0.16999372839927673, 0.13670824468135834, 0.2615288197994232, 0.14621837437152863, 0.11412166059017181, 0.07013726979494095, 0.043984390795230865, 0.054683297872543335, 0.002377534518018365, 0.1413591206073761, 0.07067956030368805, 0.6596759557723999, 0.11779927462339401, 0.9071858525276184, 0.10079842805862427, 0.9564154148101807, 0.914768397808075, 0.9930720329284668, 1.0467040538787842, 1.0245791673660278, 0.9155588150024414, 0.5345720648765564, 0.02375875972211361, 0.02375875972211361, 0.15443193912506104, 0.07127627730369568, 0.03563813865184784, 0.14255255460739136, 0.20116017758846283, 0.2816242575645447, 0.5230164527893066, 0.9402780532836914, 0.6069582104682922, 0.18675637245178223, 0.04668909311294556, 0.18675637245178223, 1.0664712190628052, 0.9799060225486755, 0.9593132734298706, 1.0137888193130493, 0.20718185603618622, 0.1002492904663086, 0.013366571627557278, 0.11361585557460785, 0.153715580701828, 0.36758071184158325, 0.046783000230789185, 0.006683285813778639, 0.7873796820640564, 0.1968449205160141, 0.9385913610458374, 1.0659993886947632, 0.9930941462516785, 0.9619343876838684, 0.15999656915664673, 0.7999828457832336, 0.4080367088317871, 0.11334352940320969, 0.07934047281742096, 0.06800612062215805, 0.07934047281742096, 0.18134965002536774, 0.06800612062215805, 0.18946392834186554, 0.12259430438280106, 0.27862340211868286, 0.1448841691017151, 0.05572468414902687, 0.011144937016069889, 0.20060886442661285, 0.9577153325080872, 0.9785558581352234, 0.8710281252861023, 0.10887851566076279, 0.14570240676403046, 0.15072661638259888, 0.055266428738832474, 0.1256055235862732, 0.3768165409564972, 0.010048441588878632, 0.055266428738832474, 0.08038753271102905, 0.1803739070892334, 0.1803739070892334, 0.6132712960243225, 0.02011287398636341, 0.4625960886478424, 0.02011287398636341, 0.4022574722766876, 0.09050793200731277, 0.904045045375824, 0.897716224193573, 0.9456523060798645, 1.010352373123169, 0.8909379839897156, 0.16807855665683746, 0.05602618679404259, 0.05602618679404259, 0.08403927832841873, 0.5322487354278564, 0.08403927832841873, 0.08512832224369049, 0.021282080560922623, 0.4682057499885559, 0.026602599769830704, 0.037243641912937164, 0.14897456765174866, 0.20217975974082947, 0.010641040280461311, 0.3011206090450287, 0.26766276359558105, 0.1087379977107048, 0.1003735363483429, 0.18401814997196198, 0.016728922724723816, 0.016728922724723816, 0.9065158367156982, 1.0507944822311401, 1.0582423210144043, 0.990039587020874, 0.2756102979183197, 0.09646359831094742, 0.01378051470965147, 0.19292719662189484, 0.08268308639526367, 0.34451285004615784, 1.01652193069458, 0.05166904255747795, 0.25834521651268005, 0.7233666181564331, 0.09939023107290268, 0.8945121169090271, 0.9334080815315247, 0.9751684069633484, 0.16761994361877441, 0.04571453109383583, 0.16381040215492249, 0.06095270812511444, 0.06476224958896637, 0.10666723549365997, 0.15619130432605743, 0.17523902654647827, 0.06095270812511444, 0.09546388685703278, 0.5091407299041748, 0.3818555474281311, 0.9865038394927979, 0.28413859009742737, 0.710346519947052, 0.9743131995201111, 0.2209375500679016, 0.088375024497509, 0.42714592814445496, 0.11783336102962494, 0.014729170128703117, 0.014729170128703117, 0.10310418903827667, 0.12138842046260834, 0.8497189283370972, 0.9854997992515564, 1.0129339694976807, 1.018175721168518, 0.950412929058075, 0.0888441652059555, 0.2665325105190277, 0.6663312315940857, 0.010793651454150677, 0.2266666740179062, 0.010793651454150677, 0.010793651454150677, 0.04317460581660271, 0.7015873193740845], \"Term\": [\"abdomen\", \"able\", \"able\", \"able\", \"able\", \"able\", \"absolute\", \"achieve\", \"advertise\", \"aesthetic\", \"ag\", \"ag\", \"age\", \"air\", \"ala\", \"angle\", \"appeal\", \"appear\", \"appear\", \"appear\", \"appear\", \"appearance\", \"area\", \"area\", \"area\", \"area\", \"area\", \"area\", \"area\", \"arm\", \"arm\", \"arm\", \"arm\", \"arm\", \"arm\", \"arm\", \"arm\", \"armhole\", \"armhole\", \"armhole\", \"armpit\", \"arrive\", \"arrive\", \"arrive\", \"arrive\", \"arrive\", \"arrive\", \"arrive\", \"arrive\", \"asymmetrical\", \"athletic\", \"athletic\", \"attached\", \"attire\", \"attract\", \"awesome\", \"baggy\", \"baggy\", \"baggy\", \"baggy\", \"baggy\", \"baggy\", \"baseball\", \"bathroom\", \"bead\", \"bead\", \"bend\", \"benefit\", \"bib\", \"big\", \"big\", \"big\", \"big\", \"big\", \"big\", \"big\", \"big\", \"big\", \"bizarre\", \"black\", \"black\", \"black\", \"black\", \"black\", \"black\", \"black\", \"black\", \"black\", \"blouse\", \"blouse\", \"blouse\", \"blouse\", \"blouse\", \"blouse\", \"blue\", \"blue\", \"blue\", \"blue\", \"blue\", \"blue\", \"blue\", \"body\", \"body\", \"body\", \"body\", \"body\", \"body\", \"body\", \"bother\", \"boxy\", \"boxy\", \"boxy\", \"boxy\", \"boxy\", \"boxy\", \"boxy\", \"boy\", \"boy\", \"boyfriend\", \"bra\", \"bra\", \"bra\", \"bra\", \"bra\", \"bra\", \"broad\", \"bulge\", \"bulk\", \"bulky\", \"bulky\", \"bulky\", \"bulky\", \"bulky\", \"bunchy\", \"bust\", \"bust\", \"bust\", \"bust\", \"bust\", \"bust\", \"bust\", \"bust\", \"bustline\", \"busty\", \"busty\", \"busty\", \"button\", \"button\", \"button\", \"button\", \"button\", \"button\", \"button\", \"buying\", \"call\", \"call\", \"cami\", \"cami\", \"cape\", \"careful\", \"cashmere\", \"cause\", \"cause\", \"cause\", \"certain\", \"chance\", \"chance\", \"character\", \"charge\", \"cheap\", \"cheap\", \"cheap\", \"cheap\", \"cheap\", \"cheap\", \"cheap\", \"cheap\", \"cheap\", \"cheaply\", \"chest\", \"chest\", \"chest\", \"chest\", \"chest\", \"chest\", \"chest\", \"chest\", \"chested\", \"chic\", \"chic\", \"christmas\", \"cinch\", \"circulation\", \"circus\", \"claim\", \"classic\", \"clean\", \"clean\", \"clean\", \"cling\", \"cling\", \"clothes\", \"clothes\", \"clothes\", \"clothes\", \"clothes\", \"clown\", \"collar\", \"collar\", \"collar\", \"color\", \"color\", \"color\", \"color\", \"color\", \"color\", \"color\", \"color\", \"color\", \"coloring\", \"comfort\", \"complete\", \"complexion\", \"consider\", \"consider\", \"consider\", \"consider\", \"consistent\", \"control\", \"control\", \"convince\", \"coral\", \"cotton\", \"cotton\", \"cotton\", \"cotton\", \"count\", \"coverup\", \"cozy\", \"cozy\", \"crack\", \"crease\", \"crochet\", \"crop\", \"crop\", \"crop\", \"crotch\", \"crush\", \"cup\", \"cup\", \"cup\", \"cup\", \"curl\", \"curve\", \"curve\", \"cut\", \"cut\", \"cut\", \"cut\", \"cut\", \"cut\", \"cut\", \"cut\", \"cut\", \"cute\", \"cute\", \"cute\", \"cute\", \"cute\", \"cute\", \"cute\", \"cute\", \"cute\", \"damage\", \"dance\", \"darker\", \"darker\", \"darling\", \"dear\", \"decide\", \"decide\", \"decide\", \"decide\", \"decide\", \"decide\", \"decide\", \"degree\", \"delicate\", \"delicate\", \"delicate\", \"deliver\", \"design\", \"design\", \"design\", \"design\", \"design\", \"design\", \"design\", \"design\", \"design\", \"designer\", \"designer\", \"desire\", \"desire\", \"didnt\", \"difficult\", \"difficult\", \"difficult\", \"dingy\", \"direction\", \"dirty\", \"dirty\", \"disagree\", \"discount\", \"discount\", \"discover\", \"dismay\", \"distance\", \"door\", \"dot\", \"drab\", \"drab\", \"drape\", \"drape\", \"drape\", \"drape\", \"drape\", \"drapey\", \"drapey\", \"drawstring\", \"dress\", \"dress\", \"dress\", \"dress\", \"dress\", \"dress\", \"dress\", \"dress\", \"dress\", \"drown\", \"due\", \"due\", \"due\", \"due\", \"effort\", \"elastic\", \"elastic\", \"elastic\", \"embarrass\", \"embroider\", \"embroidered\", \"end\", \"end\", \"end\", \"end\", \"end\", \"end\", \"end\", \"enhance\", \"enormous\", \"enormous\", \"enough\", \"enough\", \"enough\", \"entire\", \"entire\", \"entire\", \"entire\", \"etc\", \"event\", \"ex\", \"ex\", \"ex\", \"ex\", \"ex\", \"ex\", \"ex\", \"ex\", \"ex\", \"exact\", \"exaggerate\", \"execution\", \"expect\", \"expect\", \"expect\", \"expect\", \"expect\", \"expect\", \"expect\", \"expect\", \"expect\", \"expensive\", \"expensive\", \"extra\", \"extra\", \"extra\", \"extra\", \"extra\", \"extra\", \"extra\", \"extra\", \"eye\", \"eye\", \"eye\", \"fabric\", \"fabric\", \"fabric\", \"fabric\", \"fabric\", \"fabric\", \"fabric\", \"fabric\", \"fabric\", \"fabulous\", \"fading\", \"fair\", \"fashion\", \"fat\", \"fault\", \"fee\", \"feminine\", \"fence\", \"fiber\", \"figure\", \"figure\", \"figure\", \"figure\", \"figure\", \"figure\", \"figure\", \"figure\", \"find\", \"find\", \"find\", \"find\", \"find\", \"find\", \"find\", \"find\", \"find\", \"fine\", \"fine\", \"fine\", \"fine\", \"fine\", \"fine\", \"finish\", \"first\", \"first\", \"first\", \"first\", \"first\", \"first\", \"first\", \"first\", \"fit\", \"fit\", \"fit\", \"fit\", \"fit\", \"fit\", \"fit\", \"fit\", \"fit\", \"fitted\", \"fitted\", \"flairs\", \"flatter\", \"flatter\", \"flatter\", \"flatter\", \"flatter\", \"flatter\", \"flatter\", \"flatter\", \"flatter\", \"flattering\", \"flattering\", \"flattering\", \"flattering\", \"flattering\", \"flattering\", \"flattering\", \"flattering\", \"flip\", \"floaty\", \"floreat\", \"flow\", \"flow\", \"flow\", \"flow\", \"flow\", \"fluke\", \"fold\", \"fold\", \"fool\", \"football\", \"forearm\", \"forgive\", \"fray\", \"free\", \"front\", \"front\", \"front\", \"front\", \"front\", \"front\", \"front\", \"front\", \"front\", \"frustrating\", \"fuller\", \"funny\", \"fw\", \"fw\", \"gape\", \"gaping\", \"gentle\", \"gentle\", \"gigantic\", \"ginormous\", \"glow\", \"gold\", \"gold\", \"golden\", \"goodness\", \"gorgeous\", \"gorgeous\", \"gorgeous\", \"gorgeous\", \"gorgeous\", \"gorgeous\", \"gorgeous\", \"gorgeous\", \"gown\", \"grab\", \"graduation\", \"grandma\", \"gray\", \"gray\", \"green\", \"green\", \"green\", \"green\", \"green\", \"grey\", \"grey\", \"grey\", \"grey\", \"grey\", \"hair\", \"half\", \"half\", \"halloween\", \"halter\", \"hand\", \"hand\", \"hand\", \"hanging\", \"hard\", \"hard\", \"hard\", \"hard\", \"hd\", \"heat\", \"heavy\", \"heavy\", \"heavy\", \"heavy\", \"heavy\", \"heavy\", \"heavy\", \"heel\", \"hidden\", \"high\", \"high\", \"high\", \"high\", \"high\", \"high\", \"high\", \"high\", \"high\", \"hip\", \"hip\", \"hip\", \"hip\", \"hip\", \"hip\", \"hip\", \"hips\", \"hit\", \"hit\", \"hit\", \"hit\", \"hole\", \"hole\", \"hole\", \"hole\", \"hole\", \"hole\", \"hole\", \"hole\", \"holiday\", \"home\", \"home\", \"home\", \"home\", \"hopeful\", \"horrible\", \"horrible\", \"horrible\", \"horrible\", \"horrible\", \"horse\", \"hourglass\", \"hourglass\", \"hourglass\", \"hug\", \"huge\", \"huge\", \"huge\", \"huge\", \"huge\", \"huge\", \"huge\", \"huge\", \"huge\", \"identical\", \"impressed\", \"inch\", \"inch\", \"inch\", \"inch\", \"inch\", \"inch\", \"inconsistent\", \"inexpensive\", \"inner\", \"inner\", \"instruction\", \"instruction\", \"interest\", \"interior\", \"irl\", \"iron\", \"ish\", \"isnt\", \"itch\", \"itchy\", \"itchy\", \"itchy\", \"itchy\", \"itchy\", \"itchy\", \"ivory\", \"jacket\", \"jacket\", \"jacket\", \"jacket\", \"jacket\", \"jacket\", \"jacket\", \"jean\", \"jean\", \"jean\", \"jean\", \"joke\", \"jumpsuit\", \"jumpsuit\", \"jumpsuit\", \"justify\", \"justify\", \"kid\", \"kid\", \"kill\", \"killer\", \"kimono\", \"kimono\", \"kimono\", \"knee\", \"knee\", \"knee\", \"knee\", \"know\", \"know\", \"know\", \"know\", \"know\", \"know\", \"know\", \"label\", \"lace\", \"lace\", \"lace\", \"lace\", \"lace\", \"lacy\", \"land\", \"large\", \"large\", \"large\", \"large\", \"large\", \"large\", \"large\", \"large\", \"large\", \"late\", \"laugh\", \"launder\", \"layer\", \"layer\", \"layer\", \"layer\", \"layer\", \"layer\", \"layer\", \"layer\", \"layering\", \"lazy\", \"lean\", \"length\", \"length\", \"length\", \"length\", \"length\", \"length\", \"length\", \"length\", \"length\", \"let\", \"let\", \"let\", \"let\", \"lie\", \"life\", \"life\", \"life\", \"life\", \"lift\", \"likely\", \"line\", \"line\", \"line\", \"line\", \"line\", \"line\", \"line\", \"line\", \"line\", \"linen\", \"list\", \"listen\", \"little\", \"little\", \"little\", \"little\", \"little\", \"little\", \"little\", \"little\", \"little\", \"lo\", \"loop\", \"loose\", \"loose\", \"loose\", \"loose\", \"loose\", \"loose\", \"loose\", \"loose\", \"looser\", \"low\", \"low\", \"low\", \"low\", \"low\", \"low\", \"low\", \"lump\", \"lumpy\", \"machine\", \"manage\", \"massive\", \"material\", \"material\", \"material\", \"material\", \"material\", \"material\", \"material\", \"material\", \"material\", \"mauve\", \"maxi\", \"maxi\", \"mean\", \"mean\", \"mean\", \"mean\", \"measurement\", \"measurement\", \"medium\", \"medium\", \"medium\", \"medium\", \"medium\", \"medium\", \"medium\", \"medium\", \"metallic\", \"mid\", \"midriff\", \"midsection\", \"mint\", \"mirror\", \"mis\", \"miss\", \"miss\", \"miss\", \"mistake\", \"mistake\", \"mistake\", \"mix\", \"mixed\", \"model\", \"model\", \"model\", \"model\", \"model\", \"model\", \"model\", \"model\", \"money\", \"money\", \"money\", \"money\", \"money\", \"moss\", \"motif\", \"muddy\", \"multiple\", \"mumu\", \"neck\", \"neck\", \"neck\", \"neck\", \"neck\", \"neck\", \"neck\", \"neckline\", \"neckline\", \"neckline\", \"neckline\", \"neckline\", \"neckline\", \"neckline\", \"negative\", \"net\", \"next\", \"nightgown\", \"number\", \"office\", \"office\", \"okay\", \"okay\", \"okay\", \"opening\", \"outside\", \"packaging\", \"pad\", \"page\", \"pale\", \"pant\", \"pant\", \"pant\", \"pant\", \"pant\", \"pant\", \"pant\", \"pant\", \"paris\", \"part\", \"part\", \"part\", \"part\", \"part\", \"part\", \"part\", \"part\", \"party\", \"pass\", \"pdt\", \"pdt\", \"pdt\", \"pdt\", \"pdt\", \"pdt\", \"pdt\", \"pdt\", \"pdt\", \"peach\", \"peasant\", \"petite\", \"petite\", \"petite\", \"petite\", \"petite\", \"petite\", \"petite\", \"photo\", \"photo\", \"photo\", \"photo\", \"photo\", \"photo\", \"photo\", \"photo\", \"photo\", \"photograph\", \"photograph\", \"photograph\", \"picture\", \"picture\", \"picture\", \"picture\", \"picture\", \"picture\", \"picture\", \"picture\", \"picture\", \"pilcro\", \"pilcro\", \"pilcros\", \"pile\", \"pill\", \"pilled\", \"pity\", \"place\", \"place\", \"place\", \"place\", \"place\", \"place\", \"placement\", \"placket\", \"plan\", \"plan\", \"player\", \"plus\", \"pocket\", \"pocket\", \"pocket\", \"pocket\", \"pocket\", \"poke\", \"poly\", \"poly\", \"poncho\", \"poofs\", \"poofy\", \"poor\", \"poor\", \"poor\", \"poor\", \"poor\", \"poor\", \"portray\", \"potato\", \"potato\", \"pound\", \"pound\", \"pound\", \"pound\", \"pound\", \"pound\", \"pound\", \"prefer\", \"pregnant\", \"pregnant\", \"pregnant\", \"pregnant\", \"prepare\", \"press\", \"pretty\", \"pretty\", \"pretty\", \"pretty\", \"pretty\", \"pretty\", \"pretty\", \"price\", \"price\", \"price\", \"price\", \"price\", \"price\", \"price\", \"price\", \"price\", \"print\", \"print\", \"print\", \"print\", \"print\", \"print\", \"pro\", \"pros\", \"provide\", \"public\", \"puffy\", \"pull\", \"pull\", \"pull\", \"pull\", \"pull\", \"pull\", \"pull\", \"pull\", \"pull\", \"pullover\", \"purchasing\", \"push\", \"quality\", \"quality\", \"quality\", \"quality\", \"quality\", \"quality\", \"quality\", \"quality\", \"quality\", \"quirky\", \"raise\", \"ran\", \"random\", \"ready\", \"real\", \"real\", \"real\", \"real\", \"real\", \"reality\", \"rear\", \"receipt\", \"receive\", \"receive\", \"receive\", \"receive\", \"receive\", \"receive\", \"receive\", \"receive\", \"receive\", \"red\", \"red\", \"red\", \"red\", \"red\", \"red\", \"ref\", \"remind\", \"retailer\", \"retailer\", \"retailer\", \"retailer\", \"retailer\", \"retailer\", \"retailer\", \"retailer\", \"retailer\", \"return\", \"return\", \"return\", \"return\", \"return\", \"return\", \"return\", \"return\", \"return\", \"reviewer\", \"reviewer\", \"reviewer\", \"reviewer\", \"reviewer\", \"reviewer\", \"reviewer\", \"reviewer\", \"reviewer\", \"rib\", \"ribbed\", \"right\", \"right\", \"right\", \"right\", \"right\", \"right\", \"right\", \"right\", \"right\", \"rip\", \"rip\", \"roll\", \"rug\", \"rust\", \"sack\", \"sack\", \"sack\", \"sack\", \"sash\", \"saw\", \"saw\", \"saw\", \"saw\", \"saw\", \"saw\", \"saw\", \"saw\", \"seamstress\", \"send\", \"send\", \"send\", \"send\", \"send\", \"send\", \"serious\", \"service\", \"sewn\", \"sewn\", \"sewn\", \"sewn\", \"shade\", \"shade\", \"shape\", \"shape\", \"shape\", \"shape\", \"shape\", \"shape\", \"shape\", \"shape\", \"shape\", \"share\", \"sheen\", \"sheer\", \"sheer\", \"sheer\", \"sheer\", \"sheer\", \"sheer\", \"sheer\", \"shipping\", \"shirt\", \"shirt\", \"shirt\", \"shirt\", \"shirt\", \"shirt\", \"shirt\", \"shirt\", \"shop\", \"short\", \"short\", \"short\", \"short\", \"short\", \"short\", \"short\", \"short\", \"short\", \"shorter\", \"shot\", \"shoulder\", \"shoulder\", \"shoulder\", \"shoulder\", \"shoulder\", \"shoulder\", \"shoulder\", \"shoulder\", \"shoulder\", \"shrink\", \"shrink\", \"shrink\", \"side\", \"side\", \"side\", \"side\", \"side\", \"side\", \"side\", \"side\", \"side\", \"sister\", \"size\", \"size\", \"size\", \"size\", \"size\", \"size\", \"size\", \"size\", \"size\", \"sizes\", \"skim\", \"skim\", \"skinny\", \"skinny\", \"skinny\", \"skinny\", \"skinny\", \"skip\", \"skirt\", \"skirt\", \"skirt\", \"skirt\", \"skirt\", \"skirt\", \"skirt\", \"skirt\", \"skirt\", \"sleep\", \"sleeve\", \"sleeve\", \"sleeve\", \"sleeve\", \"sleeve\", \"sleeve\", \"sleeve\", \"sleeve\", \"sleeve\", \"sleeves\", \"slimming\", \"slip\", \"slip\", \"slip\", \"slip\", \"slip\", \"slip\", \"small\", \"small\", \"small\", \"small\", \"small\", \"small\", \"small\", \"small\", \"small\", \"smell\", \"smell\", \"smell\", \"smell\", \"smock\", \"snap\", \"soft\", \"soft\", \"soft\", \"soft\", \"soft\", \"soft\", \"soft\", \"soft\", \"solid\", \"something\", \"something\", \"something\", \"something\", \"something\", \"something\", \"something\", \"something\", \"something\", \"sophisticated\", \"sorry\", \"space\", \"spare\", \"spot\", \"spot\", \"spot\", \"spot\", \"stink\", \"stomach\", \"store\", \"store\", \"store\", \"store\", \"store\", \"store\", \"store\", \"store\", \"store\", \"story\", \"strange\", \"strange\", \"strange\", \"strange\", \"strange\", \"strange\", \"street\", \"strong\", \"struggle\", \"stunning\", \"style\", \"style\", \"style\", \"style\", \"style\", \"style\", \"style\", \"style\", \"style\", \"styling\", \"styling\", \"styling\", \"sweat\", \"sweater\", \"sweater\", \"sweater\", \"sweater\", \"sweater\", \"sweater\", \"sweater\", \"sweater\", \"sweater\", \"sweatshirt\", \"sweatshirt\", \"sweatshirt\", \"sweet\", \"swimsuit\", \"swingy\", \"tag\", \"tag\", \"talk\", \"tan\", \"tank\", \"tank\", \"tank\", \"tank\", \"taste\", \"taupe\", \"tee\", \"tent\", \"tent\", \"tent\", \"tent\", \"term\", \"test\", \"texture\", \"texture\", \"texture\", \"thank\", \"thigh\", \"thigh\", \"thigh\", \"thigh\", \"thigh\", \"thigh\", \"thin\", \"thin\", \"thin\", \"thin\", \"thin\", \"thin\", \"thin\", \"thin\", \"thin\", \"thing\", \"thing\", \"thing\", \"thing\", \"thing\", \"thing\", \"thing\", \"throw\", \"throw\", \"thru\", \"tight\", \"tight\", \"tight\", \"tight\", \"tight\", \"tight\", \"tight\", \"tight\", \"time\", \"time\", \"time\", \"time\", \"time\", \"time\", \"time\", \"time\", \"tiny\", \"tiny\", \"tiny\", \"tiny\", \"tire\", \"title\", \"top\", \"top\", \"top\", \"top\", \"top\", \"top\", \"top\", \"top\", \"top\", \"torso\", \"torso\", \"torso\", \"torso\", \"total\", \"total\", \"transfer\", \"translucent\", \"transparent\", \"trash\", \"trendy\", \"tried\", \"true\", \"true\", \"true\", \"true\", \"true\", \"true\", \"true\", \"tuck\", \"tuck\", \"tuck\", \"tummy\", \"type\", \"type\", \"type\", \"type\", \"underarm\", \"underarms\", \"undershirt\", \"undo\", \"unflattering\", \"unflattering\", \"unflattering\", \"unflattering\", \"unflattering\", \"unflattering\", \"unflattering\", \"unflattering\", \"unfortunate\", \"unfortunate\", \"unfortunately\", \"unnecessary\", \"unwearable\", \"unzip\", \"upper\", \"upper\", \"use\", \"use\", \"use\", \"use\", \"use\", \"use\", \"use\", \"usual\", \"usual\", \"usual\", \"usual\", \"usual\", \"usual\", \"usual\", \"velvet\", \"versatile\", \"vintage\", \"vintage\", \"waist\", \"waist\", \"waist\", \"waist\", \"waist\", \"waist\", \"waist\", \"waist\", \"waisted\", \"waisted\", \"waisted\", \"wash\", \"wash\", \"wash\", \"wash\", \"wash\", \"wearable\", \"weave\", \"web\", \"wed\", \"weekend\", \"weight\", \"weight\", \"weight\", \"weight\", \"weight\", \"weight\", \"white\", \"white\", \"white\", \"white\", \"white\", \"white\", \"white\", \"white\", \"wide\", \"wide\", \"wide\", \"wide\", \"wide\", \"wide\", \"wide\", \"widen\", \"wine\", \"wing\", \"winner\", \"wish\", \"wish\", \"wish\", \"wish\", \"wish\", \"wish\", \"word\", \"worn\", \"worn\", \"worn\", \"worry\", \"worry\", \"worse\", \"wow\", \"wp\", \"wp\", \"wp\", \"wp\", \"wp\", \"wp\", \"wp\", \"wp\", \"wp\", \"wrinkle\", \"wrinkle\", \"wrinkle\", \"wrinkly\", \"wrist\", \"wrist\", \"write\", \"wrong\", \"wrong\", \"wrong\", \"wrong\", \"wrong\", \"wrong\", \"wrong\", \"xsp\", \"xsp\", \"xxs\", \"yarn\", \"yesterday\", \"young\", \"zip\", \"zip\", \"zip\", \"zipper\", \"zipper\", \"zipper\", \"zipper\", \"zipper\", \"zipper\"]}, \"R\": 30, \"lambda.step\": 0.01, \"plot.opts\": {\"xlab\": \"PC1\", \"ylab\": \"PC2\"}, \"topic.order\": [8, 4, 1, 7, 9, 3, 2, 5, 6]};\n",
       "\n",
       "function LDAvis_load_lib(url, callback){\n",
       "  var s = document.createElement('script');\n",
       "  s.src = url;\n",
       "  s.async = true;\n",
       "  s.onreadystatechange = s.onload = callback;\n",
       "  s.onerror = function(){console.warn(\"failed to load library \" + url);};\n",
       "  document.getElementsByTagName(\"head\")[0].appendChild(s);\n",
       "}\n",
       "\n",
       "if(typeof(LDAvis) !== \"undefined\"){\n",
       "   // already loaded: just create the visualization\n",
       "   !function(LDAvis){\n",
       "       new LDAvis(\"#\" + \"ldavis_el176949708982001231639260\", ldavis_el176949708982001231639260_data);\n",
       "   }(LDAvis);\n",
       "}else if(typeof define === \"function\" && define.amd){\n",
       "   // require.js is available: use it to load d3/LDAvis\n",
       "   require.config({paths: {d3: \"https://cdnjs.cloudflare.com/ajax/libs/d3/3.5.5/d3.min\"}});\n",
       "   require([\"d3\"], function(d3){\n",
       "      window.d3 = d3;\n",
       "      LDAvis_load_lib(\"https://cdn.rawgit.com/bmabey/pyLDAvis/files/ldavis.v1.0.0.js\", function(){\n",
       "        new LDAvis(\"#\" + \"ldavis_el176949708982001231639260\", ldavis_el176949708982001231639260_data);\n",
       "      });\n",
       "    });\n",
       "}else{\n",
       "    // require.js not available: dynamically load d3 & LDAvis\n",
       "    LDAvis_load_lib(\"https://cdnjs.cloudflare.com/ajax/libs/d3/3.5.5/d3.min.js\", function(){\n",
       "         LDAvis_load_lib(\"https://cdn.rawgit.com/bmabey/pyLDAvis/files/ldavis.v1.0.0.js\", function(){\n",
       "                 new LDAvis(\"#\" + \"ldavis_el176949708982001231639260\", ldavis_el176949708982001231639260_data);\n",
       "            })\n",
       "         });\n",
       "}\n",
       "</script>"
      ],
      "text/plain": [
       "<IPython.core.display.HTML object>"
      ]
     },
     "execution_count": 99,
     "metadata": {},
     "output_type": "execute_result"
    }
   ],
   "source": [
    "# https://cran.r-project.org/web/packages/LDAvis/vignettes/details.pdf\n",
    "# Here a short legend to explain the vis:\n",
    "# size of bubble: proportional to the proportions of the topics across the N total tokens in the corpus\n",
    "# red bars: estimated number of times a given term was generated by a given topic\n",
    "# blue bars: overall frequency of each term in the corpus\n",
    "# -- Relevance of words is computed with a parameter lambda\n",
    "# -- Lambda optimal value ~0.6 (https://nlp.stanford.edu/events/illvi2014/papers/sievert-illvi2014.pdf)\n",
    "%matplotlib inline\n",
    "import pyLDAvis\n",
    "import pyLDAvis.gensim\n",
    "vis = pyLDAvis.gensim.prepare(topic_model=lda_model, corpus=corpus, dictionary=dictionary_LDA)\n",
    "pyLDAvis.enable_notebook()\n",
    "pyLDAvis.display(vis)"
   ]
  },
  {
   "cell_type": "code",
   "execution_count": 72,
   "metadata": {},
   "outputs": [],
   "source": [
    "pyLDAvis.save_html(vis, 'lda_pyLDAvis_140720.html')"
   ]
  },
  {
   "cell_type": "markdown",
   "metadata": {},
   "source": [
    "Find meaning of topics in negative rating reviews (number of topics = 10):[06072020]\\\n",
    "Topic 1: Complains on dress - size, fabric, color (top kw: dress, small, fabric, color)\\\n",
    "Topic 2: Complains on top/shirt/sweater (top kw: top, shirt, sweater, fabric, color, small)\\\n",
    "Topic 3: Complains on dress/skirt (small, fabric, wdt, material, color)\\\n",
    "Topic 4: Pants/dress (fabric, wash, material, wdt, color, quality)\\\n",
    "Topic 5: Size is small (small, top, jean, fabric, large, shirt) \\\n",
    "Topic 6: Dress (small, waist, fabric, wdt, quality) \\\n",
    "Topic 7: Color (color, pant, fabric, small, suit, wdt) \\\n",
    "Topic 8: Fabric (fabric, dress, short, color) \\  #(overlap with topic 1)\n",
    "Topic 9: Small top (small, top, shape, fabric)"
   ]
  },
  {
   "cell_type": "markdown",
   "metadata": {},
   "source": [
    "Find meaning of topics in negative rating reviews (number of topics = 10):\\\n",
    "Topic 10: Price vs quality, delivery time, smell\\\n",
    "Topic 4: Size (top kw: size, small, medium, large, fit)\\\n",
    "Topic 8: Material (top kw: fabric, ichty, thick, hot, seam)\\\n",
    "Topic 2: Color\\\n",
    "Topic 5: Problem related to washing (top kw:wash, dry, hand, shrunk, cold, water, clean, instruction)\\\n",
    "Topic 1: Look in general\\\n",
    "Topic 7: Style/look\\\n",
    "Topic 3: Size and material (thin, sheer)???\\\n",
    "Topic 6: Design (boxy, arm, fit, retailer, hole,seam)???\\\n",
    "Topic 9: Bad tailored details, size???"
   ]
  },
  {
   "cell_type": "code",
   "execution_count": 41,
   "metadata": {
    "collapsed": true,
    "jupyter": {
     "outputs_hidden": true
    }
   },
   "outputs": [
    {
     "ename": "NameError",
     "evalue": "name 'datapath' is not defined",
     "output_type": "error",
     "traceback": [
      "\u001b[0;31m---------------------------------------------------------------------------\u001b[0m",
      "\u001b[0;31mNameError\u001b[0m                                 Traceback (most recent call last)",
      "\u001b[0;32m<ipython-input-41-ea272760b5af>\u001b[0m in \u001b[0;36m<module>\u001b[0;34m\u001b[0m\n\u001b[1;32m      1\u001b[0m \u001b[0;31m# Save model to disk.\u001b[0m\u001b[0;34m\u001b[0m\u001b[0;34m\u001b[0m\u001b[0;34m\u001b[0m\u001b[0m\n\u001b[0;32m----> 2\u001b[0;31m \u001b[0mtemp_file\u001b[0m \u001b[0;34m=\u001b[0m \u001b[0mdatapath\u001b[0m\u001b[0;34m(\u001b[0m\u001b[0;34m\"model\"\u001b[0m\u001b[0;34m)\u001b[0m\u001b[0;34m\u001b[0m\u001b[0;34m\u001b[0m\u001b[0m\n\u001b[0m\u001b[1;32m      3\u001b[0m \u001b[0mmodel\u001b[0m\u001b[0;34m.\u001b[0m\u001b[0msave\u001b[0m\u001b[0;34m(\u001b[0m\u001b[0;34m'lda.lda_model'\u001b[0m\u001b[0;34m)\u001b[0m\u001b[0;34m\u001b[0m\u001b[0;34m\u001b[0m\u001b[0m\n\u001b[1;32m      4\u001b[0m \u001b[0;31m# Load a potentially pretrained model from disk.\u001b[0m\u001b[0;34m\u001b[0m\u001b[0;34m\u001b[0m\u001b[0;34m\u001b[0m\u001b[0m\n\u001b[1;32m      5\u001b[0m \u001b[0mlda_model\u001b[0m \u001b[0;34m=\u001b[0m  \u001b[0mmodels\u001b[0m\u001b[0;34m.\u001b[0m\u001b[0mLdaModel\u001b[0m\u001b[0;34m.\u001b[0m\u001b[0mload\u001b[0m\u001b[0;34m(\u001b[0m\u001b[0;34m'lda.lda_model'\u001b[0m\u001b[0;34m)\u001b[0m\u001b[0;34m\u001b[0m\u001b[0;34m\u001b[0m\u001b[0m\n",
      "\u001b[0;31mNameError\u001b[0m: name 'datapath' is not defined"
     ]
    }
   ],
   "source": [
    "# Save model to disk.\n",
    "temp_file = datapath(\"model\")\n",
    "model.save('lda.lda_model')\n",
    "# Load a potentially pretrained model from disk.\n",
    "lda_model =  models.LdaModel.load('lda.lda_model')"
   ]
  },
  {
   "cell_type": "code",
   "execution_count": 73,
   "metadata": {},
   "outputs": [],
   "source": [
    "topics = [lda_model[corpus[i]] for i in range(len(df2))]"
   ]
  },
  {
   "cell_type": "code",
   "execution_count": 94,
   "metadata": {},
   "outputs": [
    {
     "data": {
      "text/plain": [
       "2407"
      ]
     },
     "execution_count": 94,
     "metadata": {},
     "output_type": "execute_result"
    }
   ],
   "source": [
    "len(topics)"
   ]
  },
  {
   "cell_type": "code",
   "execution_count": 75,
   "metadata": {},
   "outputs": [],
   "source": [
    "def topics_document_to_dataframe(topics_document, num_topics):\n",
    "    res = pd.DataFrame(columns=range(num_topics))\n",
    "    for topic_weight in topics_document:\n",
    "        res.loc[0, topic_weight[0]] = topic_weight[1]\n",
    "    return res"
   ]
  },
  {
   "cell_type": "code",
   "execution_count": 115,
   "metadata": {},
   "outputs": [],
   "source": [
    "# Like TF-IDF, create a matrix of topic weighting, with documents as rows and topics as columns\n",
    "document_topic = \\\n",
    "pd.concat([topics_document_to_dataframe(topics_document, num_topics=num_topics) for topics_document in topics]) \\\n",
    "  .reset_index(drop=True).fillna(0)"
   ]
  },
  {
   "cell_type": "code",
   "execution_count": 130,
   "metadata": {
    "scrolled": true
   },
   "outputs": [],
   "source": [
    "dominant_topic = np.argmax(document_topic.values, axis=1)\n",
    "document_topic['dominant_topic'] = dominant_topic"
   ]
  },
  {
   "cell_type": "code",
   "execution_count": 79,
   "metadata": {},
   "outputs": [],
   "source": [
    "x=list(range(0,9,1))\n",
    "x1 =df2[['Clothing_ID', 'Review_Text']].reset_index()\n",
    "x1.drop('index', axis=1, inplace=True)\n",
    "x2=document_topic[['dominant_topic'] + x]\n",
    "y = pd.concat([x1,x2], axis=1)"
   ]
  },
  {
   "cell_type": "markdown",
   "metadata": {},
   "source": [
    "## Trying to audit the prediction result"
   ]
  },
  {
   "cell_type": "code",
   "execution_count": 101,
   "metadata": {},
   "outputs": [
    {
     "name": "stdout",
     "output_type": "stream",
     "text": [
      "0: 0.041*\"top\" + 0.041*\"fabric\" + 0.033*\"shirt\" + 0.020*\"return\" + 0.017*\"wash\" + 0.016*\"white\" + 0.015*\"short\" + 0.013*\"color\" + 0.012*\"thin\" + 0.012*\"fit\" + 0.012*\"cute\" + 0.010*\"soft\" + 0.010*\"part\" + 0.009*\"sweater\" + 0.008*\"design\" + 0.008*\"line\" + 0.008*\"sheer\" + 0.008*\"wp\" + 0.008*\"front\" + 0.008*\"small\"\n",
      "\n",
      "1: 0.053*\"dress\" + 0.020*\"wash\" + 0.019*\"color\" + 0.017*\"retailer\" + 0.017*\"black\" + 0.016*\"find\" + 0.012*\"fabric\" + 0.011*\"store\" + 0.011*\"fit\" + 0.011*\"wp\" + 0.011*\"material\" + 0.010*\"line\" + 0.010*\"design\" + 0.010*\"time\" + 0.010*\"short\" + 0.010*\"white\" + 0.009*\"top\" + 0.009*\"quality\" + 0.009*\"price\" + 0.009*\"sweater\"\n",
      "\n",
      "2: 0.056*\"dress\" + 0.039*\"fabric\" + 0.020*\"material\" + 0.020*\"photo\" + 0.019*\"color\" + 0.019*\"waist\" + 0.019*\"picture\" + 0.017*\"shape\" + 0.015*\"top\" + 0.015*\"return\" + 0.014*\"fit\" + 0.014*\"cute\" + 0.014*\"unflattering\" + 0.013*\"sack\" + 0.012*\"heavy\" + 0.011*\"send\" + 0.011*\"high\" + 0.010*\"little\" + 0.008*\"print\" + 0.008*\"drape\"\n",
      "\n",
      "3: 0.032*\"size\" + 0.024*\"fabric\" + 0.023*\"fit\" + 0.019*\"top\" + 0.017*\"dress\" + 0.017*\"shirt\" + 0.016*\"small\" + 0.014*\"arm\" + 0.013*\"side\" + 0.013*\"tight\" + 0.012*\"style\" + 0.011*\"sleeve\" + 0.010*\"length\" + 0.010*\"design\" + 0.010*\"return\" + 0.009*\"large\" + 0.009*\"hole\" + 0.008*\"color\" + 0.008*\"low\" + 0.008*\"sweater\"\n",
      "\n",
      "4: 0.032*\"quality\" + 0.026*\"return\" + 0.022*\"size\" + 0.017*\"hole\" + 0.015*\"jean\" + 0.015*\"top\" + 0.014*\"wp\" + 0.014*\"store\" + 0.014*\"price\" + 0.013*\"fabric\" + 0.013*\"large\" + 0.013*\"retailer\" + 0.010*\"design\" + 0.010*\"receive\" + 0.010*\"fit\" + 0.009*\"color\" + 0.008*\"short\" + 0.008*\"flattering\" + 0.008*\"expect\" + 0.008*\"jacket\"\n",
      "\n",
      "5: 0.062*\"dress\" + 0.023*\"zipper\" + 0.018*\"size\" + 0.015*\"retailer\" + 0.014*\"fabric\" + 0.012*\"cute\" + 0.012*\"saw\" + 0.011*\"fit\" + 0.011*\"arm\" + 0.010*\"store\" + 0.010*\"cheap\" + 0.010*\"quality\" + 0.009*\"ex\" + 0.009*\"soft\" + 0.009*\"button\" + 0.008*\"pocket\" + 0.008*\"collar\" + 0.008*\"picture\" + 0.008*\"first\" + 0.008*\"return\"\n",
      "\n",
      "6: 0.048*\"small\" + 0.035*\"size\" + 0.025*\"top\" + 0.022*\"pant\" + 0.021*\"material\" + 0.021*\"fit\" + 0.017*\"petite\" + 0.016*\"color\" + 0.015*\"return\" + 0.013*\"large\" + 0.012*\"reviewer\" + 0.012*\"jean\" + 0.011*\"big\" + 0.011*\"quality\" + 0.010*\"bust\" + 0.010*\"high\" + 0.009*\"thigh\" + 0.009*\"medium\" + 0.008*\"dress\" + 0.008*\"cut\"\n",
      "\n",
      "7: 0.055*\"dress\" + 0.046*\"size\" + 0.022*\"fit\" + 0.021*\"top\" + 0.020*\"skirt\" + 0.020*\"small\" + 0.013*\"shirt\" + 0.012*\"large\" + 0.012*\"model\" + 0.011*\"huge\" + 0.011*\"fabric\" + 0.011*\"material\" + 0.011*\"flatter\" + 0.010*\"color\" + 0.009*\"short\" + 0.008*\"return\" + 0.008*\"big\" + 0.008*\"hit\" + 0.007*\"retailer\" + 0.007*\"cut\"\n",
      "\n",
      "8: 0.035*\"fit\" + 0.022*\"top\" + 0.021*\"color\" + 0.021*\"model\" + 0.018*\"big\" + 0.017*\"small\" + 0.016*\"material\" + 0.016*\"large\" + 0.015*\"sweater\" + 0.014*\"arm\" + 0.014*\"shoulder\" + 0.013*\"cut\" + 0.012*\"fabric\" + 0.012*\"quality\" + 0.011*\"huge\" + 0.010*\"boxy\" + 0.010*\"medium\" + 0.010*\"blouse\" + 0.010*\"chest\" + 0.010*\"picture\"\n",
      "\n"
     ]
    }
   ],
   "source": [
    "for i,topic in lda_model.show_topics(formatted=True, num_topics=num_topics, num_words=20):\n",
    "    print(str(i)+\": \"+ topic)\n",
    "    print()"
   ]
  },
  {
   "cell_type": "markdown",
   "metadata": {},
   "source": [
    "Find meaning of topics in negative rating reviews (number of topics = 10):[06072020]\\\n",
    "Topic 0: Top/Shirt - fabric\\\n",
    "Topic 1: Dress - wash, color\\\n",
    "Topic 2: Dress - fabric, material, photo, color, waist\\\n",
    "Topic 3: Size, fabric, fit\\\n",
    "Topic 4: Quality, size, hole, jean\\\n",
    "Topic 5: Dress - zipper, size, fabric, arm\\\n",
    "Topic 6: Top/Pants - small, size, material, fit\\\n",
    "Topic 7: Dress - size, fit\\\n",
    "Topic 8: Top - fit, color\\"
   ]
  },
  {
   "cell_type": "code",
   "execution_count": 150,
   "metadata": {},
   "outputs": [
    {
     "data": {
      "text/html": [
       "<div>\n",
       "<style scoped>\n",
       "    .dataframe tbody tr th:only-of-type {\n",
       "        vertical-align: middle;\n",
       "    }\n",
       "\n",
       "    .dataframe tbody tr th {\n",
       "        vertical-align: top;\n",
       "    }\n",
       "\n",
       "    .dataframe thead th {\n",
       "        text-align: right;\n",
       "    }\n",
       "</style>\n",
       "<table border=\"1\" class=\"dataframe\">\n",
       "  <thead>\n",
       "    <tr style=\"text-align: right;\">\n",
       "      <th></th>\n",
       "      <th>0</th>\n",
       "      <th>1</th>\n",
       "      <th>2</th>\n",
       "      <th>3</th>\n",
       "      <th>4</th>\n",
       "      <th>5</th>\n",
       "      <th>6</th>\n",
       "      <th>7</th>\n",
       "      <th>8</th>\n",
       "      <th>dominant_topic</th>\n",
       "      <th>dominant_topic_theme</th>\n",
       "    </tr>\n",
       "  </thead>\n",
       "  <tbody>\n",
       "    <tr>\n",
       "      <th>0</th>\n",
       "      <td>0.000000</td>\n",
       "      <td>0.000000</td>\n",
       "      <td>0.0</td>\n",
       "      <td>0.000000</td>\n",
       "      <td>0.0</td>\n",
       "      <td>0.000000</td>\n",
       "      <td>0.336726</td>\n",
       "      <td>0.584547</td>\n",
       "      <td>0.076512</td>\n",
       "      <td>7</td>\n",
       "      <td>Dress - size, fit</td>\n",
       "    </tr>\n",
       "    <tr>\n",
       "      <th>1</th>\n",
       "      <td>0.081669</td>\n",
       "      <td>0.135753</td>\n",
       "      <td>0.0</td>\n",
       "      <td>0.533621</td>\n",
       "      <td>0.0</td>\n",
       "      <td>0.247239</td>\n",
       "      <td>0.000000</td>\n",
       "      <td>0.000000</td>\n",
       "      <td>0.000000</td>\n",
       "      <td>3</td>\n",
       "      <td>Quality, size, hole, jean</td>\n",
       "    </tr>\n",
       "    <tr>\n",
       "      <th>2</th>\n",
       "      <td>0.000000</td>\n",
       "      <td>0.000000</td>\n",
       "      <td>0.0</td>\n",
       "      <td>0.319934</td>\n",
       "      <td>0.0</td>\n",
       "      <td>0.274217</td>\n",
       "      <td>0.190867</td>\n",
       "      <td>0.000000</td>\n",
       "      <td>0.212816</td>\n",
       "      <td>3</td>\n",
       "      <td>Quality, size, hole, jean</td>\n",
       "    </tr>\n",
       "  </tbody>\n",
       "</table>\n",
       "</div>"
      ],
      "text/plain": [
       "          0         1    2         3    4         5         6         7  \\\n",
       "0  0.000000  0.000000  0.0  0.000000  0.0  0.000000  0.336726  0.584547   \n",
       "1  0.081669  0.135753  0.0  0.533621  0.0  0.247239  0.000000  0.000000   \n",
       "2  0.000000  0.000000  0.0  0.319934  0.0  0.274217  0.190867  0.000000   \n",
       "\n",
       "          8  dominant_topic       dominant_topic_theme  \n",
       "0  0.076512  7               Dress - size, fit          \n",
       "1  0.000000  3               Quality, size, hole, jean  \n",
       "2  0.212816  3               Quality, size, hole, jean  "
      ]
     },
     "execution_count": 150,
     "metadata": {},
     "output_type": "execute_result"
    }
   ],
   "source": [
    "def label_theme(row):\n",
    "    if row['dominant_topic'] == 0 :\n",
    "        return 'Top/Shirt - fabric'\n",
    "    if row['dominant_topic'] == 1 :\n",
    "        return 'Dress - wash, color'\n",
    "    if row['dominant_topic'] == 2 :\n",
    "        return 'Dress - fabric, material, photo, color, waist'\n",
    "    if row['dominant_topic'] == 3:\n",
    "        return 'Quality, size, hole, jean'\n",
    "    if row['dominant_topic']  == 4:\n",
    "        return 'Small in size'\n",
    "    if row['dominant_topic'] == 5:\n",
    "        return 'Dress - zipper, size, fabric, arm'\n",
    "    if row['dominant_topic'] == 6:\n",
    "        return 'Top/Pants - small, size, material, fit'\n",
    "    if row['dominant_topic'] == 7:\n",
    "        return 'Dress - size, fit'\n",
    "    if row['dominant_topic'] == 8:\n",
    "        return 'Top - fit, color'\n",
    "        \n",
    "document_topic['dominant_topic_theme'] = document_topic.apply (lambda row: label_theme(row), axis=1)\n",
    "document_topic.head(3)\n"
   ]
  },
  {
   "cell_type": "code",
   "execution_count": 156,
   "metadata": {},
   "outputs": [
    {
     "data": {
      "text/html": [
       "<div>\n",
       "<style scoped>\n",
       "    .dataframe tbody tr th:only-of-type {\n",
       "        vertical-align: middle;\n",
       "    }\n",
       "\n",
       "    .dataframe tbody tr th {\n",
       "        vertical-align: top;\n",
       "    }\n",
       "\n",
       "    .dataframe thead th {\n",
       "        text-align: right;\n",
       "    }\n",
       "</style>\n",
       "<table border=\"1\" class=\"dataframe\">\n",
       "  <thead>\n",
       "    <tr style=\"text-align: right;\">\n",
       "      <th></th>\n",
       "      <th>dominant_topic_theme</th>\n",
       "      <th>dominant_topic</th>\n",
       "      <th>percent</th>\n",
       "      <th>Topic</th>\n",
       "    </tr>\n",
       "  </thead>\n",
       "  <tbody>\n",
       "    <tr>\n",
       "      <th>1</th>\n",
       "      <td>Dress - size, fit</td>\n",
       "      <td>391</td>\n",
       "      <td>16.244287</td>\n",
       "      <td>Dress</td>\n",
       "    </tr>\n",
       "    <tr>\n",
       "      <th>0</th>\n",
       "      <td>Dress - fabric, material, photo, color, waist</td>\n",
       "      <td>251</td>\n",
       "      <td>10.427919</td>\n",
       "      <td>Dress</td>\n",
       "    </tr>\n",
       "    <tr>\n",
       "      <th>2</th>\n",
       "      <td>Dress - wash, color</td>\n",
       "      <td>204</td>\n",
       "      <td>8.475280</td>\n",
       "      <td>Dress</td>\n",
       "    </tr>\n",
       "    <tr>\n",
       "      <th>3</th>\n",
       "      <td>Dress - zipper, size, fabric, arm</td>\n",
       "      <td>123</td>\n",
       "      <td>5.110096</td>\n",
       "      <td>Dress</td>\n",
       "    </tr>\n",
       "    <tr>\n",
       "      <th>4</th>\n",
       "      <td>Quality, size, hole, jean</td>\n",
       "      <td>338</td>\n",
       "      <td>14.042376</td>\n",
       "      <td>Quality, size, hole, jean</td>\n",
       "    </tr>\n",
       "    <tr>\n",
       "      <th>5</th>\n",
       "      <td>Small in size</td>\n",
       "      <td>175</td>\n",
       "      <td>7.270461</td>\n",
       "      <td>Small in size</td>\n",
       "    </tr>\n",
       "    <tr>\n",
       "      <th>8</th>\n",
       "      <td>Top/Shirt - fabric</td>\n",
       "      <td>372</td>\n",
       "      <td>15.454923</td>\n",
       "      <td>Top</td>\n",
       "    </tr>\n",
       "    <tr>\n",
       "      <th>6</th>\n",
       "      <td>Top - fit, color</td>\n",
       "      <td>277</td>\n",
       "      <td>11.508101</td>\n",
       "      <td>Top</td>\n",
       "    </tr>\n",
       "    <tr>\n",
       "      <th>7</th>\n",
       "      <td>Top/Pants - small, size, material, fit</td>\n",
       "      <td>276</td>\n",
       "      <td>11.466556</td>\n",
       "      <td>Top</td>\n",
       "    </tr>\n",
       "  </tbody>\n",
       "</table>\n",
       "</div>"
      ],
      "text/plain": [
       "                            dominant_topic_theme  dominant_topic    percent  \\\n",
       "1  Dress - size, fit                              391             16.244287   \n",
       "0  Dress - fabric, material, photo, color, waist  251             10.427919   \n",
       "2  Dress - wash, color                            204             8.475280    \n",
       "3  Dress - zipper, size, fabric, arm              123             5.110096    \n",
       "4  Quality, size, hole, jean                      338             14.042376   \n",
       "5  Small in size                                  175             7.270461    \n",
       "8  Top/Shirt - fabric                             372             15.454923   \n",
       "6  Top - fit, color                               277             11.508101   \n",
       "7  Top/Pants - small, size, material, fit         276             11.466556   \n",
       "\n",
       "                       Topic  \n",
       "1  Dress                      \n",
       "0  Dress                      \n",
       "2  Dress                      \n",
       "3  Dress                      \n",
       "4  Quality, size, hole, jean  \n",
       "5  Small in size              \n",
       "8  Top                        \n",
       "6  Top                        \n",
       "7  Top                        "
      ]
     },
     "execution_count": 156,
     "metadata": {},
     "output_type": "execute_result"
    }
   ],
   "source": [
    "a = document_topic.groupby('dominant_topic_theme')['dominant_topic'].count().reset_index()\n",
    "a['percent'] = a['dominant_topic']/(a['dominant_topic'].sum(axis=0))*100\n",
    "b = a.sort_values(['dominant_topic_theme','dominant_topic'],ascending=[True,False])\n",
    "x = ['Dress','Dress','Dress','Dress','Quality, size, hole, jean',\n",
    "    'Small in size','Top','Top','Top']\n",
    "b['Topic'] = x\n",
    "b.sort_values(['Topic','percent'],ascending=[True,False])"
   ]
  },
  {
   "cell_type": "code",
   "execution_count": 175,
   "metadata": {},
   "outputs": [
    {
     "data": {
      "text/plain": [
       "[Text(0, 0, 'Dress - size, fit'),\n",
       " Text(0, 0, 'Dress - fabric, material, photo, color, waist'),\n",
       " Text(0, 0, 'Dress - wash, color'),\n",
       " Text(0, 0, 'Dress - zipper, size, fabric, arm'),\n",
       " Text(0, 0, 'Quality, size, hole, jean'),\n",
       " Text(0, 0, 'Small in size'),\n",
       " Text(0, 0, 'Top/Shirt - fabric'),\n",
       " Text(0, 0, 'Top - fit, color'),\n",
       " Text(0, 0, 'Top/Pants - small, size, material, fit')]"
      ]
     },
     "execution_count": 175,
     "metadata": {},
     "output_type": "execute_result"
    },
    {
     "data": {
      "image/png": "[encoded data removed]",
      "text/plain": [
       "<Figure size 720x360 with 1 Axes>"
      ]
     },
     "metadata": {},
     "output_type": "display_data"
    }
   ],
   "source": [
    "color = ['#900d0d','#900d0d','#900d0d','#900d0d','#ade498','#ede682','#14b1ab','#14b1ab','#14b1ab']\n",
    "# plt.figure(figsize=(10,5))\n",
    "chart = sns.barplot(x='dominant_topic_theme',y='percent',\n",
    "            data=b.sort_values(['Topic','percent'],ascending=[True,False]),\n",
    "            palette=color)\n",
    "chart.set_xticklabels(chart.get_xticklabels(), rotation=45,\n",
    "                     horizontalalignment='right')"
   ]
  },
  {
   "cell_type": "markdown",
   "metadata": {},
   "source": [
    "Insights:\n",
    "A large portion of negative feedback was on Dress and Top products.\n",
    "\n",
    "The most frequently complained on Dress items was about size and fitability issues, followed by concerns about fabric/material. There's also a large portion of complains on Dress mentioning wash/color. This can be an issue with the deteriorated quality/color of the Dress after certain times being washed.\n",
    "Another interesting problem is the issue at zipper and arm area."
   ]
  },
  {
   "cell_type": "markdown",
   "metadata": {},
   "source": [
    "Insights: Size smaller than expected is another prominant issue. Therefore, for products being complained small in size, the seller should provide more precise sizing information to customers and guarantee that the products are made with appropiate size as listed."
   ]
  },
  {
   "cell_type": "markdown",
   "metadata": {},
   "source": [
    "Insights: Top product category also makes up a large portion on negative feedbacks. Customers cared about fabric of the top/shirt, the fit and color."
   ]
  },
  {
   "cell_type": "markdown",
   "metadata": {},
   "source": [
    "#### These insights will be compared to exploratory analysis (women_clothing_data_exploration.py) to see if the LDA topic modeling somehow makes sense."
   ]
  },
  {
   "cell_type": "markdown",
   "metadata": {},
   "source": [
    "### Validate prediction by screening examples"
   ]
  },
  {
   "cell_type": "code",
   "execution_count": null,
   "metadata": {},
   "outputs": [],
   "source": [
    "x=list(range(0,9,1))\n",
    "x1 =df2[['Clothing_ID', 'Class_Name','Review_Text']].reset_index()\n",
    "x1.drop('index', axis=1, inplace=True)\n",
    "x2=document_topic[['dominant_topic','dominant_topic_theme'] + x]\n",
    "y = pd.concat([x1,x2], axis=1)"
   ]
  },
  {
   "cell_type": "code",
   "execution_count": null,
   "metadata": {
    "scrolled": true
   },
   "outputs": [],
   "source": [
    "y.sample()"
   ]
  },
  {
   "cell_type": "markdown",
   "metadata": {},
   "source": [
    "After going through some sample and validate the reliability of the model prediction by 'eyes', it makes sense most of the case. About 1 out of 5 case has appropriate topic allocation."
   ]
  },
  {
   "cell_type": "markdown",
   "metadata": {},
   "source": [
    "I find out that if the second dominant topic is around 0.3, it is worth select it is top topic as well. With that, we can say a review can mention more than 1 major issue of the product."
   ]
  },
  {
   "cell_type": "markdown",
   "metadata": {},
   "source": [
    "I also find out that there are some cases where the model predict incorrectly:\\\n",
    "    - Review give compliment on some aspects in a negative review. The model picks these keywords because it may be repeated in the text, i.e. the wrong topic.\\\n",
    "    - People don't really express there opinion by keyword. For example, 'the dress looks like a nightdown on me' (meaning: sizing issue). The model wasn't pick up on this example. Some other text express there disappointment indirectly or in a ironic way.\n",
    "    "
   ]
  },
  {
   "cell_type": "code",
   "execution_count": null,
   "metadata": {},
   "outputs": [],
   "source": [
    "## Let's find out how many documents is allocated to each topic"
   ]
  },
  {
   "cell_type": "code",
   "execution_count": 125,
   "metadata": {},
   "outputs": [
    {
     "data": {
      "text/plain": [
       "<matplotlib.axes._subplots.AxesSubplot at 0x1290b3550>"
      ]
     },
     "execution_count": 125,
     "metadata": {},
     "output_type": "execute_result"
    },
    {
     "data": {
      "image/png": "[encoded data removed]",
      "text/plain": [
       "<Figure size 720x360 with 1 Axes>"
      ]
     },
     "metadata": {},
     "output_type": "display_data"
    }
   ],
   "source": [
    "document_topic1 = \\\n",
    "pd.concat([topics_document_to_dataframe(topics_document, num_topics=num_topics) for topics_document in topics]) \\\n",
    "  .reset_index(drop=True).fillna(0)\n",
    "import seaborn as sns\n",
    "sns.set(rc={'figure.figsize':(10,5)})\n",
    "document_topic1.idxmax(axis=1).value_counts().plot.bar(color='lightblue')"
   ]
  },
  {
   "cell_type": "code",
   "execution_count": 126,
   "metadata": {},
   "outputs": [
    {
     "name": "stdout",
     "output_type": "stream",
     "text": [
      "0: 0.041*\"top\" + 0.041*\"fabric\" + 0.033*\"shirt\" + 0.020*\"return\" + 0.017*\"wash\" + 0.016*\"white\" + 0.015*\"short\" + 0.013*\"color\" + 0.012*\"thin\" + 0.012*\"fit\" + 0.012*\"cute\" + 0.010*\"soft\" + 0.010*\"part\" + 0.009*\"sweater\" + 0.008*\"design\" + 0.008*\"line\" + 0.008*\"sheer\" + 0.008*\"wp\" + 0.008*\"front\" + 0.008*\"small\"\n",
      "\n",
      "1: 0.053*\"dress\" + 0.020*\"wash\" + 0.019*\"color\" + 0.017*\"retailer\" + 0.017*\"black\" + 0.016*\"find\" + 0.012*\"fabric\" + 0.011*\"store\" + 0.011*\"fit\" + 0.011*\"wp\" + 0.011*\"material\" + 0.010*\"line\" + 0.010*\"design\" + 0.010*\"time\" + 0.010*\"short\" + 0.010*\"white\" + 0.009*\"top\" + 0.009*\"quality\" + 0.009*\"price\" + 0.009*\"sweater\"\n",
      "\n",
      "2: 0.056*\"dress\" + 0.039*\"fabric\" + 0.020*\"material\" + 0.020*\"photo\" + 0.019*\"color\" + 0.019*\"waist\" + 0.019*\"picture\" + 0.017*\"shape\" + 0.015*\"top\" + 0.015*\"return\" + 0.014*\"fit\" + 0.014*\"cute\" + 0.014*\"unflattering\" + 0.013*\"sack\" + 0.012*\"heavy\" + 0.011*\"send\" + 0.011*\"high\" + 0.010*\"little\" + 0.008*\"print\" + 0.008*\"drape\"\n",
      "\n",
      "3: 0.032*\"size\" + 0.024*\"fabric\" + 0.023*\"fit\" + 0.019*\"top\" + 0.017*\"dress\" + 0.017*\"shirt\" + 0.016*\"small\" + 0.014*\"arm\" + 0.013*\"side\" + 0.013*\"tight\" + 0.012*\"style\" + 0.011*\"sleeve\" + 0.010*\"length\" + 0.010*\"design\" + 0.010*\"return\" + 0.009*\"large\" + 0.009*\"hole\" + 0.008*\"color\" + 0.008*\"low\" + 0.008*\"sweater\"\n",
      "\n",
      "4: 0.032*\"quality\" + 0.026*\"return\" + 0.022*\"size\" + 0.017*\"hole\" + 0.015*\"jean\" + 0.015*\"top\" + 0.014*\"wp\" + 0.014*\"store\" + 0.014*\"price\" + 0.013*\"fabric\" + 0.013*\"large\" + 0.013*\"retailer\" + 0.010*\"design\" + 0.010*\"receive\" + 0.010*\"fit\" + 0.009*\"color\" + 0.008*\"short\" + 0.008*\"flattering\" + 0.008*\"expect\" + 0.008*\"jacket\"\n",
      "\n",
      "5: 0.062*\"dress\" + 0.023*\"zipper\" + 0.018*\"size\" + 0.015*\"retailer\" + 0.014*\"fabric\" + 0.012*\"cute\" + 0.012*\"saw\" + 0.011*\"fit\" + 0.011*\"arm\" + 0.010*\"store\" + 0.010*\"cheap\" + 0.010*\"quality\" + 0.009*\"ex\" + 0.009*\"soft\" + 0.009*\"button\" + 0.008*\"pocket\" + 0.008*\"collar\" + 0.008*\"picture\" + 0.008*\"first\" + 0.008*\"return\"\n",
      "\n",
      "6: 0.048*\"small\" + 0.035*\"size\" + 0.025*\"top\" + 0.022*\"pant\" + 0.021*\"material\" + 0.021*\"fit\" + 0.017*\"petite\" + 0.016*\"color\" + 0.015*\"return\" + 0.013*\"large\" + 0.012*\"reviewer\" + 0.012*\"jean\" + 0.011*\"big\" + 0.011*\"quality\" + 0.010*\"bust\" + 0.010*\"high\" + 0.009*\"thigh\" + 0.009*\"medium\" + 0.008*\"dress\" + 0.008*\"cut\"\n",
      "\n",
      "7: 0.055*\"dress\" + 0.046*\"size\" + 0.022*\"fit\" + 0.021*\"top\" + 0.020*\"skirt\" + 0.020*\"small\" + 0.013*\"shirt\" + 0.012*\"large\" + 0.012*\"model\" + 0.011*\"huge\" + 0.011*\"fabric\" + 0.011*\"material\" + 0.011*\"flatter\" + 0.010*\"color\" + 0.009*\"short\" + 0.008*\"return\" + 0.008*\"big\" + 0.008*\"hit\" + 0.007*\"retailer\" + 0.007*\"cut\"\n",
      "\n",
      "8: 0.035*\"fit\" + 0.022*\"top\" + 0.021*\"color\" + 0.021*\"model\" + 0.018*\"big\" + 0.017*\"small\" + 0.016*\"material\" + 0.016*\"large\" + 0.015*\"sweater\" + 0.014*\"arm\" + 0.014*\"shoulder\" + 0.013*\"cut\" + 0.012*\"fabric\" + 0.012*\"quality\" + 0.011*\"huge\" + 0.010*\"boxy\" + 0.010*\"medium\" + 0.010*\"blouse\" + 0.010*\"chest\" + 0.010*\"picture\"\n",
      "\n"
     ]
    }
   ],
   "source": [
    "for i,topic in lda_model.show_topics(formatted=True, num_topics=num_topics, num_words=20):\n",
    "    print(str(i)+\": \"+ topic)\n",
    "    print()"
   ]
  },
  {
   "cell_type": "markdown",
   "metadata": {},
   "source": [
    "### Let's predict a new review to see which topic it is allocated"
   ]
  },
  {
   "cell_type": "code",
   "execution_count": null,
   "metadata": {},
   "outputs": [],
   "source": []
  }
 ],
 "metadata": {
  "kernelspec": {
   "display_name": "Python 3",
   "language": "python",
   "name": "python3"
  },
  "language_info": {
   "codemirror_mode": {
    "name": "ipython",
    "version": 3
   },
   "file_extension": ".py",
   "mimetype": "text/x-python",
   "name": "python",
   "nbconvert_exporter": "python",
   "pygments_lexer": "ipython3",
   "version": "3.7.2"
  }
 },
 "nbformat": 4,
 "nbformat_minor": 4
}
