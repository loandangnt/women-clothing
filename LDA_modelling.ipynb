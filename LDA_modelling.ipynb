{
 "cells": [
  {
   "cell_type": "code",
   "execution_count": 39,
   "metadata": {
    "_cell_guid": "b1076dfc-b9ad-4769-8c92-a6c4dae69d19",
    "_uuid": "8f2839f25d086af736a60e9eeb907d3b93b6e0e5"
   },
   "outputs": [],
   "source": [
    "import numpy as np # linear algebra\n",
    "import pandas as pd # data processing, CSV file I/O (e.g. pd.read_csv)\n",
    "import warnings\n",
    "import seaborn as sns\n",
    "import matplotlib.pyplot as plt\n",
    "warnings.filterwarnings('ignore')\n",
    "path = '/Users/dangloan/Documents/learning_analytics/project/'\n",
    "path = '/Users/dangloan/Documents/learning_analytics/project/3_data/clothing_review'\n",
    "path1 = '/Users/dangloan/Documents/learning_analytics/project/2_code/project_3/women-clothing/pickle'"
   ]
  },
  {
   "cell_type": "code",
   "execution_count": 2,
   "metadata": {},
   "outputs": [],
   "source": [
    "pd.set_option('display.max_columns', 500)\n",
    "pd.set_option('display.max_rows', 500)\n",
    "pd.set_option('display.max_colwidth', -1)"
   ]
  },
  {
   "cell_type": "markdown",
   "metadata": {},
   "source": [
    "## Read data"
   ]
  },
  {
   "cell_type": "code",
   "execution_count": 42,
   "metadata": {},
   "outputs": [],
   "source": [
    "# Load raw data\n",
    "df = pd.read_csv(path + '3_data/clothing_review/Womens Clothing E-Commerce Reviews.csv')\n",
    "\n",
    "# Clean raw data\n",
    "df.drop('Unnamed: 0', axis=1, inplace=True)\n",
    "df.columns =['Clothing_ID','Age','Title','Review_Text','Rating',\n",
    "             'Recommended_IND','Positive_Feedback_Count',\n",
    "             'Division_Name','Department_Name','Class_Name']\n",
    "#Clean data - Remove duplicates\n",
    "df[df.duplicated(keep=False)].sort_values(by='Clothing_ID')\n",
    "df.drop_duplicates(keep='first',inplace=True)"
   ]
  },
  {
   "cell_type": "code",
   "execution_count": 3,
   "metadata": {},
   "outputs": [],
   "source": [
    "# Load preprocessed data ready for modeling. Read from clean_df\n",
    "df2 = pd.read_pickle(path1 + '/clean_df.pkl')"
   ]
  },
  {
   "cell_type": "markdown",
   "metadata": {},
   "source": [
    "## Problem Statement: Topic modeling by Clothing_ID"
   ]
  },
  {
   "cell_type": "markdown",
   "metadata": {},
   "source": [
    "I'm trying to see what people complained about a product. Retailers can use the insights to prioritize improvement on the most frequently complained issues. The model segments negative review texts (low rating average, <3), and will give us an idea of what customers complain about the product on a review/purchase. I use topic modeling technique - LDA model. An expected result of the model would be that, for clothing id 1001, a negative review complained mostly about material."
   ]
  },
  {
   "cell_type": "markdown",
   "metadata": {},
   "source": [
    "Model output assessment: Human observations, Wordcound visualization.\n",
    "\n",
    "Delivery: Each low rated Clothing Category receives top 3 prioritized areas of improvement for their product and service."
   ]
  },
  {
   "cell_type": "markdown",
   "metadata": {},
   "source": [
    "## Build LDA model"
   ]
  },
  {
   "cell_type": "markdown",
   "metadata": {},
   "source": [
    "### Find the optimal number of topics"
   ]
  },
  {
   "cell_type": "code",
   "execution_count": null,
   "metadata": {},
   "outputs": [],
   "source": [
    "# ! pip install gensim"
   ]
  },
  {
   "cell_type": "code",
   "execution_count": 68,
   "metadata": {},
   "outputs": [
    {
     "name": "stderr",
     "output_type": "stream",
     "text": [
      "/Users/dangloan/miniconda3/envs/py/lib/python3.7/site-packages/ipykernel_launcher.py:19: TqdmDeprecationWarning: This function will be removed in tqdm==5.0.0\n",
      "Please use `tqdm.notebook.tqdm` instead of `tqdm.tqdm_notebook`\n"
     ]
    },
    {
     "data": {
      "application/vnd.jupyter.widget-view+json": {
       "model_id": "a103926a8d4e42b19a6ddd995a2640e4",
       "version_major": 2,
       "version_minor": 0
      },
      "text/plain": [
       "HBox(children=(FloatProgress(value=0.0, max=29.0), HTML(value='')))"
      ]
     },
     "metadata": {},
     "output_type": "display_data"
    },
    {
     "name": "stdout",
     "output_type": "stream",
     "text": [
      "\n",
      "Numberof topics = 1 has coherence value of 0.2282\n",
      "Numberof topics = 2 has coherence value of 0.2628\n",
      "Numberof topics = 3 has coherence value of 0.268\n",
      "Numberof topics = 4 has coherence value of 0.2852\n",
      "Numberof topics = 7 has coherence value of 0.2959\n",
      "Numberof topics = 10 has coherence value of 0.3013\n"
     ]
    }
   ],
   "source": [
    "import itertools\n",
    "from gensim import corpora, models\n",
    "\n",
    "import time\n",
    "from tqdm import tqdm_notebook as tqdm\n",
    "\n",
    "list_of_list_of_tokens = df2['tokens'].tolist()\n",
    "dictionary_LDA = corpora.Dictionary(list_of_list_of_tokens)\n",
    "dictionary_LDA.filter_extremes(no_below=3)\n",
    "corpus = [dictionary_LDA.doc2bow(list_of_tokens) for list_of_tokens in list_of_list_of_tokens]\n",
    "\n",
    "start = 1\n",
    "end = 30\n",
    "step = 1\n",
    "topic_range = range(start, end, step)\n",
    "\n",
    "coherence_values = []\n",
    "model_list = []\n",
    "for num_topics in tqdm(topic_range):\n",
    "    model = models.LdaMulticore(corpus=corpus,num_topics=num_topics,id2word=dictionary_LDA)\n",
    "    model_list.append(model)\n",
    "    coherencemodel = models.coherencemodel.CoherenceModel(model=model,\n",
    "                                                                texts=list_of_list_of_tokens,\n",
    "                                                                dictionary=dictionary_LDA,\n",
    "                                                                coherence='c_v')\n",
    "    coherence_values.append(coherencemodel.get_coherence())\n",
    "\n",
    "max_coherence_val = 0\n",
    "optimal_model = None\n",
    "\n",
    "# Print the coherence scores\n",
    "for i, (m,cv) in enumerate(zip(topic_range, coherence_values)):\n",
    "    if max_coherence_val < round(cv,4):\n",
    "        optimal_model = model_list[i]\n",
    "        optimal_num_topics = m\n",
    "        max_coherence_val = round(cv,4)\n",
    "        \n",
    "        print(\"Numberof topics =\", m , \"has coherence value of\" ,round(cv,4))\n",
    "\n",
    "\n"
   ]
  },
  {
   "cell_type": "code",
   "execution_count": 69,
   "metadata": {},
   "outputs": [
    {
     "data": {
      "image/png": "[encoded data removed]",
      "text/plain": [
       "<Figure size 432x288 with 1 Axes>"
      ]
     },
     "metadata": {
      "needs_background": "light"
     },
     "output_type": "display_data"
    }
   ],
   "source": [
    "#Plot coherence results\n",
    "import matplotlib.pyplot as plt\n",
    "plt.plot(coherence_values)\n",
    "plt.xlabel(\"Num_of_topics\")\n",
    "plt.ylabel(\"Coherence_score\")\n",
    "plt.legend('coherence_values', loc='best')\n",
    "plt.show() "
   ]
  },
  {
   "cell_type": "code",
   "execution_count": 4,
   "metadata": {},
   "outputs": [
    {
     "name": "stdout",
     "output_type": "stream",
     "text": [
      "CPU times: user 18.2 s, sys: 159 ms, total: 18.4 s\n",
      "Wall time: 19.5 s\n"
     ]
    }
   ],
   "source": [
    "import itertools\n",
    "from gensim import corpora, models\n",
    "\n",
    "# list_of_list_of_tokens = [[\"a\",\"b\",\"c\"], [\"d\",\"e\",\"f\"]]\n",
    "# [\"a\",\"b\",\"c\"] are the tokens of document 1, [\"d\",\"e\",\"f\"] are the tokens of document 2...\n",
    "\n",
    "# df_pos['tokens'] = df_pos['Review_Text_lemmatized'].apply(\n",
    "#     lambda x : list(itertools.chain.from_iterable(x)))\n",
    "selected_num_topics = 7\n",
    "list_of_list_of_tokens = df2['tokens'].tolist()\n",
    "dictionary_LDA = corpora.Dictionary(list_of_list_of_tokens)\n",
    "dictionary_LDA.filter_extremes(no_below=3)\n",
    "corpus = [dictionary_LDA.doc2bow(list_of_tokens) for list_of_tokens in list_of_list_of_tokens]\n",
    "\n",
    "num_topics = selected_num_topics\n",
    "%time lda_model = models.LdaModel(corpus, num_topics=num_topics, \\\n",
    "                                  id2word=dictionary_LDA, \\\n",
    "                                  random_state=123, \\\n",
    "                                  passes=4, alpha=[0.01]*num_topics, \\\n",
    "                                  eta=[0.01]*len(dictionary_LDA.keys()))"
   ]
  },
  {
   "cell_type": "code",
   "execution_count": 327,
   "metadata": {},
   "outputs": [
    {
     "name": "stdout",
     "output_type": "stream",
     "text": [
      "Selected number of topics: 7\n",
      "Perplexity:  -7.582720714924128\n",
      "Coherence Score:  0.323546680051018\n"
     ]
    }
   ],
   "source": [
    "print('Selected number of topics:', selected_num_topics)\n",
    "\n",
    "# Compute perplexity\n",
    "print('Perplexity: ', lda_model.log_perplexity(corpus)) # a measure of how good model is.\n",
    "                                                             # lower is better\n",
    "# Compute coherence score\n",
    "coherence_model_lda = models.coherencemodel.CoherenceModel(model=lda_model,\n",
    "                                                                texts=list_of_list_of_tokens,\n",
    "                                                                dictionary=dictionary_LDA,\n",
    "                                                                coherence='c_v')\n",
    "coherence_lda = coherence_model_lda.get_coherence()\n",
    "print('Coherence Score: ', coherence_lda)"
   ]
  },
  {
   "cell_type": "code",
   "execution_count": 328,
   "metadata": {},
   "outputs": [
    {
     "name": "stdout",
     "output_type": "stream",
     "text": [
      "Optimal number of topics: 10\n",
      "Perplexity:  -6.952561504890055\n",
      "Coherence Score:  0.30131718182439393\n"
     ]
    }
   ],
   "source": [
    "print('Optimal number of topics:', optimal_num_topics)\n",
    "\n",
    "# Compute perplexity\n",
    "print('Perplexity: ', optimal_model.log_perplexity(corpus)) # a measure of how good model is.\n",
    "                                                             # lower is better\n",
    "# Compute coherence score\n",
    "coherence_model_lda = models.coherencemodel.CoherenceModel(model=optimal_model,\n",
    "                                                                texts=list_of_list_of_tokens,\n",
    "                                                                dictionary=dictionary_LDA,\n",
    "                                                                coherence='c_v')\n",
    "coherence_lda = coherence_model_lda.get_coherence()\n",
    "print('Coherence Score: ', coherence_lda)"
   ]
  },
  {
   "cell_type": "markdown",
   "metadata": {},
   "source": [
    "From the coherence plot, there are two points of notice: 7 and 10 topics. The objective is to choose the smallest number of topics (lower perplexity score) with highest coherence score. From the coherence score and the perplexity score comparison of the two options, I choose the number of topics at 7."
   ]
  },
  {
   "cell_type": "markdown",
   "metadata": {},
   "source": [
    "## Visualize model output"
   ]
  },
  {
   "cell_type": "code",
   "execution_count": 93,
   "metadata": {
    "scrolled": true
   },
   "outputs": [
    {
     "name": "stdout",
     "output_type": "stream",
     "text": [
      "0: 0.054*\"color\" + 0.035*\"material\" + 0.019*\"fit\" + 0.014*\"fabric\" + 0.013*\"waist\" + 0.012*\"soft\" + 0.010*\"picture\" + 0.010*\"return\" + 0.009*\"expect\" + 0.009*\"short\" + 0.008*\"style\" + 0.008*\"size\" + 0.008*\"design\" + 0.008*\"thin\" + 0.008*\"cut\" + 0.007*\"photo\" + 0.007*\"zipper\" + 0.007*\"boxy\" + 0.007*\"red\" + 0.006*\"cheap\"\n",
      "\n",
      "1: 0.025*\"color\" + 0.021*\"fabric\" + 0.018*\"fit\" + 0.018*\"size\" + 0.014*\"white\" + 0.013*\"return\" + 0.012*\"small\" + 0.011*\"design\" + 0.011*\"black\" + 0.010*\"quality\" + 0.010*\"blue\" + 0.009*\"store\" + 0.008*\"retailer\" + 0.008*\"little\" + 0.007*\"time\" + 0.007*\"neck\" + 0.007*\"sleeve\" + 0.007*\"itchy\" + 0.007*\"tight\" + 0.006*\"front\"\n",
      "\n",
      "2: 0.030*\"wash\" + 0.020*\"fit\" + 0.018*\"size\" + 0.014*\"fabric\" + 0.014*\"short\" + 0.011*\"line\" + 0.010*\"time\" + 0.010*\"dry\" + 0.010*\"waist\" + 0.009*\"stretch\" + 0.009*\"small\" + 0.008*\"button\" + 0.008*\"color\" + 0.008*\"leg\" + 0.007*\"inch\" + 0.007*\"comfortable\" + 0.007*\"front\" + 0.006*\"hand\" + 0.006*\"retailer\" + 0.006*\"year\"\n",
      "\n",
      "3: 0.068*\"size\" + 0.043*\"small\" + 0.041*\"fit\" + 0.028*\"large\" + 0.020*\"medium\" + 0.020*\"arm\" + 0.015*\"big\" + 0.014*\"petite\" + 0.014*\"color\" + 0.012*\"fabric\" + 0.012*\"return\" + 0.011*\"tight\" + 0.009*\"waist\" + 0.008*\"huge\" + 0.008*\"design\" + 0.008*\"retailer\" + 0.007*\"length\" + 0.007*\"cut\" + 0.007*\"chest\" + 0.007*\"bust\"\n",
      "\n",
      "4: 0.019*\"shoulder\" + 0.019*\"fabric\" + 0.018*\"small\" + 0.017*\"arm\" + 0.016*\"fit\" + 0.015*\"size\" + 0.015*\"wide\" + 0.014*\"return\" + 0.013*\"cut\" + 0.012*\"length\" + 0.012*\"short\" + 0.011*\"model\" + 0.011*\"boxy\" + 0.010*\"sleeve\" + 0.010*\"bra\" + 0.009*\"print\" + 0.009*\"material\" + 0.009*\"petite\" + 0.009*\"large\" + 0.008*\"style\"\n",
      "\n",
      "5: 0.028*\"fabric\" + 0.027*\"fit\" + 0.020*\"size\" + 0.018*\"picture\" + 0.017*\"model\" + 0.017*\"small\" + 0.016*\"big\" + 0.016*\"return\" + 0.015*\"shape\" + 0.015*\"body\" + 0.014*\"material\" + 0.013*\"large\" + 0.012*\"color\" + 0.012*\"waist\" + 0.011*\"chest\" + 0.011*\"quality\" + 0.010*\"cut\" + 0.009*\"pattern\" + 0.008*\"type\" + 0.008*\"figure\"\n",
      "\n",
      "6: 0.029*\"fabric\" + 0.029*\"fit\" + 0.024*\"price\" + 0.018*\"quality\" + 0.017*\"short\" + 0.017*\"return\" + 0.015*\"high\" + 0.012*\"shape\" + 0.011*\"material\" + 0.011*\"thin\" + 0.010*\"little\" + 0.010*\"photo\" + 0.010*\"cheap\" + 0.009*\"slip\" + 0.009*\"sheer\" + 0.009*\"length\" + 0.009*\"expect\" + 0.008*\"worth\" + 0.008*\"show\" + 0.008*\"size\"\n",
      "\n"
     ]
    }
   ],
   "source": [
    "for i,topic in lda_model.show_topics(formatted=True, num_topics=num_topics, num_words=20):\n",
    "    print(str(i)+\": \"+ topic)\n",
    "    print()"
   ]
  },
  {
   "cell_type": "code",
   "execution_count": 329,
   "metadata": {},
   "outputs": [
    {
     "data": {
      "text/html": [
       "\n",
       "<link rel=\"stylesheet\" type=\"text/css\" href=\"https://cdn.rawgit.com/bmabey/pyLDAvis/files/ldavis.v1.0.0.css\">\n",
       "\n",
       "\n",
       "<div id=\"ldavis_el253349882522323182002631\"></div>\n",
       "<script type=\"text/javascript\">\n",
       "\n",
       "var ldavis_el253349882522323182002631_data = {\"mdsDat\": {\"x\": [0.021273259433558733, 0.038811755446113885, -0.08164732464936604, 0.15386113253244896, -0.022656251796743323, 0.040621483077415435, -0.15026405404342796], \"y\": [0.0971449947551111, -0.038954473833288775, 0.0661993585954293, -0.09330549424288995, -0.05708938106190915, 0.1143123539041656, -0.08830735811661794], \"topics\": [1, 2, 3, 4, 5, 6, 7], \"cluster\": [1, 1, 1, 1, 1, 1, 1], \"Freq\": [20.74254035949707, 16.443832397460938, 13.910810470581055, 13.376167297363281, 12.405746459960938, 12.259140014648438, 10.861762046813965]}, \"tinfo\": {\"Category\": [\"Default\", \"Default\", \"Default\", \"Default\", \"Default\", \"Default\", \"Default\", \"Default\", \"Default\", \"Default\", \"Default\", \"Default\", \"Default\", \"Default\", \"Default\", \"Default\", \"Default\", \"Default\", \"Default\", \"Default\", \"Default\", \"Default\", \"Default\", \"Default\", \"Default\", \"Default\", \"Default\", \"Default\", \"Default\", \"Default\", \"Topic1\", \"Topic1\", \"Topic1\", \"Topic1\", \"Topic1\", \"Topic1\", \"Topic1\", \"Topic1\", \"Topic1\", \"Topic1\", \"Topic1\", \"Topic1\", \"Topic1\", \"Topic1\", \"Topic1\", \"Topic1\", \"Topic1\", \"Topic1\", \"Topic1\", \"Topic1\", \"Topic1\", \"Topic1\", \"Topic1\", \"Topic1\", \"Topic1\", \"Topic1\", \"Topic1\", \"Topic1\", \"Topic1\", \"Topic1\", \"Topic1\", \"Topic1\", \"Topic1\", \"Topic1\", \"Topic1\", \"Topic1\", \"Topic1\", \"Topic1\", \"Topic1\", \"Topic1\", \"Topic1\", \"Topic1\", \"Topic1\", \"Topic1\", \"Topic1\", \"Topic1\", \"Topic1\", \"Topic1\", \"Topic1\", \"Topic1\", \"Topic1\", \"Topic1\", \"Topic1\", \"Topic1\", \"Topic1\", \"Topic1\", \"Topic1\", \"Topic1\", \"Topic1\", \"Topic1\", \"Topic1\", \"Topic1\", \"Topic1\", \"Topic1\", \"Topic1\", \"Topic1\", \"Topic1\", \"Topic1\", \"Topic1\", \"Topic1\", \"Topic1\", \"Topic1\", \"Topic1\", \"Topic1\", \"Topic1\", \"Topic1\", \"Topic1\", \"Topic1\", \"Topic2\", \"Topic2\", \"Topic2\", \"Topic2\", \"Topic2\", \"Topic2\", \"Topic2\", \"Topic2\", \"Topic2\", \"Topic2\", \"Topic2\", \"Topic2\", \"Topic2\", \"Topic2\", \"Topic2\", \"Topic2\", \"Topic2\", \"Topic2\", \"Topic2\", \"Topic2\", \"Topic2\", \"Topic2\", \"Topic2\", \"Topic2\", \"Topic2\", \"Topic2\", \"Topic2\", \"Topic2\", \"Topic2\", \"Topic2\", \"Topic2\", \"Topic2\", \"Topic2\", \"Topic2\", \"Topic2\", \"Topic2\", \"Topic2\", \"Topic2\", \"Topic2\", \"Topic2\", \"Topic2\", \"Topic2\", \"Topic2\", \"Topic2\", \"Topic2\", \"Topic2\", \"Topic2\", \"Topic2\", \"Topic2\", \"Topic2\", \"Topic2\", \"Topic2\", \"Topic2\", \"Topic2\", \"Topic2\", \"Topic2\", \"Topic2\", \"Topic2\", \"Topic2\", \"Topic2\", \"Topic2\", \"Topic2\", \"Topic2\", \"Topic2\", \"Topic2\", \"Topic2\", \"Topic2\", \"Topic2\", \"Topic2\", \"Topic2\", \"Topic2\", \"Topic2\", \"Topic2\", \"Topic2\", \"Topic2\", \"Topic2\", \"Topic2\", \"Topic2\", \"Topic3\", \"Topic3\", \"Topic3\", \"Topic3\", \"Topic3\", \"Topic3\", \"Topic3\", \"Topic3\", \"Topic3\", \"Topic3\", \"Topic3\", \"Topic3\", \"Topic3\", \"Topic3\", \"Topic3\", \"Topic3\", \"Topic3\", \"Topic3\", \"Topic3\", \"Topic3\", \"Topic3\", \"Topic3\", \"Topic3\", \"Topic3\", \"Topic3\", \"Topic3\", \"Topic3\", \"Topic3\", \"Topic3\", \"Topic3\", \"Topic3\", \"Topic3\", \"Topic3\", \"Topic3\", \"Topic3\", \"Topic3\", \"Topic3\", \"Topic3\", \"Topic3\", \"Topic3\", \"Topic3\", \"Topic3\", \"Topic3\", \"Topic3\", \"Topic3\", \"Topic3\", \"Topic3\", \"Topic3\", \"Topic3\", \"Topic3\", \"Topic3\", \"Topic3\", \"Topic3\", \"Topic3\", \"Topic3\", \"Topic3\", \"Topic3\", \"Topic3\", \"Topic3\", \"Topic3\", \"Topic3\", \"Topic3\", \"Topic3\", \"Topic3\", \"Topic3\", \"Topic3\", \"Topic3\", \"Topic3\", \"Topic3\", \"Topic3\", \"Topic3\", \"Topic3\", \"Topic3\", \"Topic3\", \"Topic3\", \"Topic3\", \"Topic3\", \"Topic3\", \"Topic3\", \"Topic3\", \"Topic3\", \"Topic3\", \"Topic3\", \"Topic3\", \"Topic4\", \"Topic4\", \"Topic4\", \"Topic4\", \"Topic4\", \"Topic4\", \"Topic4\", \"Topic4\", \"Topic4\", \"Topic4\", \"Topic4\", \"Topic4\", \"Topic4\", \"Topic4\", \"Topic4\", \"Topic4\", \"Topic4\", \"Topic4\", \"Topic4\", \"Topic4\", \"Topic4\", \"Topic4\", \"Topic4\", \"Topic4\", \"Topic4\", \"Topic4\", \"Topic4\", \"Topic4\", \"Topic4\", \"Topic4\", \"Topic4\", \"Topic4\", \"Topic4\", \"Topic4\", \"Topic4\", \"Topic4\", \"Topic4\", \"Topic4\", \"Topic4\", \"Topic4\", \"Topic4\", \"Topic4\", \"Topic4\", \"Topic4\", \"Topic4\", \"Topic4\", \"Topic4\", \"Topic4\", \"Topic4\", \"Topic4\", \"Topic4\", \"Topic4\", \"Topic4\", \"Topic4\", \"Topic4\", \"Topic4\", \"Topic4\", \"Topic4\", \"Topic4\", \"Topic4\", \"Topic4\", \"Topic4\", \"Topic4\", \"Topic4\", \"Topic4\", \"Topic4\", \"Topic4\", \"Topic4\", \"Topic4\", \"Topic4\", \"Topic4\", \"Topic4\", \"Topic4\", \"Topic4\", \"Topic4\", \"Topic4\", \"Topic4\", \"Topic4\", \"Topic5\", \"Topic5\", \"Topic5\", \"Topic5\", \"Topic5\", \"Topic5\", \"Topic5\", \"Topic5\", \"Topic5\", \"Topic5\", \"Topic5\", \"Topic5\", \"Topic5\", \"Topic5\", \"Topic5\", \"Topic5\", \"Topic5\", \"Topic5\", \"Topic5\", \"Topic5\", \"Topic5\", \"Topic5\", \"Topic5\", \"Topic5\", \"Topic5\", \"Topic5\", \"Topic5\", \"Topic5\", \"Topic5\", \"Topic5\", \"Topic5\", \"Topic5\", \"Topic5\", \"Topic5\", \"Topic5\", \"Topic5\", \"Topic5\", \"Topic5\", \"Topic5\", \"Topic5\", \"Topic5\", \"Topic5\", \"Topic5\", \"Topic5\", \"Topic5\", \"Topic5\", \"Topic5\", \"Topic5\", \"Topic5\", \"Topic5\", \"Topic5\", \"Topic5\", \"Topic5\", \"Topic5\", \"Topic5\", \"Topic5\", \"Topic5\", \"Topic5\", \"Topic5\", \"Topic5\", \"Topic5\", \"Topic5\", \"Topic5\", \"Topic5\", \"Topic5\", \"Topic5\", \"Topic5\", \"Topic5\", \"Topic5\", \"Topic5\", \"Topic5\", \"Topic5\", \"Topic5\", \"Topic5\", \"Topic5\", \"Topic5\", \"Topic6\", \"Topic6\", \"Topic6\", \"Topic6\", \"Topic6\", \"Topic6\", \"Topic6\", \"Topic6\", \"Topic6\", \"Topic6\", \"Topic6\", \"Topic6\", \"Topic6\", \"Topic6\", \"Topic6\", \"Topic6\", \"Topic6\", \"Topic6\", \"Topic6\", \"Topic6\", \"Topic6\", \"Topic6\", \"Topic6\", \"Topic6\", \"Topic6\", \"Topic6\", \"Topic6\", \"Topic6\", \"Topic6\", \"Topic6\", \"Topic6\", \"Topic6\", \"Topic6\", \"Topic6\", \"Topic6\", \"Topic6\", \"Topic6\", \"Topic6\", \"Topic6\", \"Topic6\", \"Topic6\", \"Topic6\", \"Topic6\", \"Topic6\", \"Topic6\", \"Topic6\", \"Topic6\", \"Topic6\", \"Topic6\", \"Topic6\", \"Topic6\", \"Topic6\", \"Topic6\", \"Topic6\", \"Topic6\", \"Topic6\", \"Topic6\", \"Topic6\", \"Topic6\", \"Topic6\", \"Topic6\", \"Topic6\", \"Topic6\", \"Topic6\", \"Topic6\", \"Topic6\", \"Topic6\", \"Topic6\", \"Topic6\", \"Topic6\", \"Topic6\", \"Topic6\", \"Topic6\", \"Topic6\", \"Topic6\", \"Topic6\", \"Topic6\", \"Topic6\", \"Topic6\", \"Topic6\", \"Topic6\", \"Topic6\", \"Topic6\", \"Topic6\", \"Topic7\", \"Topic7\", \"Topic7\", \"Topic7\", \"Topic7\", \"Topic7\", \"Topic7\", \"Topic7\", \"Topic7\", \"Topic7\", \"Topic7\", \"Topic7\", \"Topic7\", \"Topic7\", \"Topic7\", \"Topic7\", \"Topic7\", \"Topic7\", \"Topic7\", \"Topic7\", \"Topic7\", \"Topic7\", \"Topic7\", \"Topic7\", \"Topic7\", \"Topic7\", \"Topic7\", \"Topic7\", \"Topic7\", \"Topic7\", \"Topic7\", \"Topic7\", \"Topic7\", \"Topic7\", \"Topic7\", \"Topic7\", \"Topic7\", \"Topic7\", \"Topic7\", \"Topic7\", \"Topic7\", \"Topic7\", \"Topic7\", \"Topic7\", \"Topic7\", \"Topic7\", \"Topic7\", \"Topic7\", \"Topic7\", \"Topic7\", \"Topic7\", \"Topic7\", \"Topic7\", \"Topic7\", \"Topic7\", \"Topic7\", \"Topic7\", \"Topic7\", \"Topic7\", \"Topic7\", \"Topic7\", \"Topic7\", \"Topic7\", \"Topic7\", \"Topic7\", \"Topic7\", \"Topic7\", \"Topic7\", \"Topic7\", \"Topic7\", \"Topic7\", \"Topic7\", \"Topic7\", \"Topic7\", \"Topic7\", \"Topic7\", \"Topic7\", \"Topic7\", \"Topic7\", \"Topic7\", \"Topic7\", \"Topic7\", \"Topic7\", \"Topic7\", \"Topic7\", \"Topic7\", \"Topic7\"], \"Freq\": [1386.0, 380.0, 590.0, 891.0, 2140.0, 426.0, 398.0, 1451.0, 482.0, 122.0, 413.0, 301.0, 297.0, 301.0, 559.0, 506.0, 617.0, 728.0, 263.0, 936.0, 294.0, 214.0, 326.0, 382.0, 106.0, 232.0, 1584.0, 144.0, 119.0, 379.0, 14.831599235534668, 12.998941421508789, 12.167994499206543, 12.66545295715332, 19.292343139648438, 12.497196197509766, 9.831645965576172, 9.829072952270508, 22.240528106689453, 8.670036315917969, 8.666400909423828, 8.655221939086914, 8.16537094116211, 7.8386921882629395, 8.332077980041504, 7.3365864753723145, 6.998567581176758, 7.997511863708496, 7.004189968109131, 6.9933085441589355, 6.506157875061035, 6.485350131988525, 6.48787784576416, 6.000248908996582, 6.167643070220947, 7.1360979080200195, 5.6677045822143555, 5.666229248046875, 5.671363353729248, 5.673122882843018, 24.760475158691406, 12.47915267944336, 64.19270324707031, 7.786365509033203, 10.509516716003418, 21.05977439880371, 21.495342254638672, 343.2572021484375, 79.36128997802734, 1161.9810791015625, 86.79146575927734, 734.7650756835938, 335.7586669921875, 70.9229507446289, 476.28839111328125, 103.64290618896484, 241.07240295410156, 70.90097045898438, 99.7786636352539, 23.22382926940918, 20.683271408081055, 706.8853149414062, 260.9402770996094, 25.167509078979492, 183.095947265625, 142.74281311035156, 24.824010848999023, 121.63883209228516, 66.51319122314453, 44.894798278808594, 70.22932434082031, 122.46482849121094, 160.10891723632812, 118.3116226196289, 138.89599609375, 126.41372680664062, 200.32534790039062, 237.1453857421875, 131.8114471435547, 107.50017547607422, 124.36443328857422, 214.16683959960938, 95.00567626953125, 104.880126953125, 84.34423065185547, 102.05485534667969, 95.33653259277344, 87.77117919921875, 25.71474838256836, 20.845468521118164, 17.651874542236328, 14.306839942932129, 19.611465454101562, 13.388362884521484, 13.84367847442627, 15.35810375213623, 15.660541534423828, 25.026357650756836, 12.168152809143066, 10.194329261779785, 10.187369346618652, 12.76142692565918, 9.890827178955078, 9.876628875732422, 10.041109085083008, 9.892545700073242, 8.830408096313477, 10.650710105895996, 8.669563293457031, 8.370904922485352, 8.214132308959961, 21.06838607788086, 9.884220123291016, 9.434640884399414, 7.914639472961426, 7.913837909698486, 7.905715465545654, 7.604790210723877, 47.12660217285156, 15.486076354980469, 8.966545104980469, 8.510845184326172, 92.67220306396484, 17.750829696655273, 195.1990203857422, 153.3402557373047, 20.373252868652344, 132.6166534423828, 18.814746856689453, 97.9962158203125, 20.655879974365234, 53.75774383544922, 14.111263275146484, 39.60111618041992, 17.979780197143555, 33.903839111328125, 341.10577392578125, 153.69256591796875, 51.920719146728516, 118.76372528076172, 282.2363586425781, 100.17343139648438, 25.986652374267578, 177.9927520751953, 140.23182678222656, 97.4284896850586, 246.2487335205078, 244.55307006835938, 113.79512023925781, 74.19943237304688, 105.96863555908203, 61.204673767089844, 86.09257507324219, 55.6827507019043, 162.3614959716797, 92.23896789550781, 59.21651840209961, 75.91215515136719, 54.035491943359375, 76.72994232177734, 66.78499603271484, 76.39391326904297, 57.726558685302734, 60.59530258178711, 62.307220458984375, 60.977210998535156, 15.654502868652344, 17.274234771728516, 12.720467567443848, 11.905529975891113, 12.551629066467285, 10.59272289276123, 11.563043594360352, 10.427502632141113, 7.667157173156738, 7.659561634063721, 9.773035049438477, 9.295473098754883, 7.322029113769531, 7.183196544647217, 6.816154956817627, 6.856158256530762, 6.852367401123047, 6.365066051483154, 6.528665542602539, 5.868133068084717, 5.546819686889648, 5.543612003326416, 5.548895835876465, 6.833159446716309, 5.219696521759033, 4.730676174163818, 4.72368860244751, 4.697683811187744, 26.639192581176758, 4.736059665679932, 9.382865905761719, 6.504818916320801, 23.86426544189453, 66.84371185302734, 13.479788780212402, 22.383073806762695, 15.223943710327148, 15.692218780517578, 8.19477653503418, 70.30074310302734, 11.526901245117188, 96.56444549560547, 17.64035987854004, 25.587753295898438, 92.84571838378906, 18.13792610168457, 167.41261291503906, 25.899654388427734, 51.93610763549805, 171.60438537597656, 199.23980712890625, 74.2608642578125, 210.26731872558594, 29.295642852783203, 66.57011413574219, 49.042938232421875, 36.25478744506836, 130.70370483398438, 42.32761764526367, 182.4447479248047, 52.083553314208984, 100.33855438232422, 318.59149169921875, 30.867298126220703, 33.81211853027344, 316.8404541015625, 89.77810668945312, 181.49241638183594, 134.4942626953125, 157.15109252929688, 119.24573516845703, 197.1763916015625, 154.94631958007812, 130.23858642578125, 225.45703125, 75.9647216796875, 84.31546020507812, 69.87511444091797, 134.7188262939453, 83.18122100830078, 91.39170837402344, 71.92533111572266, 75.17475128173828, 71.3270263671875, 24.673568725585938, 19.066844940185547, 33.437591552734375, 13.297633171081543, 16.653310775756836, 11.694515228271484, 11.218545913696289, 14.729494094848633, 13.286091804504395, 53.45689392089844, 9.604024887084961, 10.578329086303711, 9.135890007019043, 9.131575584411621, 9.13014030456543, 10.411110877990723, 11.046686172485352, 8.813032150268555, 8.652787208557129, 8.815495491027832, 8.331991195678711, 8.327113151550293, 15.799304008483887, 7.848272323608398, 8.004637718200684, 8.01248550415039, 39.02910614013672, 21.042646408081055, 6.895553112030029, 9.756753921508789, 39.87419128417969, 21.647228240966797, 39.29859161376953, 13.556546211242676, 48.740081787109375, 11.004453659057617, 113.18690490722656, 13.746513366699219, 13.279160499572754, 331.5481872558594, 18.694974899291992, 39.24109649658203, 30.90616226196289, 53.93299865722656, 24.91728973388672, 71.59789276123047, 40.0141716003418, 66.39395141601562, 83.32254791259766, 38.24213409423828, 98.55398559570312, 82.8885726928711, 39.1224250793457, 58.02690124511719, 21.203554153442383, 44.23116683959961, 66.22113037109375, 114.00458526611328, 122.59485626220703, 60.981048583984375, 90.2343521118164, 153.54367065429688, 79.57506561279297, 222.4749755859375, 202.97244262695312, 110.29557800292969, 154.3323974609375, 75.46808624267578, 59.06694793701172, 57.45199203491211, 96.45391845703125, 88.46459197998047, 68.45365905761719, 59.780860900878906, 59.830814361572266, 62.7471923828125, 60.41233825683594, 57.0526008605957, 18.81912612915039, 13.170306205749512, 10.18355655670166, 14.81961441040039, 11.332274436950684, 8.67885971069336, 9.840408325195312, 8.177173614501953, 8.16634464263916, 8.835556030273438, 7.337371349334717, 7.4986572265625, 13.631819725036621, 7.00849723815918, 6.843363285064697, 7.501852989196777, 6.5085272789001465, 6.504918098449707, 8.65769100189209, 6.008075714111328, 6.000313758850098, 5.678743839263916, 5.67807674407959, 5.676024913787842, 5.661202907562256, 6.668344020843506, 6.340342998504639, 5.342745304107666, 19.524200439453125, 5.173239707946777, 10.41451644897461, 6.155648231506348, 8.159332275390625, 32.32268142700195, 9.341449737548828, 40.550533294677734, 96.93397521972656, 25.541196823120117, 243.39694213867188, 62.51777267456055, 15.546797752380371, 78.43479919433594, 16.815710067749023, 66.26915740966797, 96.31591033935547, 44.62654495239258, 152.77267456054688, 11.736530303955078, 74.03555297851562, 103.28195190429688, 63.03817367553711, 29.4200382232666, 190.19468688964844, 30.735462188720703, 179.47134399414062, 303.01287841796875, 120.89924621582031, 93.7984390258789, 103.6999282836914, 113.11666107177734, 297.2635498046875, 71.58369445800781, 178.83802795410156, 57.19126510620117, 103.9415283203125, 45.175010681152344, 95.7529525756836, 78.38740539550781, 68.64334869384766, 113.38583374023438, 71.25064086914062, 73.8663101196289, 72.4124526977539, 70.7564697265625, 78.0294189453125, 70.20328521728516, 13.703027725219727, 28.805330276489258, 12.546761512756348, 11.20715618133545, 11.054428100585938, 14.656792640686035, 8.580229759216309, 11.211548805236816, 8.247030258178711, 9.571610450744629, 13.829691886901855, 7.924032688140869, 10.383907318115234, 7.265428066253662, 7.921116352081299, 6.44064998626709, 6.437762260437012, 6.441529750823975, 6.9328460693359375, 6.116589069366455, 6.114331245422363, 6.105257987976074, 10.198348999023438, 6.1059136390686035, 5.285396099090576, 5.12388277053833, 5.120397567749023, 5.116962909698486, 5.112636566162109, 5.123858451843262, 13.968254089355469, 5.613410949707031, 6.899274826049805, 21.25634765625, 5.281631946563721, 16.454011917114258, 7.762942790985107, 22.364437103271484, 42.17171096801758, 10.400437355041504, 35.857120513916016, 28.61964225769043, 196.4262237548828, 24.968873977661133, 150.40272521972656, 16.360090255737305, 55.21492385864258, 102.34479522705078, 27.415767669677734, 24.197830200195312, 41.5723762512207, 108.73328399658203, 39.6933479309082, 173.5406494140625, 63.96308898925781, 44.291160583496094, 92.71571350097656, 124.00596618652344, 105.9150390625, 46.498321533203125, 132.4639434814453, 50.60315704345703, 72.8545913696289, 111.51611328125, 50.02580642700195, 180.03668212890625, 188.51336669921875, 119.56098175048828, 138.12118530273438, 87.19755554199219, 75.89850616455078, 50.16698455810547, 61.80162048339844, 158.11610412597656, 151.19903564453125, 76.42154693603516, 89.83818817138672, 71.09190368652344, 87.03060913085938, 63.38199996948242, 67.8016357421875, 68.4212875366211, 59.927310943603516, 57.291934967041016, 17.384624481201172, 13.606287956237793, 12.304967880249023, 13.773569107055664, 9.341299057006836, 10.165703773498535, 9.344991683959961, 24.984102249145508, 9.022379875183105, 8.031143188476562, 8.198782920837402, 9.993433952331543, 11.130500793457031, 6.889008045196533, 10.306516647338867, 7.051189422607422, 11.11949348449707, 6.398224353790283, 6.390183925628662, 7.37773323059082, 6.886659622192383, 6.234176158905029, 5.580898761749268, 6.059985160827637, 6.391183853149414, 5.252269744873047, 13.193948745727539, 8.660470962524414, 5.726985931396484, 24.04245948791504, 10.27222728729248, 10.109002113342285, 7.98909330368042, 23.948698043823242, 26.81436538696289, 19.874975204467773, 11.609467506408691, 12.424972534179688, 52.239776611328125, 12.177699089050293, 57.12221145629883, 27.27685546875, 14.670421600341797, 49.332496643066406, 20.355472564697266, 486.1327209472656, 43.098915100097656, 312.5118103027344, 25.416439056396484, 38.92825698852539, 55.136077880859375, 60.30232620239258, 59.629425048828125, 35.916236877441406, 17.45646858215332, 47.74873733520508, 21.381135940551758, 106.92032623291016, 17.263681411743164, 82.20630645751953, 42.2936897277832, 39.10255432128906, 44.55708694458008, 115.81903076171875, 52.232810974121094, 47.93172073364258, 45.791603088378906, 93.91405487060547, 54.615234375, 168.86666870117188, 56.99309158325195, 55.52220916748047, 74.13015747070312, 76.07134246826172, 123.91387939453125, 75.41466522216797, 64.38357543945312, 92.13983917236328, 57.92099380493164, 60.08720397949219, 77.2957763671875, 70.66983032226562, 57.33864974975586, 75.93936920166016, 56.37020492553711, 53.7203483581543, 52.55678939819336], \"Term\": [\"color\", \"wash\", \"arm\", \"material\", \"size\", \"price\", \"shoulder\", \"small\", \"medium\", \"dry\", \"shape\", \"white\", \"boxy\", \"wide\", \"picture\", \"model\", \"waist\", \"short\", \"cheap\", \"large\", \"expect\", \"blue\", \"time\", \"body\", \"itchy\", \"black\", \"fabric\", \"slip\", \"leg\", \"chest\", \"careful\", \"jump\", \"service\", \"dumpy\", \"sz\", \"taper\", \"late\", \"share\", \"execution\", \"moo\", \"hoodie\", \"sash\", \"replacement\", \"street\", \"lol\", \"choke\", \"ginormous\", \"def\", \"rust\", \"compel\", \"stuffed\", \"buck\", \"rinse\", \"chiffon\", \"extend\", \"chemical\", \"tshirt\", \"layering\", \"reconsider\", \"packaging\", \"gal\", \"damage\", \"upper\", \"droopy\", \"certain\", \"swimming\", \"well\", \"medium\", \"belt\", \"size\", \"xl\", \"small\", \"arm\", \"cup\", \"large\", \"regular\", \"petite\", \"normal\", \"usual\", \"movement\", \"weigh\", \"fit\", \"big\", \"slender\", \"tight\", \"huge\", \"lift\", \"bust\", \"decide\", \"snug\", \"tried\", \"chest\", \"waist\", \"store\", \"design\", \"length\", \"return\", \"color\", \"retailer\", \"shoulder\", \"cut\", \"fabric\", \"find\", \"quality\", \"sale\", \"material\", \"short\", \"sleeve\", \"beige\", \"block\", \"cowl\", \"moss\", \"motif\", \"strong\", \"forgive\", \"control\", \"hair\", \"mistake\", \"lint\", \"fleece\", \"bizarre\", \"mother\", \"skip\", \"wrinkly\", \"fault\", \"buyer\", \"tucked\", \"noticeable\", \"rave\", \"pencil\", \"hassle\", \"turtleneck\", \"acrylic\", \"fuzz\", \"abdomen\", \"remain\", \"dingy\", \"challenge\", \"gray\", \"brighter\", \"net\", \"rare\", \"itchy\", \"gold\", \"white\", \"black\", \"bother\", \"blue\", \"wardrobe\", \"neck\", \"coral\", \"grey\", \"pilled\", \"embroidery\", \"buying\", \"stripe\", \"color\", \"design\", \"green\", \"store\", \"fabric\", \"time\", \"pilling\", \"return\", \"quality\", \"sleeve\", \"fit\", \"size\", \"retailer\", \"area\", \"little\", \"thing\", \"front\", \"excite\", \"small\", \"tight\", \"first\", \"photo\", \"day\", \"side\", \"chest\", \"large\", \"hole\", \"line\", \"picture\", \"style\", \"seams\", \"drawstring\", \"poly\", \"lo\", \"static\", \"cashmere\", \"modern\", \"tan\", \"summery\", \"effort\", \"sheen\", \"cutout\", \"complement\", \"halloween\", \"selling\", \"undershirt\", \"capri\", \"alright\", \"impress\", \"situation\", \"useful\", \"vivid\", \"compensate\", \"exaggerate\", \"painful\", \"examine\", \"goodness\", \"colored\", \"ton\", \"couldnt\", \"towards\", \"site\", \"matter\", \"hourglass\", \"received\", \"potato\", \"catalog\", \"costume\", \"worried\", \"sack\", \"swimsuit\", \"type\", \"beach\", \"suggest\", \"figure\", \"better\", \"body\", \"center\", \"woman\", \"shape\", \"model\", \"suit\", \"picture\", \"chested\", \"thick\", \"flare\", \"curve\", \"chest\", \"bulky\", \"big\", \"maternity\", \"pattern\", \"fabric\", \"peplum\", \"polyester\", \"fit\", \"boxy\", \"return\", \"waist\", \"material\", \"cut\", \"small\", \"large\", \"quality\", \"size\", \"loose\", \"bust\", \"receive\", \"color\", \"side\", \"retailer\", \"front\", \"short\", \"thin\", \"ag\", \"inner\", \"instruction\", \"practical\", \"dryer\", \"sending\", \"coh\", \"cycle\", \"chino\", \"shrunk\", \"impractical\", \"stet\", \"title\", \"faded\", \"enhance\", \"amazing\", \"ten\", \"inconsistent\", \"sheerness\", \"protrude\", \"sport\", \"paris\", \"exact\", \"attempt\", \"lined\", \"undo\", \"water\", \"space\", \"remover\", \"wet\", \"shrink\", \"change\", \"pilcro\", \"softness\", \"jumpsuit\", \"public\", \"dry\", \"airy\", \"search\", \"wash\", \"machine\", \"legs\", \"crotch\", \"cold\", \"follow\", \"hand\", \"waistband\", \"year\", \"leg\", \"romper\", \"stretch\", \"inch\", \"clean\", \"thigh\", \"iron\", \"delicate\", \"use\", \"time\", \"line\", \"pocket\", \"button\", \"short\", \"comfortable\", \"fit\", \"size\", \"waist\", \"fabric\", \"front\", \"first\", \"problem\", \"small\", \"color\", \"retailer\", \"length\", \"little\", \"return\", \"material\", \"quality\", \"thru\", \"ready\", \"gauze\", \"scoop\", \"horizontal\", \"occasion\", \"cuter\", \"hesitate\", \"ref\", \"charge\", \"number\", \"washable\", \"yarn\", \"comical\", \"resemble\", \"quite\", \"irritate\", \"final\", \"dislike\", \"sits\", \"dressing\", \"ribbed\", \"suitable\", \"current\", \"safe\", \"define\", \"stretched\", \"shower\", \"visible\", \"modest\", \"needle\", \"tissue\", \"laundry\", \"smell\", \"glove\", \"silk\", \"slip\", \"box\", \"price\", \"waisted\", \"wedding\", \"worth\", \"poof\", \"underneath\", \"sheer\", \"money\", \"high\", \"bath\", \"summer\", \"cheap\", \"layer\", \"tuck\", \"quality\", \"slit\", \"short\", \"fabric\", \"shape\", \"expect\", \"photo\", \"thin\", \"fit\", \"something\", \"return\", \"nothing\", \"little\", \"hope\", \"length\", \"show\", \"sale\", \"material\", \"find\", \"style\", \"waist\", \"picture\", \"size\", \"large\", \"mislead\", \"giant\", \"shawl\", \"slinky\", \"sm\", \"mesh\", \"tough\", \"unstructured\", \"perfection\", \"cap\", \"obvious\", \"darn\", \"key\", \"reservation\", \"dollar\", \"exclusive\", \"bet\", \"distress\", \"fly\", \"cartonnier\", \"school\", \"underwire\", \"amp\", \"worked\", \"sym\", \"ultra\", \"stress\", \"bill\", \"lilac\", \"tip\", \"tights\", \"mini\", \"hint\", \"stylish\", \"ring\", \"robe\", \"apparent\", \"xsp\", \"vest\", \"strapless\", \"swim\", \"waste\", \"shoulder\", \"foot\", \"wide\", \"shift\", \"tunic\", \"bra\", \"broad\", \"width\", \"girl\", \"boxy\", \"cover\", \"arm\", \"seam\", \"armhole\", \"print\", \"length\", \"sleeve\", \"adorable\", \"cut\", \"open\", \"low\", \"model\", \"neckline\", \"small\", \"fabric\", \"short\", \"return\", \"petite\", \"huge\", \"frame\", \"hole\", \"fit\", \"size\", \"style\", \"material\", \"thin\", \"large\", \"side\", \"retailer\", \"big\", \"little\", \"front\", \"boyfriend\", \"glass\", \"dusty\", \"clung\", \"watch\", \"saggy\", \"functional\", \"rich\", \"name\", \"fits\", \"hi\", \"floreat\", \"boy\", \"intent\", \"overlay\", \"execute\", \"outside\", \"degree\", \"unhappy\", \"gown\", \"florida\", \"edgy\", \"oatmeal\", \"killer\", \"plum\", \"tapered\", \"overwhelming\", \"burgundy\", \"absolute\", \"rough\", \"anticipate\", \"mustard\", \"arrived\", \"volume\", \"mute\", \"drab\", \"hat\", \"lump\", \"vibrant\", \"background\", \"pink\", \"stun\", \"chic\", \"orange\", \"bulk\", \"color\", \"navy\", \"material\", \"ish\", \"version\", \"pretty\", \"zipper\", \"red\", \"yellow\", \"bump\", \"cotton\", \"brown\", \"soft\", \"likely\", \"expect\", \"stiff\", \"casual\", \"tee\", \"waist\", \"heavy\", \"kind\", \"pocket\", \"picture\", \"different\", \"fit\", \"detail\", \"wish\", \"thin\", \"style\", \"fabric\", \"design\", \"photo\", \"return\", \"cheap\", \"boxy\", \"short\", \"cut\", \"right\", \"size\", \"hip\", \"pattern\", \"little\"], \"Total\": [1386.0, 380.0, 590.0, 891.0, 2140.0, 426.0, 398.0, 1451.0, 482.0, 122.0, 413.0, 301.0, 297.0, 301.0, 559.0, 506.0, 617.0, 728.0, 263.0, 936.0, 294.0, 214.0, 326.0, 382.0, 106.0, 232.0, 1584.0, 144.0, 119.0, 379.0, 14.897358894348145, 13.059348106384277, 12.232111930847168, 12.732354164123535, 19.396224975585938, 12.572815895080566, 9.89168643951416, 9.889113426208496, 22.391151428222656, 8.730076789855957, 8.726441383361816, 8.715262413024902, 8.225411415100098, 7.898733615875244, 8.39944076538086, 7.396709442138672, 7.0586090087890625, 8.066455841064453, 7.067038536071777, 7.057260036468506, 6.56619930267334, 6.54539155960083, 6.548325538635254, 6.060290336608887, 6.230061054229736, 7.210308074951172, 5.72774600982666, 5.72627067565918, 5.731682777404785, 5.733618259429932, 25.370901107788086, 12.741724014282227, 67.92664337158203, 7.8998541831970215, 10.732101440429688, 23.025510787963867, 23.574068069458008, 482.08746337890625, 104.71231079101562, 2140.131591796875, 123.85726165771484, 1451.3489990234375, 590.6370239257812, 100.42546081542969, 936.5335083007812, 163.07078552246094, 470.2216796875, 108.6556167602539, 177.44454956054688, 29.346986770629883, 25.61298179626465, 2116.69580078125, 660.58251953125, 33.92947769165039, 462.7722473144531, 355.9723205566406, 33.751121520996094, 326.8264465332031, 142.97610473632812, 82.62102508544922, 161.19332885742188, 379.91766357421875, 617.2769775390625, 383.6902160644531, 512.6934814453125, 472.5362854003906, 1031.6568603515625, 1386.263427734375, 549.8773193359375, 398.3743896484375, 556.3524169921875, 1584.76708984375, 365.8031311035156, 716.249267578125, 269.3819885253906, 891.6568603515625, 728.8538208007812, 387.87103271484375, 25.787405014038086, 20.906408309936523, 17.712814331054688, 14.369359970092773, 19.698715209960938, 13.449302673339844, 13.908461570739746, 15.433135032653809, 15.744253158569336, 25.170169830322266, 12.239158630371094, 10.255269050598145, 10.248309135437012, 12.838873863220215, 9.951766967773438, 9.93957233428955, 10.105377197265625, 9.956025123596191, 8.891351699829102, 10.724440574645996, 8.730643272399902, 8.431844711303711, 8.27507209777832, 21.226198196411133, 9.959970474243164, 9.507158279418945, 7.975580215454102, 7.974778652191162, 7.96665620803833, 7.665757656097412, 47.91142654418945, 15.738606452941895, 9.050152778625488, 8.584160804748535, 106.35655212402344, 19.205318450927734, 301.4410705566406, 232.53485107421875, 23.58237648010254, 214.80532836914062, 21.879793167114258, 173.9230499267578, 24.927988052368164, 88.04995727539062, 15.702432632446289, 61.9913330078125, 22.100719451904297, 52.76511764526367, 1386.263427734375, 512.6934814453125, 108.3768081665039, 383.6902160644531, 1584.76708984375, 326.0352478027344, 38.77854537963867, 1031.6568603515625, 716.249267578125, 387.87103271484375, 2116.69580078125, 2140.131591796875, 549.8773193359375, 258.34454345703125, 494.0444641113281, 193.48135375976562, 376.3365478515625, 162.595458984375, 1451.3489990234375, 462.7722473144531, 185.33932495117188, 350.4224548339844, 161.88719177246094, 400.3006286621094, 379.91766357421875, 936.5335083007812, 235.5668182373047, 365.20037841796875, 559.9089965820312, 455.39593505859375, 15.714765548706055, 17.352081298828125, 12.780795097351074, 11.966464042663574, 12.625163078308105, 10.654937744140625, 11.638912200927734, 10.495946884155273, 7.727420330047607, 7.71982479095459, 9.850513458251953, 9.371687889099121, 7.3822922706604, 7.243459701538086, 6.876418113708496, 6.91864013671875, 6.915177345275879, 6.425329208374023, 6.594109535217285, 5.928396224975586, 5.607085704803467, 5.603919506072998, 5.609679222106934, 6.912415981292725, 5.282998561859131, 4.7909393310546875, 4.783951759338379, 4.757946968078613, 26.983850479125977, 4.7980265617370605, 9.521132469177246, 6.591364860534668, 24.827041625976562, 71.40901947021484, 14.094342231750488, 24.176822662353516, 16.305767059326172, 17.054426193237305, 8.559097290039062, 93.5145263671875, 12.639695167541504, 148.26046752929688, 21.575517654418945, 35.41410446166992, 178.49932861328125, 23.184803009033203, 382.03192138671875, 36.52244186401367, 88.74395751953125, 413.3958740234375, 506.9532775878906, 143.4044647216797, 559.9089965820312, 43.3880615234375, 138.42942810058594, 92.30802917480469, 60.72126770019531, 379.91766357421875, 75.95719909667969, 660.58251953125, 104.77545928955078, 278.5321350097656, 1584.76708984375, 48.74720001220703, 57.7140007019043, 2116.69580078125, 297.2266845703125, 1031.6568603515625, 617.2769775390625, 891.6568603515625, 556.3524169921875, 1451.3489990234375, 936.5335083007812, 716.249267578125, 2140.131591796875, 255.26080322265625, 326.8264465332031, 251.51625061035156, 1386.263427734375, 400.3006286621094, 549.8773193359375, 376.3365478515625, 728.8538208007812, 426.6988830566406, 24.73502540588379, 19.127286911010742, 33.568973541259766, 13.358075141906738, 16.731874465942383, 11.75495719909668, 11.278987884521484, 14.815342903137207, 13.366987228393555, 53.78267288208008, 9.664466857910156, 10.647516250610352, 9.196331977844238, 9.192017555236816, 9.190582275390625, 10.480515480041504, 11.122185707092285, 8.87381362915039, 8.713229179382324, 8.879115104675293, 8.392433166503906, 8.387555122375488, 15.91905689239502, 7.908714294433594, 8.066411972045898, 8.078166961669922, 39.355445861816406, 21.21995735168457, 6.956032752990723, 9.843986511230469, 40.30189895629883, 21.860857009887695, 39.99789810180664, 13.693180084228516, 50.65747833251953, 11.118560791015625, 122.90418243408203, 13.989581108093262, 13.530108451843262, 380.4113464355469, 19.486656188964844, 43.22831726074219, 33.90165328979492, 61.87886047363281, 27.047006607055664, 86.67105865478516, 47.59292221069336, 86.8628921508789, 119.37519073486328, 48.139801025390625, 183.3473358154297, 149.06898498535156, 56.37880325317383, 99.12811279296875, 25.17933464050293, 75.31692504882812, 141.2893524169922, 326.0352478027344, 365.20037841796875, 130.9786834716797, 267.9223327636719, 728.8538208007812, 231.5391845703125, 2116.69580078125, 2140.131591796875, 617.2769775390625, 1584.76708984375, 376.3365478515625, 185.33932495117188, 196.93389892578125, 1451.3489990234375, 1386.263427734375, 549.8773193359375, 472.5362854003906, 494.0444641113281, 1031.6568603515625, 891.6568603515625, 716.249267578125, 18.911836624145508, 13.240938186645508, 10.244677543640137, 14.912947654724121, 11.406595230102539, 8.73947525024414, 9.91084098815918, 8.23720932006836, 8.226380348205566, 8.90421199798584, 7.398069858551025, 7.561791896820068, 13.747014999389648, 7.068533420562744, 6.903399467468262, 7.569279193878174, 6.568563461303711, 6.5649542808532715, 8.73970890045166, 6.068111896514893, 6.060349941253662, 5.7387800216674805, 5.738112926483154, 5.736061096191406, 5.721288204193115, 6.739915370941162, 6.408769607543945, 5.403860092163086, 19.750526428222656, 5.233275890350342, 10.575258255004883, 6.241207122802734, 8.399971008300781, 37.75213623046875, 9.8897066116333, 51.38161087036133, 144.32559204101562, 31.510499954223633, 426.10198974609375, 90.85408020019531, 18.054264068603516, 124.49994659423828, 20.266098022460938, 105.26505279541016, 174.527587890625, 69.35223388671875, 358.7477111816406, 13.681076049804688, 166.6136474609375, 263.25970458984375, 137.69898986816406, 49.051109313964844, 716.249267578125, 54.558876037597656, 728.8538208007812, 1584.76708984375, 413.3958740234375, 294.5957946777344, 350.4224548339844, 426.6988830566406, 2116.69580078125, 215.45799255371094, 1031.6568603515625, 163.41346740722656, 494.0444641113281, 109.75619506835938, 472.5362854003906, 344.6268310546875, 269.3819885253906, 891.6568603515625, 365.8031311035156, 455.39593505859375, 617.2769775390625, 559.9089965820312, 2140.131591796875, 936.5335083007812, 13.763169288635254, 28.946374893188477, 12.610139846801758, 11.26729679107666, 11.114568710327148, 14.754878997802734, 8.641355514526367, 11.292038917541504, 8.307170867919922, 9.643327713012695, 13.935102462768555, 7.987252235412598, 10.467738151550293, 7.325569152832031, 7.9915900230407715, 6.500792026519775, 6.497903347015381, 6.502033710479736, 7.000117301940918, 6.176730155944824, 6.1775126457214355, 6.172072887420654, 10.310178756713867, 6.174815654754639, 5.345537185668945, 5.184023857116699, 5.180538654327393, 5.1771039962768555, 5.1727776527404785, 5.184401988983154, 14.262507438659668, 5.679938316345215, 6.997577667236328, 22.031597137451172, 5.346681594848633, 17.19083023071289, 7.9806413650512695, 24.366680145263672, 52.160396575927734, 11.1339111328125, 47.564640045166016, 37.27354431152344, 398.3743896484375, 33.246337890625, 301.3800964355469, 20.37229347229004, 94.96592712402344, 210.36965942382812, 42.12269973754883, 36.32804870605469, 77.35755157470703, 297.2266845703125, 73.4400405883789, 590.6370239257812, 146.54275512695312, 86.78949737548828, 254.165771484375, 472.5362854003906, 387.87103271484375, 105.39147186279297, 556.3524169921875, 128.5565643310547, 236.97828674316406, 506.9532775878906, 136.03855895996094, 1451.3489990234375, 1584.76708984375, 728.8538208007812, 1031.6568603515625, 470.2216796875, 355.9723205566406, 145.2930450439453, 235.5668182373047, 2116.69580078125, 2140.131591796875, 455.39593505859375, 891.6568603515625, 426.6988830566406, 936.5335083007812, 400.3006286621094, 549.8773193359375, 660.58251953125, 494.0444641113281, 376.3365478515625, 17.448213577270508, 13.666495323181152, 12.365175247192383, 13.84163761138916, 9.401506423950195, 10.233269691467285, 9.410083770751953, 25.15851402282715, 9.085803985595703, 8.091350555419922, 8.261425018310547, 10.070634841918945, 11.221291542053223, 6.949215888977051, 10.39879322052002, 7.115769863128662, 11.22171401977539, 6.458432197570801, 6.45039176940918, 7.449864387512207, 6.958132266998291, 6.301196098327637, 5.641106605529785, 6.126062870025635, 6.46427059173584, 5.3124775886535645, 13.347457885742188, 8.761265754699707, 5.795050621032715, 24.343204498291016, 10.402689933776855, 10.244498252868652, 8.110321998596191, 25.171918869018555, 28.332170486450195, 21.755056381225586, 12.20634651184082, 13.202567100524902, 65.62113952636719, 13.036346435546875, 84.6331558227539, 35.23340606689453, 17.10007667541504, 77.08021545410156, 25.679828643798828, 1386.263427734375, 66.4701156616211, 891.6568603515625, 35.21782684326172, 65.18978118896484, 111.20661926269531, 127.37905883789062, 130.87582397460938, 62.924766540527344, 22.29259490966797, 106.09779357910156, 31.294483184814453, 404.8706970214844, 22.594968795776367, 294.5957946777344, 100.08418273925781, 89.77165985107422, 114.98214721679688, 617.2769775390625, 159.52029418945312, 140.6624755859375, 130.9786834716797, 559.9089965820312, 187.35562133789062, 2116.69580078125, 215.17486572265625, 208.37078857421875, 426.6988830566406, 455.39593505859375, 1584.76708984375, 512.6934814453125, 350.4224548339844, 1031.6568603515625, 263.25970458984375, 297.2266845703125, 728.8538208007812, 556.3524169921875, 295.0079040527344, 2140.131591796875, 337.55810546875, 278.5321350097656, 494.0444641113281], \"loglift\": [30.0, 29.0, 28.0, 27.0, 26.0, 25.0, 24.0, 23.0, 22.0, 21.0, 20.0, 19.0, 18.0, 17.0, 16.0, 15.0, 14.0, 13.0, 12.0, 11.0, 10.0, 9.0, 8.0, 7.0, 6.0, 5.0, 4.0, 3.0, 2.0, 1.0, 1.568600058555603, 1.5683000087738037, 1.5677000284194946, 1.5677000284194946, 1.5676000118255615, 1.5670000314712524, 1.5669000148773193, 1.5669000148773193, 1.5662000179290771, 1.566100001335144, 1.566100001335144, 1.566100001335144, 1.5657000541687012, 1.5654000043869019, 1.5649000406265259, 1.5648000240325928, 1.5643999576568604, 1.5643999576568604, 1.5641000270843506, 1.5638999938964844, 1.5637999773025513, 1.5637999773025513, 1.5636999607086182, 1.562999963760376, 1.5628999471664429, 1.562600016593933, 1.562399983406067, 1.562399983406067, 1.562399983406067, 1.562399983406067, 1.5485999584197998, 1.5521999597549438, 1.5163999795913696, 1.558500051498413, 1.5520000457763672, 1.4837000370025635, 1.4807000160217285, 1.233299970626831, 1.295799970626831, 0.9621999859809875, 1.2173999547958374, 0.892300009727478, 1.0082000494003296, 1.2252000570297241, 0.8967999815940857, 1.1197999715805054, 0.9049000144004822, 1.1461000442504883, 0.9973000288009644, 1.3389999866485596, 1.3592000007629395, 0.47620001435279846, 0.6442000269889832, 1.2742999792099, 0.645799994468689, 0.6592000126838684, 1.2657999992370605, 0.5845999717712402, 0.807699978351593, 0.9629999995231628, 0.7421000003814697, 0.4408999979496002, 0.22349999845027924, 0.39649999141693115, 0.2669999897480011, 0.25440001487731934, -0.06599999964237213, -0.19269999861717224, 0.14470000565052032, 0.2630999982357025, 0.07479999959468842, -0.4284999966621399, 0.2248000055551529, -0.3481999933719635, 0.41179999709129333, -0.5946000218391418, -0.4611000120639801, 0.08699999749660492, 1.80239999294281, 1.802299976348877, 1.801800012588501, 1.8008999824523926, 1.8007999658584595, 1.8006999492645264, 1.8006000518798828, 1.8003000020980835, 1.7999000549316406, 1.7994999885559082, 1.799399971961975, 1.799299955368042, 1.799299955368042, 1.7992000579833984, 1.7991000413894653, 1.7989000082015991, 1.798799991607666, 1.798799991607666, 1.79830002784729, 1.79830002784729, 1.798200011253357, 1.7979999780654907, 1.7977999448776245, 1.7977999448776245, 1.7976000308990479, 1.7976000308990479, 1.7975000143051147, 1.7975000143051147, 1.7975000143051147, 1.7971999645233154, 1.788699984550476, 1.7890000343322754, 1.7958999872207642, 1.7965999841690063, 1.6675000190734863, 1.7265000343322754, 1.3707000017166138, 1.388800024986267, 1.6589000225067139, 1.3229999542236328, 1.6542999744415283, 1.2315000295639038, 1.6172000169754028, 1.3118000030517578, 1.6984000205993652, 1.357100009918213, 1.5988999605178833, 1.3629000186920166, 0.40299999713897705, 0.6004999876022339, 1.0693000555038452, 0.6324999928474426, 0.07980000227689743, 0.6251000165939331, 1.4048999547958374, 0.04800000041723251, 0.1745000034570694, 0.4237000048160553, -0.34599998593330383, -0.36399999260902405, 0.22990000247955322, 0.557699978351593, 0.26570001244544983, 0.6542999744415283, 0.3301999866962433, 0.7336000204086304, -0.38519999384880066, 0.1923999935388565, 0.6642000079154968, 0.27570000290870667, 0.7080000042915344, 0.15330000221729279, 0.06669999659061432, -0.7010999917984009, 0.39890000224113464, 0.008999999612569809, -0.390500009059906, -0.2054000049829483, 1.9687000513076782, 1.968000054359436, 1.9678000211715698, 1.9673999547958374, 1.9666999578475952, 1.966599941253662, 1.965999960899353, 1.965999960899353, 1.9646999835968018, 1.9646999835968018, 1.9645999670028687, 1.9643000364303589, 1.9643000364303589, 1.9641000032424927, 1.9637000560760498, 1.9634000062942505, 1.9634000062942505, 1.9630999565124512, 1.962499976158142, 1.9622999429702759, 1.9616999626159668, 1.9616999626159668, 1.9615999460220337, 1.9609999656677246, 1.9603999853134155, 1.9598000049591064, 1.9598000049591064, 1.9598000049591064, 1.9595999717712402, 1.9594999551773071, 1.957900047302246, 1.9593000411987305, 1.9329999685287476, 1.9063999652862549, 1.927899956703186, 1.895400047302246, 1.9039000272750854, 1.889299988746643, 1.9290000200271606, 1.6871999502182007, 1.8803000450134277, 1.5436999797821045, 1.7711000442504883, 1.6475000381469727, 1.3188999891281128, 1.7269999980926514, 1.1475000381469727, 1.6288000345230103, 1.4368000030517578, 1.0932999849319458, 1.038599967956543, 1.3143999576568604, 0.9930999875068665, 1.579800009727478, 1.240399956703186, 1.3401000499725342, 1.4567999839782715, 0.9054999947547913, 1.3877999782562256, 0.6858000159263611, 1.2734999656677246, 0.9514999985694885, 0.36820000410079956, 1.5155999660491943, 1.4378000497817993, 0.07329999655485153, 0.7753000259399414, 0.23479999601840973, 0.4487000107765198, 0.23659999668598175, 0.43230000138282776, -0.023600000888109207, 0.17339999973773956, 0.2678000032901764, -0.27799999713897705, 0.7605000138282776, 0.6176000237464905, 0.6916999816894531, -0.3587000072002411, 0.40130001306533813, 0.17800000309944153, 0.3176000118255615, -0.29919999837875366, 0.18369999527931213, 2.009200096130371, 2.008500099182129, 2.0078001022338867, 2.007200002670288, 2.006999969482422, 2.006500005722046, 2.0062999725341797, 2.0058999061584473, 2.0055999755859375, 2.0055999755859375, 2.0053999423980713, 2.005199909210205, 2.0051000118255615, 2.0051000118255615, 2.0051000118255615, 2.0051000118255615, 2.0048999786376953, 2.0048000812530518, 2.004699945449829, 2.004499912261963, 2.004499912261963, 2.004499912261963, 2.0041000843048096, 2.003999948501587, 2.003999948501587, 2.003499984741211, 2.0034000873565674, 2.0032999515533447, 2.003000020980835, 2.0027999877929688, 2.000999927520752, 2.0018999576568604, 1.9940999746322632, 2.001699924468994, 1.973099946975708, 2.0013999938964844, 1.9292999505996704, 1.9941999912261963, 1.9930000305175781, 1.8741999864578247, 1.9701999425888062, 1.9148999452590942, 1.9191999435424805, 1.8743000030517578, 1.9297000169754028, 1.8206000328063965, 1.8381999731063843, 1.7430000305175781, 1.6520999670028687, 1.781499981880188, 1.3909000158309937, 1.4248000383377075, 1.646299958229065, 1.476199984550476, 1.8398000001907349, 1.4794000387191772, 1.2539000511169434, 0.9609000086784363, 0.9200999736785889, 1.2472000122070312, 0.9233999848365784, 0.45419999957084656, 0.9435999989509583, -0.2410999983549118, -0.34389999508857727, 0.28949999809265137, -0.3174000084400177, 0.4049000144004822, 0.8682000041007996, 0.7797999978065491, -0.6995000243186951, -0.7401000261306763, -0.07180000096559525, -0.05570000037550926, -0.09939999878406525, -0.788100004196167, -0.6801999807357788, -0.5184000134468079, 2.0820999145507812, 2.081700086593628, 2.0810000896453857, 2.080699920654297, 2.0804998874664307, 2.0801000595092773, 2.079900026321411, 2.079699993133545, 2.079699993133545, 2.0792999267578125, 2.0787999629974365, 2.0785999298095703, 2.0785999298095703, 2.0785000324249268, 2.0782999992370605, 2.0780999660491943, 2.0778000354766846, 2.0778000354766846, 2.0776000022888184, 2.0771000385284424, 2.0771000385284424, 2.0764999389648438, 2.0764999389648438, 2.0764999389648438, 2.0764999389648438, 2.0762999057769775, 2.0762999057769775, 2.0755999088287354, 2.075500011444092, 2.075500011444092, 2.071700096130371, 2.073199987411499, 2.0578999519348145, 1.9316999912261963, 2.0299999713897705, 1.8502999544143677, 1.6890000104904175, 1.8769999742507935, 1.5269999504089355, 1.7131999731063843, 1.9375, 1.625, 1.9004000425338745, 1.6243000030517578, 1.4925999641418457, 1.6461000442504883, 1.233299970626831, 1.9336999654769897, 1.2759000062942505, 1.1512999534606934, 1.3056999444961548, 1.5757999420166016, 0.7609999775886536, 1.513100028038025, 0.6855999827384949, 0.4325999915599823, 0.8575999736785889, 0.9426000118255615, 0.8694000244140625, 0.7594000101089478, 0.12399999797344208, 0.9850999712944031, 0.3346000015735626, 1.0370999574661255, 0.5281999707221985, 1.1993000507354736, 0.49070000648498535, 0.6061999797821045, 0.7197999954223633, 0.024700000882148743, 0.4510999917984009, 0.26809999346733093, -0.05590000003576279, 0.01850000023841858, -1.2244999408721924, -0.5037999749183655, 2.0945000648498535, 2.0940001010894775, 2.093899965286255, 2.0934998989105225, 2.0934998989105225, 2.0922000408172607, 2.0917999744415283, 2.0917000770568848, 2.091599941253662, 2.091399908065796, 2.0913000106811523, 2.0910000801086426, 2.09089994430542, 2.0906999111175537, 2.0899999141693115, 2.089600086212158, 2.089600086212158, 2.0894999504089355, 2.089200019836426, 2.089099884033203, 2.088599920272827, 2.0880000591278076, 2.0880000591278076, 2.0876998901367188, 2.087599992752075, 2.0871999263763428, 2.0871999263763428, 2.0871999263763428, 2.0871999263763428, 2.0871999263763428, 2.0780999660491943, 2.087100028991699, 2.0848000049591064, 2.0631000995635986, 2.086699962615967, 2.0550999641418457, 2.071199893951416, 2.013200044631958, 1.886299967765808, 2.0308001041412354, 1.8164000511169434, 1.8346999883651733, 1.391800045967102, 1.812600016593933, 1.4038000106811523, 1.8796000480651855, 1.5565999746322632, 1.3783999681472778, 1.6693999767303467, 1.6926000118255615, 1.4779000282287598, 1.0932999849319458, 1.4836000204086304, 0.8741000294685364, 1.2698999643325806, 1.426200032234192, 1.090399980545044, 0.7610999941825867, 0.8008999824523926, 1.2805999517440796, 0.6638000011444092, 1.1664999723434448, 0.9193999767303467, 0.5845999717712402, 1.0985000133514404, 0.011800000444054604, -0.03009999915957451, 0.2912999987602234, 0.08810000121593475, 0.4138999879360199, 0.5533999800682068, 1.0355000495910645, 0.7608000040054321, -0.49540001153945923, -0.5511000156402588, 0.3140000104904175, -0.19619999825954437, 0.3068000078201294, -0.2770000100135803, 0.25589999556541443, 0.005799999926239252, -0.16850000619888306, -0.010599999688565731, 0.21660000085830688, 2.2163000106811523, 2.2155001163482666, 2.2149999141693115, 2.2149999141693115, 2.2135000228881836, 2.2132999897003174, 2.2130000591278076, 2.2130000591278076, 2.212899923324585, 2.2125000953674316, 2.2123000621795654, 2.2121999263763428, 2.2118000984191895, 2.211199998855591, 2.2109999656677246, 2.2107999324798584, 2.2107999324798584, 2.210599899291992, 2.2105000019073486, 2.210200071334839, 2.2095999717712402, 2.209199905395508, 2.209199905395508, 2.2091000080108643, 2.2086000442504883, 2.2084999084472656, 2.208400011062622, 2.208400011062622, 2.2081000804901123, 2.2074999809265137, 2.2072999477386475, 2.2065999507904053, 2.204900026321411, 2.170099973678589, 2.164900064468384, 2.129499912261963, 2.169800043106079, 2.1591999530792236, 1.9918999671936035, 2.1517999172210693, 1.826799988746643, 1.9639999866485596, 2.066699981689453, 1.7736999988555908, 1.9875999689102173, 1.1720000505447388, 1.7867000102996826, 1.1714999675750732, 1.8938000202178955, 1.704300045967102, 1.5183000564575195, 1.472100019454956, 1.4337999820709229, 1.6591999530792236, 1.9753999710083008, 1.4214999675750732, 1.8389999866485596, 0.8884000182151794, 1.9507999420166016, 0.9434999823570251, 1.3585000038146973, 1.388800024986267, 1.2719000577926636, 0.5465999841690063, 1.1035000085830688, 1.1433000564575195, 1.1690000295639038, 0.4345000088214874, 0.9872000217437744, -0.3086000084877014, 0.8913999795913696, 0.8974000215530396, 0.46970000863075256, 0.430400013923645, -0.3287000060081482, 0.30320000648498535, 0.525600016117096, -0.195700004696846, 0.7059000134468079, 0.6212000250816345, -0.023900000378489494, 0.15649999678134918, 0.5819000005722046, -1.1188000440597534, 0.4300999939441681, 0.5741999745368958, -0.020800000056624413], \"logprob\": [30.0, 29.0, 28.0, 27.0, 26.0, 25.0, 24.0, 23.0, 22.0, 21.0, 20.0, 19.0, 18.0, 17.0, 16.0, 15.0, 14.0, 13.0, 12.0, 11.0, 10.0, 9.0, 8.0, 7.0, 6.0, 5.0, 4.0, 3.0, 2.0, 1.0, -7.056399822235107, -7.188300132751465, -7.25439977645874, -7.214300155639648, -6.793499946594238, -7.227700233459473, -7.467599868774414, -7.467800140380859, -6.651299953460693, -7.593299865722656, -7.593699932098389, -7.59499979019165, -7.653299808502197, -7.6940999031066895, -7.6331000328063965, -7.760300159454346, -7.807499885559082, -7.673999786376953, -7.806700229644775, -7.808199882507324, -7.88040018081665, -7.883600234985352, -7.883200168609619, -7.961400032043457, -7.933899879455566, -7.788000106811523, -8.018400192260742, -8.018699645996094, -8.0177001953125, -8.017399787902832, -6.543900012969971, -7.229100227355957, -5.591300010681152, -7.700799942016602, -7.400899887084961, -6.7058000564575195, -6.685299873352051, -3.9147000312805176, -5.379199981689453, -2.6953001022338867, -5.289700031280518, -3.153599977493286, -3.936800003051758, -5.491600036621094, -3.5871999263763428, -5.112199783325195, -4.268099784851074, -5.4918999671936035, -5.150199890136719, -6.607999801635742, -6.723899841308594, -3.1923000812530518, -4.188899993896484, -6.527599811553955, -4.5432000160217285, -4.792099952697754, -6.541399955749512, -4.952099800109863, -5.555799961090088, -5.94890022277832, -5.501399993896484, -4.945400238037109, -4.677299976348877, -4.979899883270264, -4.819499969482422, -4.913599967956543, -4.453199863433838, -4.2845001220703125, -4.871799945831299, -5.075699806213379, -4.929999828338623, -4.38640022277832, -5.19920015335083, -5.100399971008301, -5.318299770355225, -5.127699851989746, -5.195799827575684, -5.27839994430542, -6.273900032043457, -6.483799934387207, -6.650100231170654, -6.860199928283691, -6.5447998046875, -6.926599979400635, -6.893099784851074, -6.789299964904785, -6.769800186157227, -6.301000118255615, -7.02209997177124, -7.199100017547607, -7.19980001449585, -6.9745001792907715, -7.229300022125244, -7.230800151824951, -7.214300155639648, -7.2291998863220215, -7.342700004577637, -7.155300140380859, -7.361100196838379, -7.396200180053711, -7.41510009765625, -6.473199844360352, -7.230000019073486, -7.276599884033203, -7.452199935913086, -7.452300071716309, -7.453400135040283, -7.492199897766113, -5.668099880218506, -6.781000137329102, -7.327400207519531, -7.3796000480651855, -4.9918999671936035, -6.644499778747559, -4.2469000816345215, -4.48829984664917, -6.506700038909912, -4.633500099182129, -6.586299896240234, -4.935999870300293, -6.4928998947143555, -5.536499977111816, -6.874000072479248, -5.842100143432617, -6.631700038909912, -5.997399806976318, -3.688800096511841, -4.486000061035156, -5.571199893951416, -4.743800163269043, -3.878200054168701, -4.914000034332275, -6.263400077819824, -4.339200019836426, -4.577600002288818, -4.941800117492676, -4.014599800109863, -4.021500110626221, -4.786499977111816, -5.214200019836426, -4.857800006866455, -5.406700134277344, -5.065499782562256, -5.501299858093262, -4.431099891662598, -4.996600151062012, -5.439700126647949, -5.191400051116943, -5.531300067901611, -5.180699825286865, -5.319499969482422, -5.184999942779541, -5.465199947357178, -5.4166998863220215, -5.388899803161621, -5.410399913787842, -6.60290002822876, -6.50439977645874, -6.810400009155273, -6.876699924468994, -6.823800086975098, -6.993500232696533, -6.905799865722656, -7.009200096130371, -7.316699981689453, -7.317699909210205, -7.073999881744385, -7.124100208282471, -7.362800121307373, -7.381899833679199, -7.4344000816345215, -7.428500175476074, -7.429100036621094, -7.502799987792969, -7.477499961853027, -7.584099769592285, -7.640399932861328, -7.640999794006348, -7.640100002288818, -7.4319000244140625, -7.701200008392334, -7.799600124359131, -7.80109977722168, -7.806600093841553, -6.071300029754639, -7.798500061035156, -7.114799976348877, -7.481100082397461, -6.181300163269043, -5.151299953460693, -6.752500057220459, -6.2453999519348145, -6.630799770355225, -6.600500106811523, -7.250199794769287, -5.100900173187256, -6.908999919891357, -4.783400058746338, -6.483500003814697, -6.111499786376953, -4.822700023651123, -6.455699920654297, -4.2332000732421875, -6.099400043487549, -5.403600215911865, -4.208499908447266, -4.059100151062012, -5.04610013961792, -4.005300045013428, -5.976200103759766, -5.155399799346924, -5.460999965667725, -5.7631001472473145, -4.4807000160217285, -5.6082000732421875, -4.147200107574463, -5.4008002281188965, -4.745100021362305, -3.5896999835968018, -5.923999786376953, -5.832799911499023, -3.5952999591827393, -4.856299877166748, -4.152400016784668, -4.452099800109863, -4.296500205993652, -4.572500228881836, -4.0696001052856445, -4.3105998039245605, -4.484300136566162, -3.935499906539917, -5.023399829864502, -4.919099807739258, -5.106900215148926, -4.450500011444092, -4.932600021362305, -4.838500022888184, -5.078000068664551, -5.03380012512207, -5.086400032043457, -6.108699798583984, -6.366499900817871, -5.804800033569336, -6.726900100708008, -6.5019001960754395, -6.855299949645996, -6.896900177001953, -6.624599933624268, -6.727700233459473, -5.335599899291992, -7.052299976348877, -6.955699920654297, -7.10230016708374, -7.102700233459473, -7.10290002822876, -6.97160005569458, -6.912300109863281, -7.138199806213379, -7.156599998474121, -7.138000011444092, -7.194399833679199, -7.195000171661377, -6.554500102996826, -7.254199981689453, -7.234399795532227, -7.233500003814697, -5.650199890136719, -6.267899990081787, -7.383600234985352, -7.036499977111816, -5.628699779510498, -6.23960018157959, -5.6433000564575195, -6.707600116729736, -5.427999973297119, -6.916200160980225, -4.585400104522705, -6.693699836730957, -6.728300094604492, -3.510699987411499, -6.386199951171875, -5.644700050354004, -5.883500099182129, -5.326700210571289, -6.098899841308594, -5.043399810791016, -5.625199794769287, -5.118899822235107, -4.89169979095459, -5.670499801635742, -4.723899841308594, -4.896999835968018, -5.647799968719482, -5.253600120544434, -6.260300159454346, -5.525000095367432, -5.121500015258789, -4.578199863433838, -4.5055999755859375, -5.20389986038208, -4.812099933624268, -4.2804999351501465, -4.93779993057251, -3.9096999168395996, -4.001399993896484, -4.611299991607666, -4.275400161743164, -4.990799903869629, -5.235799789428711, -5.263500213623047, -4.7453999519348145, -4.831900119781494, -5.0883002281188965, -5.223800182342529, -5.222899913787842, -5.1753997802734375, -5.2133002281188965, -5.270500183105469, -6.304299831390381, -6.661200046539307, -6.918399810791016, -6.5432000160217285, -6.811500072479248, -7.0782999992370605, -6.952700138092041, -7.137800216674805, -7.139100074768066, -7.060400009155273, -7.246200084686279, -7.224400043487549, -6.626699924468994, -7.291999816894531, -7.315899848937988, -7.223999977111816, -7.366000175476074, -7.366600036621094, -7.080699920654297, -7.446000099182129, -7.447299957275391, -7.502399921417236, -7.502500057220459, -7.502900123596191, -7.505499839782715, -7.341800212860107, -7.392199993133545, -7.563399791717529, -6.267499923706055, -7.595699787139893, -6.895999908447266, -7.421800136566162, -7.139999866485596, -5.763400077819824, -7.004700183868408, -5.536600112915039, -4.66510009765625, -5.998899936676025, -3.744499921798706, -5.103700160980225, -6.495299816131592, -4.8769001960754395, -6.416800022125244, -5.045400142669678, -4.671500205993652, -5.440800189971924, -4.21019983291626, -6.776400089263916, -4.934599876403809, -4.6016998291015625, -5.095399856567383, -5.857500076293945, -3.9911000728607178, -5.813700199127197, -4.049099922180176, -3.525399923324585, -4.444200038909912, -4.697999954223633, -4.597700119018555, -4.510700225830078, -3.5445001125335693, -4.968299865722656, -4.052700042724609, -5.192800045013428, -4.595300197601318, -5.428599834442139, -4.6774001121521, -4.877500057220459, -5.010200023651123, -4.508399963378906, -4.972899913787842, -4.9369001388549805, -4.9567999839782715, -4.979899883270264, -4.8821001052856445, -4.987800121307373, -6.609600067138672, -5.866700172424316, -6.697800159454346, -6.810699939727783, -6.824399948120117, -6.542399883270264, -7.0777997970581055, -6.810299873352051, -7.117400169372559, -6.968500137329102, -6.600399971008301, -7.157400131225586, -6.88700008392334, -7.244100093841553, -7.157700061798096, -7.36460018157959, -7.365099906921387, -7.364500045776367, -7.290999889373779, -7.416299819946289, -7.416600227355957, -7.418099880218506, -6.90500020980835, -7.418000221252441, -7.562300205230713, -7.593400001525879, -7.593999862670898, -7.594699859619141, -7.5954999923706055, -7.593400001525879, -6.5904998779296875, -7.502099990844727, -7.29580020904541, -6.170599937438965, -7.563000202178955, -6.426700115203857, -7.1778998374938965, -6.119800090789795, -5.485499858856201, -6.88539981842041, -5.64769983291626, -5.873199939727783, -3.947000026702881, -6.0096001625061035, -4.213900089263916, -6.432400226593018, -5.216000080108643, -4.598899841308594, -5.916100025177002, -6.040999889373779, -5.499800205230713, -4.538400173187256, -5.54610013961792, -4.070899963378906, -5.068999767303467, -5.436500072479248, -4.697700023651123, -4.406899929046631, -4.564599990844727, -5.387800216674805, -4.341000080108643, -5.303199768066406, -4.938799858093262, -4.5131001472473145, -5.314700126647949, -4.03410005569458, -3.988100051879883, -4.443399906158447, -4.299099922180176, -4.759099960327148, -4.897900104522705, -5.3119001388549805, -5.103300094604492, -4.163899898529053, -4.208700180053711, -4.890999794006348, -4.729300022125244, -4.9633002281188965, -4.761000156402588, -5.078100204467773, -5.010700225830078, -5.0015997886657715, -5.134099960327148, -5.179100036621094, -6.250699996948242, -6.495699882507324, -6.596199989318848, -6.483500003814697, -6.871799945831299, -6.787199974060059, -6.871399879455566, -5.888000011444092, -6.906499862670898, -7.022900104522705, -7.002299785614014, -6.804299831390381, -6.696599960327148, -7.176300048828125, -6.773499965667725, -7.1529998779296875, -6.697500228881836, -7.250199794769287, -7.251500129699707, -7.107800006866455, -7.176700115203857, -7.276199817657471, -7.386899948120117, -7.304500102996826, -7.251299858093262, -7.4475998878479, -6.526500225067139, -6.947500228881836, -7.361100196838379, -5.926400184631348, -6.776800155639648, -6.792799949645996, -7.028200149536133, -5.930300235748291, -5.817299842834473, -6.116799831390381, -6.654399871826172, -6.58650016784668, -5.150400161743164, -6.606599807739258, -5.060999870300293, -5.80019998550415, -6.420400142669678, -5.207699775695801, -6.092899799346924, -2.919800043106079, -5.342700004577637, -3.361599922180176, -5.870800018310547, -5.444499969482422, -5.096399784088135, -5.006899833679199, -5.018099784851074, -5.525100231170654, -6.246500015258789, -5.240300178527832, -6.043700218200684, -4.434199810028076, -6.257599830627441, -4.697000026702881, -5.361599922180176, -5.440100193023682, -5.309500217437744, -4.3541998863220215, -5.1504998207092285, -5.236499786376953, -5.282100200653076, -4.563899993896484, -5.105899810791016, -3.977099895477295, -5.063300132751465, -5.0894999504089355, -4.8003997802734375, -4.774600028991699, -4.2866997718811035, -4.783199787139893, -4.941400051116943, -4.582900047302246, -5.0472002029418945, -5.01039981842041, -4.758600234985352, -4.848199844360352, -5.057300090789795, -4.776299953460693, -5.0742998123168945, -5.122399806976318, -5.1442999839782715]}, \"token.table\": {\"Topic\": [2, 7, 2, 1, 2, 4, 5, 6, 4, 4, 3, 4, 6, 7, 6, 1, 2, 3, 4, 5, 6, 7, 1, 2, 3, 4, 5, 6, 1, 6, 7, 4, 1, 7, 4, 5, 3, 4, 7, 2, 1, 4, 6, 6, 1, 2, 3, 1, 2, 3, 4, 5, 6, 7, 6, 2, 1, 2, 3, 4, 5, 6, 7, 2, 1, 2, 3, 4, 5, 6, 7, 1, 2, 3, 4, 5, 6, 7, 1, 2, 3, 4, 5, 1, 2, 3, 4, 5, 6, 7, 7, 7, 1, 2, 3, 4, 5, 6, 7, 2, 2, 5, 6, 2, 7, 1, 4, 5, 6, 7, 2, 3, 4, 5, 6, 7, 5, 7, 7, 1, 2, 3, 4, 5, 6, 7, 1, 2, 3, 4, 5, 6, 7, 2, 2, 3, 6, 3, 1, 6, 3, 1, 2, 3, 4, 5, 6, 7, 2, 3, 2, 3, 1, 2, 4, 5, 1, 2, 3, 4, 5, 6, 7, 1, 1, 2, 3, 4, 5, 6, 7, 1, 3, 4, 6, 3, 7, 1, 4, 1, 2, 4, 7, 4, 2, 4, 6, 1, 2, 3, 4, 5, 6, 7, 3, 1, 2, 3, 4, 5, 6, 7, 5, 1, 3, 3, 2, 1, 2, 1, 3, 1, 2, 3, 4, 5, 7, 3, 1, 2, 3, 4, 5, 6, 2, 2, 4, 1, 2, 3, 6, 5, 1, 2, 3, 4, 7, 1, 2, 3, 4, 5, 6, 7, 5, 3, 4, 1, 6, 1, 2, 3, 4, 5, 6, 7, 1, 2, 3, 4, 5, 6, 7, 1, 5, 7, 1, 2, 3, 4, 5, 6, 7, 1, 2, 3, 4, 5, 6, 7, 1, 2, 3, 4, 5, 6, 7, 1, 2, 3, 4, 5, 6, 7, 2, 5, 6, 6, 2, 7, 3, 5, 1, 2, 4, 7, 4, 1, 7, 7, 3, 2, 4, 5, 6, 7, 4, 4, 3, 3, 1, 2, 3, 4, 5, 6, 7, 6, 7, 1, 1, 2, 3, 4, 5, 6, 7, 1, 1, 2, 3, 4, 5, 6, 7, 4, 2, 1, 2, 3, 4, 5, 6, 7, 5, 1, 2, 3, 4, 5, 6, 7, 1, 2, 3, 4, 5, 6, 7, 1, 2, 3, 4, 5, 6, 7, 7, 1, 2, 3, 4, 5, 6, 7, 2, 7, 7, 6, 2, 4, 1, 3, 6, 2, 1, 2, 3, 4, 5, 6, 7, 1, 2, 3, 4, 5, 6, 7, 7, 2, 1, 5, 6, 1, 1, 3, 5, 6, 7, 5, 2, 5, 3, 7, 1, 2, 1, 2, 3, 4, 6, 7, 1, 2, 3, 4, 6, 7, 2, 3, 2, 3, 4, 5, 6, 7, 2, 6, 7, 1, 2, 3, 4, 5, 6, 7, 5, 7, 1, 2, 3, 4, 5, 6, 7, 6, 1, 2, 3, 4, 5, 6, 7, 1, 2, 4, 5, 6, 1, 1, 2, 3, 4, 5, 6, 5, 3, 4, 5, 6, 1, 2, 3, 4, 5, 6, 7, 4, 3, 1, 2, 3, 4, 5, 6, 7, 4, 4, 4, 7, 4, 6, 5, 3, 4, 7, 2, 4, 6, 1, 2, 4, 6, 7, 1, 2, 3, 4, 6, 7, 1, 2, 3, 4, 5, 6, 7, 1, 5, 1, 2, 3, 4, 5, 7, 1, 3, 4, 5, 7, 3, 4, 1, 2, 3, 4, 5, 6, 7, 1, 2, 6, 5, 6, 7, 6, 1, 2, 3, 4, 5, 6, 7, 4, 2, 1, 2, 3, 4, 5, 6, 7, 3, 1, 1, 2, 3, 4, 5, 6, 7, 1, 2, 3, 4, 5, 6, 7, 5, 7, 4, 5, 1, 2, 3, 4, 5, 6, 7, 1, 2, 3, 5, 6, 7, 2, 3, 1, 2, 3, 4, 5, 6, 7, 6, 6, 6, 2, 1, 2, 3, 4, 5, 6, 7, 3, 5, 2, 3, 4, 5, 6, 1, 2, 2, 2, 1, 6, 7, 2, 7, 7, 2, 5, 7, 1, 2, 5, 6, 1, 2, 3, 5, 6, 7, 5, 2, 1, 2, 3, 4, 6, 7, 1, 2, 3, 4, 5, 6, 7, 2, 5, 7, 6, 5, 1, 2, 3, 4, 5, 6, 1, 2, 7, 7, 7, 7, 1, 3, 4, 1, 2, 3, 4, 6, 7, 2, 2, 3, 7, 6, 1, 2, 3, 4, 5, 6, 7, 1, 2, 3, 4, 5, 6, 7, 1, 2, 3, 4, 5, 6, 7, 4, 2, 6, 2, 4, 5, 1, 2, 7, 7, 3, 4, 5, 6, 7, 3, 3, 5, 6, 7, 4, 5, 3, 4, 4, 1, 2, 3, 4, 5, 7, 1, 2, 3, 4, 5, 6, 7, 1, 2, 3, 4, 5, 6, 7, 1, 2, 3, 4, 5, 6, 7, 4, 4, 1, 2, 3, 4, 5, 6, 7, 5, 2, 2, 5, 1, 2, 3, 4, 5, 6, 7, 3, 6, 1, 1, 2, 4, 7, 5, 1, 2, 3, 4, 5, 6, 7, 2, 4, 1, 5, 6, 1, 2, 3, 4, 5, 6, 7, 1, 2, 3, 4, 5, 6, 7, 5, 7, 1, 2, 3, 4, 5, 6, 7, 6, 1, 2, 6, 2, 4, 6, 7, 1, 1, 3, 4, 7, 5, 7, 1, 2, 3, 4, 5, 6, 7, 1, 6, 5, 1, 2, 3, 4, 5, 6, 3, 4, 3, 4, 1, 1, 2, 3, 4, 5, 6, 7, 1, 6, 3, 1, 2, 3, 4, 5, 6, 7, 4, 2, 6, 1, 2, 3, 4, 5, 6, 7, 1, 2, 3, 4, 5, 6, 7, 1, 2, 3, 4, 5, 6, 7, 5, 4, 4, 1, 2, 3, 4, 5, 6, 7, 2, 3, 4, 5, 3, 5, 3, 1, 2, 3, 4, 5, 6, 7, 2, 1, 2, 3, 4, 5, 6, 7, 1, 2, 6, 1, 2, 3, 4, 5, 6, 7, 1, 2, 4, 5, 6, 1, 2, 3, 4, 5, 6, 7, 1, 5, 1, 3, 4, 7, 1, 2, 3, 4, 5, 6, 7, 4, 1, 2, 3, 4, 5, 6, 7, 4, 4, 3, 4, 2, 3, 4, 5, 6, 7, 1, 2, 3, 4, 5, 7, 5, 6, 1, 6, 1, 2, 3, 4, 5, 6, 7, 5, 2, 4, 5, 2, 1, 2, 3, 6, 7, 1, 2, 3, 4, 5, 6, 7, 5, 6, 3, 5, 7, 1, 2, 3, 4, 5, 5, 1, 2, 4, 5, 6, 7, 3, 1, 6, 1, 7, 3, 6, 6, 1, 3, 1, 7, 1, 2, 4, 5, 6, 7, 4, 2, 3, 4, 5, 6, 7, 1, 3, 4, 5, 6, 1, 2, 3, 4, 5, 6, 7, 1, 2, 3, 4, 5, 6, 7, 5, 1, 2, 3, 4, 5, 6, 7, 6, 1, 2, 3, 4, 5, 6, 7, 6, 5, 4, 3, 6, 3, 1, 2, 3, 4, 5, 6, 1, 1, 2, 4, 5, 6, 2, 1, 2, 3, 4, 5, 6, 7, 2, 1, 2, 3, 4, 5, 7, 6, 1, 2, 3, 4, 5, 6, 3, 6, 4, 7, 6, 1, 2, 3, 7, 1, 2, 3, 4, 5, 7, 3, 1, 2, 3, 4, 5, 6, 7, 2, 3, 4, 7, 2, 3, 4, 6, 7, 1, 2, 3, 4, 7, 5, 3, 1, 7, 1, 2, 3, 4, 5, 6, 7, 2, 4, 5, 1, 4, 5, 7, 2, 4, 5, 1, 2, 3, 4, 5, 6, 7, 5, 4, 6, 7, 4, 5, 6, 1, 3, 1, 5, 4, 1, 2, 3, 4, 5, 6, 7, 1, 2, 3, 4, 5, 6, 7, 2, 4, 6, 1, 2, 3, 4, 5, 6, 7, 1, 2, 3, 4, 5, 6, 6, 3, 1, 2, 3, 4, 5, 6, 7, 2, 1, 2, 3, 5, 7, 2, 6, 5, 2, 4, 5, 6, 2, 3, 5, 7, 1, 2, 3, 4, 5, 6, 7], \"Freq\": [1.0030617713928223, 1.0353662967681885, 1.004019021987915, 0.17079180479049683, 0.13283807039260864, 0.2277224063873291, 0.028465300798416138, 0.4364679455757141, 1.0107125043869019, 1.0007448196411133, 0.9338042736053467, 0.9541515707969666, 0.9699152708053589, 0.9612898230552673, 1.0024256706237793, 0.12386558949947357, 0.2864391803741455, 0.22837719321250916, 0.1470903903245926, 0.050320398062467575, 0.14321959018707275, 0.019353998824954033, 0.5688772797584534, 0.0880405381321907, 0.027089396491646767, 0.010158522985875607, 0.013544698245823383, 0.29459717869758606, 0.48392951488494873, 0.5069738030433655, 0.9863973259925842, 1.0115424394607544, 0.0767086073756218, 0.9205033183097839, 0.14618733525276184, 0.877124011516571, 0.83427894115448, 0.09269765764474869, 0.09269765764474869, 1.0082441568374634, 0.7544480562210083, 0.03819990158081055, 0.20054948329925537, 0.9233747720718384, 0.04313170164823532, 0.17252680659294128, 0.776370644569397, 0.3951058089733124, 0.0469282791018486, 0.2755143940448761, 0.07417695224285126, 0.033303938806056976, 0.10293944925069809, 0.0711493268609047, 0.9657909274101257, 0.9757707118988037, 0.03870387747883797, 0.657965898513794, 0.030103014782071114, 0.08600861579179764, 0.04300430789589882, 0.1161116287112236, 0.02580258436501026, 1.0044766664505005, 0.07914142310619354, 0.619165301322937, 0.032587647438049316, 0.03724302351474762, 0.013966133818030357, 0.023276889696717262, 0.1955258697271347, 0.21725933253765106, 0.09685054421424866, 0.4371362328529358, 0.07590989023447037, 0.007852747105062008, 0.07067472487688065, 0.09685054421424866, 0.042404547333717346, 0.8480909466743469, 0.08480909466743469, 0.1904127150774002, 0.8251217603683472, 0.057195402681827545, 0.016822177916765213, 0.30279919505119324, 0.05383096635341644, 0.0033644353970885277, 0.3667234778404236, 0.20186613500118256, 0.9802793264389038, 0.9743117690086365, 0.2471839338541031, 0.06654951721429825, 0.07130305469036102, 0.05228890851140022, 0.07130305469036102, 0.4848608076572418, 0.009507074020802975, 0.9530704021453857, 0.30862218141555786, 0.04748033732175827, 0.6409845352172852, 0.3195451498031616, 0.6710447669029236, 0.9166755080223083, 0.038941070437431335, 0.116823211312294, 0.038941070437431335, 0.7788214087486267, 0.013165309093892574, 0.5529429912567139, 0.02633061818778515, 0.27647149562835693, 0.11848778277635574, 0.013165309093892574, 0.17943178117275238, 0.7625850439071655, 1.0272488594055176, 0.37328681349754333, 0.12544883787631989, 0.2570171356201172, 0.024477822706103325, 0.04283618927001953, 0.1315682977437973, 0.04589591920375824, 0.2500724792480469, 0.1418321430683136, 0.04478909820318222, 0.33591824769973755, 0.07464849948883057, 0.14556457102298737, 0.0037324249278753996, 1.0044169425964355, 0.814453125, 0.1809895783662796, 1.0369864702224731, 1.0122661590576172, 1.0068899393081665, 0.9713877439498901, 1.032385230064392, 0.15595121681690216, 0.189369335770607, 0.011139373295009136, 0.08911498636007309, 0.044557493180036545, 0.06683623790740967, 0.43443554639816284, 0.061327993869781494, 0.9199199080467224, 0.273804247379303, 0.7118910551071167, 1.024962306022644, 1.0436019897460938, 1.0063649415969849, 1.010757565498352, 0.034186773002147675, 0.08736620098352432, 0.21651624143123627, 0.03798530250787735, 0.3912486433982849, 0.01139559131115675, 0.22031477093696594, 0.9708322882652283, 0.3211221992969513, 0.17635400593280792, 0.3448115587234497, 0.028953641653060913, 0.00789644755423069, 0.10791812092065811, 0.01579289510846138, 0.253525972366333, 0.6683866381645203, 0.023047814145684242, 0.06914344429969788, 0.11695853620767593, 0.877189040184021, 0.9900515675544739, 0.9725452661514282, 0.9463667869567871, 0.30153176188468933, 0.6917493343353271, 1.0114409923553467, 0.9752647876739502, 0.06464242935180664, 0.8726727962493896, 0.06464242935180664, 0.17096318304538727, 0.2459849864244461, 0.09738408774137497, 0.06347999721765518, 0.04039636254310608, 0.031018635258078575, 0.35058271884918213, 1.0508733987808228, 0.16843801736831665, 0.16411909461021423, 0.08637847006320953, 0.34551388025283813, 0.08637847006320953, 0.047508157789707184, 0.09501631557941437, 0.9903044104576111, 0.9918863773345947, 1.069579839706421, 0.9482149481773376, 0.9719347357749939, 0.16046220064163208, 0.842426598072052, 0.05863580480217934, 0.9381728768348694, 0.056551601737737656, 0.056551601737737656, 0.04712633416056633, 0.04712633416056633, 0.33930960297584534, 0.45241281390190125, 1.0420950651168823, 0.013616549782454967, 0.027233099564909935, 0.24509790539741516, 0.027233099564909935, 0.1633986085653305, 0.5446619987487793, 1.0162134170532227, 0.08849126100540161, 0.9144096970558167, 0.7069920301437378, 0.059745803475379944, 0.1294492483139038, 0.08961870521306992, 1.0460139513015747, 0.08234347403049469, 0.032937388867139816, 0.5928729772567749, 0.21409302949905396, 0.08234347403049469, 0.2228803187608719, 0.052125234156847, 0.21389320492744446, 0.09706077724695206, 0.04853038862347603, 0.23725968599319458, 0.12761695683002472, 1.0089961290359497, 0.9603393077850342, 1.012463927268982, 0.9417877793312073, 1.0015959739685059, 0.06794854998588562, 0.3335656225681305, 0.024708563461899757, 0.21002279222011566, 0.17295995354652405, 0.18531422317028046, 0.006177140865474939, 0.4686097800731659, 0.32872626185417175, 0.02797670289874077, 0.02797670289874077, 0.034970879554748535, 0.05595340579748154, 0.05595340579748154, 0.9917614459991455, 1.0385887622833252, 0.9290180206298828, 0.1327722817659378, 0.0663861408829689, 0.05310891196131706, 0.5841980576515198, 0.013277227990329266, 0.11949505656957626, 0.02655445598065853, 0.2711171507835388, 0.30037441849708557, 0.08777174353599548, 0.0643659457564354, 0.07996980845928192, 0.05071256309747696, 0.1462862342596054, 0.1254793405532837, 0.10688980668783188, 0.2556060552597046, 0.06971074640750885, 0.15801101922988892, 0.023236915469169617, 0.2649008333683014, 0.10141142457723618, 0.10674886405467987, 0.2455223947763443, 0.10141142457723618, 0.12809863686561584, 0.026687216013669968, 0.29355937242507935, 1.004185438156128, 1.0297825336456299, 0.9227882027626038, 1.0010523796081543, 0.09193265438079834, 0.9193264842033386, 0.9797095656394958, 0.9900418519973755, 1.0126769542694092, 0.07322777807712555, 0.9194154143333435, 0.008136419579386711, 1.0160248279571533, 1.0210208892822266, 0.9704674482345581, 0.952200174331665, 1.0362929105758667, 0.6452515125274658, 0.016131287440657616, 0.1935754418373108, 0.1451815813779831, 0.016131287440657616, 0.9792633056640625, 1.0050846338272095, 1.0126705169677734, 1.043636679649353, 0.18450699746608734, 0.34441307187080383, 0.030751166865229607, 0.1599060595035553, 0.07380279898643494, 0.14760559797286987, 0.0553520992398262, 0.9229644536972046, 0.9837304949760437, 0.9825310111045837, 0.08825652301311493, 0.15954063832759857, 0.02715585194528103, 0.10862340778112411, 0.31908127665519714, 0.020366890355944633, 0.2783474922180176, 0.9630724191665649, 0.13503561913967133, 0.1779441237449646, 0.20129141211509705, 0.09717516601085663, 0.1911952942609787, 0.11926043033599854, 0.07824493944644928, 0.9791104197502136, 0.9895721673965454, 0.05602261796593666, 0.011204523965716362, 0.5210103392601013, 0.11204523593187332, 0.10084071755409241, 0.0896361917257309, 0.11204523593187332, 1.0662678480148315, 0.25970253348350525, 0.14215296506881714, 0.1749574989080429, 0.08747874945402145, 0.1940934658050537, 0.09294617176055908, 0.04647308588027954, 0.07553712278604507, 0.31833502650260925, 0.026977544650435448, 0.31833502650260925, 0.08632814139127731, 0.17265628278255463, 0.005395508836954832, 0.33401113748550415, 0.11621887236833572, 0.14976172149181366, 0.1048804447054863, 0.1403130292892456, 0.07464464008808136, 0.07984142005443573, 0.9887101054191589, 0.09749964624643326, 0.04333317652344704, 0.5308313965797424, 0.01083329413086176, 0.21666587889194489, 0.032499879598617554, 0.06499975919723511, 0.9751085042953491, 0.9929860830307007, 1.0060170888900757, 0.9999832510948181, 0.07394533604383469, 0.9243167042732239, 0.12031400203704834, 0.09023550152778625, 0.7519625425338745, 1.0065815448760986, 0.1583007574081421, 0.034413211047649384, 0.17206604778766632, 0.034413211047649384, 0.055061135441064835, 0.34413209557533264, 0.2064792513847351, 0.06377270817756653, 0.22851885855197906, 0.19131812453269958, 0.1992897093296051, 0.08237307518720627, 0.1514601707458496, 0.07971588522195816, 0.9564208388328552, 0.9466550946235657, 0.9853808283805847, 0.9761165976524353, 1.0018525123596191, 0.9916967749595642, 0.14219684898853302, 0.28439369797706604, 0.025853972882032394, 0.5429334044456482, 1.0244030952453613, 0.910037100315094, 0.9372403621673584, 0.052068911492824554, 1.0451610088348389, 0.9396144151687622, 0.020871847867965698, 0.9809768199920654, 0.43367213010787964, 0.47980743646621704, 0.009227066300809383, 0.05536239966750145, 0.009227066300809383, 0.018454132601618767, 0.011357189156115055, 0.6132882237434387, 0.011357189156115055, 0.0567859448492527, 0.19307221472263336, 0.1135718896985054, 1.016243815422058, 0.9663890600204468, 0.08076513558626175, 0.011537876911461353, 0.8307271599769592, 0.05768938362598419, 0.011537876911461353, 0.011537876911461353, 0.9667589664459229, 0.08192459493875504, 0.9830951690673828, 0.01253758929669857, 0.13791348040103912, 0.23821420967578888, 0.031343974173069, 0.18179504573345184, 0.07522553950548172, 0.3259773254394531, 0.9712027311325073, 0.9683559536933899, 0.10313654690980911, 0.11428644508123398, 0.10313654690980911, 0.08919917792081833, 0.4264835715293884, 0.10313654690980911, 0.061324432492256165, 1.0003461837768555, 0.18663454055786133, 0.10368585586547852, 0.2014468014240265, 0.13331037759780884, 0.07998622953891754, 0.1273854821920395, 0.16589736938476562, 0.30989083647727966, 0.24621464312076569, 0.1740482747554779, 0.00849016010761261, 0.2631949484348297, 1.0313482284545898, 0.1457776427268982, 0.19133315980434418, 0.16399985551834106, 0.05466661974787712, 0.40999963879585266, 0.02733330987393856, 0.964354395866394, 0.9382568001747131, 0.014003832824528217, 0.028007665649056435, 0.014003832824528217, 0.4017166197299957, 0.14326956868171692, 0.11798670142889023, 0.06742097437381744, 0.01685524359345436, 0.2134997397661209, 0.03932889923453331, 1.0347182750701904, 1.0615534782409668, 0.15429097414016724, 0.02683321386575699, 0.04695812612771988, 0.556789219379425, 0.013416606932878494, 0.13416607677936554, 0.06708303838968277, 1.014220118522644, 0.9933452606201172, 0.9830505847930908, 1.0073078870773315, 0.834017276763916, 0.15886043012142181, 1.065682053565979, 0.19876296818256378, 0.08518413454294205, 0.7098677754402161, 0.8744171857833862, 0.02820700779557228, 0.09402335435152054, 0.9954555034637451, 0.019740421324968338, 0.9672806859016418, 0.9553162455558777, 0.979421854019165, 0.08531060069799423, 0.36257004737854004, 0.021327650174498558, 0.12085667997598648, 0.0710921660065651, 0.34124240279197693, 0.5082573294639587, 0.08115032315254211, 0.16550394892692566, 0.04377846419811249, 0.07474372535943985, 0.09289576858282089, 0.03310079127550125, 1.010949969291687, 0.9523842334747314, 0.014524434693157673, 0.20334208011627197, 0.12345769256353378, 0.08714661002159119, 0.4575197100639343, 0.11619547754526138, 1.0478023290634155, 0.1926698535680771, 0.6952868700027466, 0.09214644879102707, 0.008376950398087502, 0.09253194183111191, 0.902186393737793, 0.2666461765766144, 0.03174359351396561, 0.03385983407497406, 0.12697437405586243, 0.20315900444984436, 0.26241371035575867, 0.07618462294340134, 0.7407160997390747, 0.02962864562869072, 0.23702916502952576, 0.13277292251586914, 0.0885152816772461, 0.7523798942565918, 0.9665986895561218, 0.052026234567165375, 0.16703158617019653, 0.0958377942442894, 0.3368014097213745, 0.16703158617019653, 0.08488490432500839, 0.09857602417469025, 0.9917668700218201, 0.9804595708847046, 0.16395285725593567, 0.21455559134483337, 0.06274738907814026, 0.12144655734300613, 0.2105073630809784, 0.12144655734300613, 0.10727779567241669, 1.0028024911880493, 0.9524443745613098, 0.2624766528606415, 0.12536197900772095, 0.29773470759391785, 0.07443367689847946, 0.050928305834531784, 0.08618636429309845, 0.10185661166906357, 0.20677000284194946, 0.07173652946949005, 0.04219795763492584, 0.1434730589389801, 0.14769285917282104, 0.30804508924484253, 0.075956329703331, 0.07574284821748734, 0.9089141488075256, 0.9750261902809143, 0.05131716653704643, 0.11439377814531326, 0.06280443072319031, 0.1760767102241516, 0.06729046255350113, 0.12673036754131317, 0.1009356901049614, 0.3510318994522095, 0.11453063786029816, 0.18134017288684845, 0.4962994158267975, 0.05726531893014908, 0.02863265946507454, 0.12407485395669937, 0.040278661996126175, 0.9666878581047058, 0.7114891409873962, 0.062229372560977936, 0.031114686280488968, 0.012445874512195587, 0.06845230609178543, 0.0933440551161766, 0.01866881176829338, 1.0166128873825073, 1.056349515914917, 1.0172076225280762, 0.9932392239570618, 0.08482044190168381, 0.08482044190168381, 0.3925411105155945, 0.039451368153095245, 0.1144089624285698, 0.2209276556968689, 0.06312219053506851, 1.0310242176055908, 0.9554244875907898, 0.07209572941064835, 0.01441914588212967, 0.20186804234981537, 0.6488615870475769, 0.07209572941064835, 1.0309187173843384, 0.9742953181266785, 1.012549877166748, 1.0152946710586548, 0.7837260961532593, 0.20445029437541962, 0.9761337041854858, 0.03529556468129158, 0.9529802799224854, 0.9905562400817871, 0.33097580075263977, 0.01504435483366251, 0.6469072699546814, 0.15524107217788696, 0.5634675621986389, 0.07474569976329803, 0.20123842358589172, 0.15436799824237823, 0.15436799824237823, 0.03675428405404091, 0.20582400262355804, 0.3675428628921509, 0.08821028470993042, 0.9456033706665039, 0.9944583773612976, 0.6534406542778015, 0.07362712174654007, 0.1380508542060852, 0.06442373245954514, 0.04601695016026497, 0.02761016972362995, 0.04283612594008446, 0.1346278339624405, 0.31209176778793335, 0.04283612594008446, 0.3488084673881531, 0.0550750195980072, 0.06731391698122025, 1.025694489479065, 0.946192741394043, 1.0636210441589355, 1.0046571493148804, 1.0298100709915161, 0.1555735468864441, 0.16335222125053406, 0.07000809162855148, 0.132237508893013, 0.07778677344322205, 0.3967125415802002, 0.15568196773529053, 0.2075759619474411, 0.6357014179229736, 0.9802424311637878, 0.9616500735282898, 0.9739682078361511, 1.046459674835205, 0.9464322328567505, 0.953794002532959, 0.14361000061035156, 0.1759222447872162, 0.3590250015258789, 0.025131750851869583, 0.104117251932621, 0.19387349486351013, 0.9487840533256531, 0.2256539911031723, 0.6359339356422424, 0.14359799027442932, 0.9630234241485596, 0.5125242471694946, 0.025519877672195435, 0.09782619774341583, 0.048913098871707916, 0.048913098871707916, 0.1850191205739975, 0.08081294596195221, 0.09417204558849335, 0.21688108146190643, 0.11129423975944519, 0.0656350627541542, 0.2967846393585205, 0.03424438089132309, 0.18263669312000275, 0.11073227971792221, 0.11073227971792221, 0.37506094574928284, 0.014288036152720451, 0.1268063187599182, 0.09465824067592621, 0.16788442432880402, 0.97505122423172, 0.8915815949440002, 0.06368439644575119, 0.6704738140106201, 0.20629964768886566, 0.1289372742176056, 0.07089420408010483, 0.2481297105550766, 0.6734949350357056, 0.9281789660453796, 0.061078641563653946, 0.4657246470451355, 0.05344381183385849, 0.061078641563653946, 0.35120218992233276, 1.017151117324829, 0.5891118049621582, 0.10396090894937515, 0.051980454474687576, 0.2599022686481476, 0.14803047478199005, 0.8388393521308899, 0.9099624156951904, 0.08272385597229004, 0.9731941223144531, 0.1528685986995697, 0.1258917897939682, 0.1438763290643692, 0.0629458948969841, 0.01798454113304615, 0.4945748746395111, 0.15723934769630432, 0.1314239352941513, 0.03050912730395794, 0.023468559607863426, 0.570285975933075, 0.014081135392189026, 0.07040567696094513, 0.11409876495599747, 0.055082160979509354, 0.17704980075359344, 0.07868880033493042, 0.055082160979509354, 0.36590293049812317, 0.14950872957706451, 0.23358091711997986, 0.23865875601768494, 0.05585630610585213, 0.2894372045993805, 0.07108984142541885, 0.11171261221170425, 0.005077845882624388, 1.013614535331726, 0.9893366694450378, 0.1465970128774643, 0.1954626739025116, 0.18150106072425842, 0.07958123087882996, 0.26527076959609985, 0.078185074031353, 0.05305415391921997, 1.0569038391113281, 1.0484426021575928, 1.0308518409729004, 0.9818035364151001, 0.1709631085395813, 0.21469785273075104, 0.2783120274543762, 0.02783120423555374, 0.16698722541332245, 0.023855317384004593, 0.11927659064531326, 0.9223559498786926, 0.0709504559636116, 1.0468130111694336, 0.26742908358573914, 0.2521474063396454, 0.015281661413609982, 0.4584498405456543, 0.9724811911582947, 0.6377598643302917, 0.024529224261641502, 0.012264612130820751, 0.11038151383399963, 0.1471753567457199, 0.030661530792713165, 0.04292614385485649, 1.0031626224517822, 1.0063207149505615, 0.972595751285553, 1.0139931440353394, 0.9555571675300598, 0.24005354940891266, 0.207318976521492, 0.16549146175384521, 0.12366394698619843, 0.08547361195087433, 0.12366394698619843, 0.052739035338163376, 0.1938629150390625, 0.17253798246383667, 0.17544592916965485, 0.06106681749224663, 0.17350730299949646, 0.13376541435718536, 0.08917693793773651, 1.045518398284912, 0.9936993718147278, 0.26100996136665344, 0.10847166925668716, 0.21355360746383667, 0.10169219225645065, 0.07457427680492401, 0.04406661540269852, 0.19321516156196594, 0.9351595044136047, 0.9162647724151611, 0.05817054584622383, 0.9307287335395813, 0.18695548176765442, 0.7893676161766052, 0.02077283151447773, 0.985901415348053, 0.9905139207839966, 0.16040289402008057, 0.7485467791557312, 0.021387051790952682, 0.06416115164756775, 1.0487148761749268, 0.9772047996520996, 0.31182485818862915, 0.19303444027900696, 0.033409807831048965, 0.09651722013950348, 0.2561418414115906, 0.037122007459402084, 0.07053181529045105, 1.0326710939407349, 0.9712647199630737, 1.005837321281433, 0.17059867084026337, 0.18424656987190247, 0.020471841096878052, 0.16377472877502441, 0.020471841096878052, 0.43673262000083923, 1.0181506872177124, 0.9608200788497925, 1.0179718732833862, 1.020845890045166, 0.9810243844985962, 0.03870382159948349, 0.04596078768372536, 0.41606608033180237, 0.06289371103048325, 0.29269763827323914, 0.06289371103048325, 0.08224561810493469, 1.011212944984436, 1.030916452407837, 1.015175461769104, 0.01145950611680746, 0.1890818476676941, 0.017189258709549904, 0.097405806183815, 0.5500562787055969, 0.10313555598258972, 0.03437851741909981, 1.0329121351242065, 0.19634510576725006, 0.7853804230690002, 0.13034163415431976, 0.038416482508182526, 0.10290129482746124, 0.2112906575202942, 0.24559108912944794, 0.1646420657634735, 0.1056453287601471, 0.27110177278518677, 0.1280202716588974, 0.015061208978295326, 0.035142820328474045, 0.052714232355356216, 0.4919995069503784, 0.00251020141877234, 0.16249459981918335, 0.14218278229236603, 0.1450844705104828, 0.05223040655255318, 0.22633177042007446, 0.1653962880373001, 0.10736250877380371, 0.9252645373344421, 0.9925090670585632, 0.9854474663734436, 0.15238547325134277, 0.1923554241657257, 0.2073441594839096, 0.09992489963769913, 0.1324004977941513, 0.15738171339035034, 0.059954941272735596, 0.17515994608402252, 0.019462216645479202, 0.019462216645479202, 0.7979508638381958, 1.061995506286621, 0.9887754321098328, 1.012078046798706, 0.5429572463035583, 0.1144789382815361, 0.10513371974229813, 0.09485398232936859, 0.036446355283260345, 0.0705564096570015, 0.03551183640956879, 1.0048466920852661, 0.2268795371055603, 0.2500831186771393, 0.09023617953062057, 0.015469059348106384, 0.10828341543674469, 0.27328670024871826, 0.03609447181224823, 0.7368224263191223, 0.2652560770511627, 0.9762767553329468, 0.08314533531665802, 0.062359001487493515, 0.09700289368629456, 0.03464389219880104, 0.6720914840698242, 0.020786333829164505, 0.027715113013982773, 0.3665764629840851, 0.018328823149204254, 0.05498646944761276, 0.5681934952735901, 0.9896920323371887, 0.5064253807067871, 0.11162029206752777, 0.13573579490184784, 0.06614536046981812, 0.02687155269086361, 0.12402255088090897, 0.028249580413103104, 0.13244283199310303, 0.8476341366767883, 0.5446555614471436, 0.15734493732452393, 0.2299656718969345, 0.06051728501915932, 0.1062067449092865, 0.1457255333662033, 0.07409773021936417, 0.1259661465883255, 0.14819546043872833, 0.13337591290473938, 0.26428189873695374, 1.022406816482544, 0.25062888860702515, 0.1670859307050705, 0.06497786194086075, 0.037130206823349, 0.334171861410141, 0.02784765511751175, 0.12067317217588425, 0.9896343946456909, 0.9532396197319031, 1.0296896696090698, 1.0331047773361206, 0.15986542403697968, 0.049957942217588425, 0.13988223671913147, 0.07993271201848984, 0.14987383782863617, 0.4196467399597168, 0.30753976106643677, 0.3101460337638855, 0.10685703903436661, 0.08600688725709915, 0.1146758422255516, 0.0729755386710167, 0.08981569856405258, 0.898157000541687, 1.0128206014633179, 0.9651505947113037, 0.11453671008348465, 0.13635322451591492, 0.04363303259015083, 0.5399587750434875, 0.04908715933561325, 0.07635780423879623, 0.04363303259015083, 0.9362171292304993, 0.6443650722503662, 0.18951915204524994, 0.15161532163619995, 0.9665928483009338, 1.0660656690597534, 0.14191077649593353, 0.028382156044244766, 0.05676431208848953, 0.7663182020187378, 0.1756713092327118, 0.1339493691921234, 0.1339493691921234, 0.06148495897650719, 0.162495955824852, 0.16688774526119232, 0.16688774526119232, 0.04538935422897339, 0.9531764984130859, 0.7341707348823547, 0.11294934898614883, 0.16942402720451355, 0.25103822350502014, 0.034866418689489365, 0.5160229802131653, 0.055786266922950745, 0.13946567475795746, 1.0456398725509644, 0.10803436487913132, 0.036011457443237305, 0.08402673155069351, 0.44414129853248596, 0.14404582977294922, 0.18605919182300568, 1.0352743864059448, 0.23126423358917236, 0.7568647861480713, 0.912031888961792, 0.04343008995056152, 0.9493899941444397, 0.07911583036184311, 0.9353597164154053, 0.979572057723999, 0.952748715877533, 0.9544401168823242, 0.9411804676055908, 0.14784903824329376, 0.14784903824329376, 0.008697002194821835, 0.0869700238108635, 0.21742506325244904, 0.391365110874176, 0.989014208316803, 0.007223897613584995, 0.48400112986564636, 0.05779118090867996, 0.11558236181735992, 0.08668676763772964, 0.2528364062309265, 0.08070364594459534, 0.13114342093467712, 0.5851014256477356, 0.010087955743074417, 0.19167116284370422, 0.12186580151319504, 0.05155860632658005, 0.1663936823606491, 0.05390217900276184, 0.2648237645626068, 0.1663936823606491, 0.17342440783977509, 0.15505370497703552, 0.3152758479118347, 0.02584228292107582, 0.13954833149909973, 0.041347652673721313, 0.1705590784549713, 0.15505370497703552, 1.0046617984771729, 0.3954429030418396, 0.1988018900156021, 0.12965340912342072, 0.0821138247847557, 0.051861364394426346, 0.12100984901189804, 0.021608902141451836, 0.9815945625305176, 0.07974597811698914, 0.30671530961990356, 0.012268612161278725, 0.3496554493904114, 0.12268611788749695, 0.1257532685995102, 0.003067153040319681, 0.9644314050674438, 0.9613524675369263, 0.9786510467529297, 1.000598430633545, 1.0415033102035522, 0.9452657103538513, 0.43426114320755005, 0.19231565296649933, 0.0806484967470169, 0.14888954162597656, 0.1054634228348732, 0.03722238540649414, 1.0475324392318726, 0.12232138961553574, 0.14270828664302826, 0.08154759556055069, 0.5912200808525085, 0.06116069480776787, 1.0122195482254028, 0.11583101749420166, 0.021060185506939888, 0.052650462836027145, 0.042120371013879776, 0.07371065020561218, 0.5791550874710083, 0.11583101749420166, 0.9893434643745422, 0.0944284051656723, 0.02023465931415558, 0.6542539596557617, 0.013489772565662861, 0.06744886189699173, 0.14838749170303345, 0.9645017385482788, 0.018999658524990082, 0.14249743521213531, 0.009499829262495041, 0.009499829262495041, 0.6269887089729309, 0.18999658524990082, 1.0117595195770264, 0.9721207022666931, 0.9903236627578735, 0.9301760792732239, 0.9741376042366028, 0.9421929121017456, 0.014721764251589775, 0.014721764251589775, 0.014721764251589775, 0.12032046169042587, 0.10616511106491089, 0.07077673822641373, 0.4671264886856079, 0.22648558020591736, 0.0070776743814349174, 1.0700745582580566, 0.5635563135147095, 0.10144013911485672, 0.005635563284158707, 0.06762675940990448, 0.028177816420793533, 0.1690669059753418, 0.06762675940990448, 0.2607770562171936, 0.061359308660030365, 0.09203896671533585, 0.5982532501220703, 0.038343265652656555, 0.11502979695796967, 0.019171632826328278, 0.8052086234092712, 0.019171632826328278, 0.10667294263839722, 0.015238991938531399, 0.030477983877062798, 0.060955967754125595, 0.7924275398254395, 1.0126311779022217, 1.0706791877746582, 0.03972680866718292, 0.9534434080123901, 0.2592029273509979, 0.008100091479718685, 0.2170824557542801, 0.17820201814174652, 0.1166413202881813, 0.03078034706413746, 0.18792212009429932, 0.12606917321681976, 0.8404611349105835, 0.042023055255413055, 0.14308658242225647, 0.011006660759449005, 0.6934195756912231, 0.15409325063228607, 0.868381142616272, 0.04570427164435387, 0.09140854328870773, 0.002628733403980732, 0.08937693387269974, 0.002628733403980732, 0.8727394938468933, 0.021029867231845856, 0.007886200211942196, 0.007886200211942196, 0.9257065057754517, 0.21462944149971008, 0.7780317068099976, 0.9572933912277222, 0.9909683465957642, 0.8862172365188599, 0.11077715456485748, 0.8198967576026917, 0.1561708003282547, 0.8908093571662903, 0.08483898639678955, 1.0158486366271973, 0.0033173980191349983, 0.6468926072120667, 0.006634796038269997, 0.03980877622961998, 0.1293785274028778, 0.11942632496356964, 0.05307836830615997, 0.0066361380741000175, 0.049771036952733994, 0.1360408365726471, 0.05308910459280014, 0.13935890793800354, 0.49771037697792053, 0.11613242328166962, 0.11010775715112686, 0.22021551430225372, 0.6606465578079224, 0.11517929285764694, 0.11997842788696289, 0.04319223389029503, 0.14397411048412323, 0.1823672205209732, 0.1295766979455948, 0.26875168085098267, 0.270440936088562, 0.02253674529492855, 0.5859553813934326, 0.05634186416864395, 0.0450734905898571, 0.03380511701107025, 0.9716889262199402, 0.9346780180931091, 0.1686747670173645, 0.008032131940126419, 0.016064263880252838, 0.024096395820379257, 0.6265062689781189, 0.06425705552101135, 0.09638558328151703, 1.0060795545578003, 0.7024214863777161, 0.1453285813331604, 0.10495953261852264, 0.024221429601311684, 0.024221429601311684, 0.08207929879426956, 0.9028722643852234, 1.0184029340744019, 0.08058676868677139, 0.7598181366920471, 0.034537188708782196, 0.11512395739555359, 0.28605589270591736, 0.11124395579099655, 0.015891993418335915, 0.5721117854118347, 0.17271284759044647, 0.21981635689735413, 0.05495408922433853, 0.05495408922433853, 0.015701167285442352, 0.015701167285442352, 0.47103503346443176], \"Term\": [\"abdomen\", \"absolute\", \"acrylic\", \"adorable\", \"adorable\", \"adorable\", \"adorable\", \"adorable\", \"ag\", \"airy\", \"alright\", \"amazing\", \"amp\", \"anticipate\", \"apparent\", \"area\", \"area\", \"area\", \"area\", \"area\", \"area\", \"area\", \"arm\", \"arm\", \"arm\", \"arm\", \"arm\", \"arm\", \"armhole\", \"armhole\", \"arrived\", \"attempt\", \"background\", \"background\", \"bath\", \"bath\", \"beach\", \"beach\", \"beach\", \"beige\", \"belt\", \"belt\", \"belt\", \"bet\", \"better\", \"better\", \"better\", \"big\", \"big\", \"big\", \"big\", \"big\", \"big\", \"big\", \"bill\", \"bizarre\", \"black\", \"black\", \"black\", \"black\", \"black\", \"black\", \"black\", \"block\", \"blue\", \"blue\", \"blue\", \"blue\", \"blue\", \"blue\", \"blue\", \"body\", \"body\", \"body\", \"body\", \"body\", \"body\", \"body\", \"bother\", \"bother\", \"bother\", \"box\", \"box\", \"boxy\", \"boxy\", \"boxy\", \"boxy\", \"boxy\", \"boxy\", \"boxy\", \"boy\", \"boyfriend\", \"bra\", \"bra\", \"bra\", \"bra\", \"bra\", \"bra\", \"bra\", \"brighter\", \"broad\", \"broad\", \"broad\", \"brown\", \"brown\", \"buck\", \"bulk\", \"bulk\", \"bulk\", \"bulk\", \"bulky\", \"bulky\", \"bulky\", \"bulky\", \"bulky\", \"bulky\", \"bump\", \"bump\", \"burgundy\", \"bust\", \"bust\", \"bust\", \"bust\", \"bust\", \"bust\", \"bust\", \"button\", \"button\", \"button\", \"button\", \"button\", \"button\", \"button\", \"buyer\", \"buying\", \"buying\", \"cap\", \"capri\", \"careful\", \"cartonnier\", \"cashmere\", \"casual\", \"casual\", \"casual\", \"casual\", \"casual\", \"casual\", \"casual\", \"catalog\", \"catalog\", \"center\", \"center\", \"certain\", \"challenge\", \"change\", \"charge\", \"cheap\", \"cheap\", \"cheap\", \"cheap\", \"cheap\", \"cheap\", \"cheap\", \"chemical\", \"chest\", \"chest\", \"chest\", \"chest\", \"chest\", \"chest\", \"chest\", \"chested\", \"chested\", \"chested\", \"chested\", \"chic\", \"chic\", \"chiffon\", \"chino\", \"choke\", \"clean\", \"clean\", \"clung\", \"coh\", \"cold\", \"cold\", \"cold\", \"color\", \"color\", \"color\", \"color\", \"color\", \"color\", \"color\", \"colored\", \"comfortable\", \"comfortable\", \"comfortable\", \"comfortable\", \"comfortable\", \"comfortable\", \"comfortable\", \"comical\", \"compel\", \"compensate\", \"complement\", \"control\", \"coral\", \"coral\", \"costume\", \"costume\", \"cotton\", \"cotton\", \"cotton\", \"cotton\", \"cotton\", \"cotton\", \"couldnt\", \"cover\", \"cover\", \"cover\", \"cover\", \"cover\", \"cover\", \"cowl\", \"crotch\", \"crotch\", \"cup\", \"cup\", \"cup\", \"cup\", \"current\", \"curve\", \"curve\", \"curve\", \"curve\", \"curve\", \"cut\", \"cut\", \"cut\", \"cut\", \"cut\", \"cut\", \"cut\", \"cuter\", \"cutout\", \"cycle\", \"damage\", \"darn\", \"day\", \"day\", \"day\", \"day\", \"day\", \"day\", \"day\", \"decide\", \"decide\", \"decide\", \"decide\", \"decide\", \"decide\", \"decide\", \"def\", \"define\", \"degree\", \"delicate\", \"delicate\", \"delicate\", \"delicate\", \"delicate\", \"delicate\", \"delicate\", \"design\", \"design\", \"design\", \"design\", \"design\", \"design\", \"design\", \"detail\", \"detail\", \"detail\", \"detail\", \"detail\", \"detail\", \"detail\", \"different\", \"different\", \"different\", \"different\", \"different\", \"different\", \"different\", \"dingy\", \"dislike\", \"distress\", \"dollar\", \"drab\", \"drab\", \"drawstring\", \"dressing\", \"droopy\", \"dry\", \"dry\", \"dry\", \"dryer\", \"dumpy\", \"dusty\", \"edgy\", \"effort\", \"embroidery\", \"embroidery\", \"embroidery\", \"embroidery\", \"embroidery\", \"enhance\", \"exact\", \"exaggerate\", \"examine\", \"excite\", \"excite\", \"excite\", \"excite\", \"excite\", \"excite\", \"excite\", \"exclusive\", \"execute\", \"execution\", \"expect\", \"expect\", \"expect\", \"expect\", \"expect\", \"expect\", \"expect\", \"extend\", \"fabric\", \"fabric\", \"fabric\", \"fabric\", \"fabric\", \"fabric\", \"fabric\", \"faded\", \"fault\", \"figure\", \"figure\", \"figure\", \"figure\", \"figure\", \"figure\", \"figure\", \"final\", \"find\", \"find\", \"find\", \"find\", \"find\", \"find\", \"find\", \"first\", \"first\", \"first\", \"first\", \"first\", \"first\", \"first\", \"fit\", \"fit\", \"fit\", \"fit\", \"fit\", \"fit\", \"fit\", \"fits\", \"flare\", \"flare\", \"flare\", \"flare\", \"flare\", \"flare\", \"flare\", \"fleece\", \"floreat\", \"florida\", \"fly\", \"follow\", \"follow\", \"foot\", \"foot\", \"foot\", \"forgive\", \"frame\", \"frame\", \"frame\", \"frame\", \"frame\", \"frame\", \"frame\", \"front\", \"front\", \"front\", \"front\", \"front\", \"front\", \"front\", \"functional\", \"fuzz\", \"gal\", \"gauze\", \"giant\", \"ginormous\", \"girl\", \"girl\", \"girl\", \"girl\", \"glass\", \"glove\", \"gold\", \"gold\", \"goodness\", \"gown\", \"gray\", \"gray\", \"green\", \"green\", \"green\", \"green\", \"green\", \"green\", \"grey\", \"grey\", \"grey\", \"grey\", \"grey\", \"grey\", \"hair\", \"halloween\", \"hand\", \"hand\", \"hand\", \"hand\", \"hand\", \"hand\", \"hassle\", \"hat\", \"hat\", \"heavy\", \"heavy\", \"heavy\", \"heavy\", \"heavy\", \"heavy\", \"heavy\", \"hesitate\", \"hi\", \"high\", \"high\", \"high\", \"high\", \"high\", \"high\", \"high\", \"hint\", \"hip\", \"hip\", \"hip\", \"hip\", \"hip\", \"hip\", \"hip\", \"hole\", \"hole\", \"hole\", \"hole\", \"hole\", \"hoodie\", \"hope\", \"hope\", \"hope\", \"hope\", \"hope\", \"hope\", \"horizontal\", \"hourglass\", \"hourglass\", \"hourglass\", \"hourglass\", \"huge\", \"huge\", \"huge\", \"huge\", \"huge\", \"huge\", \"huge\", \"impractical\", \"impress\", \"inch\", \"inch\", \"inch\", \"inch\", \"inch\", \"inch\", \"inch\", \"inconsistent\", \"inner\", \"instruction\", \"intent\", \"iron\", \"iron\", \"irritate\", \"ish\", \"ish\", \"ish\", \"itchy\", \"itchy\", \"itchy\", \"jump\", \"jumpsuit\", \"jumpsuit\", \"key\", \"killer\", \"kind\", \"kind\", \"kind\", \"kind\", \"kind\", \"kind\", \"large\", \"large\", \"large\", \"large\", \"large\", \"large\", \"large\", \"late\", \"laundry\", \"layer\", \"layer\", \"layer\", \"layer\", \"layer\", \"layer\", \"layering\", \"leg\", \"leg\", \"leg\", \"leg\", \"legs\", \"legs\", \"length\", \"length\", \"length\", \"length\", \"length\", \"length\", \"length\", \"lift\", \"lift\", \"lift\", \"likely\", \"likely\", \"likely\", \"lilac\", \"line\", \"line\", \"line\", \"line\", \"line\", \"line\", \"line\", \"lined\", \"lint\", \"little\", \"little\", \"little\", \"little\", \"little\", \"little\", \"little\", \"lo\", \"lol\", \"loose\", \"loose\", \"loose\", \"loose\", \"loose\", \"loose\", \"loose\", \"low\", \"low\", \"low\", \"low\", \"low\", \"low\", \"low\", \"lump\", \"lump\", \"machine\", \"machine\", \"material\", \"material\", \"material\", \"material\", \"material\", \"material\", \"material\", \"maternity\", \"maternity\", \"maternity\", \"maternity\", \"maternity\", \"maternity\", \"matter\", \"matter\", \"medium\", \"medium\", \"medium\", \"medium\", \"medium\", \"medium\", \"medium\", \"mesh\", \"mini\", \"mislead\", \"mistake\", \"model\", \"model\", \"model\", \"model\", \"model\", \"model\", \"model\", \"modern\", \"modest\", \"money\", \"money\", \"money\", \"money\", \"money\", \"moo\", \"moss\", \"mother\", \"motif\", \"movement\", \"movement\", \"mustard\", \"mute\", \"mute\", \"name\", \"navy\", \"navy\", \"navy\", \"neck\", \"neck\", \"neck\", \"neck\", \"neckline\", \"neckline\", \"neckline\", \"neckline\", \"neckline\", \"neckline\", \"needle\", \"net\", \"normal\", \"normal\", \"normal\", \"normal\", \"normal\", \"normal\", \"nothing\", \"nothing\", \"nothing\", \"nothing\", \"nothing\", \"nothing\", \"nothing\", \"noticeable\", \"number\", \"oatmeal\", \"obvious\", \"occasion\", \"open\", \"open\", \"open\", \"open\", \"open\", \"open\", \"orange\", \"orange\", \"orange\", \"outside\", \"overlay\", \"overwhelming\", \"packaging\", \"painful\", \"paris\", \"pattern\", \"pattern\", \"pattern\", \"pattern\", \"pattern\", \"pattern\", \"pencil\", \"peplum\", \"peplum\", \"peplum\", \"perfection\", \"petite\", \"petite\", \"petite\", \"petite\", \"petite\", \"petite\", \"petite\", \"photo\", \"photo\", \"photo\", \"photo\", \"photo\", \"photo\", \"photo\", \"picture\", \"picture\", \"picture\", \"picture\", \"picture\", \"picture\", \"picture\", \"pilcro\", \"pilled\", \"pilled\", \"pilling\", \"pilling\", \"pilling\", \"pink\", \"pink\", \"pink\", \"plum\", \"pocket\", \"pocket\", \"pocket\", \"pocket\", \"pocket\", \"poly\", \"polyester\", \"polyester\", \"polyester\", \"polyester\", \"poof\", \"poof\", \"potato\", \"potato\", \"practical\", \"pretty\", \"pretty\", \"pretty\", \"pretty\", \"pretty\", \"pretty\", \"price\", \"price\", \"price\", \"price\", \"price\", \"price\", \"price\", \"print\", \"print\", \"print\", \"print\", \"print\", \"print\", \"print\", \"problem\", \"problem\", \"problem\", \"problem\", \"problem\", \"problem\", \"problem\", \"protrude\", \"public\", \"quality\", \"quality\", \"quality\", \"quality\", \"quality\", \"quality\", \"quality\", \"quite\", \"rare\", \"rave\", \"ready\", \"receive\", \"receive\", \"receive\", \"receive\", \"receive\", \"receive\", \"receive\", \"received\", \"received\", \"reconsider\", \"red\", \"red\", \"red\", \"red\", \"ref\", \"regular\", \"regular\", \"regular\", \"regular\", \"regular\", \"regular\", \"regular\", \"remain\", \"remover\", \"replacement\", \"resemble\", \"reservation\", \"retailer\", \"retailer\", \"retailer\", \"retailer\", \"retailer\", \"retailer\", \"retailer\", \"return\", \"return\", \"return\", \"return\", \"return\", \"return\", \"return\", \"ribbed\", \"rich\", \"right\", \"right\", \"right\", \"right\", \"right\", \"right\", \"right\", \"ring\", \"rinse\", \"robe\", \"robe\", \"romper\", \"romper\", \"romper\", \"rough\", \"rust\", \"sack\", \"sack\", \"sack\", \"sack\", \"safe\", \"saggy\", \"sale\", \"sale\", \"sale\", \"sale\", \"sale\", \"sale\", \"sale\", \"sash\", \"school\", \"scoop\", \"seam\", \"seam\", \"seam\", \"seam\", \"seam\", \"seam\", \"seams\", \"search\", \"selling\", \"sending\", \"service\", \"shape\", \"shape\", \"shape\", \"shape\", \"shape\", \"shape\", \"shape\", \"share\", \"shawl\", \"sheen\", \"sheer\", \"sheer\", \"sheer\", \"sheer\", \"sheer\", \"sheer\", \"sheer\", \"sheerness\", \"shift\", \"shift\", \"short\", \"short\", \"short\", \"short\", \"short\", \"short\", \"short\", \"shoulder\", \"shoulder\", \"shoulder\", \"shoulder\", \"shoulder\", \"shoulder\", \"shoulder\", \"show\", \"show\", \"show\", \"show\", \"show\", \"show\", \"show\", \"shower\", \"shrink\", \"shrunk\", \"side\", \"side\", \"side\", \"side\", \"side\", \"side\", \"side\", \"silk\", \"silk\", \"silk\", \"silk\", \"site\", \"sits\", \"situation\", \"size\", \"size\", \"size\", \"size\", \"size\", \"size\", \"size\", \"skip\", \"sleeve\", \"sleeve\", \"sleeve\", \"sleeve\", \"sleeve\", \"sleeve\", \"sleeve\", \"slender\", \"slender\", \"slinky\", \"slip\", \"slip\", \"slip\", \"slip\", \"slip\", \"slip\", \"slip\", \"slit\", \"slit\", \"slit\", \"slit\", \"sm\", \"small\", \"small\", \"small\", \"small\", \"small\", \"small\", \"small\", \"smell\", \"smell\", \"snug\", \"snug\", \"snug\", \"snug\", \"soft\", \"soft\", \"soft\", \"soft\", \"soft\", \"soft\", \"soft\", \"softness\", \"something\", \"something\", \"something\", \"something\", \"something\", \"something\", \"something\", \"space\", \"sport\", \"static\", \"stet\", \"stiff\", \"stiff\", \"stiff\", \"stiff\", \"stiff\", \"stiff\", \"store\", \"store\", \"store\", \"store\", \"store\", \"store\", \"strapless\", \"strapless\", \"street\", \"stress\", \"stretch\", \"stretch\", \"stretch\", \"stretch\", \"stretch\", \"stretch\", \"stretch\", \"stretched\", \"stripe\", \"stripe\", \"stripe\", \"strong\", \"stuffed\", \"stun\", \"stun\", \"stun\", \"stun\", \"style\", \"style\", \"style\", \"style\", \"style\", \"style\", \"style\", \"stylish\", \"stylish\", \"suggest\", \"suggest\", \"suggest\", \"suit\", \"suit\", \"suit\", \"suit\", \"suit\", \"suitable\", \"summer\", \"summer\", \"summer\", \"summer\", \"summer\", \"summer\", \"summery\", \"swim\", \"swim\", \"swimming\", \"swimming\", \"swimsuit\", \"swimsuit\", \"sym\", \"sz\", \"tan\", \"taper\", \"tapered\", \"tee\", \"tee\", \"tee\", \"tee\", \"tee\", \"tee\", \"ten\", \"thick\", \"thick\", \"thick\", \"thick\", \"thick\", \"thick\", \"thigh\", \"thigh\", \"thigh\", \"thigh\", \"thigh\", \"thin\", \"thin\", \"thin\", \"thin\", \"thin\", \"thin\", \"thin\", \"thing\", \"thing\", \"thing\", \"thing\", \"thing\", \"thing\", \"thing\", \"thru\", \"tight\", \"tight\", \"tight\", \"tight\", \"tight\", \"tight\", \"tight\", \"tights\", \"time\", \"time\", \"time\", \"time\", \"time\", \"time\", \"time\", \"tip\", \"tissue\", \"title\", \"ton\", \"tough\", \"towards\", \"tried\", \"tried\", \"tried\", \"tried\", \"tried\", \"tried\", \"tshirt\", \"tuck\", \"tuck\", \"tuck\", \"tuck\", \"tuck\", \"tucked\", \"tunic\", \"tunic\", \"tunic\", \"tunic\", \"tunic\", \"tunic\", \"tunic\", \"turtleneck\", \"type\", \"type\", \"type\", \"type\", \"type\", \"type\", \"ultra\", \"underneath\", \"underneath\", \"underneath\", \"underneath\", \"underneath\", \"underneath\", \"undershirt\", \"underwire\", \"undo\", \"unhappy\", \"unstructured\", \"upper\", \"upper\", \"upper\", \"upper\", \"use\", \"use\", \"use\", \"use\", \"use\", \"use\", \"useful\", \"usual\", \"usual\", \"usual\", \"usual\", \"usual\", \"usual\", \"usual\", \"version\", \"version\", \"version\", \"version\", \"vest\", \"vest\", \"vest\", \"vest\", \"vest\", \"vibrant\", \"vibrant\", \"vibrant\", \"vibrant\", \"vibrant\", \"visible\", \"vivid\", \"volume\", \"volume\", \"waist\", \"waist\", \"waist\", \"waist\", \"waist\", \"waist\", \"waist\", \"waistband\", \"waistband\", \"waistband\", \"waisted\", \"waisted\", \"waisted\", \"waisted\", \"wardrobe\", \"wardrobe\", \"wardrobe\", \"wash\", \"wash\", \"wash\", \"wash\", \"wash\", \"wash\", \"wash\", \"washable\", \"waste\", \"waste\", \"watch\", \"water\", \"wedding\", \"wedding\", \"weigh\", \"weigh\", \"well\", \"well\", \"wet\", \"white\", \"white\", \"white\", \"white\", \"white\", \"white\", \"white\", \"wide\", \"wide\", \"wide\", \"wide\", \"wide\", \"wide\", \"wide\", \"width\", \"width\", \"width\", \"wish\", \"wish\", \"wish\", \"wish\", \"wish\", \"wish\", \"wish\", \"woman\", \"woman\", \"woman\", \"woman\", \"woman\", \"woman\", \"worked\", \"worried\", \"worth\", \"worth\", \"worth\", \"worth\", \"worth\", \"worth\", \"worth\", \"wrinkly\", \"xl\", \"xl\", \"xl\", \"xl\", \"xl\", \"xsp\", \"xsp\", \"yarn\", \"year\", \"year\", \"year\", \"year\", \"yellow\", \"yellow\", \"yellow\", \"yellow\", \"zipper\", \"zipper\", \"zipper\", \"zipper\", \"zipper\", \"zipper\", \"zipper\"]}, \"R\": 30, \"lambda.step\": 0.01, \"plot.opts\": {\"xlab\": \"PC1\", \"ylab\": \"PC2\"}, \"topic.order\": [4, 2, 6, 3, 7, 5, 1]};\n",
       "\n",
       "function LDAvis_load_lib(url, callback){\n",
       "  var s = document.createElement('script');\n",
       "  s.src = url;\n",
       "  s.async = true;\n",
       "  s.onreadystatechange = s.onload = callback;\n",
       "  s.onerror = function(){console.warn(\"failed to load library \" + url);};\n",
       "  document.getElementsByTagName(\"head\")[0].appendChild(s);\n",
       "}\n",
       "\n",
       "if(typeof(LDAvis) !== \"undefined\"){\n",
       "   // already loaded: just create the visualization\n",
       "   !function(LDAvis){\n",
       "       new LDAvis(\"#\" + \"ldavis_el253349882522323182002631\", ldavis_el253349882522323182002631_data);\n",
       "   }(LDAvis);\n",
       "}else if(typeof define === \"function\" && define.amd){\n",
       "   // require.js is available: use it to load d3/LDAvis\n",
       "   require.config({paths: {d3: \"https://cdnjs.cloudflare.com/ajax/libs/d3/3.5.5/d3.min\"}});\n",
       "   require([\"d3\"], function(d3){\n",
       "      window.d3 = d3;\n",
       "      LDAvis_load_lib(\"https://cdn.rawgit.com/bmabey/pyLDAvis/files/ldavis.v1.0.0.js\", function(){\n",
       "        new LDAvis(\"#\" + \"ldavis_el253349882522323182002631\", ldavis_el253349882522323182002631_data);\n",
       "      });\n",
       "    });\n",
       "}else{\n",
       "    // require.js not available: dynamically load d3 & LDAvis\n",
       "    LDAvis_load_lib(\"https://cdnjs.cloudflare.com/ajax/libs/d3/3.5.5/d3.min.js\", function(){\n",
       "         LDAvis_load_lib(\"https://cdn.rawgit.com/bmabey/pyLDAvis/files/ldavis.v1.0.0.js\", function(){\n",
       "                 new LDAvis(\"#\" + \"ldavis_el253349882522323182002631\", ldavis_el253349882522323182002631_data);\n",
       "            })\n",
       "         });\n",
       "}\n",
       "</script>"
      ],
      "text/plain": [
       "<IPython.core.display.HTML object>"
      ]
     },
     "execution_count": 329,
     "metadata": {},
     "output_type": "execute_result"
    }
   ],
   "source": [
    "# https://cran.r-project.org/web/packages/LDAvis/vignettes/details.pdf\n",
    "# Here a short legend to explain the vis:\n",
    "# size of bubble: proportional to the proportions of the topics across the N total tokens in the corpus\n",
    "# red bars: estimated number of times a given term was generated by a given topic\n",
    "# blue bars: overall frequency of each term in the corpus\n",
    "# -- Relevance of words is computed with a parameter lambda\n",
    "# -- Lambda optimal value ~0.6 (https://nlp.stanford.edu/events/illvi2014/papers/sievert-illvi2014.pdf)\n",
    "%matplotlib inline\n",
    "import pyLDAvis\n",
    "import pyLDAvis.gensim\n",
    "vis = pyLDAvis.gensim.prepare(topic_model=lda_model, corpus=corpus, dictionary=dictionary_LDA)\n",
    "pyLDAvis.enable_notebook()\n",
    "pyLDAvis.display(vis)"
   ]
  },
  {
   "cell_type": "code",
   "execution_count": 332,
   "metadata": {},
   "outputs": [],
   "source": [
    "pyLDAvis.save_html(vis, 'lda_pyLDAvis_211220.html')"
   ]
  },
  {
   "cell_type": "code",
   "execution_count": 21,
   "metadata": {},
   "outputs": [],
   "source": [
    "topics = lda_model.show_topics(formatted=False)"
   ]
  },
  {
   "cell_type": "code",
   "execution_count": 24,
   "metadata": {},
   "outputs": [
    {
     "data": {
      "text/plain": [
       "{'color': 0.025003236,\n",
       " 'fabric': 0.020688076,\n",
       " 'fit': 0.018050164,\n",
       " 'size': 0.017925872,\n",
       " 'white': 0.014308193,\n",
       " 'return': 0.013046964,\n",
       " 'small': 0.011901185,\n",
       " 'design': 0.011265747,\n",
       " 'black': 0.011239923,\n",
       " 'quality': 0.010279068}"
      ]
     },
     "execution_count": 24,
     "metadata": {},
     "output_type": "execute_result"
    }
   ],
   "source": [
    "dict(topics[1][1])"
   ]
  },
  {
   "cell_type": "markdown",
   "metadata": {},
   "source": [
    "#### Word Clouds of Top N Keywords in Each Topic"
   ]
  },
  {
   "cell_type": "code",
   "execution_count": 94,
   "metadata": {},
   "outputs": [
    {
     "ename": "IndexError",
     "evalue": "list index out of range",
     "output_type": "error",
     "traceback": [
      "\u001b[0;31m---------------------------------------------------------------------------\u001b[0m",
      "\u001b[0;31mIndexError\u001b[0m                                Traceback (most recent call last)",
      "\u001b[0;32m<ipython-input-94-561a56ab3319>\u001b[0m in \u001b[0;36m<module>\u001b[0;34m\u001b[0m\n\u001b[1;32m     21\u001b[0m \u001b[0;32mfor\u001b[0m \u001b[0mi\u001b[0m\u001b[0;34m,\u001b[0m \u001b[0max\u001b[0m \u001b[0;32min\u001b[0m \u001b[0menumerate\u001b[0m\u001b[0;34m(\u001b[0m\u001b[0maxes\u001b[0m\u001b[0;34m.\u001b[0m\u001b[0mflatten\u001b[0m\u001b[0;34m(\u001b[0m\u001b[0;34m)\u001b[0m\u001b[0;34m)\u001b[0m\u001b[0;34m:\u001b[0m\u001b[0;34m\u001b[0m\u001b[0;34m\u001b[0m\u001b[0m\n\u001b[1;32m     22\u001b[0m     \u001b[0mfig\u001b[0m\u001b[0;34m.\u001b[0m\u001b[0madd_subplot\u001b[0m\u001b[0;34m(\u001b[0m\u001b[0max\u001b[0m\u001b[0;34m)\u001b[0m\u001b[0;34m\u001b[0m\u001b[0;34m\u001b[0m\u001b[0m\n\u001b[0;32m---> 23\u001b[0;31m     \u001b[0mtopic_words\u001b[0m \u001b[0;34m=\u001b[0m \u001b[0mdict\u001b[0m\u001b[0;34m(\u001b[0m\u001b[0mtopics\u001b[0m\u001b[0;34m[\u001b[0m\u001b[0mi\u001b[0m\u001b[0;34m]\u001b[0m\u001b[0;34m[\u001b[0m\u001b[0;36m1\u001b[0m\u001b[0;34m]\u001b[0m\u001b[0;34m)\u001b[0m\u001b[0;34m\u001b[0m\u001b[0;34m\u001b[0m\u001b[0m\n\u001b[0m\u001b[1;32m     24\u001b[0m     \u001b[0mcloud\u001b[0m\u001b[0;34m.\u001b[0m\u001b[0mgenerate_from_frequencies\u001b[0m\u001b[0;34m(\u001b[0m\u001b[0mtopic_words\u001b[0m\u001b[0;34m,\u001b[0m \u001b[0mmax_font_size\u001b[0m\u001b[0;34m=\u001b[0m\u001b[0;36m300\u001b[0m\u001b[0;34m)\u001b[0m\u001b[0;34m\u001b[0m\u001b[0;34m\u001b[0m\u001b[0m\n\u001b[1;32m     25\u001b[0m     \u001b[0mplt\u001b[0m\u001b[0;34m.\u001b[0m\u001b[0mgca\u001b[0m\u001b[0;34m(\u001b[0m\u001b[0;34m)\u001b[0m\u001b[0;34m.\u001b[0m\u001b[0mimshow\u001b[0m\u001b[0;34m(\u001b[0m\u001b[0mcloud\u001b[0m\u001b[0;34m)\u001b[0m\u001b[0;34m\u001b[0m\u001b[0;34m\u001b[0m\u001b[0m\n",
      "\u001b[0;31mIndexError\u001b[0m: list index out of range"
     ]
    },
    {
     "data": {
      "image/png": "[encoded data removed]",
      "text/plain": [
       "<Figure size 1440x1440 with 8 Axes>"
      ]
     },
     "metadata": {
      "needs_background": "light"
     },
     "output_type": "display_data"
    }
   ],
   "source": [
    "# 1. Wordcloud of Top N words in each topic\n",
    "from matplotlib import pyplot as plt\n",
    "from wordcloud import WordCloud, STOPWORDS\n",
    "import matplotlib.colors as mcolors\n",
    "\n",
    "cols = [color for name, color in mcolors.TABLEAU_COLORS.items()]  # more colors: 'mcolors.XKCD_COLORS'\n",
    "\n",
    "cloud = WordCloud(stopwords=stop_words,\n",
    "                  background_color='white',\n",
    "                  width=2500,\n",
    "                  height=1800,\n",
    "                  max_words=10,\n",
    "                  colormap='tab10',\n",
    "                  color_func=lambda *args, **kwargs: cols[i],\n",
    "                  prefer_horizontal=1.0)\n",
    "\n",
    "topics = lda_model.show_topics(formatted=False)\n",
    "\n",
    "fig, axes = plt.subplots(4, 2, figsize=(20,20), sharex=True, sharey=True)\n",
    "\n",
    "for i, ax in enumerate(axes.flatten()):\n",
    "    fig.add_subplot(ax)\n",
    "    topic_words = dict(topics[i][1])\n",
    "    cloud.generate_from_frequencies(topic_words, max_font_size=300)\n",
    "    plt.gca().imshow(cloud)\n",
    "    plt.gca().set_title('Topic ' + str(i), fontdict=dict(size=16))\n",
    "    plt.gca().axis('off')\n",
    "\n",
    "\n",
    "plt.subplots_adjust(wspace=0, hspace=0)\n",
    "plt.axis('off')\n",
    "plt.margins(x=0, y=0)\n",
    "plt.tight_layout()\n",
    "plt.show()"
   ]
  },
  {
   "cell_type": "markdown",
   "metadata": {},
   "source": [
    "Find meaning of topics in negative rating reviews (number of topics = 10):[23072020]\\\n",
    "Topic 0: Color/material\\\n",
    "Topic 1: Color/fabric\\\n",
    "Topic 2: Wash/dry/fit/stretch/fabric\\\n",
    "Topic 3: Size/small/large\\\n",
    "Topic 4: Shoulder/arm/length/wide/fabric\\\n",
    "Topic 5: Fabric/fit\\\n",
    "Topic 6: Fit/fabric/quality"
   ]
  },
  {
   "cell_type": "markdown",
   "metadata": {},
   "source": [
    "#### Word Counts of Topic Keywords\n",
    "\n",
    "When it comes to the keywords in the topics, the importance (weights) of the keywords matters. Along with that, how frequently the words have appeared in the documents is also interesting to look.\n",
    "\n",
    "Let’s plot the word counts and the weights of each keyword in the same chart.\n",
    "\n",
    "You want to keep an eye out on the words that occur in multiple topics and the ones whose relative frequency is more than the weight. Often such words turn out to be less important. The chart I’ve drawn below is a result of adding several such words to the stop words list in the beginning and re-running the training process."
   ]
  },
  {
   "cell_type": "code",
   "execution_count": 346,
   "metadata": {},
   "outputs": [
    {
     "data": {
      "image/png": "[encoded data removed]",
      "text/plain": [
       "<Figure size 600x1800 with 14 Axes>"
      ]
     },
     "metadata": {
      "needs_background": "light"
     },
     "output_type": "display_data"
    }
   ],
   "source": [
    "from collections import Counter\n",
    "topics = lda_model.show_topics(formatted=False)\n",
    "data_flat = [w for w_list in list_of_list_of_tokens for w in w_list]\n",
    "counter = Counter(data_flat)\n",
    "\n",
    "out = []\n",
    "for i, topic in topics:\n",
    "    for word, weight in topic:\n",
    "        out.append([word, i , weight, counter[word]])\n",
    "\n",
    "df = pd.DataFrame(out, columns=['word', 'topic_id', 'importance', 'word_count'])        \n",
    "\n",
    "# Plot Word Count and Weights of Topic Keywords\n",
    "fig, axes = plt.subplots(7, 1, figsize=(6,18), sharey=True, dpi=100)\n",
    "cols = [color for name, color in mcolors.TABLEAU_COLORS.items()]\n",
    "for i, ax in enumerate(axes.flatten()):\n",
    "    ax.bar(x='word', height=\"word_count\", data=df.loc[df.topic_id==i, :], color=cols[i], width=0.5, alpha=0.3, label='Word Count')\n",
    "    ax_twin = ax.twinx()\n",
    "    ax_twin.bar(x='word', height=\"importance\", data=df.loc[df.topic_id==i, :], color=cols[i], width=0.2, label='Weights')\n",
    "    ax.set_ylabel('Word Count', color=cols[i])\n",
    "    ax_twin.set_ylim(0, 0.030); ax.set_ylim(0, 3500)\n",
    "    ax.set_title('Topic: ' + str(i), color=cols[i], fontsize=12)\n",
    "    ax.tick_params(axis='y', left=False)\n",
    "    ax.set_xticklabels(df.loc[df.topic_id==i, 'word'], rotation=30, horizontalalignment= 'right')\n",
    "    ax.legend(loc='upper left'); ax_twin.legend(loc='upper right')\n",
    "\n",
    "fig.tight_layout(w_pad=2)    \n",
    "fig.suptitle('Word Count and Importance of Topic Keywords', fontsize=14, y=1.05)    \n",
    "plt.show()"
   ]
  },
  {
   "cell_type": "code",
   "execution_count": 6,
   "metadata": {},
   "outputs": [],
   "source": [
    "# Save model to disk.\n",
    "# temp_file = datapath(\"model\")\n",
    "lda_model.save(path1 + 'lda.lda_model')\n",
    "# Load a potentially pretrained model from disk.\n",
    "# lda_model =  models.LdaModel.load('lda.lda_model')"
   ]
  },
  {
   "cell_type": "markdown",
   "metadata": {},
   "source": [
    "### Assign dominant topic to document:\n",
    "What is the Dominant topic and its percentage contribution in each document (weight)"
   ]
  },
  {
   "cell_type": "code",
   "execution_count": 5,
   "metadata": {},
   "outputs": [],
   "source": [
    "topics = [lda_model[corpus[i]] for i in range(len(df2))]"
   ]
  },
  {
   "cell_type": "code",
   "execution_count": 6,
   "metadata": {},
   "outputs": [
    {
     "data": {
      "text/plain": [
       "5278"
      ]
     },
     "execution_count": 6,
     "metadata": {},
     "output_type": "execute_result"
    }
   ],
   "source": [
    "len(topics)"
   ]
  },
  {
   "cell_type": "code",
   "execution_count": 7,
   "metadata": {},
   "outputs": [],
   "source": [
    "def topics_document_to_dataframe(topics_document, num_topics):\n",
    "    res = pd.DataFrame(columns=range(num_topics))\n",
    "    for topic_weight in topics_document:\n",
    "        res.loc[0, topic_weight[0]] = topic_weight[1]\n",
    "    return res"
   ]
  },
  {
   "cell_type": "code",
   "execution_count": 8,
   "metadata": {},
   "outputs": [],
   "source": [
    "# Like TF-IDF, create a matrix of topic weighting, with documents as rows and topics as columns\n",
    "document_topic = \\\n",
    "pd.concat([topics_document_to_dataframe(topics_document, num_topics=num_topics) for topics_document in topics]) \\\n",
    "  .reset_index(drop=True).fillna(0)"
   ]
  },
  {
   "cell_type": "code",
   "execution_count": 9,
   "metadata": {},
   "outputs": [
    {
     "data": {
      "text/html": [
       "<div>\n",
       "<style scoped>\n",
       "    .dataframe tbody tr th:only-of-type {\n",
       "        vertical-align: middle;\n",
       "    }\n",
       "\n",
       "    .dataframe tbody tr th {\n",
       "        vertical-align: top;\n",
       "    }\n",
       "\n",
       "    .dataframe thead th {\n",
       "        text-align: right;\n",
       "    }\n",
       "</style>\n",
       "<table border=\"1\" class=\"dataframe\">\n",
       "  <thead>\n",
       "    <tr style=\"text-align: right;\">\n",
       "      <th></th>\n",
       "      <th>0</th>\n",
       "      <th>1</th>\n",
       "      <th>2</th>\n",
       "      <th>3</th>\n",
       "      <th>4</th>\n",
       "      <th>5</th>\n",
       "      <th>6</th>\n",
       "    </tr>\n",
       "  </thead>\n",
       "  <tbody>\n",
       "    <tr>\n",
       "      <th>0</th>\n",
       "      <td>0.000000</td>\n",
       "      <td>0.251003</td>\n",
       "      <td>0.000000</td>\n",
       "      <td>0.447193</td>\n",
       "      <td>0.000000</td>\n",
       "      <td>0.000000</td>\n",
       "      <td>0.300556</td>\n",
       "    </tr>\n",
       "    <tr>\n",
       "      <th>1</th>\n",
       "      <td>0.000000</td>\n",
       "      <td>0.000000</td>\n",
       "      <td>0.000000</td>\n",
       "      <td>0.000000</td>\n",
       "      <td>0.997281</td>\n",
       "      <td>0.000000</td>\n",
       "      <td>0.000000</td>\n",
       "    </tr>\n",
       "    <tr>\n",
       "      <th>2</th>\n",
       "      <td>0.219271</td>\n",
       "      <td>0.000000</td>\n",
       "      <td>0.776903</td>\n",
       "      <td>0.000000</td>\n",
       "      <td>0.000000</td>\n",
       "      <td>0.000000</td>\n",
       "      <td>0.000000</td>\n",
       "    </tr>\n",
       "    <tr>\n",
       "      <th>3</th>\n",
       "      <td>0.000000</td>\n",
       "      <td>0.000000</td>\n",
       "      <td>0.300035</td>\n",
       "      <td>0.235083</td>\n",
       "      <td>0.000000</td>\n",
       "      <td>0.463708</td>\n",
       "      <td>0.000000</td>\n",
       "    </tr>\n",
       "    <tr>\n",
       "      <th>4</th>\n",
       "      <td>0.000000</td>\n",
       "      <td>0.000000</td>\n",
       "      <td>0.495573</td>\n",
       "      <td>0.105756</td>\n",
       "      <td>0.000000</td>\n",
       "      <td>0.397010</td>\n",
       "      <td>0.000000</td>\n",
       "    </tr>\n",
       "  </tbody>\n",
       "</table>\n",
       "</div>"
      ],
      "text/plain": [
       "          0         1         2         3         4         5         6\n",
       "0  0.000000  0.251003  0.000000  0.447193  0.000000  0.000000  0.300556\n",
       "1  0.000000  0.000000  0.000000  0.000000  0.997281  0.000000  0.000000\n",
       "2  0.219271  0.000000  0.776903  0.000000  0.000000  0.000000  0.000000\n",
       "3  0.000000  0.000000  0.300035  0.235083  0.000000  0.463708  0.000000\n",
       "4  0.000000  0.000000  0.495573  0.105756  0.000000  0.397010  0.000000"
      ]
     },
     "execution_count": 9,
     "metadata": {},
     "output_type": "execute_result"
    }
   ],
   "source": [
    "document_topic.head()"
   ]
  },
  {
   "cell_type": "code",
   "execution_count": 10,
   "metadata": {
    "scrolled": true
   },
   "outputs": [],
   "source": [
    "# Identify the dominant topic (the topic that has highest probability)\n",
    "dominant_topic = np.argmax(document_topic.values, axis=1)\n",
    "dominant_topic_perc = np.max(document_topic.values, axis=1)\n",
    "document_topic['dominant_topic'] = dominant_topic\n",
    "document_topic['dominant_topic_perc'] = dominant_topic_perc"
   ]
  },
  {
   "cell_type": "code",
   "execution_count": 11,
   "metadata": {},
   "outputs": [
    {
     "data": {
      "text/html": [
       "<div>\n",
       "<style scoped>\n",
       "    .dataframe tbody tr th:only-of-type {\n",
       "        vertical-align: middle;\n",
       "    }\n",
       "\n",
       "    .dataframe tbody tr th {\n",
       "        vertical-align: top;\n",
       "    }\n",
       "\n",
       "    .dataframe thead th {\n",
       "        text-align: right;\n",
       "    }\n",
       "</style>\n",
       "<table border=\"1\" class=\"dataframe\">\n",
       "  <thead>\n",
       "    <tr style=\"text-align: right;\">\n",
       "      <th></th>\n",
       "      <th>0</th>\n",
       "      <th>1</th>\n",
       "      <th>2</th>\n",
       "      <th>3</th>\n",
       "      <th>4</th>\n",
       "      <th>5</th>\n",
       "      <th>6</th>\n",
       "      <th>dominant_topic</th>\n",
       "      <th>dominant_topic_perc</th>\n",
       "      <th>dominant_topic_theme</th>\n",
       "    </tr>\n",
       "  </thead>\n",
       "  <tbody>\n",
       "    <tr>\n",
       "      <th>0</th>\n",
       "      <td>0.000000</td>\n",
       "      <td>0.251003</td>\n",
       "      <td>0.000000</td>\n",
       "      <td>0.447193</td>\n",
       "      <td>0.000000</td>\n",
       "      <td>0.0</td>\n",
       "      <td>0.300556</td>\n",
       "      <td>3</td>\n",
       "      <td>0.447193</td>\n",
       "      <td>Size/small/large</td>\n",
       "    </tr>\n",
       "    <tr>\n",
       "      <th>1</th>\n",
       "      <td>0.000000</td>\n",
       "      <td>0.000000</td>\n",
       "      <td>0.000000</td>\n",
       "      <td>0.000000</td>\n",
       "      <td>0.997281</td>\n",
       "      <td>0.0</td>\n",
       "      <td>0.000000</td>\n",
       "      <td>4</td>\n",
       "      <td>0.997281</td>\n",
       "      <td>Shoulder/arm/length/wide/fabric</td>\n",
       "    </tr>\n",
       "    <tr>\n",
       "      <th>2</th>\n",
       "      <td>0.219271</td>\n",
       "      <td>0.000000</td>\n",
       "      <td>0.776903</td>\n",
       "      <td>0.000000</td>\n",
       "      <td>0.000000</td>\n",
       "      <td>0.0</td>\n",
       "      <td>0.000000</td>\n",
       "      <td>2</td>\n",
       "      <td>0.776903</td>\n",
       "      <td>Wash/dry/fit/stretch/fabric</td>\n",
       "    </tr>\n",
       "  </tbody>\n",
       "</table>\n",
       "</div>"
      ],
      "text/plain": [
       "          0         1         2         3         4    5         6  \\\n",
       "0  0.000000  0.251003  0.000000  0.447193  0.000000  0.0  0.300556   \n",
       "1  0.000000  0.000000  0.000000  0.000000  0.997281  0.0  0.000000   \n",
       "2  0.219271  0.000000  0.776903  0.000000  0.000000  0.0  0.000000   \n",
       "\n",
       "   dominant_topic  dominant_topic_perc             dominant_topic_theme  \n",
       "0  3               0.447193             Size/small/large                 \n",
       "1  4               0.997281             Shoulder/arm/length/wide/fabric  \n",
       "2  2               0.776903             Wash/dry/fit/stretch/fabric      "
      ]
     },
     "execution_count": 11,
     "metadata": {},
     "output_type": "execute_result"
    }
   ],
   "source": [
    "def label_theme(row):\n",
    "    if row['dominant_topic'] == 0 :\n",
    "        return 'Color/material'\n",
    "    if row['dominant_topic'] == 1 :\n",
    "        return 'Color/fabric'\n",
    "    if row['dominant_topic'] == 2 :\n",
    "        return 'Wash/dry/fit/stretch/fabric'\n",
    "    if row['dominant_topic'] == 3:\n",
    "        return 'Size/small/large'\n",
    "    if row['dominant_topic']  == 4:\n",
    "        return 'Shoulder/arm/length/wide/fabric'\n",
    "    if row['dominant_topic'] == 5:\n",
    "        return 'Fabric/fit/body'\n",
    "    if row['dominant_topic'] == 6:\n",
    "        return 'Fit/fabric/price'\n",
    "\n",
    "\n",
    "        \n",
    "document_topic['dominant_topic_theme'] = document_topic.apply (lambda row: label_theme(row), axis=1)\n",
    "document_topic.head(3)"
   ]
  },
  {
   "cell_type": "code",
   "execution_count": 12,
   "metadata": {},
   "outputs": [],
   "source": [
    "# Tie dominant topic back to original data, \n",
    "# i.e. map LDA model result for each row to Clothing ID, Review Text, and Class Name\n",
    "x=list(range(0,6,1))\n",
    "x1 =df2[['Clothing_ID', 'Review_Text','Class_Name']].reset_index()\n",
    "x1.drop('index', axis=1, inplace=True)\n",
    "x2=document_topic[['dominant_topic','dominant_topic_perc','dominant_topic_theme'] + x]\n",
    "y = pd.concat([x1,x2], axis=1)"
   ]
  },
  {
   "cell_type": "code",
   "execution_count": 22,
   "metadata": {
    "collapsed": true,
    "jupyter": {
     "outputs_hidden": true
    }
   },
   "outputs": [
    {
     "data": {
      "text/html": [
       "<div>\n",
       "<style scoped>\n",
       "    .dataframe tbody tr th:only-of-type {\n",
       "        vertical-align: middle;\n",
       "    }\n",
       "\n",
       "    .dataframe tbody tr th {\n",
       "        vertical-align: top;\n",
       "    }\n",
       "\n",
       "    .dataframe thead th {\n",
       "        text-align: right;\n",
       "    }\n",
       "</style>\n",
       "<table border=\"1\" class=\"dataframe\">\n",
       "  <thead>\n",
       "    <tr style=\"text-align: right;\">\n",
       "      <th></th>\n",
       "      <th>Clothing_ID</th>\n",
       "      <th>Review_Text</th>\n",
       "      <th>Class_Name</th>\n",
       "      <th>dominant_topic</th>\n",
       "      <th>dominant_topic_perc</th>\n",
       "      <th>dominant_topic_theme</th>\n",
       "      <th>0</th>\n",
       "      <th>1</th>\n",
       "      <th>2</th>\n",
       "      <th>3</th>\n",
       "      <th>4</th>\n",
       "      <th>5</th>\n",
       "    </tr>\n",
       "  </thead>\n",
       "  <tbody>\n",
       "    <tr>\n",
       "      <th>4622</th>\n",
       "      <td>1095</td>\n",
       "      <td>This dress is lovely fabric, generaly nicely tailored, but weirdly large around armholes, which gap. i'm sending it back. also this 'red' is more like a fuschia.\\r\\n dress was generally a a bit too big on top, oddly both too long in the torso, and the shoulders cut too far in--they didn't cover bra straps--as well as unattractively large armholes. you can even see it on the model. i i'm a size 10 to 12, fairly busty but not extremely, and with a slightly short torso, which is party the problem (th</td>\n",
       "      <td>Dresses</td>\n",
       "      <td>4</td>\n",
       "      <td>0.475025</td>\n",
       "      <td>Shoulder/arm/length/wide/fabric</td>\n",
       "      <td>0.0</td>\n",
       "      <td>0.0</td>\n",
       "      <td>0.0</td>\n",
       "      <td>0.453971</td>\n",
       "      <td>0.475025</td>\n",
       "      <td>0.0</td>\n",
       "    </tr>\n",
       "  </tbody>\n",
       "</table>\n",
       "</div>"
      ],
      "text/plain": [
       "      Clothing_ID  \\\n",
       "4622  1095          \n",
       "\n",
       "                                                                                                                                                                                                                                                                                                                                                                                                                                                                                                                 Review_Text  \\\n",
       "4622  This dress is lovely fabric, generaly nicely tailored, but weirdly large around armholes, which gap. i'm sending it back. also this 'red' is more like a fuschia.\\r\\n dress was generally a a bit too big on top, oddly both too long in the torso, and the shoulders cut too far in--they didn't cover bra straps--as well as unattractively large armholes. you can even see it on the model. i i'm a size 10 to 12, fairly busty but not extremely, and with a slightly short torso, which is party the problem (th   \n",
       "\n",
       "     Class_Name  dominant_topic  dominant_topic_perc  \\\n",
       "4622  Dresses    4               0.475025              \n",
       "\n",
       "                 dominant_topic_theme    0    1    2         3         4    5  \n",
       "4622  Shoulder/arm/length/wide/fabric  0.0  0.0  0.0  0.453971  0.475025  0.0  "
      ]
     },
     "execution_count": 22,
     "metadata": {},
     "output_type": "execute_result"
    }
   ],
   "source": [
    "y.sample(1)"
   ]
  },
  {
   "cell_type": "markdown",
   "metadata": {},
   "source": [
    "### Number of documents by topic"
   ]
  },
  {
   "cell_type": "code",
   "execution_count": 23,
   "metadata": {},
   "outputs": [],
   "source": [
    "a = document_topic.groupby('dominant_topic_theme')['dominant_topic'].count().reset_index()\n",
    "a['percent'] = a['dominant_topic']/(a['dominant_topic'].sum(axis=0))*100\n",
    "b = a.sort_values(['percent'],ascending=False)"
   ]
  },
  {
   "cell_type": "code",
   "execution_count": 24,
   "metadata": {},
   "outputs": [
    {
     "data": {
      "text/html": [
       "<div>\n",
       "<style scoped>\n",
       "    .dataframe tbody tr th:only-of-type {\n",
       "        vertical-align: middle;\n",
       "    }\n",
       "\n",
       "    .dataframe tbody tr th {\n",
       "        vertical-align: top;\n",
       "    }\n",
       "\n",
       "    .dataframe thead th {\n",
       "        text-align: right;\n",
       "    }\n",
       "</style>\n",
       "<table border=\"1\" class=\"dataframe\">\n",
       "  <thead>\n",
       "    <tr style=\"text-align: right;\">\n",
       "      <th></th>\n",
       "      <th>dominant_topic_theme</th>\n",
       "      <th>dominant_topic</th>\n",
       "      <th>percent</th>\n",
       "    </tr>\n",
       "  </thead>\n",
       "  <tbody>\n",
       "    <tr>\n",
       "      <th>5</th>\n",
       "      <td>Size/small/large</td>\n",
       "      <td>1156</td>\n",
       "      <td>21.902236</td>\n",
       "    </tr>\n",
       "    <tr>\n",
       "      <th>0</th>\n",
       "      <td>Color/fabric</td>\n",
       "      <td>799</td>\n",
       "      <td>15.138310</td>\n",
       "    </tr>\n",
       "    <tr>\n",
       "      <th>2</th>\n",
       "      <td>Fabric/fit/body</td>\n",
       "      <td>796</td>\n",
       "      <td>15.081470</td>\n",
       "    </tr>\n",
       "    <tr>\n",
       "      <th>3</th>\n",
       "      <td>Fit/fabric/price</td>\n",
       "      <td>686</td>\n",
       "      <td>12.997347</td>\n",
       "    </tr>\n",
       "    <tr>\n",
       "      <th>4</th>\n",
       "      <td>Shoulder/arm/length/wide/fabric</td>\n",
       "      <td>625</td>\n",
       "      <td>11.841607</td>\n",
       "    </tr>\n",
       "    <tr>\n",
       "      <th>1</th>\n",
       "      <td>Color/material</td>\n",
       "      <td>621</td>\n",
       "      <td>11.765820</td>\n",
       "    </tr>\n",
       "    <tr>\n",
       "      <th>6</th>\n",
       "      <td>Wash/dry/fit/stretch/fabric</td>\n",
       "      <td>595</td>\n",
       "      <td>11.273210</td>\n",
       "    </tr>\n",
       "  </tbody>\n",
       "</table>\n",
       "</div>"
      ],
      "text/plain": [
       "              dominant_topic_theme  dominant_topic    percent\n",
       "5  Size/small/large                 1156            21.902236\n",
       "0  Color/fabric                     799             15.138310\n",
       "2  Fabric/fit/body                  796             15.081470\n",
       "3  Fit/fabric/price                 686             12.997347\n",
       "4  Shoulder/arm/length/wide/fabric  625             11.841607\n",
       "1  Color/material                   621             11.765820\n",
       "6  Wash/dry/fit/stretch/fabric      595             11.273210"
      ]
     },
     "execution_count": 24,
     "metadata": {},
     "output_type": "execute_result"
    }
   ],
   "source": [
    "b"
   ]
  },
  {
   "cell_type": "code",
   "execution_count": 31,
   "metadata": {},
   "outputs": [
    {
     "data": {
      "image/png": "[encoded data removed]",
      "text/plain": [
       "<Figure size 432x288 with 1 Axes>"
      ]
     },
     "metadata": {
      "needs_background": "light"
     },
     "output_type": "display_data"
    }
   ],
   "source": [
    "myplot = sns.barplot(x=b['dominant_topic_theme'], y=b['percent'], \n",
    "            palette='magma')\n",
    "myplot.set_xticklabels(myplot.get_xticklabels(), rotation=45,\n",
    "                     horizontalalignment='right',\n",
    "                     fontweight='light',\n",
    "                      fontsize='large');"
   ]
  },
  {
   "cell_type": "markdown",
   "metadata": {},
   "source": [
    "<!-- Insights:\n",
    "As a large portion of negative feedback was on Dress and Blouses, and Pants products (from exploratory analysis), LDA model output give us more insights into these groups of products:\n",
    "\n",
    "The most frequently complained on Dress items was about size and fitability issues, followed by concerns about fabric/material. There's also a large portion of complains on Dress mentioning wash/color. This can be an issue with the deteriorated quality/color of the Dress after certain times being washed.\n",
    "Another interesting problem is the issue at zipper and arm area. -->"
   ]
  },
  {
   "cell_type": "markdown",
   "metadata": {},
   "source": [
    "Size is a prominant issue. Therefore, for products being complained small/large in size, the seller should provide more precise sizing information to customers and guarantee that the products are made with appropiate size as listed."
   ]
  },
  {
   "cell_type": "markdown",
   "metadata": {},
   "source": [
    "Compare LDA model output to WordCloud exploratory analysis (women_clothing_data_exploration.py) to see if the LDA topic modeling makes sense."
   ]
  },
  {
   "cell_type": "markdown",
   "metadata": {},
   "source": [
    "### Topic by Clothing Class"
   ]
  },
  {
   "cell_type": "code",
   "execution_count": 245,
   "metadata": {
    "collapsed": true,
    "jupyter": {
     "outputs_hidden": true
    }
   },
   "outputs": [
    {
     "data": {
      "text/html": [
       "<div>\n",
       "<style scoped>\n",
       "    .dataframe tbody tr th:only-of-type {\n",
       "        vertical-align: middle;\n",
       "    }\n",
       "\n",
       "    .dataframe tbody tr th {\n",
       "        vertical-align: top;\n",
       "    }\n",
       "\n",
       "    .dataframe thead th {\n",
       "        text-align: right;\n",
       "    }\n",
       "</style>\n",
       "<table border=\"1\" class=\"dataframe\">\n",
       "  <thead>\n",
       "    <tr style=\"text-align: right;\">\n",
       "      <th></th>\n",
       "      <th>Clothing_ID</th>\n",
       "      <th>Review_Text</th>\n",
       "      <th>Class_Name</th>\n",
       "      <th>dominant_topic</th>\n",
       "      <th>dominant_topic_perc</th>\n",
       "      <th>dominant_topic_theme</th>\n",
       "      <th>0</th>\n",
       "      <th>1</th>\n",
       "      <th>2</th>\n",
       "      <th>3</th>\n",
       "      <th>4</th>\n",
       "      <th>5</th>\n",
       "    </tr>\n",
       "  </thead>\n",
       "  <tbody>\n",
       "    <tr>\n",
       "      <th>0</th>\n",
       "      <td>1077</td>\n",
       "      <td>I had such high hopes for this dress and really wanted it to work for me. i initially ordered the petite small (my usual size) but i found this to be outrageously small. so small in fact that i could not zip it up! i reordered it in petite medium, which was just ok. overall, the top half was comfortable and fit nicely, but the bottom half had a very tight under layer and several somewhat cheap (net) over layers. imo, a major design flaw was the net over layer sewn directly into the zipper - it c</td>\n",
       "      <td>Dresses</td>\n",
       "      <td>3</td>\n",
       "      <td>0.447209</td>\n",
       "      <td>Size/small/large</td>\n",
       "      <td>0.0</td>\n",
       "      <td>0.250964</td>\n",
       "      <td>0.0</td>\n",
       "      <td>0.447209</td>\n",
       "      <td>0.0</td>\n",
       "      <td>0.0</td>\n",
       "    </tr>\n",
       "  </tbody>\n",
       "</table>\n",
       "</div>"
      ],
      "text/plain": [
       "   Clothing_ID  \\\n",
       "0         1077   \n",
       "\n",
       "                                                                                                                                                                                                                                                                                                                                                                                                                                                                                                            Review_Text  \\\n",
       "0  I had such high hopes for this dress and really wanted it to work for me. i initially ordered the petite small (my usual size) but i found this to be outrageously small. so small in fact that i could not zip it up! i reordered it in petite medium, which was just ok. overall, the top half was comfortable and fit nicely, but the bottom half had a very tight under layer and several somewhat cheap (net) over layers. imo, a major design flaw was the net over layer sewn directly into the zipper - it c   \n",
       "\n",
       "  Class_Name  dominant_topic  dominant_topic_perc dominant_topic_theme    0  \\\n",
       "0    Dresses               3             0.447209     Size/small/large  0.0   \n",
       "\n",
       "          1    2         3    4    5  \n",
       "0  0.250964  0.0  0.447209  0.0  0.0  "
      ]
     },
     "execution_count": 245,
     "metadata": {},
     "output_type": "execute_result"
    }
   ],
   "source": [
    "y.head(1)"
   ]
  },
  {
   "cell_type": "code",
   "execution_count": 36,
   "metadata": {},
   "outputs": [],
   "source": [
    "crosstab = pd.crosstab(y['dominant_topic_theme'],y['Class_Name']).reset_index()\n",
    "cols = crosstab.iloc[:, 1:].columns\n",
    "crosstab.iloc[:, 1:] = crosstab.iloc[:, 1:]/crosstab.iloc[:, 1:].sum()"
   ]
  },
  {
   "cell_type": "code",
   "execution_count": 37,
   "metadata": {},
   "outputs": [
    {
     "data": {
      "text/html": [
       "<div>\n",
       "<style scoped>\n",
       "    .dataframe tbody tr th:only-of-type {\n",
       "        vertical-align: middle;\n",
       "    }\n",
       "\n",
       "    .dataframe tbody tr th {\n",
       "        vertical-align: top;\n",
       "    }\n",
       "\n",
       "    .dataframe thead th {\n",
       "        text-align: right;\n",
       "    }\n",
       "</style>\n",
       "<table border=\"1\" class=\"dataframe\">\n",
       "  <thead>\n",
       "    <tr style=\"text-align: right;\">\n",
       "      <th>Class_Name</th>\n",
       "      <th>dominant_topic_theme</th>\n",
       "      <th>Blouses</th>\n",
       "      <th>Dresses</th>\n",
       "      <th>Fine gauge</th>\n",
       "      <th>Intimates</th>\n",
       "      <th>Jackets</th>\n",
       "      <th>Jeans</th>\n",
       "      <th>Knits</th>\n",
       "      <th>Layering</th>\n",
       "      <th>Legwear</th>\n",
       "      <th>Lounge</th>\n",
       "      <th>Outerwear</th>\n",
       "      <th>Pants</th>\n",
       "      <th>Shorts</th>\n",
       "      <th>Skirts</th>\n",
       "      <th>Sleep</th>\n",
       "      <th>Sweaters</th>\n",
       "      <th>Swim</th>\n",
       "      <th>Trend</th>\n",
       "    </tr>\n",
       "  </thead>\n",
       "  <tbody>\n",
       "    <tr>\n",
       "      <th>0</th>\n",
       "      <td>Color/fabric</td>\n",
       "      <td>0.133423</td>\n",
       "      <td>0.135560</td>\n",
       "      <td>0.174107</td>\n",
       "      <td>0.129032</td>\n",
       "      <td>0.192593</td>\n",
       "      <td>0.085</td>\n",
       "      <td>0.163993</td>\n",
       "      <td>0.25</td>\n",
       "      <td>0.21875</td>\n",
       "      <td>0.182540</td>\n",
       "      <td>0.200000</td>\n",
       "      <td>0.153025</td>\n",
       "      <td>0.119403</td>\n",
       "      <td>0.124352</td>\n",
       "      <td>0.166667</td>\n",
       "      <td>0.242857</td>\n",
       "      <td>0.0375</td>\n",
       "      <td>0.121951</td>\n",
       "    </tr>\n",
       "    <tr>\n",
       "      <th>1</th>\n",
       "      <td>Color/material</td>\n",
       "      <td>0.128032</td>\n",
       "      <td>0.116568</td>\n",
       "      <td>0.125000</td>\n",
       "      <td>0.032258</td>\n",
       "      <td>0.111111</td>\n",
       "      <td>0.065</td>\n",
       "      <td>0.130125</td>\n",
       "      <td>0.15</td>\n",
       "      <td>0.03125</td>\n",
       "      <td>0.142857</td>\n",
       "      <td>0.169231</td>\n",
       "      <td>0.074733</td>\n",
       "      <td>0.119403</td>\n",
       "      <td>0.124352</td>\n",
       "      <td>0.190476</td>\n",
       "      <td>0.120000</td>\n",
       "      <td>0.0250</td>\n",
       "      <td>0.170732</td>\n",
       "    </tr>\n",
       "    <tr>\n",
       "      <th>2</th>\n",
       "      <td>Fabric/fit/body</td>\n",
       "      <td>0.144205</td>\n",
       "      <td>0.187950</td>\n",
       "      <td>0.169643</td>\n",
       "      <td>0.096774</td>\n",
       "      <td>0.155556</td>\n",
       "      <td>0.105</td>\n",
       "      <td>0.143494</td>\n",
       "      <td>0.05</td>\n",
       "      <td>0.09375</td>\n",
       "      <td>0.111111</td>\n",
       "      <td>0.076923</td>\n",
       "      <td>0.106762</td>\n",
       "      <td>0.089552</td>\n",
       "      <td>0.160622</td>\n",
       "      <td>0.023810</td>\n",
       "      <td>0.088571</td>\n",
       "      <td>0.3375</td>\n",
       "      <td>0.219512</td>\n",
       "    </tr>\n",
       "    <tr>\n",
       "      <th>3</th>\n",
       "      <td>Fit/fabric/price</td>\n",
       "      <td>0.146900</td>\n",
       "      <td>0.130321</td>\n",
       "      <td>0.133929</td>\n",
       "      <td>0.032258</td>\n",
       "      <td>0.118519</td>\n",
       "      <td>0.085</td>\n",
       "      <td>0.139037</td>\n",
       "      <td>0.05</td>\n",
       "      <td>0.15625</td>\n",
       "      <td>0.134921</td>\n",
       "      <td>0.061538</td>\n",
       "      <td>0.078292</td>\n",
       "      <td>0.149254</td>\n",
       "      <td>0.165803</td>\n",
       "      <td>0.166667</td>\n",
       "      <td>0.142857</td>\n",
       "      <td>0.0750</td>\n",
       "      <td>0.097561</td>\n",
       "    </tr>\n",
       "    <tr>\n",
       "      <th>4</th>\n",
       "      <td>Shoulder/arm/length/wide/fabric</td>\n",
       "      <td>0.153639</td>\n",
       "      <td>0.109365</td>\n",
       "      <td>0.111607</td>\n",
       "      <td>0.161290</td>\n",
       "      <td>0.148148</td>\n",
       "      <td>0.040</td>\n",
       "      <td>0.131016</td>\n",
       "      <td>0.10</td>\n",
       "      <td>0.25000</td>\n",
       "      <td>0.150794</td>\n",
       "      <td>0.138462</td>\n",
       "      <td>0.060498</td>\n",
       "      <td>0.044776</td>\n",
       "      <td>0.051813</td>\n",
       "      <td>0.119048</td>\n",
       "      <td>0.162857</td>\n",
       "      <td>0.0250</td>\n",
       "      <td>0.170732</td>\n",
       "    </tr>\n",
       "    <tr>\n",
       "      <th>5</th>\n",
       "      <td>Size/small/large</td>\n",
       "      <td>0.219677</td>\n",
       "      <td>0.246234</td>\n",
       "      <td>0.200893</td>\n",
       "      <td>0.419355</td>\n",
       "      <td>0.177778</td>\n",
       "      <td>0.235</td>\n",
       "      <td>0.199643</td>\n",
       "      <td>0.20</td>\n",
       "      <td>0.09375</td>\n",
       "      <td>0.150794</td>\n",
       "      <td>0.246154</td>\n",
       "      <td>0.245552</td>\n",
       "      <td>0.149254</td>\n",
       "      <td>0.202073</td>\n",
       "      <td>0.214286</td>\n",
       "      <td>0.162857</td>\n",
       "      <td>0.4125</td>\n",
       "      <td>0.121951</td>\n",
       "    </tr>\n",
       "    <tr>\n",
       "      <th>6</th>\n",
       "      <td>Wash/dry/fit/stretch/fabric</td>\n",
       "      <td>0.074124</td>\n",
       "      <td>0.074001</td>\n",
       "      <td>0.084821</td>\n",
       "      <td>0.129032</td>\n",
       "      <td>0.096296</td>\n",
       "      <td>0.385</td>\n",
       "      <td>0.092692</td>\n",
       "      <td>0.20</td>\n",
       "      <td>0.15625</td>\n",
       "      <td>0.126984</td>\n",
       "      <td>0.107692</td>\n",
       "      <td>0.281139</td>\n",
       "      <td>0.328358</td>\n",
       "      <td>0.170984</td>\n",
       "      <td>0.119048</td>\n",
       "      <td>0.080000</td>\n",
       "      <td>0.0875</td>\n",
       "      <td>0.097561</td>\n",
       "    </tr>\n",
       "  </tbody>\n",
       "</table>\n",
       "</div>"
      ],
      "text/plain": [
       "Class_Name             dominant_topic_theme   Blouses   Dresses  Fine gauge  \\\n",
       "0           Color/fabric                     0.133423  0.135560  0.174107     \n",
       "1           Color/material                   0.128032  0.116568  0.125000     \n",
       "2           Fabric/fit/body                  0.144205  0.187950  0.169643     \n",
       "3           Fit/fabric/price                 0.146900  0.130321  0.133929     \n",
       "4           Shoulder/arm/length/wide/fabric  0.153639  0.109365  0.111607     \n",
       "5           Size/small/large                 0.219677  0.246234  0.200893     \n",
       "6           Wash/dry/fit/stretch/fabric      0.074124  0.074001  0.084821     \n",
       "\n",
       "Class_Name  Intimates   Jackets  Jeans     Knits  Layering  Legwear    Lounge  \\\n",
       "0           0.129032   0.192593  0.085  0.163993  0.25      0.21875  0.182540   \n",
       "1           0.032258   0.111111  0.065  0.130125  0.15      0.03125  0.142857   \n",
       "2           0.096774   0.155556  0.105  0.143494  0.05      0.09375  0.111111   \n",
       "3           0.032258   0.118519  0.085  0.139037  0.05      0.15625  0.134921   \n",
       "4           0.161290   0.148148  0.040  0.131016  0.10      0.25000  0.150794   \n",
       "5           0.419355   0.177778  0.235  0.199643  0.20      0.09375  0.150794   \n",
       "6           0.129032   0.096296  0.385  0.092692  0.20      0.15625  0.126984   \n",
       "\n",
       "Class_Name  Outerwear     Pants    Shorts    Skirts     Sleep  Sweaters  \\\n",
       "0           0.200000   0.153025  0.119403  0.124352  0.166667  0.242857   \n",
       "1           0.169231   0.074733  0.119403  0.124352  0.190476  0.120000   \n",
       "2           0.076923   0.106762  0.089552  0.160622  0.023810  0.088571   \n",
       "3           0.061538   0.078292  0.149254  0.165803  0.166667  0.142857   \n",
       "4           0.138462   0.060498  0.044776  0.051813  0.119048  0.162857   \n",
       "5           0.246154   0.245552  0.149254  0.202073  0.214286  0.162857   \n",
       "6           0.107692   0.281139  0.328358  0.170984  0.119048  0.080000   \n",
       "\n",
       "Class_Name    Swim     Trend  \n",
       "0           0.0375  0.121951  \n",
       "1           0.0250  0.170732  \n",
       "2           0.3375  0.219512  \n",
       "3           0.0750  0.097561  \n",
       "4           0.0250  0.170732  \n",
       "5           0.4125  0.121951  \n",
       "6           0.0875  0.097561  "
      ]
     },
     "execution_count": 37,
     "metadata": {},
     "output_type": "execute_result"
    }
   ],
   "source": [
    "crosstab"
   ]
  },
  {
   "cell_type": "code",
   "execution_count": 40,
   "metadata": {},
   "outputs": [
    {
     "data": {
      "text/plain": [
       "<matplotlib.axes._subplots.AxesSubplot at 0x12be8feb8>"
      ]
     },
     "execution_count": 40,
     "metadata": {},
     "output_type": "execute_result"
    },
    {
     "data": {
      "image/png": "[encoded data removed]",
      "text/plain": [
       "<Figure size 1008x360 with 2 Axes>"
      ]
     },
     "metadata": {
      "needs_background": "light"
     },
     "output_type": "display_data"
    }
   ],
   "source": [
    "y_axis_labels = cols = crosstab.dominant_topic_theme.tolist()\n",
    "fig, ax = plt.subplots(figsize=(14, 5))\n",
    "sns.heatmap(crosstab.iloc[:,1:],\n",
    "            yticklabels=y_axis_labels, \n",
    "            linewidths=0.01,\n",
    "            linecolor='lightgrey',\n",
    "            cmap=\"Reds\")\n",
    "# xticklabels=x_axis_labels"
   ]
  },
  {
   "cell_type": "markdown",
   "metadata": {},
   "source": [
    "### Validate prediction by screening examples (human eyes)"
   ]
  },
  {
   "cell_type": "code",
   "execution_count": 181,
   "metadata": {
    "scrolled": true
   },
   "outputs": [
    {
     "name": "stdout",
     "output_type": "stream",
     "text": [
      "Collecting openpyxl\n",
      "\u001b[?25l  Downloading https://files.pythonhosted.org/packages/5c/90/61f83be1c335a9b69fa773784a785d9de95c7561d1661918796fd1cba3d2/openpyxl-3.0.5-py2.py3-none-any.whl (242kB)\n",
      "\u001b[K    100% |████████████████████████████████| 245kB 2.4MB/s ta 0:00:01\n",
      "\u001b[?25hCollecting et-xmlfile (from openpyxl)\n",
      "  Downloading https://files.pythonhosted.org/packages/22/28/a99c42aea746e18382ad9fb36f64c1c1f04216f41797f2f0fa567da11388/et_xmlfile-1.0.1.tar.gz\n",
      "Collecting jdcal (from openpyxl)\n",
      "  Downloading https://files.pythonhosted.org/packages/f0/da/572cbc0bc582390480bbd7c4e93d14dc46079778ed915b505dc494b37c57/jdcal-1.4.1-py2.py3-none-any.whl\n",
      "Building wheels for collected packages: et-xmlfile\n",
      "  Building wheel for et-xmlfile (setup.py) ... \u001b[?25ldone\n",
      "\u001b[?25h  Stored in directory: /Users/dangloan/Library/Caches/pip/wheels/2a/77/35/0da0965a057698121fc7d8c5a7a9955cdbfb3cc4e2423cad39\n",
      "Successfully built et-xmlfile\n",
      "Installing collected packages: et-xmlfile, jdcal, openpyxl\n",
      "Successfully installed et-xmlfile-1.0.1 jdcal-1.4.1 openpyxl-3.0.5\n"
     ]
    }
   ],
   "source": [
    "!pip install openpyxl\n",
    "sam = y.sample(50)\n",
    "sam.to_excel(r'/Users/dangloan/Documents/learning_analytics/project/3_data/clothing_review/sample.xlsx', index = False)"
   ]
  },
  {
   "cell_type": "code",
   "execution_count": 173,
   "metadata": {
    "collapsed": true,
    "jupyter": {
     "outputs_hidden": true
    }
   },
   "outputs": [
    {
     "data": {
      "text/plain": [
       "dominant_topic_theme\n",
       "Color/fabric                       12\n",
       "Color/material                     11\n",
       "Fabric/fit                         17\n",
       "Fit/fabric/quality                 13\n",
       "Shoulder/arm/length/wide/fabric    11\n",
       "Size/small                         30\n",
       "Wash/dry/fit/stretch/fabric         9\n",
       "Name: Clothing_ID, dtype: int64"
      ]
     },
     "execution_count": 173,
     "metadata": {},
     "output_type": "execute_result"
    }
   ],
   "source": [
    "aa = y[y['Clothing_ID'] == 1110]\n",
    "aa.groupby('dominant_topic_theme')['Clothing_ID'].count()"
   ]
  },
  {
   "cell_type": "markdown",
   "metadata": {},
   "source": [
    "After going through some sample and validate the reliability of the model prediction by 'eyes'. 27/57 reviews are correctly labeled (57%). For cases with dominant topic percentage (weight) is >= 0.9, 10/13 cases are correctly labeled (77%)."
   ]
  },
  {
   "cell_type": "markdown",
   "metadata": {},
   "source": [
    "I also find out that there are some cases where the model predict incorrectly:\\\n",
    "    - Reviewers mention both on some aspects that they are and aren't satisfied with. The model picks keywords that were positively mentioned.\\\n",
    "    - People don't really express their opinion directly. They can use comparison, metaphors to say to indirectly express what they mean. For example, 'the dress looks like a nightgown on me' (i.e. sizing issue - the dress is too big for this customer).\\\n",
    "    - Sentences using negative form with **not** is also a challenge for the model to correctly articulate what the customers really mean.\\\n",
    "    - Some other cases are ones that show disappointment indirectly or in a ironic way. I haven't found any solution for these problem and would accept model inaccuracy caused by these problems."
   ]
  },
  {
   "cell_type": "markdown",
   "metadata": {},
   "source": [
    "I also find out that if the second dominant topic is around 0.3, it is worth select it is top topic as well. With that, we can say a review can mention more than 1 major issue of the product."
   ]
  },
  {
   "cell_type": "markdown",
   "metadata": {},
   "source": [
    "### Apply topics to Business Analysis:\n",
    "Question: What are top purchase (top 20%) and negatively reviewed (Rating average (mean) < 3). Analyze what issues with these products, and send reccommendation to retailers on how they can improve their product."
   ]
  },
  {
   "cell_type": "markdown",
   "metadata": {},
   "source": [
    "I'm going to label the topic issues-wise (rather than item-and-issue-wise as the above):"
   ]
  },
  {
   "cell_type": "code",
   "execution_count": 192,
   "metadata": {},
   "outputs": [
    {
     "data": {
      "text/html": [
       "<div>\n",
       "<style scoped>\n",
       "    .dataframe tbody tr th:only-of-type {\n",
       "        vertical-align: middle;\n",
       "    }\n",
       "\n",
       "    .dataframe tbody tr th {\n",
       "        vertical-align: top;\n",
       "    }\n",
       "\n",
       "    .dataframe thead th {\n",
       "        text-align: right;\n",
       "    }\n",
       "</style>\n",
       "<table border=\"1\" class=\"dataframe\">\n",
       "  <thead>\n",
       "    <tr style=\"text-align: right;\">\n",
       "      <th></th>\n",
       "      <th>Clothing_ID</th>\n",
       "      <th>Rating</th>\n",
       "      <th>Age</th>\n",
       "    </tr>\n",
       "  </thead>\n",
       "  <tbody>\n",
       "    <tr>\n",
       "      <th>973</th>\n",
       "      <td>973</td>\n",
       "      <td>1.0</td>\n",
       "      <td>2</td>\n",
       "    </tr>\n",
       "    <tr>\n",
       "      <th>759</th>\n",
       "      <td>759</td>\n",
       "      <td>1.0</td>\n",
       "      <td>1</td>\n",
       "    </tr>\n",
       "    <tr>\n",
       "      <th>118</th>\n",
       "      <td>118</td>\n",
       "      <td>1.0</td>\n",
       "      <td>1</td>\n",
       "    </tr>\n",
       "    <tr>\n",
       "      <th>812</th>\n",
       "      <td>812</td>\n",
       "      <td>1.0</td>\n",
       "      <td>1</td>\n",
       "    </tr>\n",
       "    <tr>\n",
       "      <th>814</th>\n",
       "      <td>814</td>\n",
       "      <td>1.0</td>\n",
       "      <td>1</td>\n",
       "    </tr>\n",
       "  </tbody>\n",
       "</table>\n",
       "</div>"
      ],
      "text/plain": [
       "     Clothing_ID  Rating  Age\n",
       "973          973     1.0    2\n",
       "759          759     1.0    1\n",
       "118          118     1.0    1\n",
       "812          812     1.0    1\n",
       "814          814     1.0    1"
      ]
     },
     "execution_count": 192,
     "metadata": {},
     "output_type": "execute_result"
    }
   ],
   "source": [
    "a1 = df.groupby(['Clothing_ID']).agg({'Rating' : 'mean', 'Age' : 'count'}).reset_index()\n",
    "a2 = a1[a1['Rating']<3]\n",
    "a3 = a2.nlargest(int(round(len(a1)*0.2,0)),columns=['Age'])\n",
    "a4 = a3.sort_values(['Rating','Age'],ascending=[True,False])\n",
    "a4.head()\n",
    "# print(int(round(len(a1)*0.2,0)))\n",
    "# a3 = a2.head(int(round(len(a1)*0.2,0)))"
   ]
  },
  {
   "cell_type": "code",
   "execution_count": 193,
   "metadata": {},
   "outputs": [
    {
     "name": "stdout",
     "output_type": "stream",
     "text": [
      "int64\n",
      "object\n"
     ]
    },
    {
     "data": {
      "text/plain": [
       "Text(0.5, 0, 'Count_ProductID')"
      ]
     },
     "execution_count": 193,
     "metadata": {},
     "output_type": "execute_result"
    },
    {
     "data": {
      "image/png": "[encoded data removed]",
      "text/plain": [
       "<Figure size 864x432 with 1 Axes>"
      ]
     },
     "metadata": {
      "needs_background": "light"
     },
     "output_type": "display_data"
    }
   ],
   "source": [
    "import matplotlib.pyplot as plt\n",
    "import seaborn as sns\n",
    "# a = df.groupby('Clothing_ID')['Age'].count().reset_index()\n",
    "b = a2.sort_values(by='Age',ascending=False)\n",
    "# b['Age'] = b['Age'].astype(int)\n",
    "b['Clothing_ID'] = b['Clothing_ID'].astype(str)\n",
    "print(b['Age'].dtype)\n",
    "print(b['Clothing_ID'].dtype)\n",
    "\n",
    "fig, ax1 = plt.subplots(figsize=(12,6))\n",
    "sns.distplot(b['Age'])\n",
    "plt.xlabel('Count_ProductID')"
   ]
  },
  {
   "cell_type": "code",
   "execution_count": null,
   "metadata": {},
   "outputs": [],
   "source": [
    "a4.describe()"
   ]
  },
  {
   "cell_type": "markdown",
   "metadata": {},
   "source": [
    "I found out that there should be a method to choose which products need to be prioritized for improvement. I thought of:\n",
    "\n",
    "- Method 1: Choose top 80% received largest number of reviews (nlargest_count) (dataset 1), then get products with average rating < 3.\n",
    "This is unreasonable because the rating_mean of dataset 1 is around 4.19 (std ~ 0.3). There really is only one product from dataset 1 that has average rating <3.\n",
    "\n",
    "\n",
    "- Method 2: Choose products with average rating < 3, then get top 80% received largest number of reviews (nlargest_count). This is also unfeaseable because the final selected products still have very small number of reviews (largely, from 1 to 2 reviews).\n",
    "\n",
    "SO, we need another method."
   ]
  },
  {
   "cell_type": "code",
   "execution_count": 194,
   "metadata": {},
   "outputs": [
    {
     "name": "stdout",
     "output_type": "stream",
     "text": [
      "       Clothing_ID    Rating   Age\n",
      "count          1.0  1.000000   1.0\n",
      "mean         229.0  2.181818  11.0\n",
      "std            NaN       NaN   NaN\n",
      "min          229.0  2.181818  11.0\n",
      "25%          229.0  2.181818  11.0\n",
      "50%          229.0  2.181818  11.0\n",
      "75%          229.0  2.181818  11.0\n",
      "max          229.0  2.181818  11.0\n",
      "       Clothing_ID      Rating          Age\n",
      "count   241.000000  241.000000   241.000000\n",
      "mean    878.107884    4.163741    87.991701\n",
      "std     252.781206    0.349924   133.802466\n",
      "min      90.000000    2.181818     9.000000\n",
      "25%     840.000000    3.962963    16.000000\n",
      "50%     938.000000    4.192015    37.000000\n",
      "75%    1052.000000    4.400000    96.000000\n",
      "max    1203.000000    4.809524  1021.000000\n"
     ]
    }
   ],
   "source": [
    "## Method 1:\n",
    "a1 = df.groupby(['Clothing_ID']).agg({'Rating' : 'mean', 'Age' : 'count'}).reset_index()\n",
    "a2 = a1.nlargest(int(round(len(a1)*0.2,0)),columns=['Age'])\n",
    "a3 = a2[a2['Rating'] <3]\n",
    "print(a3.describe())\n",
    "print(a2.describe())"
   ]
  },
  {
   "cell_type": "code",
   "execution_count": 195,
   "metadata": {},
   "outputs": [
    {
     "data": {
      "text/html": [
       "<div>\n",
       "<style scoped>\n",
       "    .dataframe tbody tr th:only-of-type {\n",
       "        vertical-align: middle;\n",
       "    }\n",
       "\n",
       "    .dataframe tbody tr th {\n",
       "        vertical-align: top;\n",
       "    }\n",
       "\n",
       "    .dataframe thead th {\n",
       "        text-align: right;\n",
       "    }\n",
       "</style>\n",
       "<table border=\"1\" class=\"dataframe\">\n",
       "  <thead>\n",
       "    <tr style=\"text-align: right;\">\n",
       "      <th></th>\n",
       "      <th>Clothing_ID</th>\n",
       "      <th>Rating_count</th>\n",
       "      <th>Rating_mean</th>\n",
       "      <th>Rating_median</th>\n",
       "    </tr>\n",
       "  </thead>\n",
       "  <tbody>\n",
       "    <tr>\n",
       "      <th>count</th>\n",
       "      <td>391.000000</td>\n",
       "      <td>391.000000</td>\n",
       "      <td>391.000000</td>\n",
       "      <td>391.000000</td>\n",
       "    </tr>\n",
       "    <tr>\n",
       "      <th>mean</th>\n",
       "      <td>766.388747</td>\n",
       "      <td>6.156010</td>\n",
       "      <td>1.642581</td>\n",
       "      <td>1.707161</td>\n",
       "    </tr>\n",
       "    <tr>\n",
       "      <th>std</th>\n",
       "      <td>325.546259</td>\n",
       "      <td>10.998774</td>\n",
       "      <td>0.364128</td>\n",
       "      <td>0.425832</td>\n",
       "    </tr>\n",
       "    <tr>\n",
       "      <th>min</th>\n",
       "      <td>1.000000</td>\n",
       "      <td>1.000000</td>\n",
       "      <td>1.000000</td>\n",
       "      <td>1.000000</td>\n",
       "    </tr>\n",
       "    <tr>\n",
       "      <th>25%</th>\n",
       "      <td>551.000000</td>\n",
       "      <td>1.000000</td>\n",
       "      <td>1.500000</td>\n",
       "      <td>1.500000</td>\n",
       "    </tr>\n",
       "    <tr>\n",
       "      <th>50%</th>\n",
       "      <td>879.000000</td>\n",
       "      <td>2.000000</td>\n",
       "      <td>1.703704</td>\n",
       "      <td>2.000000</td>\n",
       "    </tr>\n",
       "    <tr>\n",
       "      <th>75%</th>\n",
       "      <td>1020.500000</td>\n",
       "      <td>6.000000</td>\n",
       "      <td>2.000000</td>\n",
       "      <td>2.000000</td>\n",
       "    </tr>\n",
       "    <tr>\n",
       "      <th>max</th>\n",
       "      <td>1195.000000</td>\n",
       "      <td>92.000000</td>\n",
       "      <td>2.000000</td>\n",
       "      <td>2.000000</td>\n",
       "    </tr>\n",
       "  </tbody>\n",
       "</table>\n",
       "</div>"
      ],
      "text/plain": [
       "       Clothing_ID  Rating_count  Rating_mean  Rating_median\n",
       "count   391.000000    391.000000   391.000000     391.000000\n",
       "mean    766.388747      6.156010     1.642581       1.707161\n",
       "std     325.546259     10.998774     0.364128       0.425832\n",
       "min       1.000000      1.000000     1.000000       1.000000\n",
       "25%     551.000000      1.000000     1.500000       1.500000\n",
       "50%     879.000000      2.000000     1.703704       2.000000\n",
       "75%    1020.500000      6.000000     2.000000       2.000000\n",
       "max    1195.000000     92.000000     2.000000       2.000000"
      ]
     },
     "execution_count": 195,
     "metadata": {},
     "output_type": "execute_result"
    }
   ],
   "source": [
    "## Method 2:\n",
    "b0 = df[df['Rating'] <=2]\n",
    "b1 = b0.groupby('Clothing_ID').agg({'Rating': ['count','mean','median']}).reset_index()\n",
    "b1.columns = ['Clothing_ID','Rating_count','Rating_mean','Rating_median']\n",
    "b1.describe()"
   ]
  },
  {
   "cell_type": "code",
   "execution_count": 196,
   "metadata": {},
   "outputs": [
    {
     "data": {
      "text/plain": [
       "<matplotlib.axes._subplots.AxesSubplot at 0x118a931d0>"
      ]
     },
     "execution_count": 196,
     "metadata": {},
     "output_type": "execute_result"
    },
    {
     "data": {
      "image/png": "[encoded data removed]",
      "text/plain": [
       "<Figure size 864x432 with 1 Axes>"
      ]
     },
     "metadata": {
      "needs_background": "light"
     },
     "output_type": "display_data"
    }
   ],
   "source": [
    "fig, ax1 = plt.subplots(figsize=(12,6))\n",
    "sns.distplot(b1['Rating_count'])"
   ]
  },
  {
   "cell_type": "code",
   "execution_count": 197,
   "metadata": {},
   "outputs": [],
   "source": [
    "b2 = b1[b1['Rating_count'] >=6]"
   ]
  },
  {
   "cell_type": "markdown",
   "metadata": {},
   "source": [
    "What we want is to select products receiving a certain number of negative reviews. These number of reviews should be large enough to show that retailers needs to care for improvement, but not some personal negative reviews (a very small number of negative reviews in comparison with the total number of reviews/total number of purchases).\n",
    "\n",
    "On average, a product would receive ~ 6 (mean of Rating_count 6.15) negative reviews (Rating <=2)."
   ]
  },
  {
   "cell_type": "code",
   "execution_count": 198,
   "metadata": {},
   "outputs": [
    {
     "data": {
      "text/html": [
       "<div>\n",
       "<style scoped>\n",
       "    .dataframe tbody tr th:only-of-type {\n",
       "        vertical-align: middle;\n",
       "    }\n",
       "\n",
       "    .dataframe tbody tr th {\n",
       "        vertical-align: top;\n",
       "    }\n",
       "\n",
       "    .dataframe thead th {\n",
       "        text-align: right;\n",
       "    }\n",
       "</style>\n",
       "<table border=\"1\" class=\"dataframe\">\n",
       "  <thead>\n",
       "    <tr style=\"text-align: right;\">\n",
       "      <th></th>\n",
       "      <th>Clothing_ID</th>\n",
       "      <th>Rating_count</th>\n",
       "      <th>Rating_mean</th>\n",
       "      <th>Rating_median</th>\n",
       "    </tr>\n",
       "  </thead>\n",
       "  <tbody>\n",
       "    <tr>\n",
       "      <th>count</th>\n",
       "      <td>106.000000</td>\n",
       "      <td>106.000000</td>\n",
       "      <td>106.000000</td>\n",
       "      <td>106.000000</td>\n",
       "    </tr>\n",
       "    <tr>\n",
       "      <th>mean</th>\n",
       "      <td>955.735849</td>\n",
       "      <td>18.075472</td>\n",
       "      <td>1.649835</td>\n",
       "      <td>1.849057</td>\n",
       "    </tr>\n",
       "    <tr>\n",
       "      <th>std</th>\n",
       "      <td>101.333518</td>\n",
       "      <td>15.784681</td>\n",
       "      <td>0.155821</td>\n",
       "      <td>0.346203</td>\n",
       "    </tr>\n",
       "    <tr>\n",
       "      <th>min</th>\n",
       "      <td>818.000000</td>\n",
       "      <td>6.000000</td>\n",
       "      <td>1.272727</td>\n",
       "      <td>1.000000</td>\n",
       "    </tr>\n",
       "    <tr>\n",
       "      <th>25%</th>\n",
       "      <td>864.250000</td>\n",
       "      <td>8.250000</td>\n",
       "      <td>1.556548</td>\n",
       "      <td>2.000000</td>\n",
       "    </tr>\n",
       "    <tr>\n",
       "      <th>50%</th>\n",
       "      <td>940.500000</td>\n",
       "      <td>12.000000</td>\n",
       "      <td>1.666667</td>\n",
       "      <td>2.000000</td>\n",
       "    </tr>\n",
       "    <tr>\n",
       "      <th>75%</th>\n",
       "      <td>1067.500000</td>\n",
       "      <td>22.500000</td>\n",
       "      <td>1.738558</td>\n",
       "      <td>2.000000</td>\n",
       "    </tr>\n",
       "    <tr>\n",
       "      <th>max</th>\n",
       "      <td>1121.000000</td>\n",
       "      <td>92.000000</td>\n",
       "      <td>2.000000</td>\n",
       "      <td>2.000000</td>\n",
       "    </tr>\n",
       "  </tbody>\n",
       "</table>\n",
       "</div>"
      ],
      "text/plain": [
       "       Clothing_ID  Rating_count  Rating_mean  Rating_median\n",
       "count   106.000000    106.000000   106.000000     106.000000\n",
       "mean    955.735849     18.075472     1.649835       1.849057\n",
       "std     101.333518     15.784681     0.155821       0.346203\n",
       "min     818.000000      6.000000     1.272727       1.000000\n",
       "25%     864.250000      8.250000     1.556548       2.000000\n",
       "50%     940.500000     12.000000     1.666667       2.000000\n",
       "75%    1067.500000     22.500000     1.738558       2.000000\n",
       "max    1121.000000     92.000000     2.000000       2.000000"
      ]
     },
     "execution_count": 198,
     "metadata": {},
     "output_type": "execute_result"
    }
   ],
   "source": [
    "b2.describe()"
   ]
  },
  {
   "cell_type": "code",
   "execution_count": 199,
   "metadata": {},
   "outputs": [
    {
     "data": {
      "text/html": [
       "<div>\n",
       "<style scoped>\n",
       "    .dataframe tbody tr th:only-of-type {\n",
       "        vertical-align: middle;\n",
       "    }\n",
       "\n",
       "    .dataframe tbody tr th {\n",
       "        vertical-align: top;\n",
       "    }\n",
       "\n",
       "    .dataframe thead th {\n",
       "        text-align: right;\n",
       "    }\n",
       "</style>\n",
       "<table border=\"1\" class=\"dataframe\">\n",
       "  <thead>\n",
       "    <tr style=\"text-align: right;\">\n",
       "      <th></th>\n",
       "      <th>Clothing_ID</th>\n",
       "      <th>Rating</th>\n",
       "      <th>Age</th>\n",
       "    </tr>\n",
       "  </thead>\n",
       "  <tbody>\n",
       "    <tr>\n",
       "      <th>56</th>\n",
       "      <td>946</td>\n",
       "      <td>2.444444</td>\n",
       "      <td>9</td>\n",
       "    </tr>\n",
       "    <tr>\n",
       "      <th>49</th>\n",
       "      <td>929</td>\n",
       "      <td>3.200000</td>\n",
       "      <td>20</td>\n",
       "    </tr>\n",
       "    <tr>\n",
       "      <th>57</th>\n",
       "      <td>948</td>\n",
       "      <td>3.200000</td>\n",
       "      <td>10</td>\n",
       "    </tr>\n",
       "    <tr>\n",
       "      <th>67</th>\n",
       "      <td>1016</td>\n",
       "      <td>3.333333</td>\n",
       "      <td>24</td>\n",
       "    </tr>\n",
       "    <tr>\n",
       "      <th>75</th>\n",
       "      <td>1055</td>\n",
       "      <td>3.360000</td>\n",
       "      <td>25</td>\n",
       "    </tr>\n",
       "  </tbody>\n",
       "</table>\n",
       "</div>"
      ],
      "text/plain": [
       "    Clothing_ID    Rating  Age\n",
       "56          946  2.444444    9\n",
       "49          929  3.200000   20\n",
       "57          948  3.200000   10\n",
       "67         1016  3.333333   24\n",
       "75         1055  3.360000   25"
      ]
     },
     "execution_count": 199,
     "metadata": {},
     "output_type": "execute_result"
    }
   ],
   "source": [
    "c1 = df[df['Clothing_ID'].isin(b2['Clothing_ID'])]\n",
    "c2 = c1.groupby(['Clothing_ID']).agg({'Rating' : 'mean', 'Age' : 'count'}).reset_index()\n",
    "# a2 = a1[a1['Rating']<3]\n",
    "# a3 = a2.nlargest(int(round(len(a1)*0.2,0)),columns=['Age'])\n",
    "c3 = c2.sort_values(['Rating','Age'],ascending=[True,False])\n",
    "c3.head()\n",
    "# print(int(round(len(a1)*0.2,0)))\n",
    "# a3 = a2.head(int(round(len(a1)*0.2,0)))"
   ]
  },
  {
   "cell_type": "code",
   "execution_count": 200,
   "metadata": {},
   "outputs": [
    {
     "name": "stdout",
     "output_type": "stream",
     "text": [
      "int64\n",
      "object\n"
     ]
    },
    {
     "data": {
      "text/plain": [
       "Text(0.5, 0, 'Count_ProductID')"
      ]
     },
     "execution_count": 200,
     "metadata": {},
     "output_type": "execute_result"
    },
    {
     "data": {
      "image/png": "[encoded data removed]",
      "text/plain": [
       "<Figure size 864x432 with 1 Axes>"
      ]
     },
     "metadata": {
      "needs_background": "light"
     },
     "output_type": "display_data"
    }
   ],
   "source": [
    "import matplotlib.pyplot as plt\n",
    "import seaborn as sns\n",
    "a = df.groupby('Clothing_ID')['Age'].count().reset_index()\n",
    "b = a2.sort_values(by='Age',ascending=False)\n",
    "# b['Age'] = b['Age'].astype(int)\n",
    "b['Clothing_ID'] = b['Clothing_ID'].astype(str)\n",
    "print(b['Age'].dtype)\n",
    "print(b['Clothing_ID'].dtype)\n",
    "\n",
    "fig, ax1 = plt.subplots(figsize=(12,6))\n",
    "sns.distplot(b['Age'])\n",
    "plt.xlabel('Count_ProductID')"
   ]
  },
  {
   "cell_type": "code",
   "execution_count": 45,
   "metadata": {},
   "outputs": [
    {
     "name": "stdout",
     "output_type": "stream",
     "text": [
      "       Clothing_ID       R_mean      R_count\n",
      "count  1206.00000   1206.000000  1206.000000\n",
      "mean   602.50000    4.198509     19.456882  \n",
      "std    348.28652    0.849257     68.868479  \n",
      "min    0.00000      1.000000     1.000000   \n",
      "25%    301.25000    4.000000     1.000000   \n",
      "50%    602.50000    4.333333     2.000000   \n",
      "75%    903.75000    5.000000     6.750000   \n",
      "max    1205.00000   5.000000     1021.000000\n",
      "36.5\n"
     ]
    }
   ],
   "source": [
    "e = df.groupby('Clothing_ID')['Rating'].agg({'count','mean'}).reset_index()\n",
    "e.columns =['Clothing_ID','R_mean','R_count']\n",
    "\n",
    "print(e.describe())\n",
    "print(e.R_count.quantile(0.9))"
   ]
  },
  {
   "cell_type": "code",
   "execution_count": 69,
   "metadata": {},
   "outputs": [
    {
     "data": {
      "text/plain": [
       "Text(0.5, 1.0, 'Rating Statistics for Priority List')"
      ]
     },
     "execution_count": 69,
     "metadata": {},
     "output_type": "execute_result"
    },
    {
     "data": {
      "image/png": "[encoded data removed]",
      "text/plain": [
       "<Figure size 576x576 with 1 Axes>"
      ]
     },
     "metadata": {
      "needs_background": "light"
     },
     "output_type": "display_data"
    }
   ],
   "source": [
    "import seaborn as sns\n",
    "e1 = e[(e['R_count']>19.5) & (e['R_mean']<4.19)]\n",
    "# e1 = copy.deepcopy(e)\n",
    "plt.figure(figsize=(8,8))\n",
    "sns.scatterplot(e1['R_count'], e1['R_mean'], size = e1['R_count']*e1['R_mean'],\n",
    "                sizes=(70, 400), color='darkred', alpha=0.6)\n",
    "plt.title(\"Rating Statistics for Priority List\", \n",
    "          fontsize=16,fontweight='bold')"
   ]
  },
  {
   "cell_type": "code",
   "execution_count": 66,
   "metadata": {},
   "outputs": [
    {
     "data": {
      "application/vnd.plotly.v1+json": {
       "config": {
        "plotlyServerURL": "https://plot.ly"
       },
       "data": [
        {
         "marker": {
          "color": [
           21,
           53,
           61,
           36,
           105,
           96,
           93,
           31,
           112,
           20,
           157,
           141,
           205,
           37,
           59,
           25,
           50,
           26,
           71,
           21,
           288,
           243,
           145,
           134,
           121,
           350,
           429,
           53,
           54,
           47,
           54,
           41,
           68,
           70,
           28,
           91,
           122,
           40,
           31,
           214,
           20,
           47,
           83,
           36,
           70,
           43,
           50,
           32,
           36,
           37,
           20,
           24,
           72,
           106,
           42,
           24,
           37,
           41,
           33,
           25,
           197,
           69,
           46,
           297,
           63,
           147,
           72,
           28,
           129,
           30,
           92,
           58,
           220,
           753,
           327,
           78,
           86,
           36,
           184,
           27,
           58,
           35,
           48,
           22
          ],
          "line": {
           "width": 1.5
          },
          "size": [
           79,
           198,
           241,
           148,
           418,
           402,
           381,
           128,
           450.00000000000006,
           79,
           639,
           580,
           836,
           133,
           226,
           88,
           183,
           103,
           292,
           82,
           1179,
           1008,
           602,
           538,
           462,
           1438,
           1692,
           194,
           214,
           186,
           214,
           165,
           266,
           275,
           117,
           379,
           499.99999999999994,
           156,
           118,
           881.0000000000001,
           64,
           186,
           331,
           137,
           285,
           168,
           204.99999999999997,
           111,
           148,
           155,
           82,
           80,
           298,
           444.00000000000006,
           174.00000000000003,
           91,
           153,
           169,
           136,
           84,
           789,
           259,
           169,
           1213,
           228,
           567,
           249,
           113,
           484,
           107,
           366,
           238.00000000000003,
           909,
           3152,
           1325,
           323.00000000000006,
           344,
           148,
           742.9999999999999,
           105,
           242.99999999999997,
           130,
           181,
           89.00000000000001
          ],
          "sizemin": 4,
          "sizemode": "area",
          "sizeref": 1.6666666666666667
         },
         "mode": "markers",
         "text": [
          817,
          818,
          819,
          822,
          823,
          824,
          825,
          826,
          830,
          832,
          833,
          835,
          836,
          838,
          840,
          841,
          844,
          855,
          857,
          858,
          860,
          861,
          864,
          865,
          866,
          867,
          868,
          870,
          871,
          878,
          879,
          880,
          881,
          883,
          898,
          903,
          909,
          912,
          921,
          927,
          929,
          937,
          941,
          942,
          945,
          965,
          974,
          986,
          995,
          999,
          1011,
          1016,
          1030,
          1037,
          1044,
          1046,
          1052,
          1053,
          1054,
          1055,
          1072,
          1075,
          1076,
          1077,
          1079,
          1082,
          1084,
          1085,
          1087,
          1088,
          1089,
          1091,
          1092,
          1094,
          1095,
          1096,
          1098,
          1103,
          1104,
          1107,
          1111,
          1116,
          1121,
          1150
         ],
         "type": "scatter",
         "x": [
          21,
          53,
          61,
          36,
          105,
          96,
          93,
          31,
          112,
          20,
          157,
          141,
          205,
          37,
          59,
          25,
          50,
          26,
          71,
          21,
          288,
          243,
          145,
          134,
          121,
          350,
          429,
          53,
          54,
          47,
          54,
          41,
          68,
          70,
          28,
          91,
          122,
          40,
          31,
          214,
          20,
          47,
          83,
          36,
          70,
          43,
          50,
          32,
          36,
          37,
          20,
          24,
          72,
          106,
          42,
          24,
          37,
          41,
          33,
          25,
          197,
          69,
          46,
          297,
          63,
          147,
          72,
          28,
          129,
          30,
          92,
          58,
          220,
          753,
          327,
          78,
          86,
          36,
          184,
          27,
          58,
          35,
          48,
          22
         ],
         "y": [
          3.761904761904762,
          3.7358490566037736,
          3.9508196721311477,
          4.111111111111111,
          3.980952380952381,
          4.1875,
          4.096774193548387,
          4.129032258064516,
          4.017857142857143,
          3.95,
          4.070063694267516,
          4.113475177304965,
          4.078048780487805,
          3.5945945945945947,
          3.830508474576271,
          3.52,
          3.66,
          3.9615384615384617,
          4.112676056338028,
          3.9047619047619047,
          4.09375,
          4.148148148148148,
          4.151724137931034,
          4.014925373134329,
          3.8181818181818183,
          4.1085714285714285,
          3.944055944055944,
          3.660377358490566,
          3.962962962962963,
          3.9574468085106385,
          3.962962962962963,
          4.024390243902439,
          3.911764705882353,
          3.9285714285714284,
          4.178571428571429,
          4.164835164835165,
          4.098360655737705,
          3.9,
          3.806451612903226,
          4.116822429906542,
          3.2,
          3.9574468085106385,
          3.9879518072289155,
          3.8055555555555554,
          4.071428571428571,
          3.9069767441860463,
          4.1,
          3.46875,
          4.111111111111111,
          4.1891891891891895,
          4.1,
          3.3333333333333335,
          4.138888888888889,
          4.188679245283019,
          4.142857142857143,
          3.7916666666666665,
          4.135135135135135,
          4.121951219512195,
          4.121212121212121,
          3.36,
          4.00507614213198,
          3.753623188405797,
          3.6739130434782608,
          4.084175084175084,
          3.619047619047619,
          3.857142857142857,
          3.4583333333333335,
          4.035714285714286,
          3.751937984496124,
          3.566666666666667,
          3.9782608695652173,
          4.103448275862069,
          4.131818181818182,
          4.185922974767596,
          4.051987767584098,
          4.141025641025641,
          4,
          4.111111111111111,
          4.038043478260869,
          3.888888888888889,
          4.189655172413793,
          3.7142857142857144,
          3.7708333333333335,
          4.045454545454546
         ]
        }
       ],
       "layout": {
        "autosize": true,
        "paper_bgcolor": "rgb(243, 243, 243)",
        "plot_bgcolor": "rgb(243, 243, 243)",
        "template": {
         "data": {
          "bar": [
           {
            "error_x": {
             "color": "#2a3f5f"
            },
            "error_y": {
             "color": "#2a3f5f"
            },
            "marker": {
             "line": {
              "color": "#E5ECF6",
              "width": 0.5
             }
            },
            "type": "bar"
           }
          ],
          "barpolar": [
           {
            "marker": {
             "line": {
              "color": "#E5ECF6",
              "width": 0.5
             }
            },
            "type": "barpolar"
           }
          ],
          "carpet": [
           {
            "aaxis": {
             "endlinecolor": "#2a3f5f",
             "gridcolor": "white",
             "linecolor": "white",
             "minorgridcolor": "white",
             "startlinecolor": "#2a3f5f"
            },
            "baxis": {
             "endlinecolor": "#2a3f5f",
             "gridcolor": "white",
             "linecolor": "white",
             "minorgridcolor": "white",
             "startlinecolor": "#2a3f5f"
            },
            "type": "carpet"
           }
          ],
          "choropleth": [
           {
            "colorbar": {
             "outlinewidth": 0,
             "ticks": ""
            },
            "type": "choropleth"
           }
          ],
          "contour": [
           {
            "colorbar": {
             "outlinewidth": 0,
             "ticks": ""
            },
            "colorscale": [
             [
              0,
              "#0d0887"
             ],
             [
              0.1111111111111111,
              "#46039f"
             ],
             [
              0.2222222222222222,
              "#7201a8"
             ],
             [
              0.3333333333333333,
              "#9c179e"
             ],
             [
              0.4444444444444444,
              "#bd3786"
             ],
             [
              0.5555555555555556,
              "#d8576b"
             ],
             [
              0.6666666666666666,
              "#ed7953"
             ],
             [
              0.7777777777777778,
              "#fb9f3a"
             ],
             [
              0.8888888888888888,
              "#fdca26"
             ],
             [
              1,
              "#f0f921"
             ]
            ],
            "type": "contour"
           }
          ],
          "contourcarpet": [
           {
            "colorbar": {
             "outlinewidth": 0,
             "ticks": ""
            },
            "type": "contourcarpet"
           }
          ],
          "heatmap": [
           {
            "colorbar": {
             "outlinewidth": 0,
             "ticks": ""
            },
            "colorscale": [
             [
              0,
              "#0d0887"
             ],
             [
              0.1111111111111111,
              "#46039f"
             ],
             [
              0.2222222222222222,
              "#7201a8"
             ],
             [
              0.3333333333333333,
              "#9c179e"
             ],
             [
              0.4444444444444444,
              "#bd3786"
             ],
             [
              0.5555555555555556,
              "#d8576b"
             ],
             [
              0.6666666666666666,
              "#ed7953"
             ],
             [
              0.7777777777777778,
              "#fb9f3a"
             ],
             [
              0.8888888888888888,
              "#fdca26"
             ],
             [
              1,
              "#f0f921"
             ]
            ],
            "type": "heatmap"
           }
          ],
          "heatmapgl": [
           {
            "colorbar": {
             "outlinewidth": 0,
             "ticks": ""
            },
            "colorscale": [
             [
              0,
              "#0d0887"
             ],
             [
              0.1111111111111111,
              "#46039f"
             ],
             [
              0.2222222222222222,
              "#7201a8"
             ],
             [
              0.3333333333333333,
              "#9c179e"
             ],
             [
              0.4444444444444444,
              "#bd3786"
             ],
             [
              0.5555555555555556,
              "#d8576b"
             ],
             [
              0.6666666666666666,
              "#ed7953"
             ],
             [
              0.7777777777777778,
              "#fb9f3a"
             ],
             [
              0.8888888888888888,
              "#fdca26"
             ],
             [
              1,
              "#f0f921"
             ]
            ],
            "type": "heatmapgl"
           }
          ],
          "histogram": [
           {
            "marker": {
             "colorbar": {
              "outlinewidth": 0,
              "ticks": ""
             }
            },
            "type": "histogram"
           }
          ],
          "histogram2d": [
           {
            "colorbar": {
             "outlinewidth": 0,
             "ticks": ""
            },
            "colorscale": [
             [
              0,
              "#0d0887"
             ],
             [
              0.1111111111111111,
              "#46039f"
             ],
             [
              0.2222222222222222,
              "#7201a8"
             ],
             [
              0.3333333333333333,
              "#9c179e"
             ],
             [
              0.4444444444444444,
              "#bd3786"
             ],
             [
              0.5555555555555556,
              "#d8576b"
             ],
             [
              0.6666666666666666,
              "#ed7953"
             ],
             [
              0.7777777777777778,
              "#fb9f3a"
             ],
             [
              0.8888888888888888,
              "#fdca26"
             ],
             [
              1,
              "#f0f921"
             ]
            ],
            "type": "histogram2d"
           }
          ],
          "histogram2dcontour": [
           {
            "colorbar": {
             "outlinewidth": 0,
             "ticks": ""
            },
            "colorscale": [
             [
              0,
              "#0d0887"
             ],
             [
              0.1111111111111111,
              "#46039f"
             ],
             [
              0.2222222222222222,
              "#7201a8"
             ],
             [
              0.3333333333333333,
              "#9c179e"
             ],
             [
              0.4444444444444444,
              "#bd3786"
             ],
             [
              0.5555555555555556,
              "#d8576b"
             ],
             [
              0.6666666666666666,
              "#ed7953"
             ],
             [
              0.7777777777777778,
              "#fb9f3a"
             ],
             [
              0.8888888888888888,
              "#fdca26"
             ],
             [
              1,
              "#f0f921"
             ]
            ],
            "type": "histogram2dcontour"
           }
          ],
          "mesh3d": [
           {
            "colorbar": {
             "outlinewidth": 0,
             "ticks": ""
            },
            "type": "mesh3d"
           }
          ],
          "parcoords": [
           {
            "line": {
             "colorbar": {
              "outlinewidth": 0,
              "ticks": ""
             }
            },
            "type": "parcoords"
           }
          ],
          "pie": [
           {
            "automargin": true,
            "type": "pie"
           }
          ],
          "scatter": [
           {
            "marker": {
             "colorbar": {
              "outlinewidth": 0,
              "ticks": ""
             }
            },
            "type": "scatter"
           }
          ],
          "scatter3d": [
           {
            "line": {
             "colorbar": {
              "outlinewidth": 0,
              "ticks": ""
             }
            },
            "marker": {
             "colorbar": {
              "outlinewidth": 0,
              "ticks": ""
             }
            },
            "type": "scatter3d"
           }
          ],
          "scattercarpet": [
           {
            "marker": {
             "colorbar": {
              "outlinewidth": 0,
              "ticks": ""
             }
            },
            "type": "scattercarpet"
           }
          ],
          "scattergeo": [
           {
            "marker": {
             "colorbar": {
              "outlinewidth": 0,
              "ticks": ""
             }
            },
            "type": "scattergeo"
           }
          ],
          "scattergl": [
           {
            "marker": {
             "colorbar": {
              "outlinewidth": 0,
              "ticks": ""
             }
            },
            "type": "scattergl"
           }
          ],
          "scattermapbox": [
           {
            "marker": {
             "colorbar": {
              "outlinewidth": 0,
              "ticks": ""
             }
            },
            "type": "scattermapbox"
           }
          ],
          "scatterpolar": [
           {
            "marker": {
             "colorbar": {
              "outlinewidth": 0,
              "ticks": ""
             }
            },
            "type": "scatterpolar"
           }
          ],
          "scatterpolargl": [
           {
            "marker": {
             "colorbar": {
              "outlinewidth": 0,
              "ticks": ""
             }
            },
            "type": "scatterpolargl"
           }
          ],
          "scatterternary": [
           {
            "marker": {
             "colorbar": {
              "outlinewidth": 0,
              "ticks": ""
             }
            },
            "type": "scatterternary"
           }
          ],
          "surface": [
           {
            "colorbar": {
             "outlinewidth": 0,
             "ticks": ""
            },
            "colorscale": [
             [
              0,
              "#0d0887"
             ],
             [
              0.1111111111111111,
              "#46039f"
             ],
             [
              0.2222222222222222,
              "#7201a8"
             ],
             [
              0.3333333333333333,
              "#9c179e"
             ],
             [
              0.4444444444444444,
              "#bd3786"
             ],
             [
              0.5555555555555556,
              "#d8576b"
             ],
             [
              0.6666666666666666,
              "#ed7953"
             ],
             [
              0.7777777777777778,
              "#fb9f3a"
             ],
             [
              0.8888888888888888,
              "#fdca26"
             ],
             [
              1,
              "#f0f921"
             ]
            ],
            "type": "surface"
           }
          ],
          "table": [
           {
            "cells": {
             "fill": {
              "color": "#EBF0F8"
             },
             "line": {
              "color": "white"
             }
            },
            "header": {
             "fill": {
              "color": "#C8D4E3"
             },
             "line": {
              "color": "white"
             }
            },
            "type": "table"
           }
          ]
         },
         "layout": {
          "annotationdefaults": {
           "arrowcolor": "#2a3f5f",
           "arrowhead": 0,
           "arrowwidth": 1
          },
          "coloraxis": {
           "colorbar": {
            "outlinewidth": 0,
            "ticks": ""
           }
          },
          "colorscale": {
           "diverging": [
            [
             0,
             "#8e0152"
            ],
            [
             0.1,
             "#c51b7d"
            ],
            [
             0.2,
             "#de77ae"
            ],
            [
             0.3,
             "#f1b6da"
            ],
            [
             0.4,
             "#fde0ef"
            ],
            [
             0.5,
             "#f7f7f7"
            ],
            [
             0.6,
             "#e6f5d0"
            ],
            [
             0.7,
             "#b8e186"
            ],
            [
             0.8,
             "#7fbc41"
            ],
            [
             0.9,
             "#4d9221"
            ],
            [
             1,
             "#276419"
            ]
           ],
           "sequential": [
            [
             0,
             "#0d0887"
            ],
            [
             0.1111111111111111,
             "#46039f"
            ],
            [
             0.2222222222222222,
             "#7201a8"
            ],
            [
             0.3333333333333333,
             "#9c179e"
            ],
            [
             0.4444444444444444,
             "#bd3786"
            ],
            [
             0.5555555555555556,
             "#d8576b"
            ],
            [
             0.6666666666666666,
             "#ed7953"
            ],
            [
             0.7777777777777778,
             "#fb9f3a"
            ],
            [
             0.8888888888888888,
             "#fdca26"
            ],
            [
             1,
             "#f0f921"
            ]
           ],
           "sequentialminus": [
            [
             0,
             "#0d0887"
            ],
            [
             0.1111111111111111,
             "#46039f"
            ],
            [
             0.2222222222222222,
             "#7201a8"
            ],
            [
             0.3333333333333333,
             "#9c179e"
            ],
            [
             0.4444444444444444,
             "#bd3786"
            ],
            [
             0.5555555555555556,
             "#d8576b"
            ],
            [
             0.6666666666666666,
             "#ed7953"
            ],
            [
             0.7777777777777778,
             "#fb9f3a"
            ],
            [
             0.8888888888888888,
             "#fdca26"
            ],
            [
             1,
             "#f0f921"
            ]
           ]
          },
          "colorway": [
           "#636efa",
           "#EF553B",
           "#00cc96",
           "#ab63fa",
           "#FFA15A",
           "#19d3f3",
           "#FF6692",
           "#B6E880",
           "#FF97FF",
           "#FECB52"
          ],
          "font": {
           "color": "#2a3f5f"
          },
          "geo": {
           "bgcolor": "white",
           "lakecolor": "white",
           "landcolor": "#E5ECF6",
           "showlakes": true,
           "showland": true,
           "subunitcolor": "white"
          },
          "hoverlabel": {
           "align": "left"
          },
          "hovermode": "closest",
          "mapbox": {
           "style": "light"
          },
          "paper_bgcolor": "white",
          "plot_bgcolor": "#E5ECF6",
          "polar": {
           "angularaxis": {
            "gridcolor": "white",
            "linecolor": "white",
            "ticks": ""
           },
           "bgcolor": "#E5ECF6",
           "radialaxis": {
            "gridcolor": "white",
            "linecolor": "white",
            "ticks": ""
           }
          },
          "scene": {
           "xaxis": {
            "backgroundcolor": "#E5ECF6",
            "gridcolor": "white",
            "gridwidth": 2,
            "linecolor": "white",
            "showbackground": true,
            "ticks": "",
            "zerolinecolor": "white"
           },
           "yaxis": {
            "backgroundcolor": "#E5ECF6",
            "gridcolor": "white",
            "gridwidth": 2,
            "linecolor": "white",
            "showbackground": true,
            "ticks": "",
            "zerolinecolor": "white"
           },
           "zaxis": {
            "backgroundcolor": "#E5ECF6",
            "gridcolor": "white",
            "gridwidth": 2,
            "linecolor": "white",
            "showbackground": true,
            "ticks": "",
            "zerolinecolor": "white"
           }
          },
          "shapedefaults": {
           "line": {
            "color": "#2a3f5f"
           }
          },
          "ternary": {
           "aaxis": {
            "gridcolor": "white",
            "linecolor": "white",
            "ticks": ""
           },
           "baxis": {
            "gridcolor": "white",
            "linecolor": "white",
            "ticks": ""
           },
           "bgcolor": "#E5ECF6",
           "caxis": {
            "gridcolor": "white",
            "linecolor": "white",
            "ticks": ""
           }
          },
          "title": {
           "x": 0.05
          },
          "xaxis": {
           "automargin": true,
           "gridcolor": "white",
           "linecolor": "white",
           "ticks": "",
           "title": {
            "standoff": 15
           },
           "zerolinecolor": "white",
           "zerolinewidth": 2
          },
          "yaxis": {
           "automargin": true,
           "gridcolor": "white",
           "linecolor": "white",
           "ticks": "",
           "title": {
            "standoff": 15
           },
           "zerolinecolor": "white",
           "zerolinewidth": 2
          }
         }
        },
        "title": {
         "text": "Rating Statistics for Priority List"
        },
        "xaxis": {
         "autorange": true,
         "gridcolor": "white",
         "gridwidth": 2,
         "range": [
          -32.28895273002131,
          848.2505787101102
         ],
         "title": {
          "text": "Rating Count"
         },
         "type": "linear"
        },
        "yaxis": {
         "autorange": true,
         "gridcolor": "white",
         "gridwidth": 2,
         "range": [
          3.110956676227985,
          4.417643138773606
         ],
         "title": {
          "text": "Rating Mean"
         },
         "type": "linear"
        }
       }
      },
      "image/png": "[encoded data removed]",
      "text/html": [
       "<div>\n",
       "        \n",
       "        \n",
       "            <div id=\"c3e60b3a-97c7-40f1-8af4-c1a75de70ef3\" class=\"plotly-graph-div\" style=\"height:525px; width:100%;\"></div>\n",
       "            <script type=\"text/javascript\">\n",
       "                require([\"plotly\"], function(Plotly) {\n",
       "                    window.PLOTLYENV=window.PLOTLYENV || {};\n",
       "                    \n",
       "                if (document.getElementById(\"c3e60b3a-97c7-40f1-8af4-c1a75de70ef3\")) {\n",
       "                    Plotly.newPlot(\n",
       "                        'c3e60b3a-97c7-40f1-8af4-c1a75de70ef3',\n",
       "                        [{\"marker\": {\"color\": [21, 53, 61, 36, 105, 96, 93, 31, 112, 20, 157, 141, 205, 37, 59, 25, 50, 26, 71, 21, 288, 243, 145, 134, 121, 350, 429, 53, 54, 47, 54, 41, 68, 70, 28, 91, 122, 40, 31, 214, 20, 47, 83, 36, 70, 43, 50, 32, 36, 37, 20, 24, 72, 106, 42, 24, 37, 41, 33, 25, 197, 69, 46, 297, 63, 147, 72, 28, 129, 30, 92, 58, 220, 753, 327, 78, 86, 36, 184, 27, 58, 35, 48, 22], \"line\": {\"width\": 1.5}, \"size\": [79.0, 198.0, 241.0, 148.0, 418.0, 402.0, 381.0, 128.0, 450.00000000000006, 79.0, 639.0, 580.0, 836.0, 133.0, 226.0, 88.0, 183.0, 103.0, 292.0, 82.0, 1179.0, 1008.0, 602.0, 538.0, 462.0, 1438.0, 1692.0, 194.0, 214.0, 186.0, 214.0, 165.0, 266.0, 275.0, 117.0, 379.0, 499.99999999999994, 156.0, 118.0, 881.0000000000001, 64.0, 186.0, 331.0, 137.0, 285.0, 168.0, 204.99999999999997, 111.0, 148.0, 155.0, 82.0, 80.0, 298.0, 444.00000000000006, 174.00000000000003, 91.0, 153.0, 169.0, 136.0, 84.0, 789.0, 259.0, 169.0, 1213.0, 228.0, 567.0, 249.0, 113.0, 484.0, 107.0, 366.0, 238.00000000000003, 909.0, 3152.0, 1325.0, 323.00000000000006, 344.0, 148.0, 742.9999999999999, 105.0, 242.99999999999997, 130.0, 181.0, 89.00000000000001], \"sizemin\": 4, \"sizemode\": \"area\", \"sizeref\": 1.6666666666666667}, \"mode\": \"markers\", \"text\": [817.0, 818.0, 819.0, 822.0, 823.0, 824.0, 825.0, 826.0, 830.0, 832.0, 833.0, 835.0, 836.0, 838.0, 840.0, 841.0, 844.0, 855.0, 857.0, 858.0, 860.0, 861.0, 864.0, 865.0, 866.0, 867.0, 868.0, 870.0, 871.0, 878.0, 879.0, 880.0, 881.0, 883.0, 898.0, 903.0, 909.0, 912.0, 921.0, 927.0, 929.0, 937.0, 941.0, 942.0, 945.0, 965.0, 974.0, 986.0, 995.0, 999.0, 1011.0, 1016.0, 1030.0, 1037.0, 1044.0, 1046.0, 1052.0, 1053.0, 1054.0, 1055.0, 1072.0, 1075.0, 1076.0, 1077.0, 1079.0, 1082.0, 1084.0, 1085.0, 1087.0, 1088.0, 1089.0, 1091.0, 1092.0, 1094.0, 1095.0, 1096.0, 1098.0, 1103.0, 1104.0, 1107.0, 1111.0, 1116.0, 1121.0, 1150.0], \"type\": \"scatter\", \"x\": [21, 53, 61, 36, 105, 96, 93, 31, 112, 20, 157, 141, 205, 37, 59, 25, 50, 26, 71, 21, 288, 243, 145, 134, 121, 350, 429, 53, 54, 47, 54, 41, 68, 70, 28, 91, 122, 40, 31, 214, 20, 47, 83, 36, 70, 43, 50, 32, 36, 37, 20, 24, 72, 106, 42, 24, 37, 41, 33, 25, 197, 69, 46, 297, 63, 147, 72, 28, 129, 30, 92, 58, 220, 753, 327, 78, 86, 36, 184, 27, 58, 35, 48, 22], \"y\": [3.761904761904762, 3.7358490566037736, 3.9508196721311477, 4.111111111111111, 3.980952380952381, 4.1875, 4.096774193548387, 4.129032258064516, 4.017857142857143, 3.95, 4.070063694267516, 4.113475177304965, 4.078048780487805, 3.5945945945945947, 3.830508474576271, 3.52, 3.66, 3.9615384615384617, 4.112676056338028, 3.9047619047619047, 4.09375, 4.148148148148148, 4.151724137931034, 4.014925373134329, 3.8181818181818183, 4.1085714285714285, 3.944055944055944, 3.660377358490566, 3.962962962962963, 3.9574468085106385, 3.962962962962963, 4.024390243902439, 3.911764705882353, 3.9285714285714284, 4.178571428571429, 4.164835164835165, 4.098360655737705, 3.9, 3.806451612903226, 4.116822429906542, 3.2, 3.9574468085106385, 3.9879518072289155, 3.8055555555555554, 4.071428571428571, 3.9069767441860463, 4.1, 3.46875, 4.111111111111111, 4.1891891891891895, 4.1, 3.3333333333333335, 4.138888888888889, 4.188679245283019, 4.142857142857143, 3.7916666666666665, 4.135135135135135, 4.121951219512195, 4.121212121212121, 3.36, 4.00507614213198, 3.753623188405797, 3.6739130434782608, 4.084175084175084, 3.619047619047619, 3.857142857142857, 3.4583333333333335, 4.035714285714286, 3.751937984496124, 3.566666666666667, 3.9782608695652173, 4.103448275862069, 4.131818181818182, 4.185922974767596, 4.051987767584098, 4.141025641025641, 4.0, 4.111111111111111, 4.038043478260869, 3.888888888888889, 4.189655172413793, 3.7142857142857144, 3.7708333333333335, 4.045454545454546]}],\n",
       "                        {\"paper_bgcolor\": \"rgb(243, 243, 243)\", \"plot_bgcolor\": \"rgb(243, 243, 243)\", \"template\": {\"data\": {\"bar\": [{\"error_x\": {\"color\": \"#2a3f5f\"}, \"error_y\": {\"color\": \"#2a3f5f\"}, \"marker\": {\"line\": {\"color\": \"#E5ECF6\", \"width\": 0.5}}, \"type\": \"bar\"}], \"barpolar\": [{\"marker\": {\"line\": {\"color\": \"#E5ECF6\", \"width\": 0.5}}, \"type\": \"barpolar\"}], \"carpet\": [{\"aaxis\": {\"endlinecolor\": \"#2a3f5f\", \"gridcolor\": \"white\", \"linecolor\": \"white\", \"minorgridcolor\": \"white\", \"startlinecolor\": \"#2a3f5f\"}, \"baxis\": {\"endlinecolor\": \"#2a3f5f\", \"gridcolor\": \"white\", \"linecolor\": \"white\", \"minorgridcolor\": \"white\", \"startlinecolor\": \"#2a3f5f\"}, \"type\": \"carpet\"}], \"choropleth\": [{\"colorbar\": {\"outlinewidth\": 0, \"ticks\": \"\"}, \"type\": \"choropleth\"}], \"contour\": [{\"colorbar\": {\"outlinewidth\": 0, \"ticks\": \"\"}, \"colorscale\": [[0.0, \"#0d0887\"], [0.1111111111111111, \"#46039f\"], [0.2222222222222222, \"#7201a8\"], [0.3333333333333333, \"#9c179e\"], [0.4444444444444444, \"#bd3786\"], [0.5555555555555556, \"#d8576b\"], [0.6666666666666666, \"#ed7953\"], [0.7777777777777778, \"#fb9f3a\"], [0.8888888888888888, \"#fdca26\"], [1.0, \"#f0f921\"]], \"type\": \"contour\"}], \"contourcarpet\": [{\"colorbar\": {\"outlinewidth\": 0, \"ticks\": \"\"}, \"type\": \"contourcarpet\"}], \"heatmap\": [{\"colorbar\": {\"outlinewidth\": 0, \"ticks\": \"\"}, \"colorscale\": [[0.0, \"#0d0887\"], [0.1111111111111111, \"#46039f\"], [0.2222222222222222, \"#7201a8\"], [0.3333333333333333, \"#9c179e\"], [0.4444444444444444, \"#bd3786\"], [0.5555555555555556, \"#d8576b\"], [0.6666666666666666, \"#ed7953\"], [0.7777777777777778, \"#fb9f3a\"], [0.8888888888888888, \"#fdca26\"], [1.0, \"#f0f921\"]], \"type\": \"heatmap\"}], \"heatmapgl\": [{\"colorbar\": {\"outlinewidth\": 0, \"ticks\": \"\"}, \"colorscale\": [[0.0, \"#0d0887\"], [0.1111111111111111, \"#46039f\"], [0.2222222222222222, \"#7201a8\"], [0.3333333333333333, \"#9c179e\"], [0.4444444444444444, \"#bd3786\"], [0.5555555555555556, \"#d8576b\"], [0.6666666666666666, \"#ed7953\"], [0.7777777777777778, \"#fb9f3a\"], [0.8888888888888888, \"#fdca26\"], [1.0, \"#f0f921\"]], \"type\": \"heatmapgl\"}], \"histogram\": [{\"marker\": {\"colorbar\": {\"outlinewidth\": 0, \"ticks\": \"\"}}, \"type\": \"histogram\"}], \"histogram2d\": [{\"colorbar\": {\"outlinewidth\": 0, \"ticks\": \"\"}, \"colorscale\": [[0.0, \"#0d0887\"], [0.1111111111111111, \"#46039f\"], [0.2222222222222222, \"#7201a8\"], [0.3333333333333333, \"#9c179e\"], [0.4444444444444444, \"#bd3786\"], [0.5555555555555556, \"#d8576b\"], [0.6666666666666666, \"#ed7953\"], [0.7777777777777778, \"#fb9f3a\"], [0.8888888888888888, \"#fdca26\"], [1.0, \"#f0f921\"]], \"type\": \"histogram2d\"}], \"histogram2dcontour\": [{\"colorbar\": {\"outlinewidth\": 0, \"ticks\": \"\"}, \"colorscale\": [[0.0, \"#0d0887\"], [0.1111111111111111, \"#46039f\"], [0.2222222222222222, \"#7201a8\"], [0.3333333333333333, \"#9c179e\"], [0.4444444444444444, \"#bd3786\"], [0.5555555555555556, \"#d8576b\"], [0.6666666666666666, \"#ed7953\"], [0.7777777777777778, \"#fb9f3a\"], [0.8888888888888888, \"#fdca26\"], [1.0, \"#f0f921\"]], \"type\": \"histogram2dcontour\"}], \"mesh3d\": [{\"colorbar\": {\"outlinewidth\": 0, \"ticks\": \"\"}, \"type\": \"mesh3d\"}], \"parcoords\": [{\"line\": {\"colorbar\": {\"outlinewidth\": 0, \"ticks\": \"\"}}, \"type\": \"parcoords\"}], \"pie\": [{\"automargin\": true, \"type\": \"pie\"}], \"scatter\": [{\"marker\": {\"colorbar\": {\"outlinewidth\": 0, \"ticks\": \"\"}}, \"type\": \"scatter\"}], \"scatter3d\": [{\"line\": {\"colorbar\": {\"outlinewidth\": 0, \"ticks\": \"\"}}, \"marker\": {\"colorbar\": {\"outlinewidth\": 0, \"ticks\": \"\"}}, \"type\": \"scatter3d\"}], \"scattercarpet\": [{\"marker\": {\"colorbar\": {\"outlinewidth\": 0, \"ticks\": \"\"}}, \"type\": \"scattercarpet\"}], \"scattergeo\": [{\"marker\": {\"colorbar\": {\"outlinewidth\": 0, \"ticks\": \"\"}}, \"type\": \"scattergeo\"}], \"scattergl\": [{\"marker\": {\"colorbar\": {\"outlinewidth\": 0, \"ticks\": \"\"}}, \"type\": \"scattergl\"}], \"scattermapbox\": [{\"marker\": {\"colorbar\": {\"outlinewidth\": 0, \"ticks\": \"\"}}, \"type\": \"scattermapbox\"}], \"scatterpolar\": [{\"marker\": {\"colorbar\": {\"outlinewidth\": 0, \"ticks\": \"\"}}, \"type\": \"scatterpolar\"}], \"scatterpolargl\": [{\"marker\": {\"colorbar\": {\"outlinewidth\": 0, \"ticks\": \"\"}}, \"type\": \"scatterpolargl\"}], \"scatterternary\": [{\"marker\": {\"colorbar\": {\"outlinewidth\": 0, \"ticks\": \"\"}}, \"type\": \"scatterternary\"}], \"surface\": [{\"colorbar\": {\"outlinewidth\": 0, \"ticks\": \"\"}, \"colorscale\": [[0.0, \"#0d0887\"], [0.1111111111111111, \"#46039f\"], [0.2222222222222222, \"#7201a8\"], [0.3333333333333333, \"#9c179e\"], [0.4444444444444444, \"#bd3786\"], [0.5555555555555556, \"#d8576b\"], [0.6666666666666666, \"#ed7953\"], [0.7777777777777778, \"#fb9f3a\"], [0.8888888888888888, \"#fdca26\"], [1.0, \"#f0f921\"]], \"type\": \"surface\"}], \"table\": [{\"cells\": {\"fill\": {\"color\": \"#EBF0F8\"}, \"line\": {\"color\": \"white\"}}, \"header\": {\"fill\": {\"color\": \"#C8D4E3\"}, \"line\": {\"color\": \"white\"}}, \"type\": \"table\"}]}, \"layout\": {\"annotationdefaults\": {\"arrowcolor\": \"#2a3f5f\", \"arrowhead\": 0, \"arrowwidth\": 1}, \"coloraxis\": {\"colorbar\": {\"outlinewidth\": 0, \"ticks\": \"\"}}, \"colorscale\": {\"diverging\": [[0, \"#8e0152\"], [0.1, \"#c51b7d\"], [0.2, \"#de77ae\"], [0.3, \"#f1b6da\"], [0.4, \"#fde0ef\"], [0.5, \"#f7f7f7\"], [0.6, \"#e6f5d0\"], [0.7, \"#b8e186\"], [0.8, \"#7fbc41\"], [0.9, \"#4d9221\"], [1, \"#276419\"]], \"sequential\": [[0.0, \"#0d0887\"], [0.1111111111111111, \"#46039f\"], [0.2222222222222222, \"#7201a8\"], [0.3333333333333333, \"#9c179e\"], [0.4444444444444444, \"#bd3786\"], [0.5555555555555556, \"#d8576b\"], [0.6666666666666666, \"#ed7953\"], [0.7777777777777778, \"#fb9f3a\"], [0.8888888888888888, \"#fdca26\"], [1.0, \"#f0f921\"]], \"sequentialminus\": [[0.0, \"#0d0887\"], [0.1111111111111111, \"#46039f\"], [0.2222222222222222, \"#7201a8\"], [0.3333333333333333, \"#9c179e\"], [0.4444444444444444, \"#bd3786\"], [0.5555555555555556, \"#d8576b\"], [0.6666666666666666, \"#ed7953\"], [0.7777777777777778, \"#fb9f3a\"], [0.8888888888888888, \"#fdca26\"], [1.0, \"#f0f921\"]]}, \"colorway\": [\"#636efa\", \"#EF553B\", \"#00cc96\", \"#ab63fa\", \"#FFA15A\", \"#19d3f3\", \"#FF6692\", \"#B6E880\", \"#FF97FF\", \"#FECB52\"], \"font\": {\"color\": \"#2a3f5f\"}, \"geo\": {\"bgcolor\": \"white\", \"lakecolor\": \"white\", \"landcolor\": \"#E5ECF6\", \"showlakes\": true, \"showland\": true, \"subunitcolor\": \"white\"}, \"hoverlabel\": {\"align\": \"left\"}, \"hovermode\": \"closest\", \"mapbox\": {\"style\": \"light\"}, \"paper_bgcolor\": \"white\", \"plot_bgcolor\": \"#E5ECF6\", \"polar\": {\"angularaxis\": {\"gridcolor\": \"white\", \"linecolor\": \"white\", \"ticks\": \"\"}, \"bgcolor\": \"#E5ECF6\", \"radialaxis\": {\"gridcolor\": \"white\", \"linecolor\": \"white\", \"ticks\": \"\"}}, \"scene\": {\"xaxis\": {\"backgroundcolor\": \"#E5ECF6\", \"gridcolor\": \"white\", \"gridwidth\": 2, \"linecolor\": \"white\", \"showbackground\": true, \"ticks\": \"\", \"zerolinecolor\": \"white\"}, \"yaxis\": {\"backgroundcolor\": \"#E5ECF6\", \"gridcolor\": \"white\", \"gridwidth\": 2, \"linecolor\": \"white\", \"showbackground\": true, \"ticks\": \"\", \"zerolinecolor\": \"white\"}, \"zaxis\": {\"backgroundcolor\": \"#E5ECF6\", \"gridcolor\": \"white\", \"gridwidth\": 2, \"linecolor\": \"white\", \"showbackground\": true, \"ticks\": \"\", \"zerolinecolor\": \"white\"}}, \"shapedefaults\": {\"line\": {\"color\": \"#2a3f5f\"}}, \"ternary\": {\"aaxis\": {\"gridcolor\": \"white\", \"linecolor\": \"white\", \"ticks\": \"\"}, \"baxis\": {\"gridcolor\": \"white\", \"linecolor\": \"white\", \"ticks\": \"\"}, \"bgcolor\": \"#E5ECF6\", \"caxis\": {\"gridcolor\": \"white\", \"linecolor\": \"white\", \"ticks\": \"\"}}, \"title\": {\"x\": 0.05}, \"xaxis\": {\"automargin\": true, \"gridcolor\": \"white\", \"linecolor\": \"white\", \"ticks\": \"\", \"title\": {\"standoff\": 15}, \"zerolinecolor\": \"white\", \"zerolinewidth\": 2}, \"yaxis\": {\"automargin\": true, \"gridcolor\": \"white\", \"linecolor\": \"white\", \"ticks\": \"\", \"title\": {\"standoff\": 15}, \"zerolinecolor\": \"white\", \"zerolinewidth\": 2}}}, \"title\": {\"text\": \"Rating Statistics for Priority List\"}, \"xaxis\": {\"gridcolor\": \"white\", \"gridwidth\": 2, \"title\": {\"text\": \"Rating Count\"}}, \"yaxis\": {\"gridcolor\": \"white\", \"gridwidth\": 2, \"title\": {\"text\": \"Rating Mean\"}}},\n",
       "                        {\"responsive\": true}\n",
       "                    ).then(function(){\n",
       "                            \n",
       "var gd = document.getElementById('c3e60b3a-97c7-40f1-8af4-c1a75de70ef3');\n",
       "var x = new MutationObserver(function (mutations, observer) {{\n",
       "        var display = window.getComputedStyle(gd).display;\n",
       "        if (!display || display === 'none') {{\n",
       "            console.log([gd, 'removed!']);\n",
       "            Plotly.purge(gd);\n",
       "            observer.disconnect();\n",
       "        }}\n",
       "}});\n",
       "\n",
       "// Listen for the removal of the full notebook cells\n",
       "var notebookContainer = gd.closest('#notebook-container');\n",
       "if (notebookContainer) {{\n",
       "    x.observe(notebookContainer, {childList: true});\n",
       "}}\n",
       "\n",
       "// Listen for the clearing of the current output cell\n",
       "var outputEl = gd.closest('.output');\n",
       "if (outputEl) {{\n",
       "    x.observe(outputEl, {childList: true});\n",
       "}}\n",
       "\n",
       "                        })\n",
       "                };\n",
       "                });\n",
       "            </script>\n",
       "        </div>"
      ]
     },
     "metadata": {},
     "output_type": "display_data"
    }
   ],
   "source": [
    "# A better visualization for exploration using plotly\n",
    "import plotly.graph_objects as go\n",
    "fig = go.Figure()\n",
    "size = [20, 40, 60, 80, 100, 80, 60, 40, 20, 40]\n",
    "fig = go.Figure(data=[go.Scatter(\n",
    "    x=e1['R_count'],\n",
    "    y=e1['R_mean'],\n",
    "    text=e1['Clothing_ID'],\n",
    "    mode='markers',\n",
    "    marker=dict(\n",
    "        size=e1['R_count']*e1['R_mean'],\n",
    "        sizemode='area',\n",
    "        sizeref=2.*max(size)/(60.*2),\n",
    "        sizemin=4,\n",
    "        line_width=1.5,\n",
    "        color=e1['R_count']\n",
    "    )\n",
    ")])\n",
    "\n",
    "fig.update_layout(\n",
    "    title='Rating Statistics for Priority List',\n",
    "    xaxis=dict(\n",
    "        title='Rating Count',\n",
    "        gridcolor='white',\n",
    "        gridwidth=2,\n",
    "    ),\n",
    "    yaxis=dict(\n",
    "        title='Rating Mean',\n",
    "        gridcolor='white',\n",
    "        gridwidth=2,\n",
    "    ),\n",
    "    paper_bgcolor='rgb(243, 243, 243)',\n",
    "    plot_bgcolor='rgb(243, 243, 243)',\n",
    ")\n",
    "fig.show()"
   ]
  },
  {
   "cell_type": "code",
   "execution_count": 47,
   "metadata": {},
   "outputs": [
    {
     "data": {
      "text/plain": [
       "84"
      ]
     },
     "execution_count": 47,
     "metadata": {},
     "output_type": "execute_result"
    }
   ],
   "source": [
    "len(e1)"
   ]
  },
  {
   "cell_type": "code",
   "execution_count": 72,
   "metadata": {},
   "outputs": [
    {
     "data": {
      "text/html": [
       "<div>\n",
       "<style scoped>\n",
       "    .dataframe tbody tr th:only-of-type {\n",
       "        vertical-align: middle;\n",
       "    }\n",
       "\n",
       "    .dataframe tbody tr th {\n",
       "        vertical-align: top;\n",
       "    }\n",
       "\n",
       "    .dataframe thead th {\n",
       "        text-align: right;\n",
       "    }\n",
       "</style>\n",
       "<table border=\"1\" class=\"dataframe\">\n",
       "  <thead>\n",
       "    <tr style=\"text-align: right;\">\n",
       "      <th></th>\n",
       "      <th>dominant_topic_theme</th>\n",
       "      <th>Clothing_ID</th>\n",
       "    </tr>\n",
       "  </thead>\n",
       "  <tbody>\n",
       "    <tr>\n",
       "      <th>2</th>\n",
       "      <td>Fabric/fit/body</td>\n",
       "      <td>13</td>\n",
       "    </tr>\n",
       "    <tr>\n",
       "      <th>0</th>\n",
       "      <td>Color/fabric</td>\n",
       "      <td>8</td>\n",
       "    </tr>\n",
       "    <tr>\n",
       "      <th>1</th>\n",
       "      <td>Color/material</td>\n",
       "      <td>8</td>\n",
       "    </tr>\n",
       "    <tr>\n",
       "      <th>3</th>\n",
       "      <td>Fit/fabric/price</td>\n",
       "      <td>6</td>\n",
       "    </tr>\n",
       "    <tr>\n",
       "      <th>4</th>\n",
       "      <td>Shoulder/arm/length/wide/fabric</td>\n",
       "      <td>5</td>\n",
       "    </tr>\n",
       "    <tr>\n",
       "      <th>5</th>\n",
       "      <td>Size/small/large</td>\n",
       "      <td>5</td>\n",
       "    </tr>\n",
       "    <tr>\n",
       "      <th>6</th>\n",
       "      <td>Wash/dry/fit/stretch/fabric</td>\n",
       "      <td>2</td>\n",
       "    </tr>\n",
       "  </tbody>\n",
       "</table>\n",
       "</div>"
      ],
      "text/plain": [
       "              dominant_topic_theme  Clothing_ID\n",
       "2  Fabric/fit/body                  13         \n",
       "0  Color/fabric                     8          \n",
       "1  Color/material                   8          \n",
       "3  Fit/fabric/price                 6          \n",
       "4  Shoulder/arm/length/wide/fabric  5          \n",
       "5  Size/small/large                 5          \n",
       "6  Wash/dry/fit/stretch/fabric      2          "
      ]
     },
     "execution_count": 72,
     "metadata": {},
     "output_type": "execute_result"
    }
   ],
   "source": [
    "test = y[y['Clothing_ID'] == 1087]\n",
    "test.groupby('dominant_topic_theme')['Clothing_ID'].count().reset_index()\\\n",
    "            .sort_values('Clothing_ID',ascending=False)"
   ]
  },
  {
   "cell_type": "code",
   "execution_count": 55,
   "metadata": {},
   "outputs": [
    {
     "data": {
      "text/html": [
       "<div>\n",
       "<style scoped>\n",
       "    .dataframe tbody tr th:only-of-type {\n",
       "        vertical-align: middle;\n",
       "    }\n",
       "\n",
       "    .dataframe tbody tr th {\n",
       "        vertical-align: top;\n",
       "    }\n",
       "\n",
       "    .dataframe thead th {\n",
       "        text-align: right;\n",
       "    }\n",
       "</style>\n",
       "<table border=\"1\" class=\"dataframe\">\n",
       "  <thead>\n",
       "    <tr style=\"text-align: right;\">\n",
       "      <th></th>\n",
       "      <th>Clothing_ID</th>\n",
       "      <th>R_mean</th>\n",
       "      <th>R_count</th>\n",
       "    </tr>\n",
       "  </thead>\n",
       "  <tbody>\n",
       "    <tr>\n",
       "      <th>1087</th>\n",
       "      <td>1087</td>\n",
       "      <td>3.751938</td>\n",
       "      <td>129</td>\n",
       "    </tr>\n",
       "  </tbody>\n",
       "</table>\n",
       "</div>"
      ],
      "text/plain": [
       "      Clothing_ID    R_mean  R_count\n",
       "1087  1087         3.751938  129    "
      ]
     },
     "execution_count": 55,
     "metadata": {},
     "output_type": "execute_result"
    }
   ],
   "source": [
    "e1[e1['Clothing_ID'] == 1087]"
   ]
  },
  {
   "cell_type": "code",
   "execution_count": 74,
   "metadata": {},
   "outputs": [
    {
     "data": {
      "text/plain": [
       "29"
      ]
     },
     "execution_count": 74,
     "metadata": {},
     "output_type": "execute_result"
    }
   ],
   "source": [
    "len(df[(df['Clothing_ID']==1087) & (df['Rating'] <=2)])"
   ]
  },
  {
   "cell_type": "code",
   "execution_count": null,
   "metadata": {},
   "outputs": [],
   "source": []
  }
 ],
 "metadata": {
  "kernelspec": {
   "display_name": "Python 3",
   "language": "python",
   "name": "python3"
  },
  "language_info": {
   "codemirror_mode": {
    "name": "ipython",
    "version": 3
   },
   "file_extension": ".py",
   "mimetype": "text/x-python",
   "name": "python",
   "nbconvert_exporter": "python",
   "pygments_lexer": "ipython3",
   "version": "3.7.2"
  }
 },
 "nbformat": 4,
 "nbformat_minor": 4
}
